{
 "cells": [
  {
   "cell_type": "markdown",
   "id": "72af6169-71b5-4a6d-a900-0550b537a0c4",
   "metadata": {},
   "source": [
    "----\n",
    "# **▩ Ch17 데이터 분석을 위한 데이터 구조 다루기**\n",
    "----\n",
    "##### #int() #float() #str() #bool() \n",
    "##### #.lower() #.upper() #.capitalize() #.title() #.replace() #.find() #.split() \n",
    "##### #list() #tuple() #dict() \n",
    "##### #.append() #.pop() #.remove() #.insert() #.index() #.sort()\n",
    "##### #len() #sorted() #del() #clear() #max() #min() #sum()\n",
    "##### #ShallowCopy #DeepCopy #.copy() #.get()\n",
    "##### #Series() #DataFrame() #zoneno #menu #.drop() #.mean()\n",
    "----"
   ]
  },
  {
   "cell_type": "markdown",
   "id": "5228913d-f02f-4c28-8635-1d2a9736f012",
   "metadata": {},
   "source": [
    "##### Ch16과 Ch17 내용을 함께 다룬다. (이미 Python을 다룰 줄 아는 학생들을 대상으로 진행하기 때문에)\n",
    "##### > Python의 데이터 구조 형식 중에 데이터 분석에 관련된 쓰임새 위주로 살펴본다. \n",
    "##### > 하나의 값 만을 저장하는 스칼라(Scalar) 형 int, float, str, bool 자료형\n",
    "##### > 여러 개의 값을 사용할 수 있는 비스칼라 형 list, tuple, dictionary 자료형\n",
    "##### > 외장 Pandas 자료형인 series, data frame 자료형"
   ]
  },
  {
   "cell_type": "markdown",
   "id": "c6479045-0b1c-4655-93c9-18e149dd5e0c",
   "metadata": {},
   "source": [
    "### **■ Python 자료 구조 종류**\n",
    "####  [내장 자료형]\n",
    "#####   >> 스칼라(Scalar) 형\n",
    "#####   >> 리스트(list) 형\n",
    "#####   >> 튜플(Tuple) 형\n",
    "#####   >> 딕셔너리(Dictionary) 형\n",
    "####  [외장 자료형] Pandas 자료형\n",
    "#####   >> 시리즈(Series) 형\n",
    "#####   >> 데이터 프레임(Data Frame) 형"
   ]
  },
  {
   "cell_type": "code",
   "execution_count": null,
   "id": "43fc2483-f98a-4cfa-9312-dd7ea8334a1b",
   "metadata": {},
   "outputs": [],
   "source": []
  },
  {
   "cell_type": "markdown",
   "id": "a598aa83-068d-470d-a3e7-53808f8ddc79",
   "metadata": {},
   "source": [
    "\n",
    "### **▩ 스칼라(Scalar) 형**\n",
    "##### > 하나의 값 만으로 구성된 자료 구조\n",
    "##### > Data Type : int, float, str, bool 등\n",
    "##### >관련 함수 : int(), float(), str(), bool()"
   ]
  },
  {
   "cell_type": "markdown",
   "id": "350a3540-bac7-4004-922b-4f82dacc0b96",
   "metadata": {},
   "source": [
    "### **기본 자료형**"
   ]
  },
  {
   "cell_type": "code",
   "execution_count": 10,
   "id": "b2ec3d45-23cd-48b1-ba56-9dd334d0c2a2",
   "metadata": {},
   "outputs": [
    {
     "name": "stdout",
     "output_type": "stream",
     "text": [
      "<class 'int'>\n",
      "<class 'float'>\n",
      "<class 'str'>\n"
     ]
    }
   ],
   "source": [
    "## 스칼라(Scalar) 형 ##\n",
    "## 생성 및 초기화\n",
    "a = 3              #int형 자료 구조 생성 및 초기화\n",
    "print(type(a))        #자료구조 확인 \n",
    "b = 4.15       #float형 자료 구조 생성 및 초기화\n",
    "print(type(b))\n",
    "c = 'hello, world!'        #str형 자료 구조 생성 및 초기화\n",
    "print(type(c))"
   ]
  },
  {
   "cell_type": "markdown",
   "id": "fbc38e74-5783-4c6f-ab46-907549d28410",
   "metadata": {},
   "source": [
    "##### ㅇPython에서는 자료 구조가 모두 class 형태로 만들어진다.\n",
    "##### ㅇ따라서 자료형에 대해 메서드들이 제공된다."
   ]
  },
  {
   "cell_type": "markdown",
   "id": "8578d154-42b8-4840-bf65-2bf37bad30ec",
   "metadata": {},
   "source": [
    "### **데이터 타입 확인하기**"
   ]
  },
  {
   "cell_type": "code",
   "execution_count": 19,
   "id": "35da3849-0243-4ac3-b947-beaea83a5de1",
   "metadata": {},
   "outputs": [
    {
     "data": {
      "text/plain": [
       "float"
      ]
     },
     "execution_count": 19,
     "metadata": {},
     "output_type": "execute_result"
    }
   ],
   "source": [
    "## 타입 확인하기\n",
    "a = 3.14              \n",
    "type(a) "
   ]
  },
  {
   "cell_type": "code",
   "execution_count": 20,
   "id": "b4d1d47e-5815-4c0e-842c-8ff72d3e53d2",
   "metadata": {},
   "outputs": [
    {
     "name": "stdout",
     "output_type": "stream",
     "text": [
      ">> Float type\n"
     ]
    }
   ],
   "source": [
    "## 타입 확인하기\n",
    "a = 3.14              \n",
    "if type(a) is float:\n",
    "    print('>> Float type')"
   ]
  },
  {
   "cell_type": "markdown",
   "id": "f6da35dd-d72d-4bb3-84c9-aacff057456c",
   "metadata": {},
   "source": [
    "### **데이터 타입 바꾸기**\n",
    "#### > int(), float(), str(), bool()"
   ]
  },
  {
   "cell_type": "code",
   "execution_count": 13,
   "id": "2d4b4879-00b2-4cf0-9300-d657e9deed38",
   "metadata": {},
   "outputs": [
    {
     "name": "stdout",
     "output_type": "stream",
     "text": [
      "<class 'float'> 3.14\n",
      "<class 'int'> 3\n",
      "<class 'str'> 3\n",
      "<class 'float'> 3.0\n",
      "<class 'float'> 3.0\n"
     ]
    }
   ],
   "source": [
    "## 타입 바꾸기: int(), float(), str()\n",
    "a = 3.14              \n",
    "print(type(a), a)        \n",
    "b = int(a)           # float > int\n",
    "print(type(b), b)\n",
    "c = str(b)           # int > str\n",
    "print(type(c), c)\n",
    "d = float(c)         # str > float\n",
    "print(type(d), d)\n",
    "e = str(d)           # float > str\n",
    "print(type(a), e) "
   ]
  },
  {
   "cell_type": "markdown",
   "id": "af2dd4d8-a3aa-4f52-b530-d48fb892a3d1",
   "metadata": {},
   "source": [
    "### **자료형의 메서드 사용하기**"
   ]
  },
  {
   "cell_type": "code",
   "execution_count": 127,
   "id": "2c1f0116-8ea6-4f7b-943b-6383abc1f6a8",
   "metadata": {},
   "outputs": [
    {
     "data": {
      "text/plain": [
       "'HELLO, WORLD!'"
      ]
     },
     "execution_count": 127,
     "metadata": {},
     "output_type": "execute_result"
    }
   ],
   "source": [
    "c.upper()             # 'HELLO, WORLD!'"
   ]
  },
  {
   "cell_type": "code",
   "execution_count": 128,
   "id": "bb58711b-e9ab-4575-b2ad-5eedbc261f02",
   "metadata": {},
   "outputs": [
    {
     "data": {
      "text/plain": [
       "'Hello, world!'"
      ]
     },
     "execution_count": 128,
     "metadata": {},
     "output_type": "execute_result"
    }
   ],
   "source": [
    "c.capitalize()        # 'Hello, world!'"
   ]
  },
  {
   "cell_type": "code",
   "execution_count": 129,
   "id": "e094ca29-bd8a-4ae4-93fe-72aca43e3275",
   "metadata": {},
   "outputs": [
    {
     "data": {
      "text/plain": [
       "'Hello, World!'"
      ]
     },
     "execution_count": 129,
     "metadata": {},
     "output_type": "execute_result"
    }
   ],
   "source": [
    "c.title()             # 'Hello, World!'"
   ]
  },
  {
   "cell_type": "code",
   "execution_count": 130,
   "id": "b61e532c-8040-4252-bbbe-198e9ec5e3cc",
   "metadata": {},
   "outputs": [
    {
     "data": {
      "text/plain": [
       "'hello, world!!!'"
      ]
     },
     "execution_count": 130,
     "metadata": {},
     "output_type": "execute_result"
    }
   ],
   "source": [
    "c.replace('!', '!!!')    # 'Hello, World!!!'"
   ]
  },
  {
   "cell_type": "code",
   "execution_count": 131,
   "id": "6c56156b-28a5-4748-88c2-48a66d7d4e77",
   "metadata": {},
   "outputs": [
    {
     "data": {
      "text/plain": [
       "5"
      ]
     },
     "execution_count": 131,
     "metadata": {},
     "output_type": "execute_result"
    }
   ],
   "source": [
    "c.find(',')              # 5"
   ]
  },
  {
   "cell_type": "code",
   "execution_count": 132,
   "id": "fdef6d59-c023-493e-9031-cae239bb010d",
   "metadata": {},
   "outputs": [
    {
     "data": {
      "text/plain": [
       "['hello', 'world!']"
      ]
     },
     "execution_count": 132,
     "metadata": {},
     "output_type": "execute_result"
    }
   ],
   "source": [
    "c.split(', ')            # ['Hello', 'World!']"
   ]
  },
  {
   "cell_type": "code",
   "execution_count": null,
   "id": "65778e7d-136b-4276-ad4d-8e0b154d2118",
   "metadata": {},
   "outputs": [],
   "source": []
  },
  {
   "cell_type": "markdown",
   "id": "4c80b760-6170-42ed-97e6-0e0c02bf6dff",
   "metadata": {},
   "source": [
    "### **▩ 비 스칼라 형**\n",
    "##### > 여러 개의 값을 사용할 수 있도록 구성된 자료 구조\n",
    "##### > Data Type : list, tuple, dictionary\n",
    "##### > 관련 함수 : list(), tuple(), dict()"
   ]
  },
  {
   "cell_type": "code",
   "execution_count": null,
   "id": "ab67dcaf-13da-4176-bcd3-ee91d8af1262",
   "metadata": {},
   "outputs": [],
   "source": []
  },
  {
   "cell_type": "markdown",
   "id": "73973249-1a46-4177-b164-34a43ee38c19",
   "metadata": {},
   "source": [
    "### **ㅇ리스트(List) 형** : [ ]\n",
    "##### > 여러 개의 값들을 나열된 자료 구조\n",
    "##### > 기본적으로 순서번호(Index)로 값에 접근(index는 자동 관리)\n",
    "##### > 값의 삽입, 삭제가 가능하다.\n",
    "##### > 각 값들은 [와 ] 안에 ,로 구분하여 초기화 한다."
   ]
  },
  {
   "cell_type": "markdown",
   "id": "b0597916-691e-4916-ad6d-13fe7923b001",
   "metadata": {},
   "source": [
    "#### **추출하기**"
   ]
  },
  {
   "cell_type": "code",
   "execution_count": 7,
   "id": "f671ff70-c7fd-49e8-8900-5935615b00b2",
   "metadata": {},
   "outputs": [
    {
     "name": "stdout",
     "output_type": "stream",
     "text": [
      "1\n",
      "b\n",
      "['a']\n",
      "['a', 'b']\n",
      "[1, 2]\n"
     ]
    }
   ],
   "source": [
    "## 리스트(List) 형 : [ ] \n",
    "## 생성 및 검색\n",
    "a = [1, 2, 'a', 'b']              #리스트 생성 및 초기화\n",
    "print(a[0])   #리스트는 0번째부터 시작 > a[0]는 한 개 값\n",
    "print(a[-1])  #거꾸로 첫 번째\n",
    "print(a[2:3]) #2번째부터 3번째 전까지 > a[2:3]는 한 개 값이지만 범위이므로 결과는 묶은 값 list형\n",
    "print(a[2:])  #2번째부터 끝까지  > 결과는 묶은 값 list형\n",
    "print(a[:2])  #처음부터 2번째 전까지  > 결과는 묶은 값 list형"
   ]
  },
  {
   "cell_type": "markdown",
   "id": "2cc8d8db-7c2d-40a6-aa44-e4cdc706af26",
   "metadata": {
    "tags": []
   },
   "source": [
    "#### > 패킹(Packing)과 언패킹(Unpacking)"
   ]
  },
  {
   "cell_type": "code",
   "execution_count": 98,
   "id": "c2f6d15a-3cbc-4060-8978-277648ec12e0",
   "metadata": {},
   "outputs": [
    {
     "name": "stdout",
     "output_type": "stream",
     "text": [
      "1 2 ['a', 'b']\n"
     ]
    }
   ],
   "source": [
    "## 패킹(Packing), 언패킹(Unpacking)\n",
    "b = [1, 2, ['a', 'b']]     #패킹(Packing)  \n",
    "x, y, z = b                #언패킹(Unpacking)  \n",
    "print(x, y, z)"
   ]
  },
  {
   "cell_type": "code",
   "execution_count": 2,
   "id": "0dacbf32-3540-4571-82ac-235688f74eab",
   "metadata": {},
   "outputs": [
    {
     "name": "stdout",
     "output_type": "stream",
     "text": [
      "1\n",
      "2\n",
      "a\n",
      "b\n"
     ]
    }
   ],
   "source": [
    "## 언패킹(Unpacking)\n",
    "b = [1, 2, ['a', 'b']]     #패킹(Packing)  \n",
    "for x in b:\n",
    "    if type(x) is list:\n",
    "        for y in x:\n",
    "            print(y)\n",
    "    else:\n",
    "        print(x)"
   ]
  },
  {
   "cell_type": "markdown",
   "id": "86c3ed71-1d3f-4161-81a4-30b339a97f25",
   "metadata": {},
   "source": [
    "#### **항목 찾기**"
   ]
  },
  {
   "cell_type": "code",
   "execution_count": 18,
   "id": "e6272ca8-84a4-4f78-9079-e180e611bd48",
   "metadata": {},
   "outputs": [
    {
     "name": "stdout",
     "output_type": "stream",
     "text": [
      "Found!\n"
     ]
    }
   ],
   "source": [
    "## 리스트 항목 찾기\n",
    "a = [1, 2, 3, 4]\n",
    "if 3 in a:\n",
    "    print(\"Found!\")\n",
    "else:\n",
    "    print(\"Not found!\")"
   ]
  },
  {
   "cell_type": "markdown",
   "id": "101790f9-18f3-4175-be3d-4e1855364826",
   "metadata": {},
   "source": [
    "#### **수정 조작하기**"
   ]
  },
  {
   "cell_type": "code",
   "execution_count": 13,
   "id": "fd9f1eb0-c53e-4520-a73b-bd25be532146",
   "metadata": {},
   "outputs": [
    {
     "data": {
      "text/plain": [
       "'a'"
      ]
     },
     "execution_count": 13,
     "metadata": {},
     "output_type": "execute_result"
    }
   ],
   "source": [
    "## 값 검색: index로 접근\n",
    "a = [1, 2, 'a', 'b']\n",
    "a[2]"
   ]
  },
  {
   "cell_type": "code",
   "execution_count": 16,
   "id": "8f8ae1f9-e9c7-43f8-b770-6a32ad106277",
   "metadata": {},
   "outputs": [
    {
     "data": {
      "text/plain": [
       "2"
      ]
     },
     "execution_count": 16,
     "metadata": {},
     "output_type": "execute_result"
    }
   ],
   "source": [
    "## index 검색: 값으로 index를 검색\n",
    "a.index('a')        #'a'의 위치 값 반환"
   ]
  },
  {
   "cell_type": "code",
   "execution_count": 5,
   "id": "0f4fab3b-bc9f-4d9b-840d-9eea6bb29e5d",
   "metadata": {},
   "outputs": [
    {
     "data": {
      "text/plain": [
       "[1, 2, 'A', 'b']"
      ]
     },
     "execution_count": 5,
     "metadata": {},
     "output_type": "execute_result"
    }
   ],
   "source": [
    "## 값 변경: index로 접근\n",
    "a[2] = 'A'\n",
    "a"
   ]
  },
  {
   "cell_type": "markdown",
   "id": "742cd279-4ce6-4481-8be7-b7151d8bfa35",
   "metadata": {},
   "source": [
    "#### **관련 메서드**\n",
    "##### > append() 항목 값 마지막에 추가하기\n",
    "##### > pop() 마지막 항목 값 제거하면서 반환\n",
    "##### > remove() 항목 값으로 제거하기\n",
    "##### > insert(index, value) index로 항목 추가하기\n",
    "##### > index() 항목 값으로 index 값 얻기\n",
    "##### > sort() 항목을 정렬하여 바꾸기 (매개변수 reverse=False가 기본값)"
   ]
  },
  {
   "cell_type": "code",
   "execution_count": 18,
   "id": "fcc0e410-3c4a-4d4d-9e55-8188b7bd7e2a",
   "metadata": {},
   "outputs": [
    {
     "data": {
      "text/plain": [
       "[2, 3]"
      ]
     },
     "execution_count": 18,
     "metadata": {},
     "output_type": "execute_result"
    }
   ],
   "source": [
    "## [리스트] 조작: append()\n",
    "a = []\n",
    "a.append(2)           #리스트에 2를 추가 \n",
    "a.append(3)           #맨 마지막에 2를 추가 \n",
    "a"
   ]
  },
  {
   "cell_type": "code",
   "execution_count": 19,
   "id": "3cbdd809-a0a2-45e2-b331-283e927e0fe4",
   "metadata": {},
   "outputs": [
    {
     "name": "stdout",
     "output_type": "stream",
     "text": [
      "[2]\n"
     ]
    }
   ],
   "source": [
    "## [리스트] 조작: pop()\n",
    "a\n",
    "a.pop()  #맨 마지막 항목을 반환하고, 제거\n",
    "print(a)"
   ]
  },
  {
   "cell_type": "code",
   "execution_count": 25,
   "id": "ae40b68b-fed5-43c2-88b3-f2369cb718a1",
   "metadata": {},
   "outputs": [
    {
     "data": {
      "text/plain": [
       "[6, 1, 9, 0, 3, 4, 5, 6]"
      ]
     },
     "execution_count": 25,
     "metadata": {},
     "output_type": "execute_result"
    }
   ],
   "source": [
    "## [리스트] 조작: inset()\n",
    "a = [6, 1, 0, 3, 4, 5, 6]   \n",
    "a.insert(2, 9)        #2번째에 값 9를 삽입\n",
    "a"
   ]
  },
  {
   "cell_type": "code",
   "execution_count": 19,
   "id": "fb2a4549-31bc-4cbf-98dc-e48f63dd7b20",
   "metadata": {},
   "outputs": [
    {
     "data": {
      "text/plain": [
       "3"
      ]
     },
     "execution_count": 19,
     "metadata": {},
     "output_type": "execute_result"
    }
   ],
   "source": [
    "## [리스트] 조작: inset()\n",
    "a = [6, 1, 0, 3, 4, 5, 6]   \n",
    "a.insert(2, 9)        #2번째에 값 9를 삽입\n",
    "a.index(0)         "
   ]
  },
  {
   "cell_type": "code",
   "execution_count": 28,
   "id": "e9651301-1e73-4984-a2c9-f044ccd51abc",
   "metadata": {},
   "outputs": [
    {
     "data": {
      "text/plain": [
       "[6, 1, 0, 3, 4, 5, 6]"
      ]
     },
     "execution_count": 28,
     "metadata": {},
     "output_type": "execute_result"
    }
   ],
   "source": [
    "## [리스트] 조작: remove()\n",
    "a.remove(9)           #9를 찾아 제거\n",
    "a"
   ]
  },
  {
   "cell_type": "code",
   "execution_count": 29,
   "id": "4f3e2b33-f194-404d-a39e-ea8afa5ca7b5",
   "metadata": {},
   "outputs": [
    {
     "data": {
      "text/plain": [
       "2"
      ]
     },
     "execution_count": 29,
     "metadata": {},
     "output_type": "execute_result"
    }
   ],
   "source": [
    "a.index(0)         "
   ]
  },
  {
   "cell_type": "code",
   "execution_count": null,
   "id": "b1e3c1f5-d706-40fc-885c-30bc4ea8bb82",
   "metadata": {},
   "outputs": [
    {
     "name": "stdout",
     "output_type": "stream",
     "text": [
      "6\n"
     ]
    },
    {
     "data": {
      "text/plain": [
       "[0, 1, 2, 3, 4, 5, 6]"
      ]
     },
     "execution_count": 90,
     "metadata": {},
     "output_type": "execute_result"
    }
   ],
   "source": [
    "print(a.pop())\n",
    "a"
   ]
  },
  {
   "cell_type": "code",
   "execution_count": 33,
   "id": "b06eee62-89d3-4b0b-9bfd-3312c5175aa6",
   "metadata": {},
   "outputs": [
    {
     "data": {
      "text/plain": [
       "[0, 1, 3, 4, 5, 6, 6]"
      ]
     },
     "execution_count": 33,
     "metadata": {},
     "output_type": "execute_result"
    }
   ],
   "source": [
    "## 생성 및 조작\n",
    "a = [6, 1, 0, 3, 4, 5, 6]   \n",
    "a.sort(reverse=False) #오름차순으로 정렬(내림차순은 True 또는 생략), a 자신을 정렬시킴\n",
    "a"
   ]
  },
  {
   "cell_type": "code",
   "execution_count": null,
   "id": "8f422009-455b-490e-9c44-79931c09145e",
   "metadata": {},
   "outputs": [],
   "source": []
  },
  {
   "cell_type": "markdown",
   "id": "0e8f690e-c446-4c8c-b4e9-b78fea0dc3ef",
   "metadata": {},
   "source": [
    "### **관련 함수**\n",
    "##### > len() 항목 개수 구하기\n",
    "##### > sorted() 항목을 정렬하여 리스트를 반환(원 리스트는 변화 없음)\n",
    "##### > del() 특정 항목 제거하기\n",
    "##### > clear() 모든 항목 제거하기\n",
    "##### > max(), min(), sum()"
   ]
  },
  {
   "cell_type": "code",
   "execution_count": 39,
   "id": "23d0a940-0636-4ed4-a8cd-7a364f36fe55",
   "metadata": {},
   "outputs": [
    {
     "data": {
      "text/plain": [
       "6"
      ]
     },
     "execution_count": 39,
     "metadata": {},
     "output_type": "execute_result"
    }
   ],
   "source": [
    "## 관련 함수: len()\n",
    "a = [5, 3, 7, 8, 2, 1]\n",
    "len(a)    # 리스트 항목의 수를 반환"
   ]
  },
  {
   "cell_type": "code",
   "execution_count": 35,
   "id": "8a233b9d-c44a-4609-af1d-b4f5186af3cb",
   "metadata": {},
   "outputs": [
    {
     "data": {
      "text/plain": [
       "[1, 2, 3, 5, 7, 8]"
      ]
     },
     "execution_count": 35,
     "metadata": {},
     "output_type": "execute_result"
    }
   ],
   "source": [
    "## 관련 함수: 정렬\n",
    "a = [5, 3, 7, 8, 2, 1]\n",
    "asort = sorted(a)    # 전달 받은 리스트 항목 값들을 정렬하여 반환\n",
    "asort"
   ]
  },
  {
   "cell_type": "code",
   "execution_count": 36,
   "id": "ff14b5ab-9c3a-4928-928e-7feb6f46eed4",
   "metadata": {},
   "outputs": [
    {
     "data": {
      "text/plain": [
       "[1, 2, 3, 5, 7, 8]"
      ]
     },
     "execution_count": 36,
     "metadata": {},
     "output_type": "execute_result"
    }
   ],
   "source": [
    "a = [5, 3, 7, 8, 2, 1]\n",
    "a.sort()  #리스트 자체를 정렬\n",
    "a"
   ]
  },
  {
   "cell_type": "code",
   "execution_count": 37,
   "id": "c85b7472-d722-4299-81b5-6d09e8da99e5",
   "metadata": {},
   "outputs": [
    {
     "name": "stdout",
     "output_type": "stream",
     "text": [
      "[1, 3, 5, 7, 8]\n"
     ]
    },
    {
     "data": {
      "text/plain": [
       "5"
      ]
     },
     "execution_count": 37,
     "metadata": {},
     "output_type": "execute_result"
    }
   ],
   "source": [
    "## 관련 함수: 제거, 갯 수\n",
    "del(a[1])                #1번째 값을 제거\n",
    "print(a)\n",
    "len(a)"
   ]
  },
  {
   "cell_type": "code",
   "execution_count": 42,
   "id": "e95cd2a0-8d47-44b1-b300-b8197c1a65d8",
   "metadata": {},
   "outputs": [
    {
     "data": {
      "text/plain": [
       "26"
      ]
     },
     "execution_count": 42,
     "metadata": {},
     "output_type": "execute_result"
    }
   ],
   "source": [
    "## 관련 함수: sum()\n",
    "a = [5, 3, 7, 8, 2, 1]\n",
    "max(a) \n",
    "min(a)\n",
    "sum(a)"
   ]
  },
  {
   "cell_type": "markdown",
   "id": "8980b222-d20b-41be-a599-b6eadfdd3767",
   "metadata": {},
   "source": [
    "#### **1, 2차원 리스트 초기화 하기**"
   ]
  },
  {
   "cell_type": "code",
   "execution_count": 4,
   "id": "13ac0f78-258d-47bd-9124-fe38ca5a8c43",
   "metadata": {},
   "outputs": [
    {
     "data": {
      "text/plain": [
       "[0, 0, 0, 0, 0]"
      ]
     },
     "execution_count": 4,
     "metadata": {},
     "output_type": "execute_result"
    }
   ],
   "source": [
    "## 1차원 리스트 초기화 방법 \n",
    "arr = [0, 0, 0, 0, 0]\n",
    "arr"
   ]
  },
  {
   "cell_type": "code",
   "execution_count": 5,
   "id": "158af405-0d12-4ac9-a22e-22d75f4093ae",
   "metadata": {},
   "outputs": [
    {
     "data": {
      "text/plain": [
       "[0, 0, 0, 0, 0]"
      ]
     },
     "execution_count": 5,
     "metadata": {},
     "output_type": "execute_result"
    }
   ],
   "source": [
    "## 1차원 리스트 초기화 방법 \n",
    "arr = [0]*5;\n",
    "arr"
   ]
  },
  {
   "cell_type": "code",
   "execution_count": 94,
   "id": "8a7e7428-251c-4b23-af18-cc9296adbcd4",
   "metadata": {},
   "outputs": [
    {
     "data": {
      "text/plain": [
       "[0, 0, 0, 0, 0]"
      ]
     },
     "execution_count": 94,
     "metadata": {},
     "output_type": "execute_result"
    }
   ],
   "source": [
    "## 1차원 리스트 초기화 방법 \n",
    "arr = [0 for i in range(5)];      #[]는 list()와 같은 역할\n",
    "arr = list(0 for i in range(5)); \n",
    "arr"
   ]
  },
  {
   "cell_type": "code",
   "execution_count": 7,
   "id": "d7bf0c73-13e1-46e3-a05f-2114fb79ab23",
   "metadata": {},
   "outputs": [
    {
     "data": {
      "text/plain": [
       "[0, 0, 0, 0, 0]"
      ]
     },
     "execution_count": 7,
     "metadata": {},
     "output_type": "execute_result"
    }
   ],
   "source": [
    "## 1차원 리스트 초기화 방법 \n",
    "arr=[];\t\t#만들고 \n",
    "for i in range(5):\n",
    "    arr.append(0) \t#추가하고 \t\n",
    "arr"
   ]
  },
  {
   "cell_type": "code",
   "execution_count": 91,
   "id": "a3f3c705-a1ca-4454-ae8a-5cc8769abc3d",
   "metadata": {},
   "outputs": [
    {
     "data": {
      "text/plain": [
       "[[0, 0, 0, 0], [0, 0, 0, 0], [0, 0, 0, 0]]"
      ]
     },
     "execution_count": 91,
     "metadata": {},
     "output_type": "execute_result"
    }
   ],
   "source": [
    "## 2차원 리스트 초기화 방법\n",
    "arr = [[0, 0, 0, 0], [0, 0, 0, 0], [0, 0, 0, 0]]\n",
    "arr"
   ]
  },
  {
   "cell_type": "code",
   "execution_count": 9,
   "id": "3a3c8267-c8ad-4585-add0-3feabf807736",
   "metadata": {},
   "outputs": [
    {
     "data": {
      "text/plain": [
       "[[0, 0, 0, 0], [0, 0, 0, 0], [0, 0, 0, 0]]"
      ]
     },
     "execution_count": 9,
     "metadata": {},
     "output_type": "execute_result"
    }
   ],
   "source": [
    "## 2차원 리스트 초기화 방법\n",
    "arr = [[0 for j in range(4)] for i in range(3)];\n",
    "arr"
   ]
  },
  {
   "cell_type": "code",
   "execution_count": 11,
   "id": "867ef6a7-8017-4cea-8e3e-9164cd9f4f18",
   "metadata": {},
   "outputs": [
    {
     "data": {
      "text/plain": [
       "[[0, 0, 0, 0], [0, 0, 0, 0], [0, 0, 0, 0]]"
      ]
     },
     "execution_count": 11,
     "metadata": {},
     "output_type": "execute_result"
    }
   ],
   "source": [
    "## 2차원 리스트 초기화 방법\n",
    "arr=[];  #1차원 리스트 생성\n",
    "for i in range(3):\n",
    "    temp = []\t   #열 생성\n",
    "    for j in range(4): \n",
    "        temp.append(0) #열 값 추가\n",
    "    arr.append(temp)   #1차원 리스트에 열 추가\n",
    "arr"
   ]
  },
  {
   "cell_type": "code",
   "execution_count": null,
   "id": "8b3f0e3a-d48d-49ca-9add-05e32785e77b",
   "metadata": {},
   "outputs": [],
   "source": []
  },
  {
   "cell_type": "markdown",
   "id": "2248cff1-6325-43d5-a4ce-551b6cab6e28",
   "metadata": {},
   "source": [
    "#### **[실습-0] 4행4열 리스트 초기화하기**\n",
    "##### > 0부터 시작되는 일련번호 값으로 초기화하기\n",
    "##### >> n행 m열도 적용가능하도록 일반화 함"
   ]
  },
  {
   "cell_type": "code",
   "execution_count": 96,
   "id": "de17594b-6d5c-49e4-93f9-7533df176576",
   "metadata": {},
   "outputs": [
    {
     "data": {
      "text/plain": [
       "[[0, 1, 2, 3], [4, 5, 6, 7], [8, 9, 10, 11], [12, 13, 14, 15]]"
      ]
     },
     "execution_count": 96,
     "metadata": {},
     "output_type": "execute_result"
    }
   ],
   "source": [
    "## 2차원 리스트 초기화\n",
    "row, col = 4, 4\n",
    "\n"
   ]
  },
  {
   "cell_type": "code",
   "execution_count": null,
   "id": "80ab78ad-1b02-4fbd-bbf8-f4d174d5bf60",
   "metadata": {},
   "outputs": [],
   "source": []
  },
  {
   "cell_type": "markdown",
   "id": "b311b512-bf6d-4a35-a660-845c9ac2026d",
   "metadata": {},
   "source": [
    "#### **반복문으로 리스트 읽어내기**"
   ]
  },
  {
   "cell_type": "code",
   "execution_count": 1,
   "id": "99ed4f7c-b664-445c-b3ad-ce5780f2122c",
   "metadata": {},
   "outputs": [
    {
     "name": "stdout",
     "output_type": "stream",
     "text": [
      "1 2 a b "
     ]
    }
   ],
   "source": [
    "## 1차원 리스트 읽어내기\n",
    "a = [1, 2, 'a', 'b']     #리스트 생성 및 초기화\n",
    "for  x  in a:            #range() 대신에 리스트 자료 Unpacking\n",
    "\tprint(x, end=' ')"
   ]
  },
  {
   "cell_type": "code",
   "execution_count": 2,
   "id": "f37ef164-8f83-4edc-92fa-9ecf323233e5",
   "metadata": {},
   "outputs": [
    {
     "name": "stdout",
     "output_type": "stream",
     "text": [
      "1 2 a b 4 "
     ]
    }
   ],
   "source": [
    "## 2차원 리스트 읽어내기\n",
    "a = [1, 2, ['a', 'b'], 4]     #리스트 생성 및 초기화\n",
    "for  x  in a:            #range() 대신에 리스트 자료  Unpacking\n",
    "    if type(x) is list:  #x가 list type인지 확인\n",
    "        for y in x:\n",
    "            print(y, end=' ')\n",
    "    else:\n",
    "        print(x, end=' ')"
   ]
  },
  {
   "cell_type": "markdown",
   "id": "a865a3e0-4be3-4e08-ad47-6d92dbb291c0",
   "metadata": {},
   "source": [
    "----\n",
    "#### **(알아두면 좋아요) 리스트의 얕은 복사와 깊은 복사 복사**\n",
    "##### > 얕은 복사(shallow copy)와 깊은 복사(deep copy)가 있다.\n",
    "##### > 얕은 복사는 복사 대상을 공유하는 형태로 참조 방식\n",
    "##### > 깊은 복사는 복사 대상과 똑같은 데이터를 생성하여 항목을 복사하는 방식"
   ]
  },
  {
   "cell_type": "code",
   "execution_count": 10,
   "id": "ba35ba67-7f58-48e6-a158-272ce56c52bd",
   "metadata": {},
   "outputs": [
    {
     "data": {
      "text/plain": [
       "[1, 20, 3, 4]"
      ]
     },
     "execution_count": 10,
     "metadata": {},
     "output_type": "execute_result"
    }
   ],
   "source": [
    "## [리스트] 얕은 복사: 참조하는 형태로 복사\n",
    "a = [1, 2, 3, 4]\n",
    "b = a  #shallow copy\n",
    "a[1] = 20\n",
    "b"
   ]
  },
  {
   "cell_type": "code",
   "execution_count": 11,
   "id": "19aecb63-056e-400a-b5c5-d00af4deb1f2",
   "metadata": {},
   "outputs": [
    {
     "data": {
      "text/plain": [
       "[1, 2, 3, 4]"
      ]
     },
     "execution_count": 11,
     "metadata": {},
     "output_type": "execute_result"
    }
   ],
   "source": [
    "## [리스트] 얕은 복사: 참조하는 형태로 복사\n",
    "a = [1, 2, 3, 4]\n",
    "b = a[:]  #deep copy\n",
    "a[1] = 20\n",
    "b"
   ]
  },
  {
   "cell_type": "code",
   "execution_count": 22,
   "id": "afde000e-eacb-46b6-9fb1-9252521352ac",
   "metadata": {},
   "outputs": [
    {
     "data": {
      "text/plain": [
       "[1, 2, 3, 4]"
      ]
     },
     "execution_count": 22,
     "metadata": {},
     "output_type": "execute_result"
    }
   ],
   "source": [
    "## [리스트] 얕은 복사: 참조하는 형태로 복사\n",
    "a = [1, 2, 3, 4]\n",
    "b = a.copy()  #deep copy\n",
    "a[1] = 20\n",
    "b"
   ]
  },
  {
   "cell_type": "markdown",
   "id": "52c80663-9eff-4c96-829e-b28d48051211",
   "metadata": {},
   "source": [
    "----\n",
    "### **[실습] List로 막대 그래프 그리기**\n",
    "#### > import seaborn 모듈 사용"
   ]
  },
  {
   "cell_type": "code",
   "execution_count": 3,
   "id": "810af935-40f3-44c0-acdb-b22b537543be",
   "metadata": {},
   "outputs": [
    {
     "name": "stdout",
     "output_type": "stream",
     "text": [
      "[1, 4, 5, 3, 2, 1, 7, 3, 1, 2]\n"
     ]
    },
    {
     "name": "stderr",
     "output_type": "stream",
     "text": [
      "C:\\Users\\ADMIN\\anaconda3\\lib\\site-packages\\scipy\\__init__.py:155: UserWarning: A NumPy version >=1.18.5 and <1.25.0 is required for this version of SciPy (detected version 1.25.2\n",
      "  warnings.warn(f\"A NumPy version >={np_minversion} and <{np_maxversion}\"\n",
      "C:\\Users\\ADMIN\\anaconda3\\lib\\site-packages\\seaborn\\_oldcore.py:1498: FutureWarning: is_categorical_dtype is deprecated and will be removed in a future version. Use isinstance(dtype, CategoricalDtype) instead\n",
      "  if pd.api.types.is_categorical_dtype(vector):\n",
      "C:\\Users\\ADMIN\\anaconda3\\lib\\site-packages\\seaborn\\_oldcore.py:1498: FutureWarning: is_categorical_dtype is deprecated and will be removed in a future version. Use isinstance(dtype, CategoricalDtype) instead\n",
      "  if pd.api.types.is_categorical_dtype(vector):\n",
      "C:\\Users\\ADMIN\\anaconda3\\lib\\site-packages\\seaborn\\_oldcore.py:1765: FutureWarning: unique with argument that is not not a Series, Index, ExtensionArray, or np.ndarray is deprecated and will raise in a future version.\n",
      "  order = pd.unique(vector)\n",
      "C:\\Users\\ADMIN\\anaconda3\\lib\\site-packages\\seaborn\\_oldcore.py:1498: FutureWarning: is_categorical_dtype is deprecated and will be removed in a future version. Use isinstance(dtype, CategoricalDtype) instead\n",
      "  if pd.api.types.is_categorical_dtype(vector):\n"
     ]
    },
    {
     "data": {
      "text/plain": [
       "<Axes: ylabel='count'>"
      ]
     },
     "execution_count": 3,
     "metadata": {},
     "output_type": "execute_result"
    },
    {
     "data": {
      "image/png": "[encoded data removed]",
      "text/plain": [
       "<Figure size 640x480 with 1 Axes>"
      ]
     },
     "metadata": {},
     "output_type": "display_data"
    }
   ],
   "source": [
    "## 리스트(List) 형 : [ ] \n",
    "## List로 막대 그래프 그리기\n",
    "alist = [1, 4, 5, 3, 2, 1, 7, 3, 1, 2]\n",
    "print(alist)\n",
    "\n",
    "import seaborn as sns\n",
    "sns.countplot(x = alist)"
   ]
  },
  {
   "cell_type": "markdown",
   "id": "0ac20a37-54f6-432e-bdac-a4e3d37157c4",
   "metadata": {},
   "source": [
    "### **[실습-1] List로 막대 그래프 그리기 (응용)**\n",
    "##### > List를 랜덤 수로 초기화 함. (range는 0~9까지)\n",
    "##### > List의 길이는 30으로 함\n",
    "##### > 구성된 리스트를 출력하여 확인\n",
    "##### > import seaborn 모듈 사용 빈도수 막대 그래프 그리기"
   ]
  },
  {
   "cell_type": "code",
   "execution_count": null,
   "id": "535349d2-f590-4873-bbf4-5183c6190c55",
   "metadata": {},
   "outputs": [],
   "source": [
    "## 리스트(List) 형 : [ ] \n",
    "## [실습] List를 랜덤 수로 초기화 함\n",
    "## 랜덤 리스트 구성\n",
    "import random\n",
    "\n",
    "\n",
    "\n",
    "\n",
    "## List로 막대 그래프 그리기\n",
    "import seaborn as sns\n",
    "\n"
   ]
  },
  {
   "cell_type": "code",
   "execution_count": null,
   "id": "5650fccc-7680-43d8-9acd-0c9c49ee0b54",
   "metadata": {},
   "outputs": [],
   "source": [
    "## seaborn 패키지 인터페이스 매개변수 확인\n",
    "import seaborn as sb\n",
    "sb.countplot?"
   ]
  },
  {
   "cell_type": "code",
   "execution_count": null,
   "id": "1eae6bd9-65a4-41d2-9ff5-5c95c7b29d1a",
   "metadata": {},
   "outputs": [],
   "source": []
  },
  {
   "cell_type": "markdown",
   "id": "b97a9140-9a00-44b2-818b-66b942469dd9",
   "metadata": {},
   "source": [
    "### **ㅇ튜플(Tuple) 형** : ( )\n",
    "##### > 리스트와 같이 여러 개의 값들을 나열된 자료 구조\n",
    "##### > 리스트와 다르게 한 번 초기화된 자료는 **수정할 수 없다.**\n",
    "##### > 고정된 값을 미리 정렬시켜서 튜플로 만들어 놓고 사용하면 검색 속도 빨라짐."
   ]
  },
  {
   "cell_type": "markdown",
   "id": "1693956c-507a-47b2-8d82-8420d7f01dc3",
   "metadata": {},
   "source": [
    "#### **생성하기**"
   ]
  },
  {
   "cell_type": "code",
   "execution_count": 16,
   "id": "11ad2e6c-4596-43b8-98a1-49299f9e859c",
   "metadata": {},
   "outputs": [
    {
     "data": {
      "text/plain": [
       "(1, 2, 3, 4, 5)"
      ]
     },
     "execution_count": 16,
     "metadata": {},
     "output_type": "execute_result"
    }
   ],
   "source": [
    "## Tuple 생성하기\n",
    "a = (1, 2, 3, 4, 5)   #튜플의 생성 및 초기화\n",
    "a"
   ]
  },
  {
   "cell_type": "code",
   "execution_count": 20,
   "id": "468a5d61-a88c-442b-95c4-687f0b6c4d4c",
   "metadata": {},
   "outputs": [
    {
     "data": {
      "text/plain": [
       "(1, 2, 3, 4, 5)"
      ]
     },
     "execution_count": 20,
     "metadata": {},
     "output_type": "execute_result"
    }
   ],
   "source": [
    "# () 생략하고 튜플 만들기\n",
    "a = 1, 2, 3, 4, 5   #튜플의 패킹(Packing)  \n",
    "a"
   ]
  },
  {
   "cell_type": "code",
   "execution_count": 45,
   "id": "c69e7d27-7b3f-4345-92ad-e8226db208ad",
   "metadata": {},
   "outputs": [
    {
     "data": {
      "text/plain": [
       "(1, 2, 3, 4, 5)"
      ]
     },
     "execution_count": 45,
     "metadata": {},
     "output_type": "execute_result"
    }
   ],
   "source": [
    "# tuple()로 튜플 만들기\n",
    "x = [1, 2, 3, 4, 5]     \n",
    "a = tuple(x)\n",
    "a"
   ]
  },
  {
   "cell_type": "markdown",
   "id": "a1d772e6-694f-41e8-9062-0713c1ac8190",
   "metadata": {},
   "source": [
    "#### **추출하기**"
   ]
  },
  {
   "cell_type": "code",
   "execution_count": 19,
   "id": "bd7d6c29-47b5-4b1d-938d-f3ed496d9408",
   "metadata": {},
   "outputs": [
    {
     "name": "stdout",
     "output_type": "stream",
     "text": [
      "1\n",
      "(2, 3)\n"
     ]
    }
   ],
   "source": [
    "## 튜플(Tuple) 형 : ( ) \n",
    "## 생성 및 검색\n",
    "a = (1, 2, 3, 4, 5)   #튜플의 생성 및 초기화\n",
    "print(a[0])\n",
    "print(a[1:3])     #범위로 추출하므로 결과는 tuple 형"
   ]
  },
  {
   "cell_type": "markdown",
   "id": "7d0d7295-eaa0-456c-9bf2-44169aad733f",
   "metadata": {
    "tags": []
   },
   "source": [
    "#### > 패킹(Packing)과 언패킹(Unpacking)"
   ]
  },
  {
   "cell_type": "code",
   "execution_count": 44,
   "id": "003e66a1-b464-4961-8bb7-a665731b7f36",
   "metadata": {},
   "outputs": [
    {
     "name": "stdout",
     "output_type": "stream",
     "text": [
      "10 20 30\n"
     ]
    }
   ],
   "source": [
    "## 패킹(Packing), 언패킹(Unpacking)\n",
    "b = 10, 20, 30    #튜플의 패킹(Packing)  \n",
    "x, y, z = b       #언패킹(Unpacking)  \n",
    "print(x, y, z)"
   ]
  },
  {
   "cell_type": "code",
   "execution_count": 4,
   "id": "339d28ce-add3-418f-8d56-febcea986989",
   "metadata": {},
   "outputs": [
    {
     "data": {
      "text/plain": [
       "tuple"
      ]
     },
     "execution_count": 4,
     "metadata": {},
     "output_type": "execute_result"
    }
   ],
   "source": [
    "## 패킹(Packing), 언패킹(Unpacking)\n",
    "b = 10,           #단일 항목 튜플의 패킹(Packing)  \n",
    "type(b)"
   ]
  },
  {
   "cell_type": "markdown",
   "id": "fb0025e1-5787-4932-8b3f-7c7a36ea0f67",
   "metadata": {},
   "source": [
    "#### **활용하기: List, Tuple**"
   ]
  },
  {
   "cell_type": "code",
   "execution_count": 13,
   "id": "53e09c30-1c85-44eb-a6fa-29689cc4796c",
   "metadata": {},
   "outputs": [
    {
     "name": "stdout",
     "output_type": "stream",
     "text": [
      "['010']  :  휴대전화\n",
      "02  :  ['서울특별시', '광명시', '과천시']\n",
      "031  :  경기도\n",
      "032  :  ['인천광역시', '부천시']\n",
      "033  :  강원도\n",
      "041  :  충청남도\n",
      "042  :  ['대전광역시', '계룡시']\n",
      "043  :  충청북도\n",
      "044  :  세종특별자치시\n",
      "051  :  부산광역시\n",
      "052  :  울산광역시\n",
      "053  :  ['대구광역시', '경산시']\n",
      "054  :  경상북도\n",
      "055  :  경상남도\n",
      "061  :  전라남도\n",
      "062  :  광주광역시\n",
      "063  :  전라북도\n",
      "064  :  제주특별자치도\n"
     ]
    }
   ],
   "source": [
    "#지역번호 만들기\n",
    "zoneno = ([['010'], '휴대전화'],\n",
    "           ['02', ['서울특별시', '광명시', '과천시']], ['031', '경기도'], ['032', ['인천광역시', '부천시']], ['033', '강원도'],\n",
    "           ['041', '충청남도'], ['042', ['대전광역시', '계룡시']], ['043', '충청북도'], ['044', '세종특별자치시'],\n",
    "            ['051', '부산광역시'], ['052', '울산광역시'], ['053', ['대구광역시', '경산시']], ['054', '경상북도'],\n",
    "            ['055', '경상남도'], ['061', '전라남도'], ['062', '광주광역시'], ['063', '전라북도'], ['064', '제주특별자치도'])\t\n",
    "\n",
    "#지역번호표 출력\n",
    "for no, zone in zoneno:  #unpacking\n",
    "    print(no, \" : \", zone)"
   ]
  },
  {
   "cell_type": "markdown",
   "id": "3216cbc0-0554-4fc9-81bc-3351b32b5e73",
   "metadata": {},
   "source": [
    "### **[실습-2] Tuple 항목 검색하기**\n",
    "##### > 키보드로 지역명을 입력받아 zoneno의 번호를 출력해줌"
   ]
  },
  {
   "cell_type": "code",
   "execution_count": 17,
   "id": "c0e062f3-5e21-4c5a-b40e-0b342759e952",
   "metadata": {},
   "outputs": [
    {
     "name": "stdin",
     "output_type": "stream",
     "text": [
      ">전화번호 지역 입력:  부천시\n"
     ]
    },
    {
     "name": "stdout",
     "output_type": "stream",
     "text": [
      "032 : ['인천광역시', '부천시']\n"
     ]
    }
   ],
   "source": [
    "#지역번호 검색(지역명으로 찾기)\n",
    "inzone = input(\">지역 입력: \")\n",
    "\n",
    "\n",
    "\n",
    "\n",
    "\n",
    "\n"
   ]
  },
  {
   "cell_type": "code",
   "execution_count": null,
   "id": "279ddb1f-4cd8-4228-a28b-b7a9adc4fd56",
   "metadata": {},
   "outputs": [],
   "source": []
  },
  {
   "cell_type": "markdown",
   "id": "884a249a-028f-4bed-aaee-2f467626edc0",
   "metadata": {},
   "source": [
    "### **ㅇ딕셔너리(Dictionary) 형** : { }\n",
    "##### > 키(Key)와 대응되는 값(Value)이 짝을 이루어 나열된 자료 구조\n",
    "##### > 값의 삽입, 삭제가 가능하다.\n",
    "##### > 순서번호(Index) 대신에 키 값으로 값에 접근"
   ]
  },
  {
   "cell_type": "markdown",
   "id": "90674e43-33bb-4db3-96af-99c850b575e6",
   "metadata": {},
   "source": [
    "#### **생성하기**"
   ]
  },
  {
   "cell_type": "code",
   "execution_count": 8,
   "id": "97edd096-f31d-4437-ae93-7356d5e9c51f",
   "metadata": {},
   "outputs": [
    {
     "data": {
      "text/plain": [
       "{'A': 90, 'B': 80, 3: 70, 4: 60}"
      ]
     },
     "execution_count": 8,
     "metadata": {},
     "output_type": "execute_result"
    }
   ],
   "source": [
    "## 딕셔너리(Dictionary) 형 : { } ##\n",
    "## Key : Value로 생성\n",
    "a = {'A':90, 'B':80, 3:70, 4:60}        #딕셔너리 생성 및 초기화\n",
    "a"
   ]
  },
  {
   "cell_type": "markdown",
   "id": "fca7793c-4eaa-4bde-a510-a13f80db4b34",
   "metadata": {},
   "source": [
    "#### **조작 하기**"
   ]
  },
  {
   "cell_type": "markdown",
   "id": "8fe1408c-450f-4b3c-a287-74d6fefe779a",
   "metadata": {},
   "source": [
    "##### **> 추가하기**"
   ]
  },
  {
   "cell_type": "code",
   "execution_count": 9,
   "id": "952c842e-5556-43ad-a094-005458ebb546",
   "metadata": {},
   "outputs": [
    {
     "data": {
      "text/plain": [
       "{'A': 90, 'B': 80, 3: 70, 4: 60, 'C': [79, 70]}"
      ]
     },
     "execution_count": 9,
     "metadata": {},
     "output_type": "execute_result"
    }
   ],
   "source": [
    "## 항목 추가하기\n",
    "a['C'] = [79, 70]  #맨 뒤에 추가됨\n",
    "a"
   ]
  },
  {
   "cell_type": "markdown",
   "id": "78d65cb1-0747-4521-9b02-e289267ba654",
   "metadata": {
    "tags": []
   },
   "source": [
    "##### **> 삭제하기**"
   ]
  },
  {
   "cell_type": "code",
   "execution_count": 10,
   "id": "9e05abf0-a902-416a-b4b7-4e01ee5e556b",
   "metadata": {},
   "outputs": [
    {
     "data": {
      "text/plain": [
       "{'A': 90, 'B': 80, 3: 70, 4: 60}"
      ]
     },
     "execution_count": 10,
     "metadata": {},
     "output_type": "execute_result"
    }
   ],
   "source": [
    "## 항목 삭제하기\n",
    "del(a['C']) # id 키:값 쌍 삭제\n",
    "a"
   ]
  },
  {
   "cell_type": "markdown",
   "id": "1f9e3efd-564e-493e-a8f2-c47b35ed9b2e",
   "metadata": {},
   "source": [
    "##### **> 값 변경하기**"
   ]
  },
  {
   "cell_type": "code",
   "execution_count": 51,
   "id": "6752ce6d-7657-40d0-a7a4-18976656b31c",
   "metadata": {},
   "outputs": [
    {
     "data": {
      "text/plain": [
       "{'A': 90, 'B': [89, 80], 3: 70, 4: 60}"
      ]
     },
     "execution_count": 51,
     "metadata": {},
     "output_type": "execute_result"
    }
   ],
   "source": [
    "## 항목 값 변경하기\n",
    "a['B'] = [89, 80]  #Key가 없으면 추가됨\n",
    "a"
   ]
  },
  {
   "cell_type": "markdown",
   "id": "435a7928-7968-45ea-8d9c-009c9a22678e",
   "metadata": {},
   "source": [
    "#### **추출하기**"
   ]
  },
  {
   "cell_type": "code",
   "execution_count": 11,
   "id": "e462c659-cc2a-416a-a735-b4eb4734c2e4",
   "metadata": {},
   "outputs": [
    {
     "data": {
      "text/plain": [
       "90"
      ]
     },
     "execution_count": 11,
     "metadata": {},
     "output_type": "execute_result"
    }
   ],
   "source": [
    "## 딕셔너리(Dictionary) 형 : { } ##\n",
    "## 추출 : key 사용\n",
    "a = {'A':90, 'B':80, 3:70, 4:60}        #딕셔너리 생성 및 초기화\n",
    "a['A']   "
   ]
  },
  {
   "cell_type": "code",
   "execution_count": 12,
   "id": "f7551c85-925c-41d9-aacf-73c637912e0e",
   "metadata": {},
   "outputs": [
    {
     "ename": "KeyError",
     "evalue": "'a'",
     "output_type": "error",
     "traceback": [
      "\u001b[1;31m---------------------------------------------------------------------------\u001b[0m",
      "\u001b[1;31mKeyError\u001b[0m                                  Traceback (most recent call last)",
      "\u001b[1;32m~\\AppData\\Local\\Temp\\ipykernel_11524\\1838990921.py\u001b[0m in \u001b[0;36m<module>\u001b[1;34m\u001b[0m\n\u001b[0;32m      1\u001b[0m \u001b[1;31m## 추출 : key 사용\u001b[0m\u001b[1;33m\u001b[0m\u001b[1;33m\u001b[0m\u001b[0m\n\u001b[1;32m----> 2\u001b[1;33m \u001b[0ma\u001b[0m\u001b[1;33m[\u001b[0m\u001b[1;34m'a'\u001b[0m\u001b[1;33m]\u001b[0m\u001b[1;33m\u001b[0m\u001b[1;33m\u001b[0m\u001b[0m\n\u001b[0m",
      "\u001b[1;31mKeyError\u001b[0m: 'a'"
     ]
    }
   ],
   "source": [
    "## 추출 : key 사용\n",
    "a['a']"
   ]
  },
  {
   "cell_type": "code",
   "execution_count": 13,
   "id": "281cef34-3cce-4c03-a0af-43c7e9045e66",
   "metadata": {},
   "outputs": [
    {
     "data": {
      "text/plain": [
       "90"
      ]
     },
     "execution_count": 13,
     "metadata": {},
     "output_type": "execute_result"
    }
   ],
   "source": [
    "## 추출 : .get() 사용\n",
    "a.get('A')"
   ]
  },
  {
   "cell_type": "code",
   "execution_count": 14,
   "id": "5a8d4262-b36e-4b4e-a5b0-398e3ec7f244",
   "metadata": {},
   "outputs": [],
   "source": [
    "## 추출 : .get() 사용\n",
    "a.get('a')"
   ]
  },
  {
   "cell_type": "markdown",
   "id": "13006188-17b2-4109-bb2d-e232b549a0d4",
   "metadata": {},
   "source": [
    "#### **> Key와 Value 읽어내기**"
   ]
  },
  {
   "cell_type": "code",
   "execution_count": 46,
   "id": "35284799-55bc-4515-bda4-b1246093f7a5",
   "metadata": {},
   "outputs": [
    {
     "data": {
      "text/plain": [
       "dict_keys(['A', 'B', 3, 4])"
      ]
     },
     "execution_count": 46,
     "metadata": {},
     "output_type": "execute_result"
    }
   ],
   "source": [
    "## Key 추출\n",
    "a.keys()       #Key 추출"
   ]
  },
  {
   "cell_type": "code",
   "execution_count": 47,
   "id": "7d166360-547e-4dee-ab35-f004dd8f681a",
   "metadata": {},
   "outputs": [
    {
     "data": {
      "text/plain": [
       "dict_values([90, 80, 70, 60])"
      ]
     },
     "execution_count": 47,
     "metadata": {},
     "output_type": "execute_result"
    }
   ],
   "source": [
    "## Value 추출\n",
    "a.values()   #Value 추출"
   ]
  },
  {
   "cell_type": "code",
   "execution_count": 48,
   "id": "9e33bbe9-7b88-457c-a029-ee7429f791d2",
   "metadata": {},
   "outputs": [
    {
     "data": {
      "text/plain": [
       "dict_items([('A', 90), ('B', 80), (3, 70), (4, 60)])"
      ]
     },
     "execution_count": 48,
     "metadata": {},
     "output_type": "execute_result"
    }
   ],
   "source": [
    "## Key와 Value 추출\n",
    "a.items()   #Value 추출"
   ]
  },
  {
   "cell_type": "markdown",
   "id": "42765d94-82ff-446c-8eaa-071648139876",
   "metadata": {},
   "source": [
    "#### **반복문으로 Dictionary 읽어내기**"
   ]
  },
  {
   "cell_type": "code",
   "execution_count": 62,
   "id": "d6ec431c-4798-413b-9207-6e3ef7347390",
   "metadata": {},
   "outputs": [
    {
     "name": "stdout",
     "output_type": "stream",
     "text": [
      "A\n",
      "B\n",
      "3\n",
      "4\n"
     ]
    }
   ],
   "source": [
    "## Dictionary 키 읽어내기\n",
    "a = {'A':90, 'B':80, 3:70, 4:60} \n",
    "for  x  in a.keys():     #range() 대신에 Dictionary 자료 Unpacking\n",
    "\tprint(x)"
   ]
  },
  {
   "cell_type": "code",
   "execution_count": 60,
   "id": "2eb800c5-4637-4ee0-9369-912c081ea88f",
   "metadata": {},
   "outputs": [
    {
     "name": "stdout",
     "output_type": "stream",
     "text": [
      "90\n",
      "80\n",
      "70\n",
      "60\n"
     ]
    }
   ],
   "source": [
    "## [Dictionary] 반복문으로 값 읽어내기\n",
    "for  x  in a.values():    #range() 대신에 Dictionary 자료 Unpacking\n",
    "\tprint(x)"
   ]
  },
  {
   "cell_type": "code",
   "execution_count": 28,
   "id": "fc8bec9c-9f6b-4d4d-99ae-309e226034f5",
   "metadata": {},
   "outputs": [
    {
     "name": "stdout",
     "output_type": "stream",
     "text": [
      "('A', 90)\n",
      "('B', 80)\n",
      "(3, 70)\n",
      "(4, 60)\n",
      "A 90\n",
      "B 80\n",
      "3 70\n",
      "4 60\n"
     ]
    }
   ],
   "source": [
    "## [Dictionary] 반복문으로 키, 값 읽어내기\n",
    "for x in a.items():            #range() 대신에 적용\n",
    "\tprint(x)\n",
    "for x, y in a.items():         #range() 대신에 적용\n",
    "\tprint(x, y)"
   ]
  },
  {
   "cell_type": "markdown",
   "id": "43b36c4c-ebfb-44e6-aebe-0474bdd0d67d",
   "metadata": {},
   "source": [
    "### **활용하기**"
   ]
  },
  {
   "cell_type": "code",
   "execution_count": 25,
   "id": "735d0685-9c8b-4bc5-b86a-4c7a79c52cb4",
   "metadata": {},
   "outputs": [
    {
     "name": "stdout",
     "output_type": "stream",
     "text": [
      "[[ 메뉴 ]]\n",
      "## COFFEE ##\n",
      "에스프레소     \t  3.0\n",
      "아메리카노     \t  3.0\n",
      "카페라떼      \t  4.0\n",
      "카프치노      \t  4.0\n",
      "\n",
      "## LATTE ##\n",
      "말차라떼      \t  4.0\n",
      "초코라떼      \t  4.0\n",
      "카페라떼      \t  4.0\n",
      "\n",
      "## TEA ##\n",
      "청귤차       \t  4.0\n",
      "자몽차       \t  4.0\n",
      "레몬차       \t  4.0\n",
      "카모마일      \t  4.5\n",
      "\n",
      "## ADE ##\n",
      "자몽에이드     \t  4.5\n",
      "레몬에이드     \t  4.5\n",
      "청포도에이드    \t  4.5\n",
      "\n",
      "## JUICE ##\n",
      "망고        \t  4.5\n",
      "바나나       \t  4.5\n",
      "딸기        \t  4.5\n",
      "키위        \t  4.5\n",
      "\n",
      "## SMOOTHIE ##\n",
      "청귤스무디     \t  4.5\n",
      "요거트스무디    \t  4.5\n",
      "\n",
      "## MILK TEA ##\n",
      "흑당밀크티     \t  4.5\n",
      "달고나밀크티    \t  4.5\n",
      "\n"
     ]
    }
   ],
   "source": [
    "#(소분류) 메뉴표 만들기\n",
    "menu = {'COFFEE': [['에스프레소', 3.0], ['아메리카노', 3.0], ['카페라떼', 4.0], ['카프치노', 4.0]],\n",
    "          'LATTE': [['말차라떼', 4.0], ['초코라떼', 4.0], ['카페라떼', 4.0]],\n",
    "          'TEA': [['청귤차', 4.0], ['자몽차', 4.0], ['레몬차', 4.0], ['카모마일', 4.5]],\n",
    "          'ADE': [['자몽에이드', 4.5], ['레몬에이드', 4.5], ['청포도에이드', 4.5]],\n",
    "          'JUICE': [['망고', 4.5], ['바나나', 4.5], ['딸기', 4.5], ['키위', 4.5]],\n",
    "          'SMOOTHIE': [['청귤스무디', 4.5], ['요거트스무디', 4.5]],\n",
    "          'MILK TEA': [['흑당밀크티', 4.5], ['달고나밀크티', 4.5]]}\n",
    "\n",
    "#[출력] 소분류 메뉴 \n",
    "print(\"[[ 메뉴 ]]\")\n",
    "for title, mlist in menu.items():\n",
    "    print(\"## %s ##\" %title)\n",
    "    for mmenu, price in mlist:  #리스트 언팩킹\n",
    "        print(\"%-10s\\t%5.1f\" %(mmenu, price))\n",
    "    print()"
   ]
  },
  {
   "cell_type": "markdown",
   "id": "70d67ab0-88ac-4ff9-a2d8-43a853579375",
   "metadata": {},
   "source": [
    "### **[실습-3] Dictionary 항목 검색하기**\n",
    "##### > 키보드로 대분류 메뉴명을 입력받아 메뉴명과 단가를 출력해줌\n",
    "##### > 키보드 입력 값을 받아 모두 대문자 처리 후 작업"
   ]
  },
  {
   "cell_type": "code",
   "execution_count": 56,
   "id": "d52d564c-38fa-4bbe-bedb-fb029ab6c7f6",
   "metadata": {},
   "outputs": [
    {
     "name": "stdin",
     "output_type": "stream",
     "text": [
      ">대분류 메뉴명:  coffee\n"
     ]
    },
    {
     "name": "stdout",
     "output_type": "stream",
     "text": [
      "에스프레소     \t3.0\n",
      "아메리카노     \t3.0\n",
      "카페라떼      \t4.0\n",
      "카프치노      \t4.0\n"
     ]
    }
   ],
   "source": [
    "#[주문] 대분류 메뉴 선택\n",
    "intitle = input(\">대분류 메뉴명: \")\n",
    "\n",
    "\n"
   ]
  },
  {
   "cell_type": "code",
   "execution_count": null,
   "id": "b62bb972-ff28-45e9-a0d3-0b5917cec1eb",
   "metadata": {},
   "outputs": [],
   "source": []
  },
  {
   "cell_type": "markdown",
   "id": "14d554b7-940d-43ed-9b42-22ee61169af4",
   "metadata": {},
   "source": [
    "### **▩ 외장 Pandas 자료형**\n",
    "##### > pandas라는 패키지를 import 해서 사용 가능한 추가 자료 구조\n",
    "##### > Data Type : Series, Dataframe\n",
    "##### > 관련 함수 : Series(), DataFrame()"
   ]
  },
  {
   "cell_type": "code",
   "execution_count": null,
   "id": "c45b19fc-e707-40f3-b63b-f2c910e72eda",
   "metadata": {},
   "outputs": [],
   "source": []
  },
  {
   "cell_type": "markdown",
   "id": "a24e0568-0964-4aeb-972d-890ec7b229d1",
   "metadata": {
    "tags": []
   },
   "source": [
    "### **ㅇ시리즈(Series) 형**\n",
    "##### > pandas 패키지를 통해 사용한다.\n",
    "##### > **1차원** 배열로 여러 값을 나열한 자료 구조\n",
    "##### > 각 데이터 항목은 index로 식별된다.\n",
    "##### >>index는 자동 부여되거나, 임의 부여가 가능\n",
    "##### > 데이터 프레임의 데이터을 구성하는 열 값들을 시리즈로 추출하여 조작할 수 있다."
   ]
  },
  {
   "cell_type": "markdown",
   "id": "eb79a8a4-9620-45d5-8abd-7653f5a1fdaf",
   "metadata": {},
   "source": [
    "#### **생성하기**"
   ]
  },
  {
   "cell_type": "code",
   "execution_count": 26,
   "id": "41f3dfe4-c7d5-41ad-8304-b0cf0f6452a9",
   "metadata": {},
   "outputs": [
    {
     "data": {
      "text/plain": [
       "0    11\n",
       "1    22\n",
       "2    33\n",
       "3    44\n",
       "dtype: int64"
      ]
     },
     "execution_count": 26,
     "metadata": {},
     "output_type": "execute_result"
    }
   ],
   "source": [
    "## [Series] index 미지정 생성하기\n",
    "import pandas as pd\n",
    "a = pd.Series([11, 22, 33, 44])  #index 자동 부여, 항목을 리스트 형태로 나열\n",
    "a"
   ]
  },
  {
   "cell_type": "code",
   "execution_count": 27,
   "id": "1219a299-43e1-4a6f-b1b6-e6e1c64fc46a",
   "metadata": {},
   "outputs": [
    {
     "data": {
      "text/plain": [
       "pandas.core.series.Series"
      ]
     },
     "execution_count": 27,
     "metadata": {},
     "output_type": "execute_result"
    }
   ],
   "source": [
    "type(a)"
   ]
  },
  {
   "cell_type": "code",
   "execution_count": 28,
   "id": "1f965600-b756-4aba-b67e-1fc475461cd0",
   "metadata": {},
   "outputs": [
    {
     "data": {
      "text/plain": [
       "1    11\n",
       "2    22\n",
       "3    33\n",
       "4    44\n",
       "dtype: int64"
      ]
     },
     "execution_count": 28,
     "metadata": {},
     "output_type": "execute_result"
    }
   ],
   "source": [
    "## [Series] 시리즈(Series) 형 ##\n",
    "## index 지정 생성하기\n",
    "b = pd.Series([11, 22, 33, 44], index = [1, 2, 3, 4])  #index 강제 부여\n",
    "b"
   ]
  },
  {
   "cell_type": "code",
   "execution_count": 29,
   "id": "696a6981-2bd8-4ca8-9f07-7fdcffb5d9fb",
   "metadata": {},
   "outputs": [
    {
     "data": {
      "text/plain": [
       "1    11\n",
       "2    22\n",
       "3    33\n",
       "4    44\n",
       "dtype: int64"
      ]
     },
     "execution_count": 29,
     "metadata": {},
     "output_type": "execute_result"
    }
   ],
   "source": [
    "## [Series] index 지정 생성하기\n",
    "data = {1 : 11, 2 : 22, 3 : 33, 4 : 44}\n",
    "b = pd.Series(data)  #딕셔너리로부터 시리즈 생성\n",
    "b"
   ]
  },
  {
   "cell_type": "markdown",
   "id": "82fa0ff4-db24-4c64-8235-ac1a50e79cc2",
   "metadata": {},
   "source": [
    "#### **추가/수정 하기**\n",
    "##### > index가 없으면 추가, 있으면 수정"
   ]
  },
  {
   "cell_type": "code",
   "execution_count": 76,
   "id": "e55b727b-2a6d-4952-a8e3-8330b3557514",
   "metadata": {},
   "outputs": [
    {
     "data": {
      "text/plain": [
       "0    11\n",
       "1    22\n",
       "2    33\n",
       "3    44\n",
       "4     9\n",
       "dtype: int64"
      ]
     },
     "execution_count": 76,
     "metadata": {},
     "output_type": "execute_result"
    }
   ],
   "source": [
    "## index=3에 9 할당\n",
    "a = pd.Series([11, 22, 33, 44])  #index 자동 부여\n",
    "a[4] = 9  #index가 없으면 추가, 있으면 수정\n",
    "a"
   ]
  },
  {
   "cell_type": "code",
   "execution_count": 79,
   "id": "ef73e863-eabf-4b44-b6f2-19ef77cde77e",
   "metadata": {},
   "outputs": [
    {
     "data": {
      "text/plain": [
       "1    11\n",
       "2    22\n",
       "3    33\n",
       "4     9\n",
       "dtype: int64"
      ]
     },
     "execution_count": 79,
     "metadata": {},
     "output_type": "execute_result"
    }
   ],
   "source": [
    "## index=3에 9 할당\n",
    "b = pd.Series([11, 22, 33, 44], index = [1, 2, 3, 4])  #index 강제 부여\n",
    "b[4] = 9    #index가 없으면 추가, 있으면 수정\n",
    "b"
   ]
  },
  {
   "cell_type": "code",
   "execution_count": 48,
   "id": "be84254f-532c-4884-9c19-eb7d4c445de9",
   "metadata": {},
   "outputs": [
    {
     "data": {
      "text/plain": [
       "Kor     11\n",
       "Eng     22\n",
       "Math    33\n",
       "Tot     99\n",
       "dtype: int64"
      ]
     },
     "execution_count": 48,
     "metadata": {},
     "output_type": "execute_result"
    }
   ],
   "source": [
    "## index='Tot'에 99 할당\n",
    "b = pd.Series([11, 22, 33, 44], index = ['Kor', 'Eng', 'Math', 'Tot'])  #index 강제 부여\n",
    "b['Tot'] = 99    #index가 없으면 추가, 있으면 수정\n",
    "b"
   ]
  },
  {
   "cell_type": "markdown",
   "id": "4f9573f5-7345-4b44-911e-386f15a68825",
   "metadata": {},
   "source": [
    "#### **추출 하기**"
   ]
  },
  {
   "cell_type": "code",
   "execution_count": 88,
   "id": "6af786ba-3ccd-4110-94de-d7731a59e12e",
   "metadata": {},
   "outputs": [
    {
     "name": "stdout",
     "output_type": "stream",
     "text": [
      "22\n",
      "1    22\n",
      "dtype: int64\n"
     ]
    }
   ],
   "source": [
    "## 시리즈(Series) 형 ##\n",
    "## 생성 및 추출\n",
    "a = pd.Series([11, 22, 33, 44])\n",
    "print(a[1])     #값으로 반환\n",
    "print(a[1:2])   #Serise 로 반환"
   ]
  },
  {
   "cell_type": "code",
   "execution_count": 17,
   "id": "fc5ddb06-629f-472f-9f8f-f6fc91b8df12",
   "metadata": {},
   "outputs": [
    {
     "name": "stdout",
     "output_type": "stream",
     "text": [
      "22\n",
      "22\n",
      "a    11\n",
      "b    22\n",
      "dtype: int64\n"
     ]
    },
    {
     "name": "stderr",
     "output_type": "stream",
     "text": [
      "C:\\Users\\ADMIN\\AppData\\Local\\Temp\\ipykernel_11524\\1303696067.py:3: FutureWarning: Series.__getitem__ treating keys as positions is deprecated. In a future version, integer keys will always be treated as labels (consistent with DataFrame behavior). To access a value by position, use `ser.iloc[pos]`\n",
      "  print(b[1])\n"
     ]
    }
   ],
   "source": [
    "## 생성 및 추출\n",
    "b = pd.Series([11, 22, 33, 44], index = ['a', 'b', 'c', 'd'])\n",
    "print(b[1])\n",
    "print(b['b'])   \n",
    "print(b[['a', 'b']])   #List로 검색, Serise로 반환"
   ]
  },
  {
   "cell_type": "markdown",
   "id": "0ba1e5bb-a41c-487e-a67d-3e12dc0c4780",
   "metadata": {},
   "source": [
    "#### **삭제하기**"
   ]
  },
  {
   "cell_type": "code",
   "execution_count": 18,
   "id": "70f5afbb-6ff7-4043-9520-233694c31260",
   "metadata": {},
   "outputs": [
    {
     "data": {
      "text/plain": [
       "a    11\n",
       "c    33\n",
       "d    44\n",
       "dtype: int64"
      ]
     },
     "execution_count": 18,
     "metadata": {},
     "output_type": "execute_result"
    }
   ],
   "source": [
    "b = pd.Series([11, 22, 33, 44], index = ['a', 'b', 'c', 'd'])\n",
    "del(b['b'])\n",
    "b"
   ]
  },
  {
   "cell_type": "code",
   "execution_count": 90,
   "id": "d1317f87-06b3-4dd8-bcc3-8298a2dfc14d",
   "metadata": {},
   "outputs": [
    {
     "name": "stdout",
     "output_type": "stream",
     "text": [
      "0    11\n",
      "1    22\n",
      "2    33\n",
      "3    44\n",
      "e    50\n",
      "dtype: int64\n",
      "0    11\n",
      "1    22\n",
      "2    33\n",
      "3    44\n",
      "e    55\n",
      "dtype: int64\n",
      "0    11\n",
      "1    22\n",
      "2    33\n",
      "3    44\n",
      "dtype: int64\n"
     ]
    }
   ],
   "source": [
    "## 시리즈 조작\n",
    "a = pd.Series([11, 22, 33, 44])\n",
    "\n",
    "a['e'] = 50;            #새로운 값 추가\n",
    "print(a)\n",
    "a['e'] = 55;            #새로운 값으로 변경\n",
    "print(a)\n",
    "del(a['e']);            #값 제거\n",
    "print(a)"
   ]
  },
  {
   "cell_type": "markdown",
   "id": "6a72d308-d278-41aa-8485-83acc3e503b1",
   "metadata": {},
   "source": [
    "#### **반복문으로 읽어내기**"
   ]
  },
  {
   "cell_type": "code",
   "execution_count": 30,
   "id": "af36e52e-642c-4815-9250-7e5dcc3951dd",
   "metadata": {},
   "outputs": [
    {
     "name": "stdout",
     "output_type": "stream",
     "text": [
      "11\n",
      "22\n",
      "33\n",
      "44\n"
     ]
    }
   ],
   "source": [
    "## 시리즈를 for 반복문으로 읽어내기\n",
    "a = pd.Series([11, 22, 33, 44])  #index 자동 부여\n",
    "for  x  in a:            #range() 대신에 적용\n",
    "\tprint(x)"
   ]
  },
  {
   "cell_type": "code",
   "execution_count": 31,
   "id": "370e1887-e97d-46f7-99a1-98daa32621ea",
   "metadata": {},
   "outputs": [
    {
     "name": "stdout",
     "output_type": "stream",
     "text": [
      "0 11\n",
      "1 22\n",
      "2 33\n",
      "3 44\n"
     ]
    }
   ],
   "source": [
    "## 시리즈를 for 반복문으로 읽어내기\n",
    "a = pd.Series([11, 22, 33, 44])  #index 자동 부여\n",
    "for  i, v  in a.items():            #range() 대신에 적용\n",
    "\tprint(i, v)"
   ]
  },
  {
   "cell_type": "markdown",
   "id": "242895a6-05cf-4912-acbf-ddfa43eac7fb",
   "metadata": {},
   "source": [
    "#### **`pandas` 함수의 출력 결과 활용하기**"
   ]
  },
  {
   "cell_type": "code",
   "execution_count": 32,
   "id": "d32a7809-b5df-4112-bcd1-4d75a481088f",
   "metadata": {},
   "outputs": [
    {
     "data": {
      "text/plain": [
       "11    1\n",
       "22    1\n",
       "33    1\n",
       "44    1\n",
       "Name: count, dtype: int64"
      ]
     },
     "execution_count": 32,
     "metadata": {},
     "output_type": "execute_result"
    }
   ],
   "source": [
    "## pandas 함수 활용\n",
    "import pandas as pd\n",
    "a = pd.Series([11, 22, 33, 44])  #index 자동 부여\n",
    "a.value_counts()  #항목별 분포 수"
   ]
  },
  {
   "cell_type": "code",
   "execution_count": 77,
   "id": "5a0d75a6-42ec-4a2a-96e3-bee171409021",
   "metadata": {},
   "outputs": [
    {
     "data": {
      "text/plain": [
       "110"
      ]
     },
     "execution_count": 77,
     "metadata": {},
     "output_type": "execute_result"
    }
   ],
   "source": [
    "a.sum()    #항목의 합"
   ]
  },
  {
   "cell_type": "code",
   "execution_count": 61,
   "id": "10351f8b-8b5c-4452-b6e0-946afa8e6240",
   "metadata": {},
   "outputs": [
    {
     "data": {
      "text/plain": [
       "27.5"
      ]
     },
     "execution_count": 61,
     "metadata": {},
     "output_type": "execute_result"
    }
   ],
   "source": [
    "a.mean()   #항목 평균"
   ]
  },
  {
   "cell_type": "code",
   "execution_count": 62,
   "id": "d6ed13e5-18d2-411d-bcbd-887e962832f1",
   "metadata": {},
   "outputs": [
    {
     "data": {
      "text/plain": [
       "44"
      ]
     },
     "execution_count": 62,
     "metadata": {},
     "output_type": "execute_result"
    }
   ],
   "source": [
    "a.max()    #최고값 항목"
   ]
  },
  {
   "cell_type": "code",
   "execution_count": 63,
   "id": "2ff96a15-d7fc-4bb5-b990-668c9a617dd6",
   "metadata": {},
   "outputs": [
    {
     "data": {
      "text/plain": [
       "11"
      ]
     },
     "execution_count": 63,
     "metadata": {},
     "output_type": "execute_result"
    }
   ],
   "source": [
    "a.min()    #최소값 항목"
   ]
  },
  {
   "cell_type": "code",
   "execution_count": null,
   "id": "707dedcc-dec6-4229-bf98-3376c54aed0f",
   "metadata": {},
   "outputs": [],
   "source": []
  },
  {
   "cell_type": "markdown",
   "id": "147fd340-5785-45fa-96cd-ae0fd85fcddf",
   "metadata": {},
   "source": [
    "### **[실습-4] List로 Series 만들기**\n",
    "##### > List를 랜덤 수로 초기화 함. (range는 0~9까지)\n",
    "##### > List의 길이는 30으로 함\n",
    "##### > 각 숫자의 빈도 수를 index로 하는 Series 구성"
   ]
  },
  {
   "cell_type": "code",
   "execution_count": 69,
   "id": "c66b4b14-c67c-47e9-8932-ccb283cbe371",
   "metadata": {},
   "outputs": [
    {
     "name": "stdout",
     "output_type": "stream",
     "text": [
      "[1, 5, 2, 4, 1, 7, 1, 8, 0, 2, 4, 8, 6, 5, 9, 0, 9, 5, 7, 4, 7, 0, 8, 0, 1, 1, 8, 3, 8, 2]\n",
      "0    4\n",
      "1    5\n",
      "2    3\n",
      "3    1\n",
      "4    3\n",
      "5    3\n",
      "6    1\n",
      "7    3\n",
      "8    5\n",
      "9    2\n",
      "dtype: int64\n"
     ]
    }
   ],
   "source": [
    "## 리스트(List) 형 : [ ] \n",
    "## [실습] List를 랜덤 수로 초기화 함\n",
    "## 랜덤 리스트 구성\n",
    "import random\n",
    "alist = []\n",
    "for _ in range(30):\n",
    "    x = random.randrange(0, 10)\n",
    "    alist.append(x)\n",
    "print(alist)\n",
    " \n",
    "# 인덱스 리스트 idx 만들기\n",
    "\n",
    "\n",
    "\n",
    "\n",
    "# 빈도 리스트 data 만들기\n",
    "\n",
    "\n",
    "\n",
    "   \n",
    "## pandas 패키지 활용 : 데이터 시리즈(2차원 자료 구조) 구성\n",
    "import pandas as pd\n",
    "ds = pd.Series(data, index = idx)\n",
    "print(ds)"
   ]
  },
  {
   "cell_type": "code",
   "execution_count": null,
   "id": "58269c16-9ffe-4e08-bac9-f8f44e57a22b",
   "metadata": {},
   "outputs": [],
   "source": [
    "## Series로 빈도수 그래프 그리기\n",
    "import seaborn as sns\n",
    "sns.countplot(x = ds)"
   ]
  },
  {
   "cell_type": "code",
   "execution_count": null,
   "id": "e54025a4-5da1-4eee-a220-2669d756a71a",
   "metadata": {},
   "outputs": [],
   "source": []
  },
  {
   "cell_type": "markdown",
   "id": "4cc06708-3fde-42ec-8930-3f1729a3e680",
   "metadata": {},
   "source": [
    "## **ㅇ데이터 프레임(Data Frame) 형** \n",
    "##### > 행과 열로 나열되는 **2차원적** 자료 구조\n",
    "##### > 행과 열 값들은 딕셔너리 구조를 활용하여 초기화 한다.\n",
    "##### > 하나의 열 값들은 시리즈형으로 추출하여 사용 가능하다.\n",
    "##### > pandas 패키지를 통해 사용할 수 있다."
   ]
  },
  {
   "cell_type": "markdown",
   "id": "c9f5554e-2d52-445b-8ccb-d3a1882f943e",
   "metadata": {},
   "source": [
    "#### **생성하기**"
   ]
  },
  {
   "cell_type": "code",
   "execution_count": 71,
   "id": "e717a37b-0e68-4c29-96e4-0f185f557754",
   "metadata": {},
   "outputs": [
    {
     "data": {
      "text/html": [
       "<div>\n",
       "<style scoped>\n",
       "    .dataframe tbody tr th:only-of-type {\n",
       "        vertical-align: middle;\n",
       "    }\n",
       "\n",
       "    .dataframe tbody tr th {\n",
       "        vertical-align: top;\n",
       "    }\n",
       "\n",
       "    .dataframe thead th {\n",
       "        text-align: right;\n",
       "    }\n",
       "</style>\n",
       "<table border=\"1\" class=\"dataframe\">\n",
       "  <thead>\n",
       "    <tr style=\"text-align: right;\">\n",
       "      <th></th>\n",
       "      <th>Eng</th>\n",
       "      <th>Mat</th>\n",
       "    </tr>\n",
       "  </thead>\n",
       "  <tbody>\n",
       "    <tr>\n",
       "      <th>0</th>\n",
       "      <td>87</td>\n",
       "      <td>80</td>\n",
       "    </tr>\n",
       "    <tr>\n",
       "      <th>1</th>\n",
       "      <td>79</td>\n",
       "      <td>90</td>\n",
       "    </tr>\n",
       "    <tr>\n",
       "      <th>2</th>\n",
       "      <td>80</td>\n",
       "      <td>80</td>\n",
       "    </tr>\n",
       "  </tbody>\n",
       "</table>\n",
       "</div>"
      ],
      "text/plain": [
       "   Eng  Mat\n",
       "0   87   80\n",
       "1   79   90\n",
       "2   80   80"
      ]
     },
     "execution_count": 71,
     "metadata": {},
     "output_type": "execute_result"
    }
   ],
   "source": [
    "## 데이터 프레임(Data Frame) 형 ##\n",
    "## 생성: index 자동 부여\n",
    "import pandas as pd\n",
    "df = pd.DataFrame({'Eng' : [87, 79, 80], #열명:열값에 해당\n",
    "\t\t\t\t'Mat' : [80, 90, 80]})   #행 index 자동 부여\n",
    "df"
   ]
  },
  {
   "cell_type": "code",
   "execution_count": 34,
   "id": "ae62edc9-904e-4286-95a7-48b186524346",
   "metadata": {},
   "outputs": [
    {
     "data": {
      "text/html": [
       "<div>\n",
       "<style scoped>\n",
       "    .dataframe tbody tr th:only-of-type {\n",
       "        vertical-align: middle;\n",
       "    }\n",
       "\n",
       "    .dataframe tbody tr th {\n",
       "        vertical-align: top;\n",
       "    }\n",
       "\n",
       "    .dataframe thead th {\n",
       "        text-align: right;\n",
       "    }\n",
       "</style>\n",
       "<table border=\"1\" class=\"dataframe\">\n",
       "  <thead>\n",
       "    <tr style=\"text-align: right;\">\n",
       "      <th></th>\n",
       "      <th>Eng</th>\n",
       "      <th>Mat</th>\n",
       "    </tr>\n",
       "  </thead>\n",
       "  <tbody>\n",
       "    <tr>\n",
       "      <th>Kims</th>\n",
       "      <td>87</td>\n",
       "      <td>80</td>\n",
       "    </tr>\n",
       "    <tr>\n",
       "      <th>Lees</th>\n",
       "      <td>79</td>\n",
       "      <td>90</td>\n",
       "    </tr>\n",
       "    <tr>\n",
       "      <th>Parks</th>\n",
       "      <td>80</td>\n",
       "      <td>80</td>\n",
       "    </tr>\n",
       "  </tbody>\n",
       "</table>\n",
       "</div>"
      ],
      "text/plain": [
       "       Eng  Mat\n",
       "Kims    87   80\n",
       "Lees    79   90\n",
       "Parks   80   80"
      ]
     },
     "execution_count": 34,
     "metadata": {},
     "output_type": "execute_result"
    }
   ],
   "source": [
    "## [Data Frame] 생성: index 강제 부여\n",
    "import pandas as pd\n",
    "df = pd.DataFrame({'Eng' : [87, 79, 80], \n",
    "\t\t\t\t'Mat' : [80, 90, 80]}, \n",
    "                index =  ['Kims', 'Lees', 'Parks'])  #index 강제 부여\n",
    "df"
   ]
  },
  {
   "cell_type": "markdown",
   "id": "33846943-14a9-42f4-be15-fd77e6645247",
   "metadata": {},
   "source": [
    "#### **추출하기**\n",
    "##### >Data Frame에서 변수를 추출하면 Serise형으로 반환"
   ]
  },
  {
   "cell_type": "code",
   "execution_count": 35,
   "id": "41497785-af00-4d26-a038-4bb2b9272e9d",
   "metadata": {},
   "outputs": [
    {
     "name": "stdout",
     "output_type": "stream",
     "text": [
      "<class 'pandas.core.series.Series'>\n"
     ]
    },
    {
     "data": {
      "text/plain": [
       "Kims     87\n",
       "Lees     79\n",
       "Parks    80\n",
       "Name: Eng, dtype: int64"
      ]
     },
     "execution_count": 35,
     "metadata": {},
     "output_type": "execute_result"
    }
   ],
   "source": [
    "## [Data Frame] 조작 : 열 추출\n",
    "x = df['Eng'];    # 'Eng'열 값들을 시리즈(Series)로 추출, 결과는 Series\n",
    "print(type(x))     \n",
    "x"
   ]
  },
  {
   "cell_type": "code",
   "execution_count": 36,
   "id": "6f962257-080d-42ca-a1f9-7b9d0a67dd14",
   "metadata": {},
   "outputs": [
    {
     "name": "stdout",
     "output_type": "stream",
     "text": [
      "<class 'pandas.core.frame.DataFrame'>\n"
     ]
    },
    {
     "data": {
      "text/html": [
       "<div>\n",
       "<style scoped>\n",
       "    .dataframe tbody tr th:only-of-type {\n",
       "        vertical-align: middle;\n",
       "    }\n",
       "\n",
       "    .dataframe tbody tr th {\n",
       "        vertical-align: top;\n",
       "    }\n",
       "\n",
       "    .dataframe thead th {\n",
       "        text-align: right;\n",
       "    }\n",
       "</style>\n",
       "<table border=\"1\" class=\"dataframe\">\n",
       "  <thead>\n",
       "    <tr style=\"text-align: right;\">\n",
       "      <th></th>\n",
       "      <th>Mat</th>\n",
       "      <th>Eng</th>\n",
       "    </tr>\n",
       "  </thead>\n",
       "  <tbody>\n",
       "    <tr>\n",
       "      <th>Kims</th>\n",
       "      <td>80</td>\n",
       "      <td>87</td>\n",
       "    </tr>\n",
       "    <tr>\n",
       "      <th>Lees</th>\n",
       "      <td>90</td>\n",
       "      <td>79</td>\n",
       "    </tr>\n",
       "    <tr>\n",
       "      <th>Parks</th>\n",
       "      <td>80</td>\n",
       "      <td>80</td>\n",
       "    </tr>\n",
       "  </tbody>\n",
       "</table>\n",
       "</div>"
      ],
      "text/plain": [
       "       Mat  Eng\n",
       "Kims    80   87\n",
       "Lees    90   79\n",
       "Parks   80   80"
      ]
     },
     "execution_count": 36,
     "metadata": {},
     "output_type": "execute_result"
    }
   ],
   "source": [
    "## [Data Frame] 조작 : 열 추출\n",
    "y = df[['Mat', 'Eng']]    # ['Mat', 'Eng']는 List, 결과는 Data Frame\n",
    "print(type(y))\n",
    "y "
   ]
  },
  {
   "cell_type": "markdown",
   "id": "2ef5df1d-8500-4e0e-887d-349dee969817",
   "metadata": {},
   "source": [
    "#### **추가/수정 하기**\n",
    "##### > index가 없으면 추가, 있으면 수정"
   ]
  },
  {
   "cell_type": "code",
   "execution_count": 37,
   "id": "43356304-b232-469e-ac0b-6f41af406482",
   "metadata": {},
   "outputs": [
    {
     "data": {
      "text/html": [
       "<div>\n",
       "<style scoped>\n",
       "    .dataframe tbody tr th:only-of-type {\n",
       "        vertical-align: middle;\n",
       "    }\n",
       "\n",
       "    .dataframe tbody tr th {\n",
       "        vertical-align: top;\n",
       "    }\n",
       "\n",
       "    .dataframe thead th {\n",
       "        text-align: right;\n",
       "    }\n",
       "</style>\n",
       "<table border=\"1\" class=\"dataframe\">\n",
       "  <thead>\n",
       "    <tr style=\"text-align: right;\">\n",
       "      <th></th>\n",
       "      <th>Eng</th>\n",
       "      <th>Mat</th>\n",
       "      <th>avg</th>\n",
       "    </tr>\n",
       "  </thead>\n",
       "  <tbody>\n",
       "    <tr>\n",
       "      <th>Kims</th>\n",
       "      <td>87</td>\n",
       "      <td>80</td>\n",
       "      <td>83.5</td>\n",
       "    </tr>\n",
       "    <tr>\n",
       "      <th>Lees</th>\n",
       "      <td>79</td>\n",
       "      <td>90</td>\n",
       "      <td>84.5</td>\n",
       "    </tr>\n",
       "    <tr>\n",
       "      <th>Parks</th>\n",
       "      <td>80</td>\n",
       "      <td>80</td>\n",
       "      <td>80.0</td>\n",
       "    </tr>\n",
       "  </tbody>\n",
       "</table>\n",
       "</div>"
      ],
      "text/plain": [
       "       Eng  Mat   avg\n",
       "Kims    87   80  83.5\n",
       "Lees    79   90  84.5\n",
       "Parks   80   80  80.0"
      ]
     },
     "execution_count": 37,
     "metadata": {},
     "output_type": "execute_result"
    }
   ],
   "source": [
    "## [Data Frame] 조작 : 열 추가\n",
    "df['avg'] = (df['Eng'] + df['Mat']) / 2            # 'avg'열을 만들어서 평균 값 추가\n",
    "df"
   ]
  },
  {
   "cell_type": "markdown",
   "id": "c2e6dc1e-5d37-4b35-9571-3437f90e60bf",
   "metadata": {},
   "source": [
    "#### **행, 열 제거하기**\n",
    "##### > .drop()"
   ]
  },
  {
   "cell_type": "code",
   "execution_count": 38,
   "id": "2f243d50-8dfd-4919-9226-1698a2954923",
   "metadata": {},
   "outputs": [
    {
     "data": {
      "text/html": [
       "<div>\n",
       "<style scoped>\n",
       "    .dataframe tbody tr th:only-of-type {\n",
       "        vertical-align: middle;\n",
       "    }\n",
       "\n",
       "    .dataframe tbody tr th {\n",
       "        vertical-align: top;\n",
       "    }\n",
       "\n",
       "    .dataframe thead th {\n",
       "        text-align: right;\n",
       "    }\n",
       "</style>\n",
       "<table border=\"1\" class=\"dataframe\">\n",
       "  <thead>\n",
       "    <tr style=\"text-align: right;\">\n",
       "      <th></th>\n",
       "      <th>Eng</th>\n",
       "      <th>Mat</th>\n",
       "    </tr>\n",
       "  </thead>\n",
       "  <tbody>\n",
       "    <tr>\n",
       "      <th>Kims</th>\n",
       "      <td>87</td>\n",
       "      <td>80</td>\n",
       "    </tr>\n",
       "    <tr>\n",
       "      <th>Parks</th>\n",
       "      <td>80</td>\n",
       "      <td>80</td>\n",
       "    </tr>\n",
       "  </tbody>\n",
       "</table>\n",
       "</div>"
      ],
      "text/plain": [
       "       Eng  Mat\n",
       "Kims    87   80\n",
       "Parks   80   80"
      ]
     },
     "execution_count": 38,
     "metadata": {},
     "output_type": "execute_result"
    }
   ],
   "source": [
    "## [Data Frame] 관련 함수 : 행, 열 제거\n",
    "ddf = df.drop( 'Lees', axis = 'rows')        # 행 이름으로 열 제거\n",
    "ddf = ddf.drop( 'avg', axis = 'columns')     # 컬럼 이름으로 컬럼 제거\n",
    "ddf"
   ]
  },
  {
   "cell_type": "markdown",
   "id": "bb6c6faa-0b40-49b7-97d6-240ddce33a74",
   "metadata": {},
   "source": [
    "#### **`pandas` 함수의 출력 결과 활용하기**"
   ]
  },
  {
   "cell_type": "code",
   "execution_count": 39,
   "id": "562054b9-c58f-4e92-a639-f1771dd113d0",
   "metadata": {},
   "outputs": [
    {
     "data": {
      "text/plain": [
       "Eng  Mat  avg \n",
       "79   90   84.5    1\n",
       "80   80   80.0    1\n",
       "87   80   83.5    1\n",
       "Name: count, dtype: int64"
      ]
     },
     "execution_count": 39,
     "metadata": {},
     "output_type": "execute_result"
    }
   ],
   "source": [
    "## [Data Frame] 관련 함수 사용\n",
    "df.value_counts()        # 행 값들의 개 수 구하기"
   ]
  },
  {
   "cell_type": "code",
   "execution_count": 40,
   "id": "91a25c4f-dcd0-4822-b9dd-0b93aa58c92e",
   "metadata": {},
   "outputs": [
    {
     "data": {
      "text/plain": [
       "Eng    82.000000\n",
       "Mat    83.333333\n",
       "avg    82.666667\n",
       "dtype: float64"
      ]
     },
     "execution_count": 40,
     "metadata": {},
     "output_type": "execute_result"
    }
   ],
   "source": [
    "df.mean()                 # 열 값들의 평균 구하기"
   ]
  },
  {
   "cell_type": "code",
   "execution_count": 41,
   "id": "66e3e09b-bc45-4e6a-afc6-afba7cd22439",
   "metadata": {},
   "outputs": [
    {
     "data": {
      "text/plain": [
       "83.33333333333333"
      ]
     },
     "execution_count": 41,
     "metadata": {},
     "output_type": "execute_result"
    }
   ],
   "source": [
    "## [Data Frame] 관련 함수 사용\n",
    "df['Mat'].mean()          # 'Mat'열 값들의 평균 구하기"
   ]
  },
  {
   "cell_type": "code",
   "execution_count": null,
   "id": "9cc74c7a-2492-4266-b968-920a814b3c81",
   "metadata": {},
   "outputs": [],
   "source": []
  },
  {
   "cell_type": "markdown",
   "id": "493028d7-5ed0-4abf-a862-b84c9799a883",
   "metadata": {},
   "source": [
    "#### **Data Frame으로 그래프 그리기**"
   ]
  },
  {
   "cell_type": "code",
   "execution_count": 42,
   "id": "b11fe01c-6472-4f5d-8003-fe3481c5415f",
   "metadata": {},
   "outputs": [
    {
     "name": "stderr",
     "output_type": "stream",
     "text": [
      "C:\\Users\\ADMIN\\anaconda3\\lib\\site-packages\\scipy\\__init__.py:155: UserWarning: A NumPy version >=1.18.5 and <1.25.0 is required for this version of SciPy (detected version 1.25.2\n",
      "  warnings.warn(f\"A NumPy version >={np_minversion} and <{np_maxversion}\"\n",
      "C:\\Users\\ADMIN\\anaconda3\\lib\\site-packages\\seaborn\\_oldcore.py:1498: FutureWarning: is_categorical_dtype is deprecated and will be removed in a future version. Use isinstance(dtype, CategoricalDtype) instead\n",
      "  if pd.api.types.is_categorical_dtype(vector):\n",
      "C:\\Users\\ADMIN\\anaconda3\\lib\\site-packages\\seaborn\\_oldcore.py:1498: FutureWarning: is_categorical_dtype is deprecated and will be removed in a future version. Use isinstance(dtype, CategoricalDtype) instead\n",
      "  if pd.api.types.is_categorical_dtype(vector):\n",
      "C:\\Users\\ADMIN\\anaconda3\\lib\\site-packages\\seaborn\\_oldcore.py:1498: FutureWarning: is_categorical_dtype is deprecated and will be removed in a future version. Use isinstance(dtype, CategoricalDtype) instead\n",
      "  if pd.api.types.is_categorical_dtype(vector):\n"
     ]
    },
    {
     "data": {
      "text/plain": [
       "<Axes: xlabel='Mat', ylabel='count'>"
      ]
     },
     "execution_count": 42,
     "metadata": {},
     "output_type": "execute_result"
    },
    {
     "data": {
      "image/png": "[encoded data removed]",
      "text/plain": [
       "<Figure size 640x480 with 1 Axes>"
      ]
     },
     "metadata": {},
     "output_type": "display_data"
    }
   ],
   "source": [
    "## [Data Frame] 그래프 그리기\n",
    "import seaborn as sns\n",
    "sns.countplot(data=df, x='Mat')"
   ]
  },
  {
   "cell_type": "code",
   "execution_count": null,
   "id": "3299e6d1-fc5e-40fa-befc-fb51b10afc8d",
   "metadata": {},
   "outputs": [],
   "source": [
    "## 함수 사용법 보기\n",
    "import pandas as pd\n",
    "pd.DataFrame?"
   ]
  },
  {
   "cell_type": "code",
   "execution_count": null,
   "id": "897c0975-0a97-43fa-ad7b-3d03ea09a0ed",
   "metadata": {},
   "outputs": [],
   "source": []
  },
  {
   "cell_type": "markdown",
   "id": "8da0c0b2-eba4-4982-ae27-b3e88ab7825a",
   "metadata": {},
   "source": [
    "### **[과제] 위의 [실습-0], [실습-1],[실습-2],[실습-3] 문제 해결하기**\n",
    "#### (해결한 결과를 Ch17_학번.ipynb 파일로 LMS에 첨부로 제출하세요.)\n",
    "##### [실습-0] 4행4열 리스트 초기화하기\n",
    "##### [실습-1] List로 막대 그래프 그리기 (응용)\n",
    "##### [실습-2] Tuple 항목 검색하기\n",
    "##### [실습-3] Dictionary 항목 검색하기"
   ]
  },
  {
   "cell_type": "code",
   "execution_count": null,
   "id": "eafac2f2-6173-45c8-9265-8e9cdee4569c",
   "metadata": {},
   "outputs": [],
   "source": []
  }
 ],
 "metadata": {
  "kernelspec": {
   "display_name": "Python 3 (ipykernel)",
   "language": "python",
   "name": "python3"
  },
  "language_info": {
   "codemirror_mode": {
    "name": "ipython",
    "version": 3
   },
   "file_extension": ".py",
   "mimetype": "text/x-python",
   "name": "python",
   "nbconvert_exporter": "python",
   "pygments_lexer": "ipython3",
   "version": "3.9.13"
  }
 },
 "nbformat": 4,
 "nbformat_minor": 5
}
