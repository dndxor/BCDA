{
 "cells": [
  {
   "cell_type": "markdown",
   "id": "3dc01538-9434-4fa4-8608-bea4a25f7cc7",
   "metadata": {},
   "source": [
    "# ㅇ 자료 구조(Data Structure)\n",
    "#### > 값을 임시로 저장할 수 있는 변수(Variable)의 모양\n",
    "#### > 자료 구조는 다양한 재료(Value)를 담을 수 있는 그릇(Memory) 역할을 한다.\n",
    "#### > 그릇에 담겨진 재료를 제대로 사용하려면 담겨진 형태를 잘 알아야 한다.\n",
    "\n",
    "\n",
    "# ㅇ Python 자료 구조 종류\n",
    "###  [내장 자료형]\n",
    "####   >> 스칼라(Scalar) 형\n",
    "####   >> 리스트(list) 형\n",
    "####   >> 튜플(Tuple) 형\n",
    "####   >> 딕셔너리(Dictionary) 형\n",
    "###  [외장 자료형] Pandas 자료형\n",
    "####   << 시리즈(Series) 형\n",
    "####   << 데이터 프레임(Data Frame) 형"
   ]
  },
  {
   "cell_type": "markdown",
   "id": "453a8df9-d897-41f4-9800-e3ff792956ac",
   "metadata": {},
   "source": [
    "\n",
    "# ▩ 스칼라(Scalar) 형\n",
    "#### > 하나의 값 만으로 구성된 자료 구조\n",
    "#### > Data Type : int, float, str, bool 등\n",
    "#### >관련 함수 : int(), float(), str(), bool()"
   ]
  },
  {
   "cell_type": "code",
   "execution_count": 8,
   "id": "6b7e1d39-18f4-449c-8663-d599fddd5e9c",
   "metadata": {},
   "outputs": [
    {
     "data": {
      "text/plain": [
       "int"
      ]
     },
     "execution_count": 8,
     "metadata": {},
     "output_type": "execute_result"
    }
   ],
   "source": [
    "## 스칼라(Scalar) 형 ##\n",
    "## 생성 및 초기화\n",
    "a = 3              #int형 자료 구조 생성 및 초기화\n",
    "type(a)        #자료구조 확인 "
   ]
  },
  {
   "cell_type": "code",
   "execution_count": 7,
   "id": "fa6487f7-a1da-4b68-ac4b-b017b3b5b413",
   "metadata": {},
   "outputs": [
    {
     "data": {
      "text/plain": [
       "float"
      ]
     },
     "execution_count": 7,
     "metadata": {},
     "output_type": "execute_result"
    }
   ],
   "source": [
    "b = 4.15       #float형 자료 구조 생성 및 초기화\n",
    "type(b) "
   ]
  },
  {
   "cell_type": "code",
   "execution_count": 6,
   "id": "e2c5d997-1a06-4f71-9891-2e1fd0ed8cd0",
   "metadata": {},
   "outputs": [
    {
     "data": {
      "text/plain": [
       "str"
      ]
     },
     "execution_count": 6,
     "metadata": {},
     "output_type": "execute_result"
    }
   ],
   "source": [
    "c = 'hello, world!'        #str형 자료 구조 생성 및 초기화\n",
    "type(c)   "
   ]
  },
  {
   "cell_type": "markdown",
   "id": "cdcdf373-9633-4b7d-9eb5-5d2df9e34e69",
   "metadata": {},
   "source": [
    "#### ㅇPython에서는 저장할 자료의 형태에 따라 자료 구조가 결정된다.\n",
    "####  > 같은 이름의 변수라 하더라도 대입하는 값의 형태가 달라지면, 변수의 자료 구조도 바뀜."
   ]
  },
  {
   "cell_type": "code",
   "execution_count": 4,
   "id": "3301cd4d-26b8-49c3-91be-c653fa2ca33b",
   "metadata": {},
   "outputs": [
    {
     "data": {
      "text/plain": [
       "int"
      ]
     },
     "execution_count": 4,
     "metadata": {},
     "output_type": "execute_result"
    }
   ],
   "source": [
    "a = 3\n",
    "type(a)"
   ]
  },
  {
   "cell_type": "code",
   "execution_count": 5,
   "id": "4dcdfb38-bc91-454f-834d-9886af2a8934",
   "metadata": {},
   "outputs": [
    {
     "data": {
      "text/plain": [
       "float"
      ]
     },
     "execution_count": 5,
     "metadata": {},
     "output_type": "execute_result"
    }
   ],
   "source": [
    "a = 3.14\n",
    "type(a)"
   ]
  },
  {
   "cell_type": "markdown",
   "id": "5d19649b-4c94-4b58-b2e2-c45d8f90e658",
   "metadata": {},
   "source": [
    "#### ㅇPython에서는 자료 구조가 모두 class 형태로 만들어진다."
   ]
  },
  {
   "cell_type": "code",
   "execution_count": 9,
   "id": "f105ed79-16e6-44ad-b07e-aa5403de78a1",
   "metadata": {},
   "outputs": [
    {
     "data": {
      "text/plain": [
       "'hello, world!'"
      ]
     },
     "execution_count": 9,
     "metadata": {},
     "output_type": "execute_result"
    }
   ],
   "source": [
    "c.lower()             # 'hello, world!'"
   ]
  },
  {
   "cell_type": "code",
   "execution_count": 10,
   "id": "94d70574-a96e-47c3-8df7-d9fc5050aa82",
   "metadata": {},
   "outputs": [
    {
     "data": {
      "text/plain": [
       "'HELLO, WORLD!'"
      ]
     },
     "execution_count": 10,
     "metadata": {},
     "output_type": "execute_result"
    }
   ],
   "source": [
    "c.upper()             # 'HELLO, WORLD!'"
   ]
  },
  {
   "cell_type": "code",
   "execution_count": 11,
   "id": "ca11812d-02ae-489b-8e32-8cdc99b2c390",
   "metadata": {},
   "outputs": [
    {
     "data": {
      "text/plain": [
       "'Hello, world!'"
      ]
     },
     "execution_count": 11,
     "metadata": {},
     "output_type": "execute_result"
    }
   ],
   "source": [
    "c.capitalize()        # 'Hello, world!'"
   ]
  },
  {
   "cell_type": "code",
   "execution_count": 13,
   "id": "34f8d95b-93b6-438b-84b2-522ae72ece79",
   "metadata": {},
   "outputs": [
    {
     "data": {
      "text/plain": [
       "'Hello, World!'"
      ]
     },
     "execution_count": 13,
     "metadata": {},
     "output_type": "execute_result"
    }
   ],
   "source": [
    "c.title()                    # 'Hello, World!'"
   ]
  },
  {
   "cell_type": "code",
   "execution_count": 14,
   "id": "218082b4-8711-482e-8597-dc8c101edb4d",
   "metadata": {},
   "outputs": [
    {
     "data": {
      "text/plain": [
       "'hello, world!!!'"
      ]
     },
     "execution_count": 14,
     "metadata": {},
     "output_type": "execute_result"
    }
   ],
   "source": [
    "c.replace('!', '!!!')    # 'Hello, World!!!'"
   ]
  },
  {
   "cell_type": "code",
   "execution_count": 15,
   "id": "43e758ec-c913-48d7-8f9c-eb0ee1e7b57e",
   "metadata": {},
   "outputs": [
    {
     "data": {
      "text/plain": [
       "5"
      ]
     },
     "execution_count": 15,
     "metadata": {},
     "output_type": "execute_result"
    }
   ],
   "source": [
    "c.find(',')                # 5"
   ]
  },
  {
   "cell_type": "code",
   "execution_count": 16,
   "id": "619956aa-2c9c-41c9-9271-8b11e87fd3c3",
   "metadata": {},
   "outputs": [
    {
     "data": {
      "text/plain": [
       "['hello', 'world!']"
      ]
     },
     "execution_count": 16,
     "metadata": {},
     "output_type": "execute_result"
    }
   ],
   "source": [
    "c.split(', ')              # ['Hello', 'World!']"
   ]
  },
  {
   "cell_type": "markdown",
   "id": "a01a0653-f9e3-49fc-8459-1007bc28b8be",
   "metadata": {},
   "source": [
    "### # Class는?\n",
    "#### > 객체(Object)를 생성하는데 사용하는 원형 틀에 해당한다.\n",
    "#### > Class는 자료 구조들과 그 구조들을 사용하는 기능(Function)들의 정의로 구성되어 있다.\n",
    "#### >Class를 사용해서 객체를 생성하면, Class에 정의된 자료 구조와 기능들을 상속 받아 객체가 사용할 수 있는 장점이 있다.\n",
    "#### >하나의 Class로 여러 개의 객체를 이름을 달리 하여 만들어 사용할 수 있다.\n",
    "#### >> 위 예제에서 \n",
    "#### c = 'hello, world!'     # 문자열 자료 구조에 해당하는 Class를 사용하여 객체 c를 만들어서 초기화 함.\n",
    "#### c.upper()                    # c 객체는 상속 받은 upper() 함수(원래는 메소드라고 함)를 사용하여 각 문자를 대문자로 바꿀 수 있다."
   ]
  },
  {
   "cell_type": "code",
   "execution_count": null,
   "id": "229ca9bc-b4d5-41c0-b952-608e14a06a08",
   "metadata": {},
   "outputs": [],
   "source": []
  },
  {
   "cell_type": "markdown",
   "id": "40c59133-a6ad-4c3f-97e2-2dc71a8ce6f9",
   "metadata": {},
   "source": [
    "# ▩ 비 스칼라 형\n",
    "#### > 여러 개의 값을 사용할 수 있도록 구성된 자료 구조\n",
    "#### > Data Type : list, tuple, dictionary\n",
    "#### > 관련 함수 : list(), tuple(), dict()"
   ]
  },
  {
   "cell_type": "code",
   "execution_count": null,
   "id": "29972fee-2b56-445a-8a29-b7de58dcd5f6",
   "metadata": {},
   "outputs": [],
   "source": []
  },
  {
   "cell_type": "markdown",
   "id": "1261e94f-ded3-4eba-a6f6-2611eee17149",
   "metadata": {},
   "source": [
    "## ㅇ리스트(List) 형 : [ ]\n",
    "#### > 여러 개의 값들을 나열된 자료 구조\n",
    "#### > 기본적으로 순서번호(Index)로 값에 접근\n",
    "#### > 값의 삽입, 삭제가 가능하다.\n",
    "#### > 각 값들은 [와 ] 안에 ,로 구분하여 초기화 한다."
   ]
  },
  {
   "cell_type": "code",
   "execution_count": 8,
   "id": "acbe6ede-b8b0-4765-a5d3-f8c69c34d47e",
   "metadata": {},
   "outputs": [
    {
     "name": "stdout",
     "output_type": "stream",
     "text": [
      "1\n",
      "b\n",
      "['a']\n",
      "['a', 'b']\n",
      "[1, 2]\n"
     ]
    }
   ],
   "source": [
    "## 리스트(List) 형 : [ ] ##\n",
    "## 생성 및 검색\n",
    "a = [1, 2, 'a', 'b']              #리스트 생성 및 초기화\n",
    "print(a[0])   #리스트는 0번째부터 시작\n",
    "print(a[-1])  #거꾸로 첫 번째\n",
    "print(a[2:3]) #2번째부터 3번째 전까지\n",
    "print(a[2:])  #2번째부터 끝까지\n",
    "print(a[:2])  #처음부터 2번째 전까지"
   ]
  },
  {
   "cell_type": "code",
   "execution_count": 5,
   "id": "3810dd26-84b8-4679-8981-7be0db7b7155",
   "metadata": {},
   "outputs": [
    {
     "data": {
      "text/plain": [
       "[1, 2, 'a', 'b', 'c']"
      ]
     },
     "execution_count": 5,
     "metadata": {},
     "output_type": "execute_result"
    }
   ],
   "source": [
    "## 생성 및 조작\n",
    "a.append('c')        #맨 마지막에 'c'를 추가     \n",
    "a.insert(2, 3)       #2번째에 값 3을 추가\n",
    "a.remove(3)          #3을 찾아 제거\n",
    "a.index('a')         #'a'의 위치 값 반환\n",
    "a"
   ]
  },
  {
   "cell_type": "code",
   "execution_count": 10,
   "id": "50d90cf1-db8d-4024-bff2-fd8f362d3373",
   "metadata": {},
   "outputs": [
    {
     "data": {
      "text/plain": [
       "[1, 2, 3, 5, 7, 8]"
      ]
     },
     "execution_count": 10,
     "metadata": {},
     "output_type": "execute_result"
    }
   ],
   "source": [
    "## 관련 함수: 정렬\n",
    "a = [5, 3, 7, 8, 2, 1]\n",
    "asort = sorted(a)    # 값들을 정렬\n",
    "a\n",
    "asort"
   ]
  },
  {
   "cell_type": "code",
   "execution_count": 11,
   "id": "184a320c-4e9e-4167-8a3c-47b71a60afc9",
   "metadata": {},
   "outputs": [
    {
     "data": {
      "text/plain": [
       "5"
      ]
     },
     "execution_count": 11,
     "metadata": {},
     "output_type": "execute_result"
    }
   ],
   "source": [
    "## 관련 함수: 제거, 갯 수\n",
    "del(a[1])                #1번째 값을 제거\n",
    "a\n",
    "len(a)"
   ]
  },
  {
   "cell_type": "code",
   "execution_count": 21,
   "id": "bfae5f3b-624b-46c9-9084-57dad8a58ff6",
   "metadata": {},
   "outputs": [
    {
     "name": "stdout",
     "output_type": "stream",
     "text": [
      "1\n",
      "2\n",
      "a\n",
      "b\n"
     ]
    }
   ],
   "source": [
    "## 리스트 읽어내기\n",
    "a = [1, 2, 'a', 'b']     #리스트 생성 및 초기화\n",
    "for  x  in a:            #range() 대신에 리스트 자료 적\n",
    "\tprint(x)"
   ]
  },
  {
   "cell_type": "code",
   "execution_count": 7,
   "id": "291630b1-a0f4-4548-8fc9-3af6cfb23fc7",
   "metadata": {},
   "outputs": [
    {
     "name": "stdout",
     "output_type": "stream",
     "text": [
      "A 90\n",
      "A 90\n",
      "B 80\n",
      "C 70\n"
     ]
    }
   ],
   "source": [
    "## 리스트 언팩킹(unpacking)\n",
    "a = [['A', 90], ['B', 80], ['C', 70]]\n",
    "x1, x2 = a[0]  #unpacking\n",
    "print(x1, x2)\n",
    "\n",
    "for  x1, x2  in a:   #unpacking 반복\n",
    "    print(x1, x2)"
   ]
  },
  {
   "cell_type": "markdown",
   "id": "75a6ea46-ff32-4e94-a40d-bc987e0530eb",
   "metadata": {},
   "source": [
    "## ㅇ튜플(Tuple) 형 : ( )\n",
    "#### > 리스트와 같이 여러 개의 값들을 나열된 자료 구조\n",
    "#### > 리스트와 다르게 한 번 초기화된 자료는 수정할 수 없다.\n",
    "#### > 고정된 값을 미리 정렬시켜서 튜플로 만들어 놓고 사용하면 검색 속도 빨라짐."
   ]
  },
  {
   "cell_type": "code",
   "execution_count": 9,
   "id": "9a4b7e06-55d7-4a74-892b-ee395180f994",
   "metadata": {},
   "outputs": [
    {
     "data": {
      "text/plain": [
       "[2, (3, 4), (3, 4, 5), (1, 2)]"
      ]
     },
     "execution_count": 9,
     "metadata": {},
     "output_type": "execute_result"
    }
   ],
   "source": [
    "## 튜플(Tuple) 형 : ( ) ##\n",
    "## 생성 및 검색\n",
    "a = (1, 2, 3, 4, 5)             #튜플의 생성 및 초기화\n",
    "[a[1], a[2:4], a[2:], a[:2] ]"
   ]
  },
  {
   "cell_type": "code",
   "execution_count": 6,
   "id": "a57f97b4-3add-40f7-830d-0d845aa730c2",
   "metadata": {},
   "outputs": [
    {
     "data": {
      "text/plain": [
       "[10, 20, 30]"
      ]
     },
     "execution_count": 6,
     "metadata": {},
     "output_type": "execute_result"
    }
   ],
   "source": [
    "b = 10, 20, 30    #튜플의 패킹(Packing)  \n",
    "x, y, z = b       #튜플의 언패킹(Unpacking)  \n",
    "[x, y, z]"
   ]
  },
  {
   "cell_type": "code",
   "execution_count": 12,
   "id": "2f9093be-59f7-4e1f-8de6-c44520d2684c",
   "metadata": {},
   "outputs": [
    {
     "name": "stdout",
     "output_type": "stream",
     "text": [
      "1\n",
      "2\n",
      "3\n",
      "4\n",
      "5\n"
     ]
    }
   ],
   "source": [
    "## 튜플 값 for 반복문으로 읽어내기\n",
    "a = (1, 2, 3, 4, 5)      #튜플의 생성 및 초기화\n",
    "for  x  in a:            #range() 대신에 튜플 자료 적용\n",
    "\tprint(x)"
   ]
  },
  {
   "cell_type": "code",
   "execution_count": 9,
   "id": "b47f7e70-9c5a-4d9a-991b-281fe7194c4e",
   "metadata": {},
   "outputs": [
    {
     "name": "stdout",
     "output_type": "stream",
     "text": [
      " A+ : 100 ~ 95\n",
      "  A :  94 ~ 90\n",
      " B+ :  89 ~ 85\n",
      "  B :  84 ~ 80\n",
      " C+ :  79 ~ 75\n",
      "  C :  74 ~ 70\n",
      " D+ :  69 ~ 65\n",
      "  D :  64 ~ 60\n",
      "  F :  59 ~  0\n"
     ]
    }
   ],
   "source": [
    "## 튜플 적용 사례\n",
    "grades = ([\"A+\", [100, 95]], [\"A\", [94, 90]], [\"B+\", [89, 85]], [\"B\", [84, 80]],\n",
    "          [\"C+\", [79, 75]], [\"C\", [74, 70]], [\"D+\", [69, 65]], [\"D\", [64, 60]],\n",
    "          [\"F\", [59, 0]])\n",
    "for grade, zone in grades:\n",
    "    print(\"%3s : %3d ~ %2d\" %(grade, zone[0], zone[1]))"
   ]
  },
  {
   "cell_type": "markdown",
   "id": "4fc65691-ce16-478f-9317-b5005604ebb1",
   "metadata": {},
   "source": [
    "## ㅇ딕셔너리(Dictionary) 형 : { }\n",
    "#### > 키(Key)와 대응되는 값(Value)이 짝을 이루어 나열된 자료 구조\n",
    "#### > 값의 삽입, 삭제가 가능하다.\n",
    "#### > 순서번호(Index) 대신에 키 값으로 값에 접근"
   ]
  },
  {
   "cell_type": "code",
   "execution_count": 16,
   "id": "c8a5e9c6-5c04-49dc-b744-7d012d345ae8",
   "metadata": {},
   "outputs": [
    {
     "data": {
      "text/plain": [
       "70"
      ]
     },
     "execution_count": 16,
     "metadata": {},
     "output_type": "execute_result"
    }
   ],
   "source": [
    "## 딕셔너리(Dictionary) 형 : { } ##\n",
    "## 생성 및 검색\n",
    "a = {'A':90, 'B':80, 'C':70, 'D':60}        #딕셔너리 생성 및 초기화\n",
    "a['C']"
   ]
  },
  {
   "cell_type": "code",
   "execution_count": 17,
   "id": "de962cb5-ae8a-4e7b-a041-628174f79a9c",
   "metadata": {},
   "outputs": [
    {
     "data": {
      "text/plain": [
       "{'A': 90, 'B': 80, 'C': 70, 'D': 60, 'F': 40}"
      ]
     },
     "execution_count": 17,
     "metadata": {},
     "output_type": "execute_result"
    }
   ],
   "source": [
    "## 조작\n",
    "a['F'] = 40         #딕셔너리 항목 추가\n",
    "a "
   ]
  },
  {
   "cell_type": "code",
   "execution_count": 18,
   "id": "1af80862-7b70-478e-8113-855db5450a04",
   "metadata": {},
   "outputs": [
    {
     "data": {
      "text/plain": [
       "{'A': 90, 'B': 80, 'C': 70, 'D': 60}"
      ]
     },
     "execution_count": 18,
     "metadata": {},
     "output_type": "execute_result"
    }
   ],
   "source": [
    "## 관련 함수\n",
    "del(a['F'])          #딕셔너리 항목 제거\n",
    "a"
   ]
  },
  {
   "cell_type": "code",
   "execution_count": 19,
   "id": "0d2cc0de-f9ef-4a97-8677-01a1a6571c94",
   "metadata": {},
   "outputs": [
    {
     "data": {
      "text/plain": [
       "dict_items([('A', 90), ('B', 80), ('C', 70), ('D', 60)])"
      ]
     },
     "execution_count": 19,
     "metadata": {},
     "output_type": "execute_result"
    }
   ],
   "source": [
    "## 관련 함수\n",
    "a.keys()                #키 값만 추출\n",
    "a.values()              #값만 추출\n",
    "a.items()              #키와 값을 추출"
   ]
  },
  {
   "cell_type": "code",
   "execution_count": 22,
   "id": "bdc67978-2d36-456f-a030-d3551ee684ec",
   "metadata": {},
   "outputs": [
    {
     "name": "stdout",
     "output_type": "stream",
     "text": [
      "A\n",
      "B\n",
      "C\n",
      "D\n"
     ]
    }
   ],
   "source": [
    "## 반복문으로 키 읽어내기\n",
    "for  x  in a.keys():   #키 읽어내기\n",
    "\tprint(x)"
   ]
  },
  {
   "cell_type": "code",
   "execution_count": 23,
   "id": "1afdab71-18d4-435c-84d5-fc30701f6bc4",
   "metadata": {},
   "outputs": [
    {
     "name": "stdout",
     "output_type": "stream",
     "text": [
      "90\n",
      "80\n",
      "70\n",
      "60\n"
     ]
    }
   ],
   "source": [
    "## 반복문으로 값 읽어내기\n",
    "for  x  in a.values():            #range() 대신에 적용\n",
    "\tprint(x)"
   ]
  },
  {
   "cell_type": "code",
   "execution_count": 24,
   "id": "aa768c7c-ab0f-4bec-9193-8d9dcaf05030",
   "metadata": {},
   "outputs": [
    {
     "name": "stdout",
     "output_type": "stream",
     "text": [
      "('A', 90)\n",
      "('B', 80)\n",
      "('C', 70)\n",
      "('D', 60)\n"
     ]
    }
   ],
   "source": [
    "## 반복문으로 키, 값 읽어내기\n",
    "for  x  in a.items():            #range() 대신에 적용\n",
    "\tprint(x)"
   ]
  },
  {
   "cell_type": "markdown",
   "id": "eee7933c-2023-45a7-a06a-ba4205b07d78",
   "metadata": {},
   "source": [
    "# ▩ 외장 pandas 자료형\n",
    "#### > pandas라는 패키지를 import 해서 사용 가능한 추가 자료 구조\n",
    "#### > Data Type : series, dataframe\n",
    "#### > 관련 함수 : Series(), DataFrame()"
   ]
  },
  {
   "cell_type": "markdown",
   "id": "4d235636-4f19-4a3e-9828-ab9cb0ae57e4",
   "metadata": {},
   "source": [
    "## ㅇ시리즈(Series) 형\n",
    "#### > 여러 값을 나열한 자료 구조\n",
    "#### > 데이터 프레임의 데이터을 구성하는 열 값들을 시리즈로 추출하여 조작할 수 있다.\n",
    "#### > pandas 패키지를 통해 사용할 수 있다."
   ]
  },
  {
   "cell_type": "code",
   "execution_count": 25,
   "id": "deef8c0c-59d7-4f32-92fa-233e3d89af13",
   "metadata": {},
   "outputs": [
    {
     "data": {
      "text/plain": [
       "[22,\n",
       " 1    22\n",
       " 2    33\n",
       " dtype: int64,\n",
       " 2    33\n",
       " 3    44\n",
       " dtype: int64,\n",
       " 0    11\n",
       " 1    22\n",
       " dtype: int64]"
      ]
     },
     "execution_count": 25,
     "metadata": {},
     "output_type": "execute_result"
    }
   ],
   "source": [
    "## 시리즈(Series) 형 ##\n",
    "## 생성 및 검색\n",
    "import pandas as pd\n",
    "a = pd.Series([11, 22, 33, 44])\n",
    "[a[1], a[1:3], a[2:], a[:2] ]"
   ]
  },
  {
   "cell_type": "code",
   "execution_count": 28,
   "id": "280c51ec-306e-43c3-9dc0-f25e5efd2779",
   "metadata": {},
   "outputs": [
    {
     "data": {
      "text/plain": [
       "[22, 22]"
      ]
     },
     "execution_count": 28,
     "metadata": {},
     "output_type": "execute_result"
    }
   ],
   "source": [
    "## 시리즈 조작\n",
    "a = pd.Series([11, 22, 33, 44], index = ['a', 'b', 'c', 'd'])\n",
    "[ a[1], a['b'] ]    "
   ]
  },
  {
   "cell_type": "code",
   "execution_count": 29,
   "id": "6e1f43cb-87e0-4d7c-9f20-5ae33c0eaacc",
   "metadata": {},
   "outputs": [
    {
     "data": {
      "text/plain": [
       "11"
      ]
     },
     "execution_count": 29,
     "metadata": {},
     "output_type": "execute_result"
    }
   ],
   "source": [
    "a.loc['a']        # location(지정한 index 값)으로 접근        \n",
    "a.iloc[0]         #location의 순서 번호(index)로 접근"
   ]
  },
  {
   "cell_type": "code",
   "execution_count": 30,
   "id": "830953ab-5e92-4a4f-8a73-6bd9b976617d",
   "metadata": {},
   "outputs": [
    {
     "data": {
      "text/plain": [
       "a    11\n",
       "b    22\n",
       "c    33\n",
       "d    44\n",
       "e    50\n",
       "dtype: int64"
      ]
     },
     "execution_count": 30,
     "metadata": {},
     "output_type": "execute_result"
    }
   ],
   "source": [
    "a['e'] = 50;            #새로운 값 추가\n",
    "a"
   ]
  },
  {
   "cell_type": "code",
   "execution_count": 31,
   "id": "601f1e3c-4f37-42bf-8f05-461c9b9faee5",
   "metadata": {},
   "outputs": [
    {
     "data": {
      "text/plain": [
       "a    11\n",
       "b    22\n",
       "c    33\n",
       "d    44\n",
       "e    55\n",
       "dtype: int64"
      ]
     },
     "execution_count": 31,
     "metadata": {},
     "output_type": "execute_result"
    }
   ],
   "source": [
    "a['e'] = 55;            #새로운 값으로 변경\n",
    "a"
   ]
  },
  {
   "cell_type": "code",
   "execution_count": 32,
   "id": "8cb92565-b2b0-4b7a-a5d3-b54394f20d79",
   "metadata": {},
   "outputs": [
    {
     "data": {
      "text/plain": [
       "a    11\n",
       "b    22\n",
       "c    33\n",
       "d    44\n",
       "dtype: int64"
      ]
     },
     "execution_count": 32,
     "metadata": {},
     "output_type": "execute_result"
    }
   ],
   "source": [
    "del(a['e']);            #값 제거\n",
    "a"
   ]
  },
  {
   "cell_type": "code",
   "execution_count": 33,
   "id": "aef1b01e-ab5c-4aaa-806d-53a20d218b5d",
   "metadata": {},
   "outputs": [
    {
     "name": "stdout",
     "output_type": "stream",
     "text": [
      "11\n",
      "22\n",
      "33\n",
      "44\n"
     ]
    }
   ],
   "source": [
    "## 시리즈를 for 반복문으로 읽어내기\n",
    "for  x  in a:            #range() 대신에 적용\n",
    "\tprint(x)"
   ]
  },
  {
   "cell_type": "markdown",
   "id": "39a2a6be-2c57-4b12-9039-0bb1ce312c32",
   "metadata": {},
   "source": [
    "# ㅇ데이터 프레임(Data Frame) 형 \n",
    "#### > 행과 열로 나열되는  2차원적 자료 구조\n",
    "#### > 행과 열 값들은 딕셔너리 구조를 활용하여 초기화 한다.\n",
    "#### > 하나의 열 값들은 시리즈형으로 추출하여 사용 가능하다.\n",
    "#### > pandas 패키지를 통해 사용할 수 있다."
   ]
  },
  {
   "cell_type": "code",
   "execution_count": 34,
   "id": "7d09f013-921b-422e-83ef-b2c4be966990",
   "metadata": {},
   "outputs": [
    {
     "data": {
      "text/html": [
       "<div>\n",
       "<style scoped>\n",
       "    .dataframe tbody tr th:only-of-type {\n",
       "        vertical-align: middle;\n",
       "    }\n",
       "\n",
       "    .dataframe tbody tr th {\n",
       "        vertical-align: top;\n",
       "    }\n",
       "\n",
       "    .dataframe thead th {\n",
       "        text-align: right;\n",
       "    }\n",
       "</style>\n",
       "<table border=\"1\" class=\"dataframe\">\n",
       "  <thead>\n",
       "    <tr style=\"text-align: right;\">\n",
       "      <th></th>\n",
       "      <th>Eng</th>\n",
       "      <th>Mat</th>\n",
       "    </tr>\n",
       "  </thead>\n",
       "  <tbody>\n",
       "    <tr>\n",
       "      <th>0</th>\n",
       "      <td>87</td>\n",
       "      <td>80</td>\n",
       "    </tr>\n",
       "    <tr>\n",
       "      <th>1</th>\n",
       "      <td>79</td>\n",
       "      <td>90</td>\n",
       "    </tr>\n",
       "    <tr>\n",
       "      <th>2</th>\n",
       "      <td>80</td>\n",
       "      <td>86</td>\n",
       "    </tr>\n",
       "  </tbody>\n",
       "</table>\n",
       "</div>"
      ],
      "text/plain": [
       "   Eng  Mat\n",
       "0   87   80\n",
       "1   79   90\n",
       "2   80   86"
      ]
     },
     "execution_count": 34,
     "metadata": {},
     "output_type": "execute_result"
    }
   ],
   "source": [
    "## 데이터 프레임(Data Frame) 형 ##\n",
    "## 생성 및 검색\n",
    "import pandas as pd\n",
    "df = pd.DataFrame({'Eng' : [87, 79, 80], \n",
    "\t\t\t\t'Mat' : [80, 90, 86]})\n",
    "df"
   ]
  },
  {
   "cell_type": "code",
   "execution_count": 36,
   "id": "7a73970b-2643-40fb-99a4-f241bdf0173d",
   "metadata": {},
   "outputs": [
    {
     "data": {
      "text/html": [
       "<div>\n",
       "<style scoped>\n",
       "    .dataframe tbody tr th:only-of-type {\n",
       "        vertical-align: middle;\n",
       "    }\n",
       "\n",
       "    .dataframe tbody tr th {\n",
       "        vertical-align: top;\n",
       "    }\n",
       "\n",
       "    .dataframe thead th {\n",
       "        text-align: right;\n",
       "    }\n",
       "</style>\n",
       "<table border=\"1\" class=\"dataframe\">\n",
       "  <thead>\n",
       "    <tr style=\"text-align: right;\">\n",
       "      <th></th>\n",
       "      <th>Eng</th>\n",
       "      <th>Mat</th>\n",
       "    </tr>\n",
       "  </thead>\n",
       "  <tbody>\n",
       "    <tr>\n",
       "      <th>Kims</th>\n",
       "      <td>87</td>\n",
       "      <td>80</td>\n",
       "    </tr>\n",
       "    <tr>\n",
       "      <th>Lees</th>\n",
       "      <td>79</td>\n",
       "      <td>90</td>\n",
       "    </tr>\n",
       "    <tr>\n",
       "      <th>Parks</th>\n",
       "      <td>80</td>\n",
       "      <td>86</td>\n",
       "    </tr>\n",
       "  </tbody>\n",
       "</table>\n",
       "</div>"
      ],
      "text/plain": [
       "       Eng  Mat\n",
       "Kims    87   80\n",
       "Lees    79   90\n",
       "Parks   80   86"
      ]
     },
     "execution_count": 36,
     "metadata": {},
     "output_type": "execute_result"
    }
   ],
   "source": [
    "## 생성 및 조작\n",
    "df = pd.DataFrame({'Eng' : [87, 79, 80], \n",
    "\t\t\t\t'Mat' : [80, 90, 86]}, \n",
    "                index =  ['Kims', 'Lees', 'Parks'])\n",
    "df"
   ]
  },
  {
   "cell_type": "code",
   "execution_count": 37,
   "id": "79f30451-0860-4fd8-8051-aaf7553b3a40",
   "metadata": {},
   "outputs": [
    {
     "data": {
      "text/plain": [
       "Kims     87\n",
       "Lees     79\n",
       "Parks    80\n",
       "Name: Eng, dtype: int64"
      ]
     },
     "execution_count": 37,
     "metadata": {},
     "output_type": "execute_result"
    }
   ],
   "source": [
    "x = df['Eng'];            # 'Eng'열 값들을 시리즈로 추출\n",
    "x"
   ]
  },
  {
   "cell_type": "code",
   "execution_count": 38,
   "id": "5130d62f-e184-47a5-a5b6-948b4613ec09",
   "metadata": {},
   "outputs": [
    {
     "data": {
      "text/html": [
       "<div>\n",
       "<style scoped>\n",
       "    .dataframe tbody tr th:only-of-type {\n",
       "        vertical-align: middle;\n",
       "    }\n",
       "\n",
       "    .dataframe tbody tr th {\n",
       "        vertical-align: top;\n",
       "    }\n",
       "\n",
       "    .dataframe thead th {\n",
       "        text-align: right;\n",
       "    }\n",
       "</style>\n",
       "<table border=\"1\" class=\"dataframe\">\n",
       "  <thead>\n",
       "    <tr style=\"text-align: right;\">\n",
       "      <th></th>\n",
       "      <th>Eng</th>\n",
       "      <th>Mat</th>\n",
       "      <th>avg</th>\n",
       "    </tr>\n",
       "  </thead>\n",
       "  <tbody>\n",
       "    <tr>\n",
       "      <th>Kims</th>\n",
       "      <td>87</td>\n",
       "      <td>80</td>\n",
       "      <td>83.5</td>\n",
       "    </tr>\n",
       "    <tr>\n",
       "      <th>Lees</th>\n",
       "      <td>79</td>\n",
       "      <td>90</td>\n",
       "      <td>84.5</td>\n",
       "    </tr>\n",
       "    <tr>\n",
       "      <th>Parks</th>\n",
       "      <td>80</td>\n",
       "      <td>86</td>\n",
       "      <td>83.0</td>\n",
       "    </tr>\n",
       "  </tbody>\n",
       "</table>\n",
       "</div>"
      ],
      "text/plain": [
       "       Eng  Mat   avg\n",
       "Kims    87   80  83.5\n",
       "Lees    79   90  84.5\n",
       "Parks   80   86  83.0"
      ]
     },
     "execution_count": 38,
     "metadata": {},
     "output_type": "execute_result"
    }
   ],
   "source": [
    "df['avg'] = (df['Eng'] + df['Mat']) / 2            # 'avg'열을 만들어서 평균 값 추가\n",
    "df"
   ]
  },
  {
   "cell_type": "code",
   "execution_count": 39,
   "id": "85727a7f-f44f-42f9-9936-58815801cbd0",
   "metadata": {},
   "outputs": [
    {
     "data": {
      "text/html": [
       "<div>\n",
       "<style scoped>\n",
       "    .dataframe tbody tr th:only-of-type {\n",
       "        vertical-align: middle;\n",
       "    }\n",
       "\n",
       "    .dataframe tbody tr th {\n",
       "        vertical-align: top;\n",
       "    }\n",
       "\n",
       "    .dataframe thead th {\n",
       "        text-align: right;\n",
       "    }\n",
       "</style>\n",
       "<table border=\"1\" class=\"dataframe\">\n",
       "  <thead>\n",
       "    <tr style=\"text-align: right;\">\n",
       "      <th></th>\n",
       "      <th>Mat</th>\n",
       "      <th>Eng</th>\n",
       "      <th>avg</th>\n",
       "    </tr>\n",
       "  </thead>\n",
       "  <tbody>\n",
       "    <tr>\n",
       "      <th>Kims</th>\n",
       "      <td>80</td>\n",
       "      <td>87</td>\n",
       "      <td>83.5</td>\n",
       "    </tr>\n",
       "    <tr>\n",
       "      <th>Lees</th>\n",
       "      <td>90</td>\n",
       "      <td>79</td>\n",
       "      <td>84.5</td>\n",
       "    </tr>\n",
       "    <tr>\n",
       "      <th>Parks</th>\n",
       "      <td>86</td>\n",
       "      <td>80</td>\n",
       "      <td>83.0</td>\n",
       "    </tr>\n",
       "  </tbody>\n",
       "</table>\n",
       "</div>"
      ],
      "text/plain": [
       "       Mat  Eng   avg\n",
       "Kims    80   87  83.5\n",
       "Lees    90   79  84.5\n",
       "Parks   86   80  83.0"
      ]
     },
     "execution_count": 39,
     "metadata": {},
     "output_type": "execute_result"
    }
   ],
   "source": [
    "df = df[['Mat', 'Eng', 'avg']]               # 원하는 컬럼 순으로 재정렬\n",
    "df "
   ]
  },
  {
   "cell_type": "code",
   "execution_count": 43,
   "id": "c59e396a-d9da-4d8f-b141-8b5fb579f700",
   "metadata": {},
   "outputs": [
    {
     "data": {
      "text/plain": [
       "87    1\n",
       "79    1\n",
       "80    1\n",
       "Name: Eng, dtype: int64"
      ]
     },
     "execution_count": 43,
     "metadata": {},
     "output_type": "execute_result"
    }
   ],
   "source": [
    "## 관련 함수 사용\n",
    "x.mean()        # 'Eng'열 값들의 평균 구하기\n",
    "x.value_counts()        # 'Eng'열 값들의 개 수 구하기"
   ]
  },
  {
   "cell_type": "code",
   "execution_count": 44,
   "id": "9adc2aa8-c87c-4140-9178-c7e09eb29a82",
   "metadata": {},
   "outputs": [
    {
     "data": {
      "text/html": [
       "<div>\n",
       "<style scoped>\n",
       "    .dataframe tbody tr th:only-of-type {\n",
       "        vertical-align: middle;\n",
       "    }\n",
       "\n",
       "    .dataframe tbody tr th {\n",
       "        vertical-align: top;\n",
       "    }\n",
       "\n",
       "    .dataframe thead th {\n",
       "        text-align: right;\n",
       "    }\n",
       "</style>\n",
       "<table border=\"1\" class=\"dataframe\">\n",
       "  <thead>\n",
       "    <tr style=\"text-align: right;\">\n",
       "      <th></th>\n",
       "      <th>Mat</th>\n",
       "      <th>Eng</th>\n",
       "      <th>avg</th>\n",
       "    </tr>\n",
       "  </thead>\n",
       "  <tbody>\n",
       "    <tr>\n",
       "      <th>Parks</th>\n",
       "      <td>86</td>\n",
       "      <td>80</td>\n",
       "      <td>83.0</td>\n",
       "    </tr>\n",
       "    <tr>\n",
       "      <th>Kims</th>\n",
       "      <td>80</td>\n",
       "      <td>87</td>\n",
       "      <td>83.5</td>\n",
       "    </tr>\n",
       "    <tr>\n",
       "      <th>Lees</th>\n",
       "      <td>90</td>\n",
       "      <td>79</td>\n",
       "      <td>84.5</td>\n",
       "    </tr>\n",
       "  </tbody>\n",
       "</table>\n",
       "</div>"
      ],
      "text/plain": [
       "       Mat  Eng   avg\n",
       "Parks   86   80  83.0\n",
       "Kims    80   87  83.5\n",
       "Lees    90   79  84.5"
      ]
     },
     "execution_count": 44,
     "metadata": {},
     "output_type": "execute_result"
    }
   ],
   "source": [
    "sdf = df.sort_values(by = 'avg')        # 'avg' 컬럼 값 순으로 정렬\n",
    "sdf"
   ]
  },
  {
   "cell_type": "code",
   "execution_count": 46,
   "id": "f7431ba6-2466-4289-b2a1-866c24b515a4",
   "metadata": {},
   "outputs": [
    {
     "data": {
      "text/html": [
       "<div>\n",
       "<style scoped>\n",
       "    .dataframe tbody tr th:only-of-type {\n",
       "        vertical-align: middle;\n",
       "    }\n",
       "\n",
       "    .dataframe tbody tr th {\n",
       "        vertical-align: top;\n",
       "    }\n",
       "\n",
       "    .dataframe thead th {\n",
       "        text-align: right;\n",
       "    }\n",
       "</style>\n",
       "<table border=\"1\" class=\"dataframe\">\n",
       "  <thead>\n",
       "    <tr style=\"text-align: right;\">\n",
       "      <th></th>\n",
       "      <th>Mat</th>\n",
       "      <th>Eng</th>\n",
       "    </tr>\n",
       "  </thead>\n",
       "  <tbody>\n",
       "    <tr>\n",
       "      <th>Kims</th>\n",
       "      <td>80</td>\n",
       "      <td>87</td>\n",
       "    </tr>\n",
       "    <tr>\n",
       "      <th>Lees</th>\n",
       "      <td>90</td>\n",
       "      <td>79</td>\n",
       "    </tr>\n",
       "    <tr>\n",
       "      <th>Parks</th>\n",
       "      <td>86</td>\n",
       "      <td>80</td>\n",
       "    </tr>\n",
       "  </tbody>\n",
       "</table>\n",
       "</div>"
      ],
      "text/plain": [
       "       Mat  Eng\n",
       "Kims    80   87\n",
       "Lees    90   79\n",
       "Parks   86   80"
      ]
     },
     "execution_count": 46,
     "metadata": {},
     "output_type": "execute_result"
    }
   ],
   "source": [
    "ddf = df.drop( 'avg', axis = 'columns')        # 컬럼 이름으로 컬럼 제거\n",
    "ddf"
   ]
  },
  {
   "cell_type": "code",
   "execution_count": 47,
   "id": "332d005f-0c3e-4b00-b4b1-903ba7e5ae4f",
   "metadata": {},
   "outputs": [
    {
     "data": {
      "text/html": [
       "<div>\n",
       "<style scoped>\n",
       "    .dataframe tbody tr th:only-of-type {\n",
       "        vertical-align: middle;\n",
       "    }\n",
       "\n",
       "    .dataframe tbody tr th {\n",
       "        vertical-align: top;\n",
       "    }\n",
       "\n",
       "    .dataframe thead th {\n",
       "        text-align: right;\n",
       "    }\n",
       "</style>\n",
       "<table border=\"1\" class=\"dataframe\">\n",
       "  <thead>\n",
       "    <tr style=\"text-align: right;\">\n",
       "      <th></th>\n",
       "      <th>Math</th>\n",
       "      <th>Eng</th>\n",
       "      <th>avg</th>\n",
       "    </tr>\n",
       "  </thead>\n",
       "  <tbody>\n",
       "    <tr>\n",
       "      <th>Kims</th>\n",
       "      <td>80</td>\n",
       "      <td>87</td>\n",
       "      <td>83.5</td>\n",
       "    </tr>\n",
       "    <tr>\n",
       "      <th>Lees</th>\n",
       "      <td>90</td>\n",
       "      <td>79</td>\n",
       "      <td>84.5</td>\n",
       "    </tr>\n",
       "    <tr>\n",
       "      <th>Parks</th>\n",
       "      <td>86</td>\n",
       "      <td>80</td>\n",
       "      <td>83.0</td>\n",
       "    </tr>\n",
       "  </tbody>\n",
       "</table>\n",
       "</div>"
      ],
      "text/plain": [
       "       Math  Eng   avg\n",
       "Kims     80   87  83.5\n",
       "Lees     90   79  84.5\n",
       "Parks    86   80  83.0"
      ]
     },
     "execution_count": 47,
     "metadata": {},
     "output_type": "execute_result"
    }
   ],
   "source": [
    "df = df.rename(columns = {'Mat' : 'Math'})         # 컬럼명 변경\n",
    "df"
   ]
  },
  {
   "cell_type": "code",
   "execution_count": 48,
   "id": "5892971f-2074-4c13-8ead-8d27b16ae561",
   "metadata": {},
   "outputs": [
    {
     "data": {
      "text/html": [
       "<div>\n",
       "<style scoped>\n",
       "    .dataframe tbody tr th:only-of-type {\n",
       "        vertical-align: middle;\n",
       "    }\n",
       "\n",
       "    .dataframe tbody tr th {\n",
       "        vertical-align: top;\n",
       "    }\n",
       "\n",
       "    .dataframe thead th {\n",
       "        text-align: right;\n",
       "    }\n",
       "</style>\n",
       "<table border=\"1\" class=\"dataframe\">\n",
       "  <thead>\n",
       "    <tr style=\"text-align: right;\">\n",
       "      <th></th>\n",
       "      <th>Math</th>\n",
       "      <th>Eng</th>\n",
       "      <th>avg</th>\n",
       "    </tr>\n",
       "  </thead>\n",
       "  <tbody>\n",
       "    <tr>\n",
       "      <th>Parks</th>\n",
       "      <td>86</td>\n",
       "      <td>80</td>\n",
       "      <td>83.0</td>\n",
       "    </tr>\n",
       "  </tbody>\n",
       "</table>\n",
       "</div>"
      ],
      "text/plain": [
       "       Math  Eng   avg\n",
       "Parks    86   80  83.0"
      ]
     },
     "execution_count": 48,
     "metadata": {},
     "output_type": "execute_result"
    }
   ],
   "source": [
    "df.head(2)                # 데이터 행 상위 일부만 출력 (숫자 생략하면 알아서)\n",
    "df.tail(1)                # 데이터 행 하위 일부만 출력 (숫자 생략하면 알아서)"
   ]
  },
  {
   "cell_type": "code",
   "execution_count": null,
   "id": "e0d8aa44-6f03-4880-b259-7085d28e2efd",
   "metadata": {},
   "outputs": [],
   "source": []
  }
 ],
 "metadata": {
  "kernelspec": {
   "display_name": "Python 3 (ipykernel)",
   "language": "python",
   "name": "python3"
  },
  "language_info": {
   "codemirror_mode": {
    "name": "ipython",
    "version": 3
   },
   "file_extension": ".py",
   "mimetype": "text/x-python",
   "name": "python",
   "nbconvert_exporter": "python",
   "pygments_lexer": "ipython3",
   "version": "3.9.13"
  }
 },
 "nbformat": 4,
 "nbformat_minor": 5
}
