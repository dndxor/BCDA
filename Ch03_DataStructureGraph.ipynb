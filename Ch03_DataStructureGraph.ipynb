{
 "cells": [
  {
   "cell_type": "markdown",
   "id": "c6479045-0b1c-4655-93c9-18e149dd5e0c",
   "metadata": {},
   "source": [
    "# ㅇ Python 자료 구조 종류\n",
    "###  [내장 자료형]\n",
    "####   >> 스칼라(Scalar) 형\n",
    "####   >> 리스트(list) 형\n",
    "####   >> 튜플(Tuple) 형\n",
    "####   >> 딕셔너리(Dictionary) 형\n",
    "###  [외장 자료형] Pandas 자료형\n",
    "####   << 시리즈(Series) 형\n",
    "####   << 데이터 프레임(Data Frame) 형"
   ]
  },
  {
   "cell_type": "markdown",
   "id": "a598aa83-068d-470d-a3e7-53808f8ddc79",
   "metadata": {},
   "source": [
    "\n",
    "# ▩ 스칼라(Scalar) 형\n",
    "#### > 하나의 값 만으로 구성된 자료 구조\n",
    "#### > Data Type : int, float, str, bool 등\n",
    "#### >관련 함수 : int(), float(), str(), bool()"
   ]
  },
  {
   "cell_type": "code",
   "execution_count": 10,
   "id": "b2ec3d45-23cd-48b1-ba56-9dd334d0c2a2",
   "metadata": {},
   "outputs": [
    {
     "name": "stdout",
     "output_type": "stream",
     "text": [
      "<class 'int'>\n",
      "<class 'float'>\n",
      "<class 'str'>\n"
     ]
    }
   ],
   "source": [
    "## 스칼라(Scalar) 형 ##\n",
    "## 생성 및 초기화\n",
    "a = 3              #int형 자료 구조 생성 및 초기화\n",
    "print(type(a))        #자료구조 확인 \n",
    "b = 4.15       #float형 자료 구조 생성 및 초기화\n",
    "print(type(b))\n",
    "c = 'hello, world!'        #str형 자료 구조 생성 및 초기화\n",
    "print(type(c))"
   ]
  },
  {
   "cell_type": "markdown",
   "id": "fbc38e74-5783-4c6f-ab46-907549d28410",
   "metadata": {},
   "source": [
    "#### ㅇPython에서는 자료 구조가 모두 class 형태로 만들어진다.\n",
    "#### ㅇ따라서 자료형에 대해 메서드들이 제공된다."
   ]
  },
  {
   "cell_type": "code",
   "execution_count": 11,
   "id": "d2114b72-6af9-46ce-b96e-f8e966f75c08",
   "metadata": {},
   "outputs": [
    {
     "data": {
      "text/plain": [
       "['hello', 'world!']"
      ]
     },
     "execution_count": 11,
     "metadata": {},
     "output_type": "execute_result"
    }
   ],
   "source": [
    "c = 'hello, world!'\n",
    "\n",
    "c.lower()             # 'hello, world!'\n",
    "c.upper()             # 'HELLO, WORLD!'\n",
    "c.capitalize()        # 'Hello, world!'\n",
    "c.title()             # 'Hello, World!'\n",
    "c.replace('!', '!!!')    # 'Hello, World!!!'\n",
    "c.find(',')              # 5\n",
    "c.split(', ')            # ['Hello', 'World!']"
   ]
  },
  {
   "cell_type": "markdown",
   "id": "4c80b760-6170-42ed-97e6-0e0c02bf6dff",
   "metadata": {},
   "source": [
    "# ▩ 비 스칼라 형\n",
    "#### > 여러 개의 값을 사용할 수 있도록 구성된 자료 구조\n",
    "#### > Data Type : list, tuple, dictionary\n",
    "#### > 관련 함수 : list(), tuple(), dict()"
   ]
  },
  {
   "cell_type": "markdown",
   "id": "73973249-1a46-4177-b164-34a43ee38c19",
   "metadata": {},
   "source": [
    "# ㅇ리스트(List) 형 : [ ]\n",
    "#### > 여러 개의 값들을 나열된 자료 구조\n",
    "#### > 기본적으로 순서번호(Index)로 값에 접근\n",
    "#### > 값의 삽입, 삭제가 가능하다.\n",
    "#### > 각 값들은 [와 ] 안에 ,로 구분하여 초기화 한다."
   ]
  },
  {
   "cell_type": "code",
   "execution_count": 12,
   "id": "f671ff70-c7fd-49e8-8900-5935615b00b2",
   "metadata": {},
   "outputs": [
    {
     "name": "stdout",
     "output_type": "stream",
     "text": [
      "1\n",
      "b\n",
      "['a']\n",
      "['a', 'b']\n",
      "[1, 2]\n"
     ]
    }
   ],
   "source": [
    "## 리스트(List) 형 : [ ] ##\n",
    "## 생성 및 검색\n",
    "a = [1, 2, 'a', 'b']              #리스트 생성 및 초기화\n",
    "print(a[0])   #리스트는 0번째부터 시작\n",
    "print(a[-1])  #거꾸로 첫 번째\n",
    "print(a[2:3]) #2번째부터 3번째 전까지\n",
    "print(a[2:])  #2번째부터 끝까지\n",
    "print(a[:2])  #처음부터 2번째 전까지"
   ]
  },
  {
   "cell_type": "code",
   "execution_count": 13,
   "id": "b06eee62-89d3-4b0b-9bfd-3312c5175aa6",
   "metadata": {},
   "outputs": [
    {
     "data": {
      "text/plain": [
       "[1, 2, 'a', 'b', 'c']"
      ]
     },
     "execution_count": 13,
     "metadata": {},
     "output_type": "execute_result"
    }
   ],
   "source": [
    "## 생성 및 조작\n",
    "a.append('c')        #맨 마지막에 'c'를 추가     \n",
    "a.insert(2, 3)       #2번째에 값 3을 추가\n",
    "a.remove(3)          #3을 찾아 제거\n",
    "a.index('a')         #'a'의 위치 값 반환\n",
    "a"
   ]
  },
  {
   "cell_type": "code",
   "execution_count": 17,
   "id": "8a233b9d-c44a-4609-af1d-b4f5186af3cb",
   "metadata": {},
   "outputs": [
    {
     "data": {
      "text/plain": [
       "[1, 2, 3, 5, 7, 8]"
      ]
     },
     "execution_count": 17,
     "metadata": {},
     "output_type": "execute_result"
    }
   ],
   "source": [
    "## 관련 함수: 정렬\n",
    "a = [5, 3, 7, 8, 2, 1]\n",
    "asort = sorted(a)    # 값들을 정렬\n",
    "asort"
   ]
  },
  {
   "cell_type": "code",
   "execution_count": 16,
   "id": "c85b7472-d722-4299-81b5-6d09e8da99e5",
   "metadata": {},
   "outputs": [
    {
     "name": "stdout",
     "output_type": "stream",
     "text": [
      "[5, 8, 2, 1]\n"
     ]
    },
    {
     "data": {
      "text/plain": [
       "4"
      ]
     },
     "execution_count": 16,
     "metadata": {},
     "output_type": "execute_result"
    }
   ],
   "source": [
    "## 관련 함수: 제거, 갯 수\n",
    "del(a[1])                #1번째 값을 제거\n",
    "print(a)\n",
    "len(a)"
   ]
  },
  {
   "cell_type": "code",
   "execution_count": 20,
   "id": "13ac0f78-258d-47bd-9124-fe38ca5a8c43",
   "metadata": {},
   "outputs": [
    {
     "data": {
      "text/plain": [
       "[0, 0, 0, 0, 0]"
      ]
     },
     "execution_count": 20,
     "metadata": {},
     "output_type": "execute_result"
    }
   ],
   "source": [
    "## 1차원 리스트 초기화 방법 \n",
    "arr = [0, 0, 0, 0, 0]\n",
    "arr = [0]*5;\n",
    "arr = [0 for i in range(5)];\n",
    "arr=[];\t\t#만들고 \n",
    "for i in range(5):\n",
    "    arr.append(0) \t#추가하고 \t\n",
    "arr"
   ]
  },
  {
   "cell_type": "code",
   "execution_count": 21,
   "id": "a3f3c705-a1ca-4454-ae8a-5cc8769abc3d",
   "metadata": {},
   "outputs": [
    {
     "data": {
      "text/plain": [
       "[[0, 0, 0, 0],\n",
       " [0, 0, 0, 0],\n",
       " [0, 0, 0, 0],\n",
       " [0, 0, 0, 0],\n",
       " [0, 0, 0, 0],\n",
       " [0, 0, 0, 0],\n",
       " [0, 0, 0, 0],\n",
       " [0, 0, 0, 0],\n",
       " [0, 0, 0, 0],\n",
       " [0, 0, 0, 0],\n",
       " [0, 0, 0, 0],\n",
       " [0, 0, 0, 0]]"
      ]
     },
     "execution_count": 21,
     "metadata": {},
     "output_type": "execute_result"
    }
   ],
   "source": [
    "## 2차원 리스트 초기화 방법\n",
    "arr = [[0, 0, 0, 0], [0, 0, 0, 0], [0, 0, 0, 0]]\n",
    "arr = [[0 for j in range(4)] for i in range(3)];\n",
    "arr=[];  #1차원 리스트 생성\n",
    "for i in range(3):\n",
    "    temp = []\t   #열 생성\n",
    "    for j in range(4): \n",
    "        temp.append(0) #열 값 추가\n",
    "        arr.append(temp)   #1차원 리스트에 열 추가\n",
    "arr\n"
   ]
  },
  {
   "cell_type": "code",
   "execution_count": 24,
   "id": "99ed4f7c-b664-445c-b3ad-ce5780f2122c",
   "metadata": {},
   "outputs": [
    {
     "name": "stdout",
     "output_type": "stream",
     "text": [
      "1 2 a b "
     ]
    }
   ],
   "source": [
    "## 리스트 읽어내기\n",
    "a = [1, 2, 'a', 'b']     #리스트 생성 및 초기화\n",
    "for  x  in a:            #range() 대신에 리스트 자료 Unpacking\n",
    "\tprint(x, end=' ')"
   ]
  },
  {
   "cell_type": "code",
   "execution_count": 23,
   "id": "f37ef164-8f83-4edc-92fa-9ecf323233e5",
   "metadata": {},
   "outputs": [
    {
     "name": "stdout",
     "output_type": "stream",
     "text": [
      "1 2 a b 4 "
     ]
    }
   ],
   "source": [
    "## 리스트 읽어내기\n",
    "a = [1, 2, ['a', 'b'], 4]     #리스트 생성 및 초기화\n",
    "for  x  in a:            #range() 대신에 리스트 자료  Unpacking\n",
    "    if type(x) is list:  #x가 list type인지 확인\n",
    "        for y in x:\n",
    "            print(y, end=' ')\n",
    "    else:\n",
    "        print(x, end=' ')"
   ]
  },
  {
   "cell_type": "markdown",
   "id": "52c80663-9eff-4c96-829e-b28d48051211",
   "metadata": {},
   "source": [
    "## [실습] List로 막대 그래프 그리기\n",
    "### > import seaborn 모듈 사용"
   ]
  },
  {
   "cell_type": "code",
   "execution_count": 6,
   "id": "810af935-40f3-44c0-acdb-b22b537543be",
   "metadata": {},
   "outputs": [
    {
     "name": "stdout",
     "output_type": "stream",
     "text": [
      "[1, 4, 5, 3, 2, 1, 7, 3, 1, 2]\n"
     ]
    },
    {
     "data": {
      "text/plain": [
       "<AxesSubplot:ylabel='count'>"
      ]
     },
     "execution_count": 6,
     "metadata": {},
     "output_type": "execute_result"
    },
    {
     "data": {
      "image/png": "[encoded data removed]",
      "text/plain": [
       "<Figure size 640x480 with 1 Axes>"
      ]
     },
     "metadata": {},
     "output_type": "display_data"
    }
   ],
   "source": [
    "## 리스트(List) 형 : [ ] \n",
    "## List로 막대 그래프 그리기\n",
    "alist = [1, 4, 5, 3, 2, 1, 7, 3, 1, 2]\n",
    "print(alist)\n",
    "\n",
    "import seaborn as sns\n",
    "sns.countplot(x = alist)"
   ]
  },
  {
   "cell_type": "markdown",
   "id": "0ac20a37-54f6-432e-bdac-a4e3d37157c4",
   "metadata": {},
   "source": [
    "## [실습] List로 막대 그래프 그리기\n",
    "### > List를 랜덤 수로 초기화 함. (range는 0~9까지)\n",
    "### > List의 길이는 30으로 함"
   ]
  },
  {
   "cell_type": "code",
   "execution_count": 75,
   "id": "a455f533-0c8a-4de4-9fd0-fe85add0736d",
   "metadata": {},
   "outputs": [
    {
     "name": "stdout",
     "output_type": "stream",
     "text": [
      "[3, 8, 1, 4, 7, 4, 7, 9, 8, 4, 6, 6, 5, 6, 6, 2, 4, 3, 9, 5, 3, 3, 5, 9, 4, 4, 1, 2, 0, 7]\n"
     ]
    },
    {
     "data": {
      "text/plain": [
       "<AxesSubplot:ylabel='count'>"
      ]
     },
     "execution_count": 75,
     "metadata": {},
     "output_type": "execute_result"
    },
    {
     "data": {
      "image/png": "[encoded data removed]",
      "text/plain": [
       "<Figure size 640x480 with 1 Axes>"
      ]
     },
     "metadata": {},
     "output_type": "display_data"
    }
   ],
   "source": [
    "## 리스트(List) 형 : [ ] \n",
    "## [실습] List를 랜덤 수로 초기화 함\n",
    "## 리스트 구성\n",
    "import random\n",
    "alist = []\n",
    "for _ in range(30):\n",
    "    x = random.randrange(0, 10)\n",
    "    alist.append(x)\n",
    "print(alist)\n",
    "\n",
    "## List로 막대 그래프 그리기\n",
    "import seaborn as sns\n",
    "sns.countplot(x = alist)"
   ]
  },
  {
   "cell_type": "code",
   "execution_count": 1,
   "id": "5650fccc-7680-43d8-9acd-0c9c49ee0b54",
   "metadata": {},
   "outputs": [
    {
     "data": {
      "text/plain": [
       "\u001b[1;31mSignature:\u001b[0m\n",
       "\u001b[0msb\u001b[0m\u001b[1;33m.\u001b[0m\u001b[0mcountplot\u001b[0m\u001b[1;33m(\u001b[0m\u001b[1;33m\n",
       "\u001b[0m    \u001b[1;33m*\u001b[0m\u001b[1;33m,\u001b[0m\u001b[1;33m\n",
       "\u001b[0m    \u001b[0mx\u001b[0m\u001b[1;33m=\u001b[0m\u001b[1;32mNone\u001b[0m\u001b[1;33m,\u001b[0m\u001b[1;33m\n",
       "\u001b[0m    \u001b[0my\u001b[0m\u001b[1;33m=\u001b[0m\u001b[1;32mNone\u001b[0m\u001b[1;33m,\u001b[0m\u001b[1;33m\n",
       "\u001b[0m    \u001b[0mhue\u001b[0m\u001b[1;33m=\u001b[0m\u001b[1;32mNone\u001b[0m\u001b[1;33m,\u001b[0m\u001b[1;33m\n",
       "\u001b[0m    \u001b[0mdata\u001b[0m\u001b[1;33m=\u001b[0m\u001b[1;32mNone\u001b[0m\u001b[1;33m,\u001b[0m\u001b[1;33m\n",
       "\u001b[0m    \u001b[0morder\u001b[0m\u001b[1;33m=\u001b[0m\u001b[1;32mNone\u001b[0m\u001b[1;33m,\u001b[0m\u001b[1;33m\n",
       "\u001b[0m    \u001b[0mhue_order\u001b[0m\u001b[1;33m=\u001b[0m\u001b[1;32mNone\u001b[0m\u001b[1;33m,\u001b[0m\u001b[1;33m\n",
       "\u001b[0m    \u001b[0morient\u001b[0m\u001b[1;33m=\u001b[0m\u001b[1;32mNone\u001b[0m\u001b[1;33m,\u001b[0m\u001b[1;33m\n",
       "\u001b[0m    \u001b[0mcolor\u001b[0m\u001b[1;33m=\u001b[0m\u001b[1;32mNone\u001b[0m\u001b[1;33m,\u001b[0m\u001b[1;33m\n",
       "\u001b[0m    \u001b[0mpalette\u001b[0m\u001b[1;33m=\u001b[0m\u001b[1;32mNone\u001b[0m\u001b[1;33m,\u001b[0m\u001b[1;33m\n",
       "\u001b[0m    \u001b[0msaturation\u001b[0m\u001b[1;33m=\u001b[0m\u001b[1;36m0.75\u001b[0m\u001b[1;33m,\u001b[0m\u001b[1;33m\n",
       "\u001b[0m    \u001b[0mdodge\u001b[0m\u001b[1;33m=\u001b[0m\u001b[1;32mTrue\u001b[0m\u001b[1;33m,\u001b[0m\u001b[1;33m\n",
       "\u001b[0m    \u001b[0max\u001b[0m\u001b[1;33m=\u001b[0m\u001b[1;32mNone\u001b[0m\u001b[1;33m,\u001b[0m\u001b[1;33m\n",
       "\u001b[0m    \u001b[1;33m**\u001b[0m\u001b[0mkwargs\u001b[0m\u001b[1;33m,\u001b[0m\u001b[1;33m\n",
       "\u001b[0m\u001b[1;33m)\u001b[0m\u001b[1;33m\u001b[0m\u001b[1;33m\u001b[0m\u001b[0m\n",
       "\u001b[1;31mDocstring:\u001b[0m\n",
       "Show the counts of observations in each categorical bin using bars.\n",
       "\n",
       "A count plot can be thought of as a histogram across a categorical, instead\n",
       "of quantitative, variable. The basic API and options are identical to those\n",
       "for :func:`barplot`, so you can compare counts across nested variables.\n",
       "\n",
       "\n",
       "Input data can be passed in a variety of formats, including:\n",
       "\n",
       "- Vectors of data represented as lists, numpy arrays, or pandas Series\n",
       "  objects passed directly to the ``x``, ``y``, and/or ``hue`` parameters.\n",
       "- A \"long-form\" DataFrame, in which case the ``x``, ``y``, and ``hue``\n",
       "  variables will determine how the data are plotted.\n",
       "- A \"wide-form\" DataFrame, such that each numeric column will be plotted.\n",
       "- An array or list of vectors.\n",
       "\n",
       "In most cases, it is possible to use numpy or Python objects, but pandas\n",
       "objects are preferable because the associated names will be used to\n",
       "annotate the axes. Additionally, you can use Categorical types for the\n",
       "grouping variables to control the order of plot elements.    \n",
       "\n",
       "This function always treats one of the variables as categorical and\n",
       "draws data at ordinal positions (0, 1, ... n) on the relevant axis, even\n",
       "when the data has a numeric or date type.\n",
       "\n",
       "See the :ref:`tutorial <categorical_tutorial>` for more information.    \n",
       "\n",
       "Parameters\n",
       "----------\n",
       "x, y, hue : names of variables in ``data`` or vector data, optional\n",
       "    Inputs for plotting long-form data. See examples for interpretation.        \n",
       "data : DataFrame, array, or list of arrays, optional\n",
       "    Dataset for plotting. If ``x`` and ``y`` are absent, this is\n",
       "    interpreted as wide-form. Otherwise it is expected to be long-form.    \n",
       "order, hue_order : lists of strings, optional\n",
       "    Order to plot the categorical levels in, otherwise the levels are\n",
       "    inferred from the data objects.        \n",
       "orient : \"v\" | \"h\", optional\n",
       "    Orientation of the plot (vertical or horizontal). This is usually\n",
       "    inferred based on the type of the input variables, but it can be used\n",
       "    to resolve ambiguity when both `x` and `y` are numeric or when\n",
       "    plotting wide-form data.    \n",
       "color : matplotlib color, optional\n",
       "    Color for all of the elements, or seed for a gradient palette.    \n",
       "palette : palette name, list, or dict\n",
       "    Colors to use for the different levels of the ``hue`` variable. Should\n",
       "    be something that can be interpreted by :func:`color_palette`, or a\n",
       "    dictionary mapping hue levels to matplotlib colors.    \n",
       "saturation : float, optional\n",
       "    Proportion of the original saturation to draw colors at. Large patches\n",
       "    often look better with slightly desaturated colors, but set this to\n",
       "    ``1`` if you want the plot colors to perfectly match the input color\n",
       "    spec.    \n",
       "dodge : bool, optional\n",
       "    When hue nesting is used, whether elements should be shifted along the\n",
       "    categorical axis.    \n",
       "ax : matplotlib Axes, optional\n",
       "    Axes object to draw the plot onto, otherwise uses the current Axes.    \n",
       "kwargs : key, value mappings\n",
       "    Other keyword arguments are passed through to\n",
       "    :meth:`matplotlib.axes.Axes.bar`.\n",
       "\n",
       "Returns\n",
       "-------\n",
       "ax : matplotlib Axes\n",
       "    Returns the Axes object with the plot drawn onto it.    \n",
       "\n",
       "See Also\n",
       "--------\n",
       "barplot : Show point estimates and confidence intervals using bars.    \n",
       "catplot : Combine a categorical plot with a :class:`FacetGrid`.    \n",
       "\n",
       "Examples\n",
       "--------\n",
       "\n",
       "Show value counts for a single categorical variable:\n",
       "\n",
       ".. plot::\n",
       "    :context: close-figs\n",
       "\n",
       "    >>> import seaborn as sns\n",
       "    >>> sns.set_theme(style=\"darkgrid\")\n",
       "    >>> titanic = sns.load_dataset(\"titanic\")\n",
       "    >>> ax = sns.countplot(x=\"class\", data=titanic)\n",
       "\n",
       "Show value counts for two categorical variables:\n",
       "\n",
       ".. plot::\n",
       "    :context: close-figs\n",
       "\n",
       "    >>> ax = sns.countplot(x=\"class\", hue=\"who\", data=titanic)\n",
       "\n",
       "Plot the bars horizontally:\n",
       "\n",
       ".. plot::\n",
       "    :context: close-figs\n",
       "\n",
       "    >>> ax = sns.countplot(y=\"class\", hue=\"who\", data=titanic)\n",
       "\n",
       "Use a different color palette:\n",
       "\n",
       ".. plot::\n",
       "    :context: close-figs\n",
       "\n",
       "    >>> ax = sns.countplot(x=\"who\", data=titanic, palette=\"Set3\")\n",
       "\n",
       "Use :meth:`matplotlib.axes.Axes.bar` parameters to control the style.\n",
       "\n",
       ".. plot::\n",
       "    :context: close-figs\n",
       "\n",
       "    >>> ax = sns.countplot(x=\"who\", data=titanic,\n",
       "    ...                    facecolor=(0, 0, 0, 0),\n",
       "    ...                    linewidth=5,\n",
       "    ...                    edgecolor=sns.color_palette(\"dark\", 3))\n",
       "\n",
       "Use :func:`catplot` to combine a :func:`countplot` and a\n",
       ":class:`FacetGrid`. This allows grouping within additional categorical\n",
       "variables. Using :func:`catplot` is safer than using :class:`FacetGrid`\n",
       "directly, as it ensures synchronization of variable order across facets:\n",
       "\n",
       ".. plot::\n",
       "    :context: close-figs\n",
       "\n",
       "    >>> g = sns.catplot(x=\"class\", hue=\"who\", col=\"survived\",\n",
       "    ...                 data=titanic, kind=\"count\",\n",
       "    ...                 height=4, aspect=.7);\n",
       "\u001b[1;31mFile:\u001b[0m      c:\\users\\admin\\anaconda3\\lib\\site-packages\\seaborn\\categorical.py\n",
       "\u001b[1;31mType:\u001b[0m      function\n"
      ]
     },
     "metadata": {},
     "output_type": "display_data"
    }
   ],
   "source": [
    "## seaborn 패키지 인터페이스 매개변수 확인\n",
    "import seaborn as sb\n",
    "sb.countplot?"
   ]
  },
  {
   "cell_type": "markdown",
   "id": "b97a9140-9a00-44b2-818b-66b942469dd9",
   "metadata": {},
   "source": [
    "# ㅇ튜플(Tuple) 형 : ( )\n",
    "#### > 리스트와 같이 여러 개의 값들을 나열된 자료 구조\n",
    "#### > 리스트와 다르게 한 번 초기화된 자료는 수정할 수 없다.\n",
    "#### > 고정된 값을 미리 정렬시켜서 튜플로 만들어 놓고 사용하면 검색 속도 빨라짐."
   ]
  },
  {
   "cell_type": "code",
   "execution_count": 25,
   "id": "bd7d6c29-47b5-4b1d-938d-f3ed496d9408",
   "metadata": {},
   "outputs": [
    {
     "name": "stdout",
     "output_type": "stream",
     "text": [
      "(2, 3)\n"
     ]
    }
   ],
   "source": [
    "## 튜플(Tuple) 형 : ( ) \n",
    "## 생성 및 검색\n",
    "a = (1, 2, 3, 4, 5)   #튜플의 생성 및 초기화\n",
    "print(a[1:3])"
   ]
  },
  {
   "cell_type": "code",
   "execution_count": 27,
   "id": "003e66a1-b464-4961-8bb7-a665731b7f36",
   "metadata": {},
   "outputs": [
    {
     "data": {
      "text/plain": [
       "[10, 20, 30]"
      ]
     },
     "execution_count": 27,
     "metadata": {},
     "output_type": "execute_result"
    }
   ],
   "source": [
    "## 튜플(Tuple) 형 : ( ) \n",
    "## 패킹(Packing), 언패킹(Unpacking)\n",
    "b = 10, 20, 30    #튜플의 패킹(Packing)  \n",
    "x, y, z = b       #튜플의 언패킹(Unpacking)  \n",
    "[x, y, z]"
   ]
  },
  {
   "cell_type": "markdown",
   "id": "884a249a-028f-4bed-aaee-2f467626edc0",
   "metadata": {},
   "source": [
    "# ㅇ딕셔너리(Dictionary) 형 : { }\n",
    "#### > 키(Key)와 대응되는 값(Value)이 짝을 이루어 나열된 자료 구조\n",
    "#### > 값의 삽입, 삭제가 가능하다.\n",
    "#### > 순서번호(Index) 대신에 키 값으로 값에 접근"
   ]
  },
  {
   "cell_type": "code",
   "execution_count": 29,
   "id": "97edd096-f31d-4437-ae93-7356d5e9c51f",
   "metadata": {},
   "outputs": [
    {
     "data": {
      "text/plain": [
       "70"
      ]
     },
     "execution_count": 29,
     "metadata": {},
     "output_type": "execute_result"
    }
   ],
   "source": [
    "## 딕셔너리(Dictionary) 형 : { } ##\n",
    "## 생성 및 검색\n",
    "a = {'A':90, 'B':80, 'C':70, 'D':60}        #딕셔너리 생성 및 초기화\n",
    "a['C']"
   ]
  },
  {
   "cell_type": "code",
   "execution_count": 31,
   "id": "73d1262b-bfe7-47cb-b8a4-54f759254825",
   "metadata": {},
   "outputs": [
    {
     "name": "stdout",
     "output_type": "stream",
     "text": [
      "A\n",
      "B\n",
      "C\n",
      "D\n"
     ]
    }
   ],
   "source": [
    "## [Dictionary] 반복문으로 키 읽어내기\n",
    "for  x  in a.keys():   #키 읽어내기\n",
    "\tprint(x)"
   ]
  },
  {
   "cell_type": "code",
   "execution_count": 32,
   "id": "2eb800c5-4637-4ee0-9369-912c081ea88f",
   "metadata": {},
   "outputs": [
    {
     "name": "stdout",
     "output_type": "stream",
     "text": [
      "90\n",
      "80\n",
      "70\n",
      "60\n"
     ]
    }
   ],
   "source": [
    "## [Dictionary] 반복문으로 값 읽어내기\n",
    "for  x  in a.values():            #range() 대신에 적용\n",
    "\tprint(x)"
   ]
  },
  {
   "cell_type": "code",
   "execution_count": 33,
   "id": "fc8bec9c-9f6b-4d4d-99ae-309e226034f5",
   "metadata": {},
   "outputs": [
    {
     "name": "stdout",
     "output_type": "stream",
     "text": [
      "('A', 90)\n",
      "('B', 80)\n",
      "('C', 70)\n",
      "('D', 60)\n",
      "A 90\n",
      "B 80\n",
      "C 70\n",
      "D 60\n"
     ]
    }
   ],
   "source": [
    "## [Dictionary] 반복문으로 키, 값 읽어내기\n",
    "for  x  in a.items():            #range() 대신에 적용\n",
    "\tprint(x)\n",
    "for  x, y  in a.items():            #range() 대신에 적용\n",
    "\tprint(x, y)"
   ]
  },
  {
   "cell_type": "code",
   "execution_count": 34,
   "id": "afdc908b-bff6-451c-b560-66570040eca6",
   "metadata": {},
   "outputs": [
    {
     "name": "stdout",
     "output_type": "stream",
     "text": [
      "{'A': 90, 'B': 80, 'C': 70, 'D': 60, 'F': 40}\n",
      "{'A': 90, 'B': 80, 'C': 70, 'D': 60}\n"
     ]
    }
   ],
   "source": [
    "## [Dictionary] 조작\n",
    "a['F'] = 40         #딕셔너리 항목 추가\n",
    "print(a)\n",
    "## 관련 함수\n",
    "del(a['F'])          #딕셔너리 항목 제거\n",
    "print(a)"
   ]
  },
  {
   "cell_type": "markdown",
   "id": "14d554b7-940d-43ed-9b42-22ee61169af4",
   "metadata": {},
   "source": [
    "# ▩ 외장 Pandas 자료형\n",
    "#### > pandas라는 패키지를 import 해서 사용 가능한 추가 자료 구조\n",
    "#### > Data Type : series, dataframe\n",
    "#### > 관련 함수 : Series(), DataFrame()"
   ]
  },
  {
   "cell_type": "markdown",
   "id": "a24e0568-0964-4aeb-972d-890ec7b229d1",
   "metadata": {},
   "source": [
    "# ㅇ시리즈(Series) 형\n",
    "#### > 1차원 배열로 여러 값을 나열한 자료 구조\n",
    "#### > 각 데이터 항목은 index로 식별된다.\n",
    "#### > 데이터 프레임의 데이터을 구성하는 열 값들을 시리즈로 추출하여 조작할 수 있다.\n",
    "#### > pandas 패키지를 통해 사용할 수 있다."
   ]
  },
  {
   "cell_type": "code",
   "execution_count": 33,
   "id": "41f3dfe4-c7d5-41ad-8304-b0cf0f6452a9",
   "metadata": {},
   "outputs": [
    {
     "data": {
      "text/plain": [
       "0    11\n",
       "1    22\n",
       "2    33\n",
       "3    44\n",
       "dtype: int64"
      ]
     },
     "execution_count": 33,
     "metadata": {},
     "output_type": "execute_result"
    }
   ],
   "source": [
    "## 시리즈(Series) 형 ##\n",
    "## 생성 및 검색\n",
    "import pandas as pd\n",
    "a = pd.Series([11, 22, 33, 44])  #index 자동 부여\n",
    "a"
   ]
  },
  {
   "cell_type": "code",
   "execution_count": 35,
   "id": "1f965600-b756-4aba-b67e-1fc475461cd0",
   "metadata": {},
   "outputs": [
    {
     "data": {
      "text/plain": [
       "1    11\n",
       "2    22\n",
       "3    33\n",
       "4    44\n",
       "dtype: int64"
      ]
     },
     "execution_count": 35,
     "metadata": {},
     "output_type": "execute_result"
    }
   ],
   "source": [
    "## 시리즈(Series) 형 ##\n",
    "## 생성\n",
    "import pandas as pd\n",
    "a = pd.Series([11, 22, 33, 44], index = [1, 2, 3, 4])  #index 강제 부여\n",
    "a"
   ]
  },
  {
   "cell_type": "code",
   "execution_count": 36,
   "id": "6af786ba-3ccd-4110-94de-d7731a59e12e",
   "metadata": {},
   "outputs": [
    {
     "data": {
      "text/plain": [
       "[22,\n",
       " 1    22\n",
       " 2    33\n",
       " dtype: int64,\n",
       " 2    33\n",
       " 3    44\n",
       " dtype: int64,\n",
       " 0    11\n",
       " 1    22\n",
       " dtype: int64]"
      ]
     },
     "execution_count": 36,
     "metadata": {},
     "output_type": "execute_result"
    }
   ],
   "source": [
    "## 시리즈(Series) 형 ##\n",
    "## 생성 및 조작\n",
    "import pandas as pd\n",
    "a = pd.Series([11, 22, 33, 44])\n",
    "[a[1], a[1:3], a[2:], a[:2] ]"
   ]
  },
  {
   "cell_type": "code",
   "execution_count": 37,
   "id": "fc5ddb06-629f-472f-9f8f-f6fc91b8df12",
   "metadata": {},
   "outputs": [
    {
     "data": {
      "text/plain": [
       "[22, 22]"
      ]
     },
     "execution_count": 37,
     "metadata": {},
     "output_type": "execute_result"
    }
   ],
   "source": [
    "## 시리즈 검색\n",
    "a = pd.Series([11, 22, 33, 44], index = ['a', 'b', 'c', 'd'])\n",
    "[ a[1], a['b'] ]    "
   ]
  },
  {
   "cell_type": "code",
   "execution_count": 4,
   "id": "d1317f87-06b3-4dd8-bcc3-8298a2dfc14d",
   "metadata": {},
   "outputs": [
    {
     "name": "stdout",
     "output_type": "stream",
     "text": [
      "a    11\n",
      "b    22\n",
      "c    33\n",
      "d    44\n",
      "e    50\n",
      "dtype: int64\n",
      "a    11\n",
      "b    22\n",
      "c    33\n",
      "d    44\n",
      "e    55\n",
      "dtype: int64\n",
      "a    11\n",
      "b    22\n",
      "c    33\n",
      "d    44\n",
      "dtype: int64\n"
     ]
    }
   ],
   "source": [
    "## 시리즈 조작\n",
    "a['e'] = 50;            #새로운 값 추가\n",
    "print(a)\n",
    "a['e'] = 55;            #새로운 값으로 변경\n",
    "print(a)\n",
    "del(a['e']);            #값 제거\n",
    "print(a)"
   ]
  },
  {
   "cell_type": "code",
   "execution_count": 5,
   "id": "af36e52e-642c-4815-9250-7e5dcc3951dd",
   "metadata": {},
   "outputs": [
    {
     "name": "stdout",
     "output_type": "stream",
     "text": [
      "11\n",
      "22\n",
      "33\n",
      "44\n"
     ]
    }
   ],
   "source": [
    "## 시리즈를 for 반복문으로 읽어내기\n",
    "for  x  in a:            #range() 대신에 적용\n",
    "\tprint(x)"
   ]
  },
  {
   "cell_type": "markdown",
   "id": "147fd340-5785-45fa-96cd-ae0fd85fcddf",
   "metadata": {},
   "source": [
    "## [실습] List로 Series 만들기\n",
    "### > List를 랜덤 수로 초기화 함. (range는 0~9까지)\n",
    "### > List의 길이는 30으로 함\n",
    "### > 각 숫자의 빈도 수를 index로 하는 Series 구성"
   ]
  },
  {
   "cell_type": "code",
   "execution_count": 76,
   "id": "c66b4b14-c67c-47e9-8932-ccb283cbe371",
   "metadata": {},
   "outputs": [
    {
     "name": "stdout",
     "output_type": "stream",
     "text": [
      "[8, 1, 6, 8, 1, 2, 5, 9, 9, 2, 0, 5, 3, 3, 7, 9, 8, 0, 5, 1, 5, 1, 8, 9, 2, 9, 2, 6, 9, 1]\n",
      "[2, 5, 4, 2, 0, 4, 2, 1, 4, 6]\n",
      "[0, 1, 2, 3, 4, 5, 6, 7, 8, 9]\n",
      "0    2\n",
      "1    5\n",
      "2    4\n",
      "3    2\n",
      "4    0\n",
      "5    4\n",
      "6    2\n",
      "7    1\n",
      "8    4\n",
      "9    6\n",
      "dtype: int64\n"
     ]
    }
   ],
   "source": [
    "## 리스트(List) 형 : [ ] \n",
    "## [실습] List를 랜덤 수로 초기화 함\n",
    "## 리스트 구성\n",
    "import random\n",
    "alist = []\n",
    "for _ in range(30):\n",
    "    x = random.randrange(0, 10)\n",
    "    alist.append(x)\n",
    "print(alist)\n",
    "\n",
    "# 빈도 리스트 data 만들기\n",
    "data = [0 for i in range(10)]\n",
    "for x in alist:\n",
    "    data[x] += 1\n",
    "# 인덱스 리스트 idx 만들기\n",
    "idx = [i for i in range(10)]\n",
    "print(data)\n",
    "print(idx)\n",
    "\n",
    "## pandas 패키지 활용 : 데이터 시리즈(2차원 자료 구조) 구성\n",
    "import pandas as pd\n",
    "ds = pd.Series(data, index = idx)\n",
    "print(ds)"
   ]
  },
  {
   "cell_type": "markdown",
   "id": "4cc06708-3fde-42ec-8930-3f1729a3e680",
   "metadata": {},
   "source": [
    "# ㅇ데이터 프레임(Data Frame) 형 \n",
    "#### > 행과 열로 나열되는  2차원적 자료 구조\n",
    "#### > 행과 열 값들은 딕셔너리 구조를 활용하여 초기화 한다.\n",
    "#### > 하나의 열 값들은 시리즈형으로 추출하여 사용 가능하다.\n",
    "#### > pandas 패키지를 통해 사용할 수 있다."
   ]
  },
  {
   "cell_type": "code",
   "execution_count": 68,
   "id": "e717a37b-0e68-4c29-96e4-0f185f557754",
   "metadata": {},
   "outputs": [
    {
     "data": {
      "text/html": [
       "<div>\n",
       "<style scoped>\n",
       "    .dataframe tbody tr th:only-of-type {\n",
       "        vertical-align: middle;\n",
       "    }\n",
       "\n",
       "    .dataframe tbody tr th {\n",
       "        vertical-align: top;\n",
       "    }\n",
       "\n",
       "    .dataframe thead th {\n",
       "        text-align: right;\n",
       "    }\n",
       "</style>\n",
       "<table border=\"1\" class=\"dataframe\">\n",
       "  <thead>\n",
       "    <tr style=\"text-align: right;\">\n",
       "      <th></th>\n",
       "      <th>Eng</th>\n",
       "      <th>Mat</th>\n",
       "    </tr>\n",
       "  </thead>\n",
       "  <tbody>\n",
       "    <tr>\n",
       "      <th>0</th>\n",
       "      <td>87</td>\n",
       "      <td>80</td>\n",
       "    </tr>\n",
       "    <tr>\n",
       "      <th>1</th>\n",
       "      <td>79</td>\n",
       "      <td>90</td>\n",
       "    </tr>\n",
       "    <tr>\n",
       "      <th>2</th>\n",
       "      <td>80</td>\n",
       "      <td>80</td>\n",
       "    </tr>\n",
       "  </tbody>\n",
       "</table>\n",
       "</div>"
      ],
      "text/plain": [
       "   Eng  Mat\n",
       "0   87   80\n",
       "1   79   90\n",
       "2   80   80"
      ]
     },
     "execution_count": 68,
     "metadata": {},
     "output_type": "execute_result"
    }
   ],
   "source": [
    "## 데이터 프레임(Data Frame) 형 ##\n",
    "## 생성 및 검색\n",
    "import pandas as pd\n",
    "df = pd.DataFrame({'Eng' : [87, 79, 80], \n",
    "\t\t\t\t'Mat' : [80, 90, 80]})  #index 자동 부여\n",
    "df"
   ]
  },
  {
   "cell_type": "code",
   "execution_count": 69,
   "id": "ae62edc9-904e-4286-95a7-48b186524346",
   "metadata": {},
   "outputs": [
    {
     "data": {
      "text/html": [
       "<div>\n",
       "<style scoped>\n",
       "    .dataframe tbody tr th:only-of-type {\n",
       "        vertical-align: middle;\n",
       "    }\n",
       "\n",
       "    .dataframe tbody tr th {\n",
       "        vertical-align: top;\n",
       "    }\n",
       "\n",
       "    .dataframe thead th {\n",
       "        text-align: right;\n",
       "    }\n",
       "</style>\n",
       "<table border=\"1\" class=\"dataframe\">\n",
       "  <thead>\n",
       "    <tr style=\"text-align: right;\">\n",
       "      <th></th>\n",
       "      <th>Eng</th>\n",
       "      <th>Mat</th>\n",
       "    </tr>\n",
       "  </thead>\n",
       "  <tbody>\n",
       "    <tr>\n",
       "      <th>Kims</th>\n",
       "      <td>87</td>\n",
       "      <td>80</td>\n",
       "    </tr>\n",
       "    <tr>\n",
       "      <th>Lees</th>\n",
       "      <td>79</td>\n",
       "      <td>90</td>\n",
       "    </tr>\n",
       "    <tr>\n",
       "      <th>Parks</th>\n",
       "      <td>80</td>\n",
       "      <td>80</td>\n",
       "    </tr>\n",
       "  </tbody>\n",
       "</table>\n",
       "</div>"
      ],
      "text/plain": [
       "       Eng  Mat\n",
       "Kims    87   80\n",
       "Lees    79   90\n",
       "Parks   80   80"
      ]
     },
     "execution_count": 69,
     "metadata": {},
     "output_type": "execute_result"
    }
   ],
   "source": [
    "## [Data Frame] 생성 및 조작\n",
    "import pandas as pd\n",
    "df = pd.DataFrame({'Eng' : [87, 79, 80], \n",
    "\t\t\t\t'Mat' : [80, 90, 80]}, \n",
    "                index =  ['Kims', 'Lees', 'Parks'])  #index 강제 부여\n",
    "df"
   ]
  },
  {
   "cell_type": "code",
   "execution_count": 79,
   "id": "41497785-af00-4d26-a038-4bb2b9272e9d",
   "metadata": {},
   "outputs": [
    {
     "data": {
      "text/plain": [
       "Kims     87\n",
       "Lees     79\n",
       "Parks    80\n",
       "Name: Eng, dtype: int64"
      ]
     },
     "execution_count": 79,
     "metadata": {},
     "output_type": "execute_result"
    }
   ],
   "source": [
    "## [Data Frame] 조작 : 열 추출\n",
    "x = df['Eng'];            # 'Eng'열 값들을 시리즈(Series)로 추출\n",
    "type(x)\n",
    "x"
   ]
  },
  {
   "cell_type": "code",
   "execution_count": 71,
   "id": "43356304-b232-469e-ac0b-6f41af406482",
   "metadata": {},
   "outputs": [
    {
     "data": {
      "text/html": [
       "<div>\n",
       "<style scoped>\n",
       "    .dataframe tbody tr th:only-of-type {\n",
       "        vertical-align: middle;\n",
       "    }\n",
       "\n",
       "    .dataframe tbody tr th {\n",
       "        vertical-align: top;\n",
       "    }\n",
       "\n",
       "    .dataframe thead th {\n",
       "        text-align: right;\n",
       "    }\n",
       "</style>\n",
       "<table border=\"1\" class=\"dataframe\">\n",
       "  <thead>\n",
       "    <tr style=\"text-align: right;\">\n",
       "      <th></th>\n",
       "      <th>Eng</th>\n",
       "      <th>Mat</th>\n",
       "      <th>avg</th>\n",
       "    </tr>\n",
       "  </thead>\n",
       "  <tbody>\n",
       "    <tr>\n",
       "      <th>Kims</th>\n",
       "      <td>87</td>\n",
       "      <td>80</td>\n",
       "      <td>83.5</td>\n",
       "    </tr>\n",
       "    <tr>\n",
       "      <th>Lees</th>\n",
       "      <td>79</td>\n",
       "      <td>90</td>\n",
       "      <td>84.5</td>\n",
       "    </tr>\n",
       "    <tr>\n",
       "      <th>Parks</th>\n",
       "      <td>80</td>\n",
       "      <td>80</td>\n",
       "      <td>80.0</td>\n",
       "    </tr>\n",
       "  </tbody>\n",
       "</table>\n",
       "</div>"
      ],
      "text/plain": [
       "       Eng  Mat   avg\n",
       "Kims    87   80  83.5\n",
       "Lees    79   90  84.5\n",
       "Parks   80   80  80.0"
      ]
     },
     "execution_count": 71,
     "metadata": {},
     "output_type": "execute_result"
    }
   ],
   "source": [
    "## [Data Frame] 조작 : 열 추가\n",
    "df['avg'] = (df['Eng'] + df['Mat']) / 2            # 'avg'열을 만들어서 평균 값 추가\n",
    "df"
   ]
  },
  {
   "cell_type": "code",
   "execution_count": 78,
   "id": "66e3e09b-bc45-4e6a-afc6-afba7cd22439",
   "metadata": {},
   "outputs": [
    {
     "data": {
      "text/plain": [
       "80    2\n",
       "90    1\n",
       "Name: Mat, dtype: int64"
      ]
     },
     "execution_count": 78,
     "metadata": {},
     "output_type": "execute_result"
    }
   ],
   "source": [
    "## [Data Frame] 관련 함수 사용\n",
    "x = df['Mat'];           # 'Eng'열 값들을 시리즈로 추출\n",
    "x.mean()                 # 'Eng'열 값들의 평균 구하기\n",
    "x.value_counts()         # 'Eng'열 값들의 개 수 구하기"
   ]
  },
  {
   "cell_type": "code",
   "execution_count": 73,
   "id": "b11fe01c-6472-4f5d-8003-fe3481c5415f",
   "metadata": {},
   "outputs": [
    {
     "data": {
      "text/plain": [
       "<AxesSubplot:xlabel='Mat', ylabel='count'>"
      ]
     },
     "execution_count": 73,
     "metadata": {},
     "output_type": "execute_result"
    },
    {
     "data": {
      "image/png": "[encoded data removed]",
      "text/plain": [
       "<Figure size 640x480 with 1 Axes>"
      ]
     },
     "metadata": {},
     "output_type": "display_data"
    }
   ],
   "source": [
    "## [Data Frame] 그래프 그리기\n",
    "import seaborn as sns\n",
    "sns.countplot(data=df, x='Mat')"
   ]
  }
 ],
 "metadata": {
  "kernelspec": {
   "display_name": "Python 3 (ipykernel)",
   "language": "python",
   "name": "python3"
  },
  "language_info": {
   "codemirror_mode": {
    "name": "ipython",
    "version": 3
   },
   "file_extension": ".py",
   "mimetype": "text/x-python",
   "name": "python",
   "nbconvert_exporter": "python",
   "pygments_lexer": "ipython3",
   "version": "3.9.13"
  }
 },
 "nbformat": 4,
 "nbformat_minor": 5
}
