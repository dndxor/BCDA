{
 "cells": [
  {
   "cell_type": "markdown",
   "id": "b28156d0-efb5-49d1-a53f-f4d13e2d6139",
   "metadata": {},
   "source": [
    "---------\n",
    "# **Ch01 과목 소개**\n",
    "-------------"
   ]
  },
  {
   "cell_type": "markdown",
   "id": "33158e1e-432a-4b6c-8a95-ffabd8750024",
   "metadata": {},
   "source": [
    "### **▶ 과목 소개**\n",
    "##### **ㅇ과목명 : 데이터 분석과 시각화**\n",
    "##### **ㅇ과목 개요 :**\n",
    "##### > Python 패키지 라이브러리들을 활용하여 데이터 분석 방법을 익힌다.\n",
    "##### > 데이터로부터 기본 그래프 그리기, 텍스트 마이닝, 지도 시각화,  머신러닝 예측분석, 웹 스크랩핑 등을 실습한다. \n",
    "##### **ㅇ수업 진행**\n",
    "##### > 실습 도구 : Anaconda3, Jupyter Lab\n",
    "##### > 과제 제출 : LMS의 해당 주차에 업로드\n",
    "##### > 참고 자료 : LMS 강의 자료실과  https://github.com/dndxor/BCDA"
   ]
  },
  {
   "cell_type": "markdown",
   "id": "4fbee4a8-4c0f-490e-9f65-4a493507e8de",
   "metadata": {},
   "source": [
    "-------------\n",
    "### **▶교재 정보**\n",
    "##### Do it! 쉽게 배우는 파이썬 데이터 분석\n",
    "##### 저자 : 김영우\n",
    "##### 출판사 : 이지스퍼블리싱\n",
    "##### https://search.pstatic.net/sunny/?src=https%3A%2F%2Fimg.ridicdn.net%2Fcover%2F754034726%2Fxxlarge&type=sc960_832\n",
    "##### [저자 자료실]    http://bit.ly/doit_python"
   ]
  },
  {
   "cell_type": "markdown",
   "id": "5805b222-c8ef-4e16-a6ae-e4839c8307b2",
   "metadata": {},
   "source": [
    "### **▶강의 진행 계획**"
   ]
  },
  {
   "cell_type": "markdown",
   "id": "b3188266-68f3-4136-a0d3-d72ff7540664",
   "metadata": {},
   "source": [
    "**[Time_Schedule]** https://github.com/dndxor/BCDA/blob/main/Time_Schedule.png"
   ]
  },
  {
   "cell_type": "code",
   "execution_count": 2,
   "id": "9fbba289-5989-4dd2-8d24-e2486e612f34",
   "metadata": {},
   "outputs": [
    {
     "data": {
      "text/html": [
       "<div>\n",
       "<style scoped>\n",
       "    .dataframe tbody tr th:only-of-type {\n",
       "        vertical-align: middle;\n",
       "    }\n",
       "\n",
       "    .dataframe tbody tr th {\n",
       "        vertical-align: top;\n",
       "    }\n",
       "\n",
       "    .dataframe thead th {\n",
       "        text-align: right;\n",
       "    }\n",
       "</style>\n",
       "<table border=\"1\" class=\"dataframe\">\n",
       "  <thead>\n",
       "    <tr style=\"text-align: right;\">\n",
       "      <th></th>\n",
       "      <th>Unnamed: 0</th>\n",
       "      <th>Unnamed: 1</th>\n",
       "      <th>Unnamed: 2</th>\n",
       "    </tr>\n",
       "  </thead>\n",
       "  <tbody>\n",
       "    <tr>\n",
       "      <th>0</th>\n",
       "      <td>Weeks</td>\n",
       "      <td>Contens</td>\n",
       "      <td>Hours</td>\n",
       "    </tr>\n",
       "    <tr>\n",
       "      <th>1</th>\n",
       "      <td>W1</td>\n",
       "      <td>C01~Ch03_PythonReview\\nCh17_DataStructure</td>\n",
       "      <td>4</td>\n",
       "    </tr>\n",
       "    <tr>\n",
       "      <th>2</th>\n",
       "      <td>W2</td>\n",
       "      <td>Ch04: Data Frame\\nCh05_DataAnalysisBasic</td>\n",
       "      <td>4</td>\n",
       "    </tr>\n",
       "    <tr>\n",
       "      <th>3</th>\n",
       "      <td>W3</td>\n",
       "      <td>Ch06_DataHandling</td>\n",
       "      <td>4</td>\n",
       "    </tr>\n",
       "    <tr>\n",
       "      <th>4</th>\n",
       "      <td>W4</td>\n",
       "      <td>Ch07_DataNormalize</td>\n",
       "      <td>4</td>\n",
       "    </tr>\n",
       "    <tr>\n",
       "      <th>5</th>\n",
       "      <td>W5</td>\n",
       "      <td>Ch08_Graph</td>\n",
       "      <td>4</td>\n",
       "    </tr>\n",
       "    <tr>\n",
       "      <th>6</th>\n",
       "      <td>W6</td>\n",
       "      <td>Ch09_Project_and_Exam-Mid</td>\n",
       "      <td>3</td>\n",
       "    </tr>\n",
       "    <tr>\n",
       "      <th>7</th>\n",
       "      <td>W7</td>\n",
       "      <td>Ch10_TextMining</td>\n",
       "      <td>4</td>\n",
       "    </tr>\n",
       "    <tr>\n",
       "      <th>8</th>\n",
       "      <td>W8</td>\n",
       "      <td>Ch11_Map\\nCh12_InteractGraph\\nCh13_Report</td>\n",
       "      <td>4</td>\n",
       "    </tr>\n",
       "    <tr>\n",
       "      <th>9</th>\n",
       "      <td>W9</td>\n",
       "      <td>Ch14_Stats\\nCh15_Machinelearning</td>\n",
       "      <td>4</td>\n",
       "    </tr>\n",
       "    <tr>\n",
       "      <th>10</th>\n",
       "      <td>W10</td>\n",
       "      <td>Ch20_WebScraping_Table</td>\n",
       "      <td>4</td>\n",
       "    </tr>\n",
       "    <tr>\n",
       "      <th>11</th>\n",
       "      <td>W11</td>\n",
       "      <td>Ch20_WebScraping_Table</td>\n",
       "      <td>4</td>\n",
       "    </tr>\n",
       "    <tr>\n",
       "      <th>12</th>\n",
       "      <td>W12</td>\n",
       "      <td>Ch20_Project_and_Exam-End</td>\n",
       "      <td>3</td>\n",
       "    </tr>\n",
       "  </tbody>\n",
       "</table>\n",
       "</div>"
      ],
      "text/plain": [
       "   Unnamed: 0                                 Unnamed: 1 Unnamed: 2\n",
       "0       Weeks                                    Contens      Hours\n",
       "1          W1  C01~Ch03_PythonReview\\nCh17_DataStructure          4\n",
       "2          W2   Ch04: Data Frame\\nCh05_DataAnalysisBasic          4\n",
       "3          W3                          Ch06_DataHandling          4\n",
       "4          W4                         Ch07_DataNormalize          4\n",
       "5          W5                                 Ch08_Graph          4\n",
       "6          W6                  Ch09_Project_and_Exam-Mid          3\n",
       "7          W7                            Ch10_TextMining          4\n",
       "8          W8  Ch11_Map\\nCh12_InteractGraph\\nCh13_Report          4\n",
       "9          W9           Ch14_Stats\\nCh15_Machinelearning          4\n",
       "10        W10                     Ch20_WebScraping_Table          4\n",
       "11        W11                     Ch20_WebScraping_Table          4\n",
       "12        W12                  Ch20_Project_and_Exam-End          3"
      ]
     },
     "execution_count": 2,
     "metadata": {},
     "output_type": "execute_result"
    }
   ],
   "source": [
    "import pandas as pd\n",
    "lect = pd.read_excel('Ch01_lect_schedule.xlsx')\n",
    "lect"
   ]
  },
  {
   "cell_type": "markdown",
   "id": "8ab1d594-58fd-49a8-b5d7-c57407913216",
   "metadata": {},
   "source": [
    "### **▶평가 계획**\n",
    "#### **ㅇ반영 비율**\n",
    "##### > 출석 : 20% \n",
    "##### > 과제(문제 해결) : 20% \n",
    "##### > 중간 평가(실기) : 30% \n",
    "##### > 기말 평가(실기) : 30%\n",
    "#### **ㅇ 평가 방법**\n",
    "##### > 출석 : 4회이상 결석 시 또는 출석점수 13점 미만 시  무조건 F처리 \n",
    "##### > 과제(문제 해결) : 제시된 문제를 해결한 코드를 강의관리시스템(LMS)에 업로드 \n",
    "##### > 중간 평가(실기/필기) : 실기 중심의 문제 해결 능력 평가 \n",
    "##### > 기말 평가(실기/필기) : 실기 중심의 문제 해결 능력 평가"
   ]
  },
  {
   "cell_type": "code",
   "execution_count": null,
   "id": "06497e8f-2e6d-4506-a0ce-c3b7484f312c",
   "metadata": {},
   "outputs": [],
   "source": []
  }
 ],
 "metadata": {
  "kernelspec": {
   "display_name": "Python 3 (ipykernel)",
   "language": "python",
   "name": "python3"
  },
  "language_info": {
   "codemirror_mode": {
    "name": "ipython",
    "version": 3
   },
   "file_extension": ".py",
   "mimetype": "text/x-python",
   "name": "python",
   "nbconvert_exporter": "python",
   "pygments_lexer": "ipython3",
   "version": "3.9.13"
  }
 },
 "nbformat": 4,
 "nbformat_minor": 5
}
