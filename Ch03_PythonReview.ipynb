{
 "cells": [
  {
   "cell_type": "markdown",
   "id": "72af6169-71b5-4a6d-a900-0550b537a0c4",
   "metadata": {},
   "source": [
    "----\n",
    "## **▩ Ch03 데이터 분석에 필요한 연장 챙기기**\n",
    "----"
   ]
  },
  {
   "cell_type": "markdown",
   "id": "55c4352a-7e5e-4c71-922c-8ad896298db5",
   "metadata": {},
   "source": [
    "### **03-0. print()**"
   ]
  },
  {
   "cell_type": "markdown",
   "id": "e25c5e65-be5c-4778-a3ed-3152bf2b4fcc",
   "metadata": {},
   "source": [
    "기본 사용"
   ]
  },
  {
   "cell_type": "code",
   "execution_count": 2,
   "id": "b05a04a4-9463-4aa8-bafe-3293bb2702a6",
   "metadata": {},
   "outputs": [
    {
     "name": "stdout",
     "output_type": "stream",
     "text": [
      "Hello, World!\n"
     ]
    }
   ],
   "source": [
    "print(\"Hello, World!\")"
   ]
  },
  {
   "cell_type": "markdown",
   "id": "9388536c-6f95-43b6-8561-6b783b4f6e0a",
   "metadata": {},
   "source": [
    "여러 값을 출력"
   ]
  },
  {
   "cell_type": "code",
   "execution_count": 1,
   "id": "b637832d-bfb7-4c12-a34e-832bc8f82000",
   "metadata": {},
   "outputs": [
    {
     "name": "stdout",
     "output_type": "stream",
     "text": [
      "Name: Alice Age: 25\n"
     ]
    }
   ],
   "source": [
    "name = \"Alice\"\n",
    "age = 25\n",
    "print(\"Name:\", name, \"Age:\", age)"
   ]
  },
  {
   "cell_type": "markdown",
   "id": "6f5af0ba-be2e-416a-a650-a708e03eb6b2",
   "metadata": {},
   "source": [
    "문자열 포매팅: f-string 사용"
   ]
  },
  {
   "cell_type": "code",
   "execution_count": 4,
   "id": "2ece5677-a510-457d-9fe8-70913c84308c",
   "metadata": {},
   "outputs": [
    {
     "name": "stdout",
     "output_type": "stream",
     "text": [
      "My name is Alice and I am 25 years old.\n"
     ]
    }
   ],
   "source": [
    "name = \"Alice\"\n",
    "age = 25\n",
    "print(f\"My name is {name} and I am {age} years old.\")"
   ]
  },
  {
   "cell_type": "markdown",
   "id": "e327bb5d-a08f-4f1c-a188-49f9ab4af90b",
   "metadata": {},
   "source": [
    "문자열 포매팅: format() 사용"
   ]
  },
  {
   "cell_type": "code",
   "execution_count": 5,
   "id": "878d12b3-d04e-42b2-9ddb-22a743ce9e90",
   "metadata": {},
   "outputs": [
    {
     "name": "stdout",
     "output_type": "stream",
     "text": [
      "My name is Alice and I am 25 years old.\n"
     ]
    }
   ],
   "source": [
    "print(\"My name is {} and I am {} years old.\".format(name, age))"
   ]
  },
  {
   "cell_type": "markdown",
   "id": "e925d863-0833-43d8-bdd2-c8e3faa8a6f7",
   "metadata": {},
   "source": [
    "% 포맷 연산자 사용"
   ]
  },
  {
   "cell_type": "code",
   "execution_count": 6,
   "id": "18f2b532-bfe2-431c-9295-fd6c8bbc8397",
   "metadata": {},
   "outputs": [
    {
     "name": "stdout",
     "output_type": "stream",
     "text": [
      "My name is Alice and I am 25 years old.\n"
     ]
    }
   ],
   "source": [
    "print(\"My name is %s and I am %d years old.\" %(name, age))"
   ]
  },
  {
   "cell_type": "code",
   "execution_count": 9,
   "id": "8608de0a-6293-45f5-9078-2eeaa1364d81",
   "metadata": {},
   "outputs": [
    {
     "name": "stdout",
     "output_type": "stream",
     "text": [
      "3.141592653589793\n",
      "Pi is 3.142\n"
     ]
    }
   ],
   "source": [
    "import math\n",
    "print(math.pi)\n",
    "print(\"Pi is %5.3f\" %(math.pi))"
   ]
  },
  {
   "cell_type": "markdown",
   "id": "e5e9ae1f-fa12-4900-a11c-d5cd422842da",
   "metadata": {},
   "source": [
    "줄바꿈 없이 출력"
   ]
  },
  {
   "cell_type": "code",
   "execution_count": 11,
   "id": "45b42203-36ea-4281-a98a-ce2bc3a16508",
   "metadata": {},
   "outputs": [
    {
     "name": "stdout",
     "output_type": "stream",
     "text": [
      "My name is Alice. I am 25 years old.\n"
     ]
    }
   ],
   "source": [
    "name = \"Alice\"\n",
    "age = 25\n",
    "print(\"My name is %s\" %name, end='. ')\n",
    "print(\"I am %d years old.\" %age)"
   ]
  },
  {
   "cell_type": "markdown",
   "id": "104a933a-d2ab-4733-a4ca-022b30a63398",
   "metadata": {},
   "source": [
    "구분자 변경"
   ]
  },
  {
   "cell_type": "code",
   "execution_count": 13,
   "id": "c88bf5dc-8b0d-4d4c-a10b-0d13df3939b2",
   "metadata": {},
   "outputs": [
    {
     "name": "stdout",
     "output_type": "stream",
     "text": [
      "Alice, 25\n"
     ]
    }
   ],
   "source": [
    "name = \"Alice\"\n",
    "age = 25\n",
    "print(name, age, sep=', ')"
   ]
  },
  {
   "cell_type": "markdown",
   "id": "15b05868-49bc-4b67-bf75-4e44e5d40071",
   "metadata": {},
   "source": [
    "##### **이스케이프 문자 사용**\n",
    "###### > \\t는 t(문자)를 escape 하므로 제어 기능을 함"
   ]
  },
  {
   "cell_type": "code",
   "execution_count": 10,
   "id": "4a6d7a3a-ee0f-4a76-8049-2623e30d17ae",
   "metadata": {},
   "outputs": [
    {
     "name": "stdout",
     "output_type": "stream",
     "text": [
      "Line1\n",
      "Line2\tTabbed\n"
     ]
    }
   ],
   "source": [
    "print(\"Line1\\nLine2\\tTabbed\")"
   ]
  },
  {
   "cell_type": "markdown",
   "id": "2b1d1a5c-5c88-449e-97b2-73dd85de29c3",
   "metadata": {},
   "source": [
    "###### 이스케이프 문자를 escape\n",
    "###### > \\\\\\t는 \\(escape 제어 문자)를 escape 하므로 '\\\\'로 기능을 함"
   ]
  },
  {
   "cell_type": "code",
   "execution_count": 14,
   "id": "cf673fee-c506-48b0-9b31-d2b5aa4611ee",
   "metadata": {},
   "outputs": [
    {
     "name": "stdout",
     "output_type": "stream",
     "text": [
      "\\t is Tab\n"
     ]
    }
   ],
   "source": [
    "print(\"\\\\t is Tab\")"
   ]
  },
  {
   "cell_type": "code",
   "execution_count": 26,
   "id": "ca14a87b-3e4e-40b5-bb2d-783cf11429e4",
   "metadata": {},
   "outputs": [
    {
     "name": "stdout",
     "output_type": "stream",
     "text": [
      "c = a % b\n"
     ]
    }
   ],
   "source": [
    "print(\"c = a % b\")"
   ]
  },
  {
   "cell_type": "code",
   "execution_count": 25,
   "id": "d71fc25a-a0c3-4f45-8532-e55fd5d14ad2",
   "metadata": {},
   "outputs": [
    {
     "name": "stdout",
     "output_type": "stream",
     "text": [
      "c = 13 % 2 = 1\n"
     ]
    }
   ],
   "source": [
    "print(\"c = %d %% %d = %d\" %(13, 2, 13 % 2))"
   ]
  },
  {
   "cell_type": "code",
   "execution_count": null,
   "id": "985f5cf3-95b9-4c88-a1c5-cce367afd86f",
   "metadata": {},
   "outputs": [],
   "source": []
  },
  {
   "cell_type": "markdown",
   "id": "ebae9d7a-7827-4d61-97f5-6fa98ff6d4b5",
   "metadata": {},
   "source": [
    "### **03-1. 변하는 수, '변수' 이해하기**"
   ]
  },
  {
   "cell_type": "markdown",
   "id": "5228913d-f02f-4c28-8635-1d2a9736f012",
   "metadata": {},
   "source": [
    "##### **변수(Variable)**\n",
    "##### > 상수 값 대신에 이름으로 값을 대신해 사용하는 방식"
   ]
  },
  {
   "cell_type": "markdown",
   "id": "c6479045-0b1c-4655-93c9-18e149dd5e0c",
   "metadata": {
    "tags": []
   },
   "source": [
    "#### **ㅇ Python 자료 구조(변수) 종류**\n",
    "#####  **[내장 자료형]**\n",
    "#####   >> 스칼라(Scalar) 형 : int, float, str, bool 등\n",
    "#####   >> 비스칼라형 : list, tuple, dictionary 등\n",
    "#####  **[외장 자료형] Pandas 자료형**\n",
    "#####   >> 시리즈(Series) 형 : 1차원 나열형 자료\n",
    "#####   >> 데이터 프레임(Data Frame) 형 : 2차원 나열형 자료"
   ]
  },
  {
   "cell_type": "code",
   "execution_count": null,
   "id": "a40cd978-cce3-4290-9da4-fd941f3d2be6",
   "metadata": {},
   "outputs": [],
   "source": []
  },
  {
   "cell_type": "markdown",
   "id": "fdadbc48-8fff-4903-b680-179e5d0e0587",
   "metadata": {},
   "source": [
    "### **ㅇ자료형: 스칼라(Scalar) 형**\n",
    "##### > 하나의 값 만으로 구성된 자료 구조\n",
    "#####   >> int, float, str, bool 등"
   ]
  },
  {
   "cell_type": "code",
   "execution_count": 7,
   "id": "e6dea67d-103f-4a27-9d56-fabb89f5f844",
   "metadata": {},
   "outputs": [
    {
     "name": "stdout",
     "output_type": "stream",
     "text": [
      "<class 'int'>\n",
      "<class 'float'>\n",
      "<class 'str'>\n",
      "<class 'bool'>\n"
     ]
    }
   ],
   "source": [
    "## 스칼라(Scalar) 형 ##\n",
    "a, b, c, d = 3, 3.15, 'hello, world!', True \n",
    "print(type(a))        \n",
    "print(type(b))\n",
    "print(type(c))\n",
    "print(type(d))"
   ]
  },
  {
   "cell_type": "code",
   "execution_count": 8,
   "id": "4ca58f4e-cb70-434c-8490-bfa224777292",
   "metadata": {},
   "outputs": [
    {
     "name": "stdout",
     "output_type": "stream",
     "text": [
      "<class 'bool'>\n",
      "True\n",
      "1\n"
     ]
    }
   ],
   "source": [
    "## 스칼라(Scalar) 형: bool ##\n",
    "d = True \n",
    "print(type(d))  #d의 실제 값은 1(True) 또는 0(False)\n",
    "print(d)   #print() 시  'True' 또는 'False'로 출력\n",
    "print(\"%d\" %d)   #원래대로 출력"
   ]
  },
  {
   "cell_type": "code",
   "execution_count": 10,
   "id": "2a793f9b-b40b-4f79-9bd9-c270ffcf6b51",
   "metadata": {},
   "outputs": [
    {
     "name": "stdout",
     "output_type": "stream",
     "text": [
      "> 참\n"
     ]
    }
   ],
   "source": [
    "## 스칼라(Scalar) 형: bool ##\n",
    "d = True \n",
    "if d == True:\n",
    "    print(\"> 참\")\n",
    "else:\n",
    "    print(\"> 거짓\")"
   ]
  },
  {
   "cell_type": "code",
   "execution_count": 11,
   "id": "151c69ad-17ae-4314-9bb2-99402083d723",
   "metadata": {},
   "outputs": [
    {
     "name": "stdout",
     "output_type": "stream",
     "text": [
      "> 참\n"
     ]
    }
   ],
   "source": [
    "## 스칼라(Scalar) 형: bool ##\n",
    "d = True \n",
    "if d == 1:\n",
    "    print(\"> 참\")\n",
    "else:\n",
    "    print(\"> 거짓\")"
   ]
  },
  {
   "cell_type": "code",
   "execution_count": 12,
   "id": "2ac3df09-abb7-4d1f-8c5a-47ae68b28467",
   "metadata": {},
   "outputs": [
    {
     "name": "stdout",
     "output_type": "stream",
     "text": [
      "> 거짓\n"
     ]
    }
   ],
   "source": [
    "## 스칼라(Scalar) 형: bool ##\n",
    "d = 0 \n",
    "if d == True:\n",
    "    print(\"> 참\")\n",
    "else:\n",
    "    print(\"> 거짓\")"
   ]
  },
  {
   "cell_type": "markdown",
   "id": "cc6ed46d-26c0-44c0-a556-6ae7e7910332",
   "metadata": {},
   "source": [
    "##### **문자열 자료형의 메서드 사용하기**\n",
    "###### print(type(c))으로 변수의 자료형을 확인하면 class에 기반함을 알 수 있음.\n",
    "###### Python에서는 자료형을 class로 정의하고, 변수를 객체 형태로 만들어 사용함. \n",
    "###### > 그러므로 자료형의 메서드를 사용할 수 있다."
   ]
  },
  {
   "cell_type": "code",
   "execution_count": 14,
   "id": "95b73980-b809-4214-a3fe-c471f7eeed62",
   "metadata": {},
   "outputs": [
    {
     "name": "stdout",
     "output_type": "stream",
     "text": [
      "<class 'str'>\n"
     ]
    }
   ],
   "source": [
    "c = 'HELLO, WORLD!'\n",
    "print(type(c))"
   ]
  },
  {
   "cell_type": "code",
   "execution_count": 15,
   "id": "32609360-3e40-44d3-a9fc-5ca9035a1436",
   "metadata": {},
   "outputs": [
    {
     "data": {
      "text/plain": [
       "'hello, world!'"
      ]
     },
     "execution_count": 15,
     "metadata": {},
     "output_type": "execute_result"
    }
   ],
   "source": [
    "c = 'HELLO, WORLD!'\n",
    "c.lower()             # 'HELLO, WORLD!'"
   ]
  },
  {
   "cell_type": "code",
   "execution_count": 16,
   "id": "215cefc8-106d-4faf-8275-d5fb325dc2ae",
   "metadata": {},
   "outputs": [
    {
     "data": {
      "text/plain": [
       "'HELLO, WORLD!'"
      ]
     },
     "execution_count": 16,
     "metadata": {},
     "output_type": "execute_result"
    }
   ],
   "source": [
    "c = 'hello, world!'\n",
    "c.upper()             # 'HELLO, WORLD!'"
   ]
  },
  {
   "cell_type": "code",
   "execution_count": 17,
   "id": "36f41eac-d258-408b-a4ab-f4a41688537f",
   "metadata": {},
   "outputs": [
    {
     "data": {
      "text/plain": [
       "'Hello, world!'"
      ]
     },
     "execution_count": 17,
     "metadata": {},
     "output_type": "execute_result"
    }
   ],
   "source": [
    "c = 'hello, world!'\n",
    "c.capitalize()        # 'Hello, world!'  문장의 첫 문자를 대문자로"
   ]
  },
  {
   "cell_type": "code",
   "execution_count": 18,
   "id": "75a0cb22-21e1-4c18-b6d3-88dcc125a72a",
   "metadata": {},
   "outputs": [
    {
     "data": {
      "text/plain": [
       "'Hello, World!'"
      ]
     },
     "execution_count": 18,
     "metadata": {},
     "output_type": "execute_result"
    }
   ],
   "source": [
    "c = 'hello, world!'\n",
    "c.title()             # 'Hello, World!' 단어별 첫 문자를 대문자로 "
   ]
  },
  {
   "cell_type": "code",
   "execution_count": 22,
   "id": "d0bf293f-c60b-4718-955e-bb87bb563c8b",
   "metadata": {},
   "outputs": [
    {
     "data": {
      "text/plain": [
       "'hellX, wXrld!'"
      ]
     },
     "execution_count": 22,
     "metadata": {},
     "output_type": "execute_result"
    }
   ],
   "source": [
    "c = 'hello, world!'\n",
    "c.replace('o', 'X')    # 'Hello, World!!!'  해당 문자열을 찾아 모두 대체"
   ]
  },
  {
   "cell_type": "code",
   "execution_count": 26,
   "id": "1574dee7-7b77-4172-9704-1ef758646bd4",
   "metadata": {},
   "outputs": [
    {
     "data": {
      "text/plain": [
       "5"
      ]
     },
     "execution_count": 26,
     "metadata": {},
     "output_type": "execute_result"
    }
   ],
   "source": [
    "c = 'hello, world!'\n",
    "c.find(',')              # 찾는 문자열의 시작 index 값(0부터 시작)"
   ]
  },
  {
   "cell_type": "code",
   "execution_count": 27,
   "id": "a35c8074-7fed-4f63-a158-76ee7b482cc5",
   "metadata": {},
   "outputs": [
    {
     "data": {
      "text/plain": [
       "['hello', 'world!']"
      ]
     },
     "execution_count": 27,
     "metadata": {},
     "output_type": "execute_result"
    }
   ],
   "source": [
    "c.split(', ')            # 원하는 문자열을 분리자로하여 분리, 결과는 리스트 형태로 반환"
   ]
  },
  {
   "cell_type": "code",
   "execution_count": null,
   "id": "85113e74-7e37-4153-bf6c-f1f701754f2d",
   "metadata": {},
   "outputs": [],
   "source": []
  },
  {
   "cell_type": "markdown",
   "id": "d17c42c6-5e50-4231-9a0f-98a59d0766c7",
   "metadata": {},
   "source": [
    "### **ㅇ자료형: 비스칼라(Scalar) 형**\n",
    "##### 여러 개의 값을 사용할 수 있도록 구성된 자료 구조 : list, tuple, dictionary 등\n",
    "###### List [item, ...] : index로 접근하는 방식, 데이터 항목 수정 가능 (index는 자동 부여)\n",
    "###### Tuple (item, ...) : index로 접근하는 방식, 데이터 항목 수정 불가능 (index는 자동 부여)\n",
    "###### Dictionary {key:item, ...}: Key로 접근하는 방식, 데이터 항목 수정 가능 (Key는 사용자가 부여)"
   ]
  },
  {
   "cell_type": "markdown",
   "id": "2f9d2c4d-230e-4488-8e96-6b853648a7b9",
   "metadata": {},
   "source": [
    "### **List 자료형**\n",
    "##### [   ] 안에 나열된 자료형\n",
    "###### index 값으로 접근 (index는 0부터 시작)"
   ]
  },
  {
   "cell_type": "markdown",
   "id": "88bc88e8-f5fa-4977-bd55-e33987e9d9b9",
   "metadata": {},
   "source": [
    "##### **리스트 초기화**\n",
    "##### alist = [1, 2, 3]  \n",
    "##### alist = list(1, 2, 3)  "
   ]
  },
  {
   "cell_type": "code",
   "execution_count": 15,
   "id": "458dfb71-8568-4502-abf7-c99ad325dbe4",
   "metadata": {},
   "outputs": [
    {
     "name": "stdout",
     "output_type": "stream",
     "text": [
      "[1, 2, 3, 4]\n",
      "[]\n"
     ]
    }
   ],
   "source": [
    "alist = [1, 2, 3, 4]   #리스트 생성 및 초기화\n",
    "print(alist)\n",
    "blist = []\n",
    "print(blist)"
   ]
  },
  {
   "cell_type": "code",
   "execution_count": 76,
   "id": "380fa4bc-ace2-431c-a929-5f87c943cffd",
   "metadata": {},
   "outputs": [
    {
     "name": "stdout",
     "output_type": "stream",
     "text": [
      "[1, 2, 3, 4]\n"
     ]
    }
   ],
   "source": [
    "alist = list((1, 2, 3, 4))   #리스트 생성 및 초기화\n",
    "print(alist)"
   ]
  },
  {
   "cell_type": "code",
   "execution_count": 17,
   "id": "3d89e3a7-9178-4236-8247-062e3c1b8557",
   "metadata": {},
   "outputs": [
    {
     "name": "stdout",
     "output_type": "stream",
     "text": [
      "[1, 2, 3, 4]\n"
     ]
    }
   ],
   "source": [
    "alist = list([1, 2, 3, 4])   #리스트 생성 및 초기화\n",
    "print(alist)"
   ]
  },
  {
   "cell_type": "code",
   "execution_count": 18,
   "id": "879fdd61-f169-4887-8f6e-aa8e683c3986",
   "metadata": {},
   "outputs": [
    {
     "name": "stdout",
     "output_type": "stream",
     "text": [
      "[0, 1, 2, 3]\n"
     ]
    }
   ],
   "source": [
    "alist = [i for i in range(4)]   #반복문으로 리스트 초기화\n",
    "print(alist)"
   ]
  },
  {
   "cell_type": "markdown",
   "id": "756dafce-f068-40f5-ae00-1fe83d68b328",
   "metadata": {},
   "source": [
    "##### **리스트 접근**\n",
    "##### list[index]로 값에 접근\n",
    "##### for x in 리스트: #순차적으로 접근"
   ]
  },
  {
   "cell_type": "code",
   "execution_count": 21,
   "id": "6f0b32b9-7635-479e-8211-a1f677cc6784",
   "metadata": {},
   "outputs": [
    {
     "name": "stdout",
     "output_type": "stream",
     "text": [
      "a\n",
      "[1, 2, 'A', 'b']\n"
     ]
    }
   ],
   "source": [
    "## list[index]로 값에 접근\n",
    "alist = [1, 2, 'a', 'b']   #리스트 생성 및 초기화\n",
    "print(alist[2])  #index로 값에 접근\n",
    "alist[2] = 'A'   #index로 값에 접근\n",
    "print(alist)"
   ]
  },
  {
   "cell_type": "code",
   "execution_count": 23,
   "id": "e2149069-09dc-4279-b61b-f757d1a01eab",
   "metadata": {},
   "outputs": [
    {
     "name": "stdout",
     "output_type": "stream",
     "text": [
      "1\n",
      "2\n",
      "a\n",
      "b\n"
     ]
    }
   ],
   "source": [
    "## for x in 리스트: #순차적으로 접근\n",
    "alist = [1, 2, 'a', 'b']   #리스트 생성 및 초기화\n",
    "for x in alist:  #순차적으로 접근\n",
    "    print(x)"
   ]
  },
  {
   "cell_type": "code",
   "execution_count": 64,
   "id": "606bc04f-d180-45da-9dd6-ecf7ae531214",
   "metadata": {},
   "outputs": [
    {
     "name": "stdout",
     "output_type": "stream",
     "text": [
      "1\n",
      "2\n",
      "a\n",
      "b\n"
     ]
    }
   ],
   "source": [
    "## for x in 리스트: #순차적으로 접근\n",
    "alist = [1, 2, 'a', 'b']   #리스트 생성 및 초기화\n",
    "for i in range(len(alist)):  #순차적으로 접근\n",
    "    print(alist[i])"
   ]
  },
  {
   "cell_type": "markdown",
   "id": "782df352-bbe9-4bc0-8a0a-35067da71f21",
   "metadata": {},
   "source": [
    "##### **문자열 문자들을 순차적으로 접근하기**\n",
    "###### 문자열은 문자들의 나열됨 모음이므로 리스트처럼 반복문으로 접근 가능"
   ]
  },
  {
   "cell_type": "code",
   "execution_count": 24,
   "id": "1058e147-7e26-46cf-8388-3e7050ab2ce6",
   "metadata": {},
   "outputs": [
    {
     "name": "stdout",
     "output_type": "stream",
     "text": [
      "h e l l o ,   w o r l d ! "
     ]
    }
   ],
   "source": [
    "## for x in 문자열: #문자에 순차적으로 접근\n",
    "c = \"hello, world!\"   #리스트 생성 및 초기화\n",
    "for x in c:  #순차적으로 접근\n",
    "    print(x, end = ' ')"
   ]
  },
  {
   "cell_type": "code",
   "execution_count": 25,
   "id": "c899b4e7-09b9-4e0d-86fa-d4fc59afc044",
   "metadata": {},
   "outputs": [
    {
     "name": "stdout",
     "output_type": "stream",
     "text": [
      "h e l l o ,   w o r l d ! "
     ]
    }
   ],
   "source": [
    "## for x in 문자열: #문자에 순차적으로 접근\n",
    "c = \"hello, world!\"   #리스트 생성 및 초기화\n",
    "for i in range(len(c)):  #순차적으로 접근\n",
    "    print(c[i], end = ' ')"
   ]
  },
  {
   "cell_type": "markdown",
   "id": "acd0c57b-7c7e-4253-b4ac-ca33896239fd",
   "metadata": {},
   "source": [
    "##### **리스트 조작**\n",
    "##### 리스트의 메서드를 사용하여 조작함.\n",
    "##### > list.append()  #맨 마지막 항목으로 추가\n",
    "##### > list.pop()     #맨 마지막 항목 제거, 반환"
   ]
  },
  {
   "cell_type": "code",
   "execution_count": 26,
   "id": "cf4ed271-9bb9-41e5-a638-ee28e5e9bad7",
   "metadata": {},
   "outputs": [
    {
     "name": "stdout",
     "output_type": "stream",
     "text": [
      "[1, 2, 'A', 'b']\n"
     ]
    }
   ],
   "source": [
    "alist = [1, 2, 'a', 'b']   #리스트 생성 및 초기화\n",
    "alist[2] = 'A'  #index로 값에 접근\n",
    "print(alist)"
   ]
  },
  {
   "cell_type": "code",
   "execution_count": 27,
   "id": "1c348873-d9a8-4e0b-a7fb-a3ec4de8c4cf",
   "metadata": {},
   "outputs": [
    {
     "name": "stdout",
     "output_type": "stream",
     "text": [
      "[1, 2, 'a', 'b', 'c']\n",
      "c\n",
      "[1, 2, 'a', 'b']\n"
     ]
    }
   ],
   "source": [
    "alist = [1, 2, 'a', 'b']   #리스트 생성 및 초기화\n",
    "alist.append('c')  #맨 마지막 항목으로 추가\n",
    "print(alist)\n",
    "print(alist.pop()) #맨 마지막 항목 제거, 반환\n",
    "print(alist)"
   ]
  },
  {
   "cell_type": "markdown",
   "id": "8a4c3e00-2bf8-4544-a3f8-5c145e111812",
   "metadata": {},
   "source": [
    "##### > list.index(x)  #x 값의 index 값을 반환"
   ]
  },
  {
   "cell_type": "code",
   "execution_count": 82,
   "id": "3c57f193-a278-4829-8166-e1e17fa1d17d",
   "metadata": {},
   "outputs": [
    {
     "data": {
      "text/plain": [
       "3"
      ]
     },
     "execution_count": 82,
     "metadata": {},
     "output_type": "execute_result"
    }
   ],
   "source": [
    "alist = [1, 2, 'a', 'b']   #리스트 생성 및 초기화\n",
    "alist.index('b')  #'b'항목의 index 값 반환"
   ]
  },
  {
   "cell_type": "markdown",
   "id": "1b92f394-df5e-47d1-8eca-c4048024db30",
   "metadata": {},
   "source": [
    "##### > list.clear()  #리스트의 모든 항목을 제거"
   ]
  },
  {
   "cell_type": "code",
   "execution_count": 81,
   "id": "cbfa24f6-8d22-4811-afd2-ab5b376c4cb6",
   "metadata": {},
   "outputs": [
    {
     "name": "stdout",
     "output_type": "stream",
     "text": [
      "[]\n"
     ]
    }
   ],
   "source": [
    "alist.clear()  #모든 항목 제거\n",
    "print(alist)"
   ]
  },
  {
   "cell_type": "markdown",
   "id": "e07fc485-ce99-4392-9f48-2d27618efbfd",
   "metadata": {},
   "source": [
    "##### **기타 리스트 조작 메서드**\n",
    "###### list.insert(index, value)  index 위치에 value 삽입\n",
    "###### list.extend(x) x를 개별로 풀어서 list에 더하기(x가 list일 수 있음)\n",
    "###### list.len()  항목 수를 반환"
   ]
  },
  {
   "cell_type": "code",
   "execution_count": 87,
   "id": "b9329632-6ed1-43ca-86c8-89723c1118ef",
   "metadata": {},
   "outputs": [
    {
     "name": "stdout",
     "output_type": "stream",
     "text": [
      "[1, 2, 3, 33, 4, 5]\n"
     ]
    }
   ],
   "source": [
    "## list.insert(index, value)  index 위치에 value 삽입\n",
    "alist = [1, 2, 3, 4, 5] \n",
    "alist.insert(3, 33)\n",
    "print(alist)"
   ]
  },
  {
   "cell_type": "code",
   "execution_count": 88,
   "id": "e1568a1f-05e2-42d9-8905-c7e359ad2ce0",
   "metadata": {},
   "outputs": [
    {
     "name": "stdout",
     "output_type": "stream",
     "text": [
      "[1, 2, 3, 4, 5, [6, 66]]\n"
     ]
    }
   ],
   "source": [
    "## list.append(x)\n",
    "alist = [1, 2, 3, 4, 5] \n",
    "alist.append([6, 66])  #한개로 붙힘\n",
    "print(alist)"
   ]
  },
  {
   "cell_type": "code",
   "execution_count": 89,
   "id": "d2f60086-b024-47c1-8d5e-ae0f7c31bfc6",
   "metadata": {},
   "outputs": [
    {
     "name": "stdout",
     "output_type": "stream",
     "text": [
      "[1, 2, 3, 4, 5, 6, 66]\n"
     ]
    }
   ],
   "source": [
    "## list.extend(x)\n",
    "alist = [1, 2, 3, 4, 5] \n",
    "alist.extend([6, 66])  #개별로 붙힘\n",
    "print(alist)"
   ]
  },
  {
   "cell_type": "markdown",
   "id": "909d9cc1-8936-4597-9c64-3a3b59180b73",
   "metadata": {},
   "source": [
    "##### **리스트 슬라이싱**\n",
    "###### list[from:end]  #index가 from부터 추출하여 end 일 때 종료, 즉 from ~ (end - 1)까지 추출"
   ]
  },
  {
   "cell_type": "code",
   "execution_count": 83,
   "id": "c90b945e-43ff-43fb-b437-9bc390889306",
   "metadata": {},
   "outputs": [
    {
     "name": "stdout",
     "output_type": "stream",
     "text": [
      "['a', 'b']\n",
      "[1, 2]\n"
     ]
    }
   ],
   "source": [
    "print(alist[2:])  #index 2에서 끝까지 추출\n",
    "print(alist[:2])  #index 0에서 1까지 추출"
   ]
  },
  {
   "cell_type": "code",
   "execution_count": 84,
   "id": "969ca79e-4bb7-45e2-b0b5-4fcfadc42fb1",
   "metadata": {
    "tags": []
   },
   "outputs": [
    {
     "name": "stdout",
     "output_type": "stream",
     "text": [
      "1 2 3 4 5 "
     ]
    }
   ],
   "source": [
    "alist = [1, 2, 3, 4, 5]\n",
    "for x in alist:  # 리스트 a의 각 항목을 x로 반환\n",
    "    print(x, end=' ')"
   ]
  },
  {
   "cell_type": "markdown",
   "id": "3ec09b60-f072-4760-9c12-35de0ab82299",
   "metadata": {
    "tags": []
   },
   "source": [
    "##### **리스트 packing, unpacking**\n",
    "###### packing은 각 값을 나열시켜 리스트로 묶는 과정\n",
    "###### unpacking은 리스트를 풀어서 각 값을 얻어내는 과정"
   ]
  },
  {
   "cell_type": "code",
   "execution_count": 68,
   "id": "2ad412a8-252d-4ab1-b375-810265ec2976",
   "metadata": {},
   "outputs": [
    {
     "name": "stdout",
     "output_type": "stream",
     "text": [
      "1 2 3\n"
     ]
    }
   ],
   "source": [
    "## 리스트 packing & unpacking\n",
    "alist = [1, 2, 3, 4, 5]  #packing\n",
    "a1, a2, a3, a4, a5 = alist  #unpacking\n",
    "print(a1, a2, a3)"
   ]
  },
  {
   "cell_type": "code",
   "execution_count": 72,
   "id": "385c0424-1f83-43d2-92d4-9ba2a26cc3ab",
   "metadata": {},
   "outputs": [
    {
     "name": "stdout",
     "output_type": "stream",
     "text": [
      "1 2 3\n",
      "[4, 5]\n"
     ]
    }
   ],
   "source": [
    "## 리스트 packing & unpacking\n",
    "alist = [1, 2, 3, 4, 5]  #packing\n",
    "a1, a2, a3, *x = alist  #unpacking: *x 나머지는 x로 묶어서(즉, 리스트로 묶음)\n",
    "print(a1, a2, a3)\n",
    "print(x)"
   ]
  },
  {
   "cell_type": "markdown",
   "id": "c95986a2-b45c-4d13-9e5a-1101a524cbf1",
   "metadata": {},
   "source": [
    "##### **리스트 초기화: 반복문으로 초기화**"
   ]
  },
  {
   "cell_type": "code",
   "execution_count": 85,
   "id": "3be4f5ac-7e4b-430c-8725-83f70b44a96f",
   "metadata": {
    "tags": []
   },
   "outputs": [
    {
     "name": "stdout",
     "output_type": "stream",
     "text": [
      "[0, 0, 0, 0, 0]\n"
     ]
    }
   ],
   "source": [
    "## 반복문으로 초기화\n",
    "n = 5\n",
    "alist = [0 for _ in range(n)]\n",
    "print(alist)"
   ]
  },
  {
   "cell_type": "code",
   "execution_count": 86,
   "id": "dc390e06-db2d-46ee-811b-9748c8c0f58e",
   "metadata": {},
   "outputs": [
    {
     "name": "stdout",
     "output_type": "stream",
     "text": [
      "[0, 1, 2, 3, 4]\n"
     ]
    }
   ],
   "source": [
    "## 반복문으로 초기화\n",
    "n = 5\n",
    "alist = [i for i in range(n)]\n",
    "print(alist)"
   ]
  },
  {
   "cell_type": "markdown",
   "id": "66d0ffde-da18-4d41-a0d4-73c139a6b444",
   "metadata": {},
   "source": [
    "##### **리스트 초기화: 키보드 입력 값으로 초기화**"
   ]
  },
  {
   "cell_type": "code",
   "execution_count": 35,
   "id": "d21f81da-4d92-4b8a-89e2-bbb2194c6a1a",
   "metadata": {},
   "outputs": [
    {
     "name": "stdin",
     "output_type": "stream",
     "text": [
      "값 입력: 12345\n"
     ]
    },
    {
     "name": "stdout",
     "output_type": "stream",
     "text": [
      "d-type: <class 'str'>\n",
      "12345\n"
     ]
    }
   ],
   "source": [
    "## 키보드 입력 처리\n",
    "s = input(\"값 입력:\")\n",
    "print(\"d-type:\", type(s))\n",
    "print(s)"
   ]
  },
  {
   "cell_type": "code",
   "execution_count": 36,
   "id": "ac042b65-b2b3-48ed-979f-08d10640a124",
   "metadata": {
    "tags": []
   },
   "outputs": [
    {
     "name": "stdin",
     "output_type": "stream",
     "text": [
      "값(들) 입력(공백으로 분리): 1 2 3 4 5\n"
     ]
    },
    {
     "name": "stdout",
     "output_type": "stream",
     "text": [
      "d-type: <class 'str'>\n",
      "1 2 3 4 5\n"
     ]
    }
   ],
   "source": [
    "## 키보드 입력 값을 리스트로 저장\n",
    "s = input(\"값(들) 입력(공백으로 분리):\")\n",
    "print(\"d-type:\", type(s))\n",
    "print(s)"
   ]
  },
  {
   "cell_type": "code",
   "execution_count": 39,
   "id": "8d7c5299-9ba7-48d9-a1a6-73488284baac",
   "metadata": {
    "tags": []
   },
   "outputs": [
    {
     "name": "stdin",
     "output_type": "stream",
     "text": [
      "값(들) 입력(공백으로 분리): 1 2 3 4 5\n"
     ]
    },
    {
     "name": "stdout",
     "output_type": "stream",
     "text": [
      "['1', '2', '3', '4', '5']\n"
     ]
    }
   ],
   "source": [
    "## 키보드 입력 값을 리스트로 저장\n",
    "s = input(\"값(들) 입력(공백으로 분리):\")\n",
    "alist = s.split()\n",
    "print(alist)"
   ]
  },
  {
   "cell_type": "code",
   "execution_count": 43,
   "id": "4d203526-e0f0-4a47-9419-2bfefc10b90c",
   "metadata": {
    "tags": []
   },
   "outputs": [
    {
     "name": "stdin",
     "output_type": "stream",
     "text": [
      "값(들) 입력(공백으로 분리): 1 2 3 4 5\n"
     ]
    },
    {
     "name": "stdout",
     "output_type": "stream",
     "text": [
      "[1, 2, 3, 4, 5]\n"
     ]
    }
   ],
   "source": [
    "## 키보드 입력 값을 리스트로 저장\n",
    "s = input(\"값(들) 입력(공백으로 분리):\")\n",
    "alist = s.split()\n",
    "alist = [int(x) for x in alist]  #리스트를 하나씩 추출\n",
    "print(alist)"
   ]
  },
  {
   "cell_type": "code",
   "execution_count": 45,
   "id": "d1f60e15-6900-4444-b11a-347e17355dee",
   "metadata": {
    "tags": []
   },
   "outputs": [
    {
     "name": "stdin",
     "output_type": "stream",
     "text": [
      "값(들) 입력(공백으로 분리): 1 2 3 4 5\n"
     ]
    },
    {
     "name": "stdout",
     "output_type": "stream",
     "text": [
      "[1, 2, 3, 4, 5]\n"
     ]
    }
   ],
   "source": [
    "## 키보드 입력 값을 리스트로 저장\n",
    "s = input(\"값(들) 입력(공백으로 분리):\")\n",
    "alist = [int(x) for x in s.split()]  #리스트를 하나씩 추출\n",
    "print(alist)"
   ]
  },
  {
   "cell_type": "code",
   "execution_count": 44,
   "id": "4dabccac-c14c-4a25-b01c-2b034af21b6f",
   "metadata": {
    "tags": []
   },
   "outputs": [
    {
     "name": "stdin",
     "output_type": "stream",
     "text": [
      "값(들) 입력(공백으로 분리): 1 2 3 4 5\n"
     ]
    },
    {
     "name": "stdout",
     "output_type": "stream",
     "text": [
      "[1, 2, 3, 4, 5]\n"
     ]
    }
   ],
   "source": [
    "## 키보드 입력 값을 리스트로 저장\n",
    "alist = [int(x) for x in input(\"값(들) 입력(공백으로 분리):\").split()]\n",
    "print(alist)"
   ]
  },
  {
   "cell_type": "markdown",
   "id": "da9c3cb2-dee4-4e48-a4df-71d497fb1c9e",
   "metadata": {},
   "source": [
    "##### **리스트 복사**\n",
    "##### 얕은 복사(shallow copy)와 깊은 복사(deep copy)가 있다.\n",
    "###### 얕은 복사는 복사 대상 리스트를 공유하는 형태로 참조 방식\n",
    "###### 깊은 복사는 복사 대상 리스트와 똑같은 리스트를 생성하여 항목을 복사하는 방식"
   ]
  },
  {
   "cell_type": "code",
   "execution_count": 57,
   "id": "2107fc04-2e18-4c44-8128-af0a983a33a4",
   "metadata": {},
   "outputs": [
    {
     "name": "stdout",
     "output_type": "stream",
     "text": [
      "[1, 20, 3, 4]\n",
      "[1, 20, 3, 4]\n"
     ]
    }
   ],
   "source": [
    "## 리스트: 얕은 복사(shallow copy)\n",
    "alist = [1, 2, 3, 4]\n",
    "blist = alist    #얕은 복사 (리스트 참조)\n",
    "alist[1] = 20\n",
    "print(alist)\n",
    "print(blist)"
   ]
  },
  {
   "cell_type": "code",
   "execution_count": 58,
   "id": "da3258ba-206a-435e-ad6f-152b65678fd5",
   "metadata": {},
   "outputs": [
    {
     "name": "stdout",
     "output_type": "stream",
     "text": [
      "[1, 20, 3, 4]\n",
      "[1, 2, 3, 4]\n"
     ]
    }
   ],
   "source": [
    "## 리스트: 깊은 복사(deep copy)\n",
    "alist = [1, 2, 3, 4]\n",
    "blist = alist[:]    #깊은 복사 (스라이싱된 리스트 값들을 복사)\n",
    "alist[1] = 20\n",
    "print(alist)\n",
    "print(blist)"
   ]
  },
  {
   "cell_type": "code",
   "execution_count": null,
   "id": "72394030-24af-44cf-bb93-57b0655edc2d",
   "metadata": {},
   "outputs": [],
   "source": []
  },
  {
   "cell_type": "markdown",
   "id": "1d0faeea-5661-49fc-944f-528dd43b8768",
   "metadata": {},
   "source": [
    "### **Tuple**\n",
    "##### Tuple (item, ...) : index로 접근하는 방식, 데이터 항목 수정 불가능 (index는 자동 부여)"
   ]
  },
  {
   "cell_type": "code",
   "execution_count": 91,
   "id": "70373023-f748-4c38-8864-bdc4e5c6d32d",
   "metadata": {},
   "outputs": [
    {
     "name": "stdout",
     "output_type": "stream",
     "text": [
      "(1, 2, 3, 4, 5)\n"
     ]
    },
    {
     "data": {
      "text/plain": [
       "2"
      ]
     },
     "execution_count": 91,
     "metadata": {},
     "output_type": "execute_result"
    }
   ],
   "source": [
    "## 튜플의 생성 및 초기화\n",
    "a = (1, 2, 3, 4, 5)   #튜플의 생성 및 초기화\n",
    "print(a)\n",
    "a[1]  #index로 접근"
   ]
  },
  {
   "cell_type": "code",
   "execution_count": 31,
   "id": "059d41ab-682d-4211-89ab-1a9bbff3f310",
   "metadata": {},
   "outputs": [
    {
     "name": "stdout",
     "output_type": "stream",
     "text": [
      "(1, 2, 3, 4, 5)\n",
      "1 2\n"
     ]
    }
   ],
   "source": [
    "a = 1, 2, 3, 4, 5       #튜플 패킹\n",
    "print(a)\n",
    "a1, a2, a3, a4, a5 = a  #튜플 언팩킹\n",
    "print(a1, a2)"
   ]
  },
  {
   "cell_type": "code",
   "execution_count": 39,
   "id": "d730bbc0-24cc-4ea6-8455-c6031aafb23e",
   "metadata": {},
   "outputs": [
    {
     "data": {
      "text/plain": [
       "0"
      ]
     },
     "execution_count": 39,
     "metadata": {},
     "output_type": "execute_result"
    }
   ],
   "source": [
    "a.index(1)  #1 항목의 index 값 반환"
   ]
  },
  {
   "cell_type": "code",
   "execution_count": 26,
   "id": "94669e3e-759d-424e-bbea-1db7d702d732",
   "metadata": {},
   "outputs": [
    {
     "name": "stdout",
     "output_type": "stream",
     "text": [
      "(3, 4, 5)\n",
      "(1, 2, 3)\n"
     ]
    }
   ],
   "source": [
    "print(a[2:])  #index 2번째부터 끝까지 추출\n",
    "print(a[:3])  #index 처음부터 3 전까지 추출"
   ]
  },
  {
   "cell_type": "code",
   "execution_count": 27,
   "id": "7225c220-b644-46ef-bf81-e95b3db0b141",
   "metadata": {},
   "outputs": [
    {
     "name": "stdout",
     "output_type": "stream",
     "text": [
      "1 2 3 4 5 "
     ]
    }
   ],
   "source": [
    "a = (1, 2, 3, 4, 5)\n",
    "for x in a:  # a의 각 항목을 x로 반환\n",
    "    print(x, end=' ')"
   ]
  },
  {
   "cell_type": "code",
   "execution_count": null,
   "id": "2a7a0fb3-f1f9-4cef-8174-199287e5566e",
   "metadata": {},
   "outputs": [],
   "source": []
  },
  {
   "cell_type": "markdown",
   "id": "81144861-f388-4aac-875b-306397425b4f",
   "metadata": {},
   "source": [
    "#### **Dictionary**\n",
    "##### Dictionary {key:item, ...}: Key로 접근하는 방식, 데이터 항목 수정 가능 (Key는 사용자가 부여)"
   ]
  },
  {
   "cell_type": "code",
   "execution_count": 35,
   "id": "095e58d9-40ae-4dbc-b7fb-b3aaf6f36ea9",
   "metadata": {},
   "outputs": [
    {
     "name": "stdout",
     "output_type": "stream",
     "text": [
      "90\n",
      "80\n"
     ]
    }
   ],
   "source": [
    "## Key : Value로 생성\n",
    "a = {'A':90, 'B':80, 'C':70, 'D':60}   #튜플의 생성 및 초기화\n",
    "print(a['A'])  #Key로 item 추출(못찾으면 에러 메시지 출력)\n",
    "print(a.get('B'))  #Key로 item 추출(못찾아도 에러 메시지 출력 안함)"
   ]
  },
  {
   "cell_type": "code",
   "execution_count": 36,
   "id": "94a8da82-ddf6-4aad-a9b7-340dc598d789",
   "metadata": {},
   "outputs": [
    {
     "name": "stdout",
     "output_type": "stream",
     "text": [
      "('A', 90) ('B', 80) ('C', 70) ('D', 60) "
     ]
    }
   ],
   "source": [
    "a = {'A':90, 'B':80, 'C':70, 'D':60}\n",
    "for x in a.items():  # a의 각 항목을 x로 반환\n",
    "    print(x, end=' ')"
   ]
  },
  {
   "cell_type": "code",
   "execution_count": 37,
   "id": "4f0eaa19-2f32-4219-975e-7f9866a6969b",
   "metadata": {},
   "outputs": [
    {
     "name": "stdout",
     "output_type": "stream",
     "text": [
      "A B C D "
     ]
    }
   ],
   "source": [
    "a = {'A':90, 'B':80, 'C':70, 'D':60}\n",
    "for x in a.keys():  # a의 각 Key 값을 x로 반환\n",
    "    print(x, end=' ')"
   ]
  },
  {
   "cell_type": "code",
   "execution_count": 38,
   "id": "145296d3-efdc-4ac5-b53f-77ad8d79d67a",
   "metadata": {},
   "outputs": [
    {
     "name": "stdout",
     "output_type": "stream",
     "text": [
      "90 80 70 60 "
     ]
    }
   ],
   "source": [
    "a = {'A':90, 'B':80, 'C':70, 'D':60}\n",
    "for x in a.values():  # a의 각 velue 값을 x로 반환\n",
    "    print(x, end=' ')"
   ]
  },
  {
   "cell_type": "code",
   "execution_count": null,
   "id": "80b1e2c7-5234-414e-a1f3-c46a0239547b",
   "metadata": {},
   "outputs": [],
   "source": []
  },
  {
   "cell_type": "markdown",
   "id": "8b6eb7c8-c2df-4ed3-95f7-0b51389cc618",
   "metadata": {},
   "source": [
    "### **제어 구조**\n",
    "##### 알고리즘은 순차 구조, 선택 구조, 반복 구조를 순차적으로 배열하여 구성함.\n",
    "##### **순차 구조** : 프로그램의 각 명령문이 순차적으로 실행되는 방식\n",
    "##### **선택 구조** : 조건에 따라 실행할 동작을 선택하는 방식 (**조건문**)\n",
    "##### **반복 구조** : 조건에 따라 특정 동작을 계속 반복할지 말지를 결정하는 방식 (**반복문**)"
   ]
  },
  {
   "cell_type": "code",
   "execution_count": 28,
   "id": "b20ea97a-06df-40ab-bf25-7309f0efd3a0",
   "metadata": {},
   "outputs": [
    {
     "name": "stdout",
     "output_type": "stream",
     "text": [
      "2 4 \n"
     ]
    }
   ],
   "source": [
    "## 제어구조: 순차 구조, 선택 구조, 반복 구조 \n",
    "alist = [1, 2, 3, 4, 5]  #순차 구조\n",
    "for x in alist:          #반복 구조, 순차 구조\n",
    "    if x % 2 == 0:       #선택 구조\n",
    "        print(x, end = ' ')  #순차 구조\n",
    "print()                  #순차 구조"
   ]
  },
  {
   "cell_type": "markdown",
   "id": "cbd609be-c118-40a5-9d70-d0a8128b24c0",
   "metadata": {},
   "source": [
    "#### **조건문 if**\n",
    "###### if (_조건식_) :   #조건식은 True나 False가 될 수 있는 값이나 식\n",
    "###### elif (_조건식_) : #반복적으로 사용 가능 [선택]\n",
    "###### else :            #마지막에 한번만 사용 가능 [선택]"
   ]
  },
  {
   "cell_type": "markdown",
   "id": "e770c295-20e6-4919-926d-e3b38aaa3f10",
   "metadata": {},
   "source": [
    "##### **단일 조건식 사용**"
   ]
  },
  {
   "cell_type": "code",
   "execution_count": 100,
   "id": "e1abe66b-a359-4c44-bd63-7eaa53d2d59e",
   "metadata": {},
   "outputs": [
    {
     "name": "stdin",
     "output_type": "stream",
     "text": [
      "인사말 입력: ㅈㅈ\n"
     ]
    },
    {
     "name": "stdout",
     "output_type": "stream",
     "text": [
      ">반가워요!\n"
     ]
    }
   ],
   "source": [
    "## [조건문] if ~ :\n",
    "msg = input(\"인사말 입력:\")\n",
    "\n",
    "if len(msg) > 0:\n",
    "    print(\">반가워요!\")    "
   ]
  },
  {
   "cell_type": "code",
   "execution_count": 102,
   "id": "dc48e905-1cf1-4eb4-baed-89d7c6f7c39f",
   "metadata": {},
   "outputs": [
    {
     "name": "stdin",
     "output_type": "stream",
     "text": [
      "인사말 입력: \n"
     ]
    },
    {
     "name": "stdout",
     "output_type": "stream",
     "text": [
      ">안녕!\n"
     ]
    }
   ],
   "source": [
    "## [조건문] if ~ : else ~ :\n",
    "msg = input(\"인사말 입력:\")\n",
    "\n",
    "if len(msg) > 0:\n",
    "    print(\">반가워요!\")  \n",
    "else:\n",
    "    print(\">안녕!\")"
   ]
  },
  {
   "cell_type": "code",
   "execution_count": 103,
   "id": "64ed4009-256f-48e7-9e3c-6117080c9e8a",
   "metadata": {},
   "outputs": [
    {
     "name": "stdin",
     "output_type": "stream",
     "text": [
      ">숫자 입력: 0\n"
     ]
    },
    {
     "name": "stdout",
     "output_type": "stream",
     "text": [
      "0입니다.\n"
     ]
    }
   ],
   "source": [
    "## [조건문] if ~ : elif ~ : else ~ :\n",
    "x = float(input(\">숫자 입력:\"))\n",
    "\n",
    "if x > 0:\n",
    "    print(\"양수입니다.\")\n",
    "elif x < 0:\n",
    "    print(\"음수입니다.\")\n",
    "else:\n",
    "    print(\"0입니다.\")"
   ]
  },
  {
   "cell_type": "code",
   "execution_count": 104,
   "id": "5fdc3241-5bf1-480d-b0c1-906da0a655e4",
   "metadata": {},
   "outputs": [
    {
     "name": "stdin",
     "output_type": "stream",
     "text": [
      ">숫자 입력: 2\n"
     ]
    },
    {
     "name": "stdout",
     "output_type": "stream",
     "text": [
      "100보다 작은 양수입니다.\n"
     ]
    }
   ],
   "source": [
    "## [조건문] \n",
    "x = float(input(\">숫자 입력:\"))\n",
    "\n",
    "if x < 0:\n",
    "    print(\"음수입니다.\")\n",
    "elif x == 0:\n",
    "    print(\"0입니다.\")\n",
    "elif x < 100:\n",
    "    print(\"100보다 작은 양수입니다.\")\n",
    "else:\n",
    "    print(\"100보다 큽니다.\")"
   ]
  },
  {
   "cell_type": "markdown",
   "id": "445c06f2-cc12-46af-9e47-74e43de33d3d",
   "metadata": {},
   "source": [
    "##### **[실습] 복수 조건식 사용: 할인 여부 판단**\n",
    "###### 키보드로 '국가유공자'인지, '현역군인'인지 여부(y or n)를 입력 받음.\n",
    "###### 둘 다 n이면 '할인 대상'을 출력\n",
    "###### 둘 중 하나라도 y이면 '할인 대상'을 출력"
   ]
  },
  {
   "cell_type": "code",
   "execution_count": 78,
   "id": "164050c3-b3f2-41b7-92cc-fb444331b9bd",
   "metadata": {},
   "outputs": [
    {
     "name": "stdout",
     "output_type": "stream",
     "text": [
      ">신분이 어떻게 되는지  y나 기타 키로 답하세요.\n"
     ]
    },
    {
     "name": "stdin",
     "output_type": "stream",
     "text": [
      ">>국가유공자이신가요(y)?  y\n",
      ">>현혁군인이신가요(y)?  n\n"
     ]
    },
    {
     "name": "stdout",
     "output_type": "stream",
     "text": [
      ">>>할인 대상입니다.\n"
     ]
    }
   ],
   "source": [
    "## [실습] 할인 적용 여부 판단\n",
    "print(\">신분이 어떻게 되는지  y나 기타 키로 답하세요.\")\n",
    "\n",
    "status1 = input(\">>국가유공자이신가요(y)? \").strip().lower()\n",
    "status2 = input(\">>현혁군인이신가요(y)? \").strip().lower()\n",
    "\n",
    "if (status1 != 'y') and (status2 != 'y'):\n",
    "    print(\">>>할인 대상이 아닙니다.\")\n",
    "else:    \n",
    "    print(\">>>할인 대상입니다.\")"
   ]
  },
  {
   "cell_type": "markdown",
   "id": "82e31da7-0a47-416a-a784-2300eacab308",
   "metadata": {},
   "source": [
    "##### **[실습] 복수 조건식: '합격', '불합격' 판단**\n",
    "###### 키보드로 점수들을 입력 받는다. (0~100 범위 내로, 공백으로 분리)\n",
    "###### 점수의 평균을 출력한다.\n",
    "###### 평균 점수가 60 이상이거나 40점 미만 점수가 없으면 '합격'을 출력\n",
    "###### 나머지는 '불합격'을 출력"
   ]
  },
  {
   "cell_type": "code",
   "execution_count": 105,
   "id": "49d5343d-7dc0-4679-b76c-7792670ae856",
   "metadata": {},
   "outputs": [
    {
     "name": "stdin",
     "output_type": "stream",
     "text": [
      "점수(들) 입력(공백으로 분리): 20 30 40 50 60\n"
     ]
    },
    {
     "name": "stdout",
     "output_type": "stream",
     "text": [
      "In Score: [20, 30, 40, 50, 60]\n",
      "Avg:  40.0, Min: 20\n",
      "불합격\n"
     ]
    }
   ],
   "source": [
    "## [조건문] '합격', '불합격' 판단\n",
    "score = [int(x) for x in input(\"점수(들) 입력(공백으로 분리):\").split()]\n",
    "print(\"In Score:\", score)\n",
    "\n",
    "avg = sum(score) / len(score)\n",
    "smin = min(score)\n",
    "print(\"Avg: %5.1f, Min: %d\" %(avg, smin))\n",
    "\n",
    "if (avg >= 60) and (smin >= 40):\n",
    "    print(\"합격입니다!\")\n",
    "else:\n",
    "    print(\"불합격\")"
   ]
  },
  {
   "cell_type": "code",
   "execution_count": null,
   "id": "8c0a04be-187a-4ba8-bc8f-5716276cab87",
   "metadata": {},
   "outputs": [],
   "source": []
  },
  {
   "cell_type": "markdown",
   "id": "4c826161-7b6e-4cda-9f54-9ea5f562f02e",
   "metadata": {},
   "source": [
    "### **반복문**\n",
    "##### **반복문의 종류**\n",
    "##### > while ~ : 반복 조건이 참(True)인 동안에 반복 유지\n",
    "##### > for ~ : 지정한 반복 규칙에 따라 반복 제공, 순차적인 index 또는 리스트, 튜플, 문자열의 항목을 순차적으로 제공"
   ]
  },
  {
   "cell_type": "code",
   "execution_count": 109,
   "id": "2d4ad1a5-0b67-43b3-a7ef-04ca79abac01",
   "metadata": {},
   "outputs": [
    {
     "name": "stdout",
     "output_type": "stream",
     "text": [
      "0 1 2 3 4 \n",
      ">최종 i값은 5\n"
     ]
    }
   ],
   "source": [
    "## while 반복문: 5번 반복\n",
    "i = 0          #반복 변수 초기화\n",
    "while i < 5:   #반복 조건 판단\n",
    "    print(i, end = ' ')   #반복 처리 문장\n",
    "    i += 1     #반복 변수 값 증감\n",
    "print()\n",
    "print(\">최종 i값은 %d\" %(i))"
   ]
  },
  {
   "cell_type": "code",
   "execution_count": 110,
   "id": "95595c81-5be3-4c5d-9383-fd8e1b12fde7",
   "metadata": {},
   "outputs": [
    {
     "name": "stdout",
     "output_type": "stream",
     "text": [
      "0 1 2 3 4 \n",
      ">최종 i값은 4\n"
     ]
    }
   ],
   "source": [
    "## for 반복문\n",
    "for i in range(0, 5, 1):   #반복 조건 판단, 반복 변수 값 증감: range(시작값, 종료값, 증분값)\n",
    "    print(i, end = ' ')   #반복 처리 문장\n",
    "print()\n",
    "print(\">최종 i값은 %d\" %(i))"
   ]
  },
  {
   "cell_type": "code",
   "execution_count": 111,
   "id": "0d54eb6a-6dff-4d3c-bf30-d8aa5704658c",
   "metadata": {},
   "outputs": [
    {
     "name": "stdout",
     "output_type": "stream",
     "text": [
      "H e l l o   W o r l d ! \n"
     ]
    }
   ],
   "source": [
    "## for 반복문\n",
    "str = \"Hello World!\"\n",
    "for x in str:  #반복적으로 항목 값 제공\n",
    "    print(x, end = ' ')   #반복 처리 문장\n",
    "print()"
   ]
  },
  {
   "cell_type": "code",
   "execution_count": 113,
   "id": "2ea722e3-cf20-4582-add0-097b38df92a4",
   "metadata": {},
   "outputs": [
    {
     "name": "stdout",
     "output_type": "stream",
     "text": [
      "89 77 88 99 67 "
     ]
    }
   ],
   "source": [
    "## for 반복문\n",
    "alist = [89, 77, 88, 99, 67]  #list 자료형\n",
    "for x in alist:   #나열된 항목 값들을 순차적으로 인출하여 x에 제공\n",
    "    print(x, end = ' ')"
   ]
  },
  {
   "cell_type": "code",
   "execution_count": null,
   "id": "cd30bbbd-099a-4594-8aa5-e7faafae8dac",
   "metadata": {},
   "outputs": [],
   "source": []
  },
  {
   "cell_type": "markdown",
   "id": "9d95987d-3d34-48ba-9376-fcce808155fb",
   "metadata": {},
   "source": [
    "#### **while 반복문**\n",
    "##### **반복문의 구성**\n",
    "###### > **반복 변수 초기화**\n",
    "###### > **반복 조건 판단**: 반복 계속 또는 반복 탈출 결정\n",
    "###### > **반복 변수 값 증감**"
   ]
  },
  {
   "cell_type": "markdown",
   "id": "af79ceac-938a-4f8e-8ebc-ff815e97afec",
   "metadata": {},
   "source": [
    "##### **반복문 내에서의 반복 탈출 : break**"
   ]
  },
  {
   "cell_type": "code",
   "execution_count": 119,
   "id": "452afe3c-b6f1-4ff5-b96a-88e03fc564fc",
   "metadata": {
    "tags": []
   },
   "outputs": [
    {
     "name": "stdout",
     "output_type": "stream",
     "text": [
      "0 1 2 3 4 "
     ]
    }
   ],
   "source": [
    "## while 반복문: 무한 반복, 반복 탈출 break\n",
    "import time\n",
    "\n",
    "num = 5\n",
    "cnt = 0\n",
    "while True :  ##무한 반복\n",
    "    if cnt >= num: #[탈출 조건 판단]\n",
    "        break  #반복 털출\n",
    "    print(cnt, end = ' ')     # 한 줄로 나란히 출력\n",
    "    cnt += 1                  # x의 값을 하나 증가\n",
    "    time.sleep(1)  #1초 지연"
   ]
  },
  {
   "cell_type": "code",
   "execution_count": 121,
   "id": "eb879929-9bbb-4c02-b093-bb57d5f7f062",
   "metadata": {},
   "outputs": [
    {
     "name": "stdout",
     "output_type": "stream",
     "text": [
      "0 1 2 3 4 "
     ]
    }
   ],
   "source": [
    "## while 반복문: 무한 반복, 반복 탈출 break\n",
    "import time\n",
    "\n",
    "num = 5\n",
    "cnt = 0\n",
    "while cnt < num:  #반복 조건 판단\n",
    "    print(cnt, end = ' ')     # 한 줄로 나란히 출력\n",
    "    cnt += 1                  # x의 값을 하나 증가\n",
    "    time.sleep(1)  #1초 지연"
   ]
  },
  {
   "cell_type": "markdown",
   "id": "b8eb1842-21e3-44d6-8ba9-68d87b04e6ff",
   "metadata": {},
   "source": [
    "#### **for 반복문**\n",
    "##### **for index in range(start, exit, increment):**\n",
    "###### > range()로 반복 횟수 결정, 순차적인 index 값을 반환\n",
    "###### >> start: 반복 시작 index 값\n",
    "###### >> exit: 반복 종료 index 값 (해당 index는 사용되지 않음)\n",
    "###### >> increment: 증분 값"
   ]
  },
  {
   "cell_type": "code",
   "execution_count": 123,
   "id": "f5d7116b-8091-4c61-b1a4-29af672825b8",
   "metadata": {},
   "outputs": [
    {
     "name": "stdout",
     "output_type": "stream",
     "text": [
      "0 1 2 3 4 "
     ]
    }
   ],
   "source": [
    "## for 반복문으로 해결\n",
    "import time\n",
    "\n",
    "num = 5\n",
    "cnt = 0\n",
    "for cnt in range(num):  #반복 조건 판단\n",
    "    print(cnt, end = ' ')     # 한 줄로 나란히 출력\n",
    "    time.sleep(1)  #1초 지연"
   ]
  },
  {
   "cell_type": "code",
   "execution_count": 124,
   "id": "500e749a-d2af-490b-9f4d-5c1289e51062",
   "metadata": {},
   "outputs": [
    {
     "name": "stdout",
     "output_type": "stream",
     "text": [
      "0 1 2 3 4 "
     ]
    }
   ],
   "source": [
    "## for 반복문으로 해결\n",
    "import time\n",
    "\n",
    "num = 5  #종료값\n",
    "cnt = 0  #시작값\n",
    "for cnt in range(0, num, 1):  #반복 조건 판단: range(시작값, 종료값, 증분값)\n",
    "    print(cnt, end = ' ')     # 한 줄로 나란히 출력\n",
    "    time.sleep(1)  #1초 지연"
   ]
  },
  {
   "cell_type": "code",
   "execution_count": 30,
   "id": "b722df32-ece1-4593-b6b3-fcace8678ba5",
   "metadata": {},
   "outputs": [
    {
     "name": "stdout",
     "output_type": "stream",
     "text": [
      "5 4 3 2 1 "
     ]
    }
   ],
   "source": [
    "## for 반복문으로 해결\n",
    "import time\n",
    "\n",
    "num = 5  #종료값\n",
    "cnt = 0  #시작값\n",
    "for cnt in range(num, 0, -1):  #반복 조건 판단: range(시작값, 종료값, 증분값)\n",
    "    print(cnt, end = ' ')     # 한 줄로 나란히 출력\n",
    "    time.sleep(1)  #1초 지연"
   ]
  },
  {
   "cell_type": "code",
   "execution_count": null,
   "id": "1079777a-149d-499e-8edf-62c97e07bc9c",
   "metadata": {},
   "outputs": [],
   "source": []
  },
  {
   "cell_type": "markdown",
   "id": "e8a1d73b-3ccc-4cc9-b720-674271f44d3f",
   "metadata": {},
   "source": [
    "### **03-2. 마술 상자 같은 '함수' 이해하기**"
   ]
  },
  {
   "cell_type": "markdown",
   "id": "4b67ee5c-3baa-49f0-a65b-66b67486ba98",
   "metadata": {},
   "source": [
    "#### **함수의 개념**\n",
    "##### 함수(function)는 어떤 기능을 수행하기 위해 하나의 처리 단위로 묶어놓은 코드 단위이다.\n",
    "##### 함수는 미리 정의해놓고 필요할 때 호출하여 사용한다.\n",
    "###### > 함수 정의: def *function_name*(*parameter*, *parameter*, ...):\n",
    "###### > 함수 호출: *function_name*(*argument*, *argument*, ...)\n",
    "###### >> parameter(매개변수) 함수가 어떤 값을 전달 받기 위한 변수\n",
    "###### >> argument(인자) 함수를 호출할 때 함수에 게 전달할 인자 값, 즉 변수나 상수, 수식을 사용"
   ]
  },
  {
   "cell_type": "code",
   "execution_count": 125,
   "id": "0b70a7c4-a8cf-42a6-b59f-ac6c96a8e2d8",
   "metadata": {},
   "outputs": [
    {
     "name": "stdout",
     "output_type": "stream",
     "text": [
      "6\n"
     ]
    }
   ],
   "source": [
    "## 함수(function) 미사용\n",
    "a, b, c = 1, 2, 3\n",
    "\n",
    "exp = a + (b + c)\n",
    "print(exp)"
   ]
  },
  {
   "cell_type": "code",
   "execution_count": 128,
   "id": "ed9e582c-3d6a-4a07-a3c8-7496b8df389e",
   "metadata": {},
   "outputs": [
    {
     "name": "stdout",
     "output_type": "stream",
     "text": [
      "6\n"
     ]
    }
   ],
   "source": [
    "## 함수(function) 사용\n",
    "#함수 정의\n",
    "def fadd(x, y):\n",
    "    z = x + y\n",
    "    return z\n",
    "\n",
    "# 함수 호출\n",
    "a, b, c = 1, 2, 3\n",
    "exp = fadd(a, fadd(b, c))  #함수 fadd()의 재사용\n",
    "\n",
    "print(exp)"
   ]
  },
  {
   "cell_type": "markdown",
   "id": "45e4d431-6e2d-417c-bfe4-0bb4b7035838",
   "metadata": {},
   "source": [
    "##### **매개변수에 default 값 지정**\n",
    "##### 함수를 정의할 때 매개변수의 기본값을 지정하면 함수를 호출할 때 인수 생략 가능\n",
    "###### 매개변수로 원의 크기(size)를 전달받아 적용함\n",
    "###### 매개변수가 전달되지 않으면 지정된 값 사용"
   ]
  },
  {
   "cell_type": "code",
   "execution_count": 129,
   "id": "013575c1-8259-4f1e-8e10-75fd20988fa2",
   "metadata": {},
   "outputs": [
    {
     "name": "stdout",
     "output_type": "stream",
     "text": [
      "==========\n",
      "Test Mode\n",
      "##########\n"
     ]
    }
   ],
   "source": [
    "## 함수: 디폴트 인수 \n",
    "def prints(symbol='', cnt=1, nl=''):\n",
    "    print(symbol*cnt, end=nl)\n",
    "\n",
    "prints('=', 10, '\\n')\n",
    "prints(\"Test Mode\", nl='\\n')\n",
    "prints('#', 10, '\\n')"
   ]
  },
  {
   "cell_type": "markdown",
   "id": "ec7140d9-d80d-4e3b-ba64-606342845ddf",
   "metadata": {},
   "source": [
    "##### **키워드(keyword) 인수로 함수 호출**\n",
    "##### 인수가 순서에 맞지 않아도 함수의 동작이 실행되도록 하려면 함수를 호출할 때 인수의 이름을 지정"
   ]
  },
  {
   "cell_type": "code",
   "execution_count": 132,
   "id": "c8cf1f6f-307c-4806-ac76-918583917b51",
   "metadata": {},
   "outputs": [
    {
     "name": "stdout",
     "output_type": "stream",
     "text": [
      "**********\n",
      "Test Mode\n",
      "**********"
     ]
    }
   ],
   "source": [
    "## 함수: 키워드 인수 순서 바꾸기\n",
    "prints(cnt=10, symbol='*', nl='\\n')\t\n",
    "print(\"Test Mode\")\t\n",
    "prints('*', 10)"
   ]
  },
  {
   "cell_type": "markdown",
   "id": "3f60c6be-7caf-4fa9-b253-6ce957d6ea35",
   "metadata": {},
   "source": [
    "##### **가변 매개변수 사용**\n",
    "###### 함수 매개변수를 tuple 변수 형태를 사용\n",
    "###### 함수 호출 시 tuple 형태의 나열된 값을 전달"
   ]
  },
  {
   "cell_type": "code",
   "execution_count": 133,
   "id": "70c15827-81ae-4c89-861f-ee3ada2e007f",
   "metadata": {},
   "outputs": [
    {
     "name": "stdout",
     "output_type": "stream",
     "text": [
      "3\n",
      "15\n"
     ]
    }
   ],
   "source": [
    "## 가변 매개변수 사용\n",
    "def fadd(*numbers):\n",
    "    result = 0\n",
    "    for x in numbers:\n",
    "        result += x\n",
    "    #print(type(numbers))\n",
    "    return result\n",
    "\n",
    "a = fadd(1, 2)\n",
    "print(a)\n",
    "a = fadd(1, 2, 3, 4, 5)\n",
    "print(a)"
   ]
  },
  {
   "cell_type": "markdown",
   "id": "0eaf0fdd-1237-46c7-8bca-0f043ee78050",
   "metadata": {},
   "source": [
    "##### **함수에서 값 반환**\n",
    "##### 함수는 한개의 값을 반환할 수 있고, 반환이 없을 수도 있다.\n",
    "###### > return `반환값`"
   ]
  },
  {
   "cell_type": "code",
   "execution_count": 134,
   "id": "ccf806fc-d961-4b41-9d03-e43173de44c3",
   "metadata": {},
   "outputs": [
    {
     "name": "stdout",
     "output_type": "stream",
     "text": [
      "#########\n",
      "Test Mode\n",
      "#########\n",
      "\n"
     ]
    }
   ],
   "source": [
    "## 함수에서 값 반환: 반환 없는 함수\n",
    "def prints(symbol='', cnt=1, nl='\\n'):\n",
    "    result = symbol*cnt + nl\n",
    "    return result\n",
    "\n",
    "def prt_title(title, symbol='', cnt=1):\n",
    "    result = prints(symbol, cnt)\n",
    "    result += prints(title)\n",
    "    result += prints(symbol, cnt)\n",
    "    return result\n",
    "\n",
    "message = \"Test Mode\"\n",
    "title = prt_title(title=message, symbol='#', cnt=len(message))\n",
    "print(title)"
   ]
  },
  {
   "cell_type": "markdown",
   "id": "1105115f-12f3-4c74-8ff6-511cdf9e6c4e",
   "metadata": {},
   "source": [
    "##### **함수에서 값 반환: 복수 개의 값을 Tuple 형태로 반환**\n",
    "##### 함수는 한개의 값을 반환할 수 있으므로, 복수 개 값을 Tuple Tuple 형태로 반환하여\n",
    "###### > return `반환값, 반환값,...`\n",
    "##### 함수를 호출한 쪽에서 언팩킹하여 사용"
   ]
  },
  {
   "cell_type": "code",
   "execution_count": 135,
   "id": "4f4c497a-4e5b-477a-a95a-a2ef9621a394",
   "metadata": {},
   "outputs": [
    {
     "name": "stdout",
     "output_type": "stream",
     "text": [
      "result: (7, -1)\n",
      "7 -1\n"
     ]
    }
   ],
   "source": [
    "## 함수에서 복수 개의 값을 반환: Tuple 형태로 반환\n",
    "def func2(x, y):\n",
    "    return x+y, x-y  #복수 개의 값을 Tuple 형태로 반환\n",
    "\n",
    "#함수가 반환한 튜플을 언팩킹하여 a와 b로 저장\n",
    "result = func2(3, 4) \n",
    "print(\"result:\", result)\n",
    "a, b = result\n",
    "print(a, b)"
   ]
  },
  {
   "cell_type": "code",
   "execution_count": 136,
   "id": "53a88bda-03b7-4680-8986-2bf2cf4ccfd4",
   "metadata": {},
   "outputs": [
    {
     "name": "stdout",
     "output_type": "stream",
     "text": [
      "7 -1\n"
     ]
    }
   ],
   "source": [
    "## 함수에서 복수 개의 값을 반환: Tuple 형태로 반환\n",
    "def func2(x, y):\n",
    "    return x+y, x-y  #복수 개의 값을 Tuple 형태로 반환\n",
    "\n",
    "#함수가 반환한 튜플을 언팩킹하여 a와 b로 저장\n",
    "a, b = func2(3, 4) \n",
    "print(a, b)"
   ]
  },
  {
   "cell_type": "markdown",
   "id": "fba765a4-00e2-46d8-8c72-e9790624290b",
   "metadata": {},
   "source": [
    "##### **지역에서 전역 변수 수정**\n",
    "###### 함수 내에 선언된 변수는 함수 내에서만 사용할 수 있는 지역 변수\n",
    "###### 함수 밖에서 선언된 변수는 함수 내에서도 사용할 수 있는 전역 변수\n",
    "###### 전역 변수는 함수 내에서 별도의 선언 없이 읽기 용도로 사용 가능\n",
    "###### 지역에서 전역 변수명을 쓰기로 사용하려면 해당 변수가 global임을 선언해주어야 함\n",
    "###### > global 전역변수명"
   ]
  },
  {
   "cell_type": "code",
   "execution_count": 31,
   "id": "7cf9bbf9-68d2-482a-ad81-ae90dcd3044b",
   "metadata": {},
   "outputs": [
    {
     "name": "stdout",
     "output_type": "stream",
     "text": [
      "510\n",
      "10\n"
     ]
    }
   ],
   "source": [
    "## 함수(function) 사용: 함수 내에서 전역 변수 사용\n",
    "mul = 10  #global variable\n",
    "\n",
    "#함수 정의\n",
    "def fadd(x, y):\n",
    "    z = (x + y) * mul  #mul은 global variable\n",
    "    return z\n",
    "\n",
    "# 함수 호출\n",
    "x, y, z = 1, 2, 3\n",
    "result = fadd(x, fadd(y, z))\n",
    "\n",
    "print(result)\n",
    "print(mul)"
   ]
  },
  {
   "cell_type": "code",
   "execution_count": 32,
   "id": "a78b3d28-84a1-429f-8c7d-bd825ed80448",
   "metadata": {},
   "outputs": [
    {
     "name": "stdout",
     "output_type": "stream",
     "text": [
      "50100\n",
      "10\n"
     ]
    }
   ],
   "source": [
    "## 함수(function) 사용: 함수 내에서 전역 변수 사용\n",
    "mul = 10  #global variable\n",
    "\n",
    "#함수 정의\n",
    "def fadd(x, y):\n",
    "    mul = 100          #mul은 동명 global variable과 구분되는 local variable\n",
    "    z = (x + y) * mul  #mul은 local variable\n",
    "    return z\n",
    "\n",
    "# 함수 호출\n",
    "x, y, z = 1, 2, 3\n",
    "result = fadd(x, fadd(y, z))\n",
    "\n",
    "print(result)\n",
    "print(mul)"
   ]
  },
  {
   "cell_type": "code",
   "execution_count": 33,
   "id": "a3ae6488-e756-480a-a31b-5e5e429ad27c",
   "metadata": {},
   "outputs": [
    {
     "name": "stdout",
     "output_type": "stream",
     "text": [
      "50100\n",
      "100\n"
     ]
    }
   ],
   "source": [
    "## 함수(function) 사용: 함수 내에서 전역 변수 사용\n",
    "mul = 10  #global variable\n",
    "\n",
    "#함수 정의\n",
    "def fadd(x, y):\n",
    "    global mul  #함수 내에서 mul은 global variable임\n",
    "    mul = 100   #mul은 global variable\n",
    "    z = (x + y) * mul\n",
    "    return z\n",
    "\n",
    "# 함수 호출\n",
    "x, y, z = 1, 2, 3\n",
    "result = fadd(x, fadd(y, z))\n",
    "\n",
    "print(result)\n",
    "print(mul)"
   ]
  },
  {
   "cell_type": "code",
   "execution_count": null,
   "id": "8c7c8beb-c65f-49db-9c47-23d980267499",
   "metadata": {},
   "outputs": [],
   "source": []
  },
  {
   "cell_type": "markdown",
   "id": "cd769eae-98d7-43f7-8de3-3319c0e9212c",
   "metadata": {},
   "source": [
    "#### **내장 함수**"
   ]
  },
  {
   "cell_type": "code",
   "execution_count": 176,
   "id": "e1f1095b-a3cb-4839-9124-6dcdf62db0bd",
   "metadata": {},
   "outputs": [
    {
     "name": "stdout",
     "output_type": "stream",
     "text": [
      "10\n",
      "4\n",
      "1\n"
     ]
    }
   ],
   "source": [
    "## 내장 함수\n",
    "x = [1, 2, 3, 4]\n",
    "print(sum(x))\n",
    "print(max(x))\n",
    "print(min(x))"
   ]
  },
  {
   "cell_type": "markdown",
   "id": "5bcbba98-77dd-4960-a72b-8d9caacd1f66",
   "metadata": {},
   "source": [
    "#### **외장 함수**\n",
    "##### > 패키지 임포트 후 가용"
   ]
  },
  {
   "cell_type": "code",
   "execution_count": 3,
   "id": "6208aa04-6983-44e2-a8b0-92b3e4c7563c",
   "metadata": {},
   "outputs": [
    {
     "data": {
      "text/plain": [
       "<AxesSubplot:ylabel='count'>"
      ]
     },
     "execution_count": 3,
     "metadata": {},
     "output_type": "execute_result"
    },
    {
     "data": {
      "image/png": "[encoded data removed]",
      "text/plain": [
       "<Figure size 640x480 with 1 Axes>"
      ]
     },
     "metadata": {},
     "output_type": "display_data"
    }
   ],
   "source": [
    "## 외장 함수\n",
    "import seaborn as sns\n",
    "\n",
    "var = ['a', 'a', 'b', 'c']\n",
    "sns.countplot(x = var)"
   ]
  },
  {
   "cell_type": "markdown",
   "id": "88de427e-b98e-4327-97ad-deb794db8478",
   "metadata": {},
   "source": [
    "----\n",
    "### **lamda 함수**\n",
    "##### >함수객체를 반환하는 함수\n",
    "##### > return문이 필요없는 함수\n",
    "##### > 간단한 함수를 선언하면서, 바로 실행도도록 하는 용도로도 사용"
   ]
  },
  {
   "cell_type": "code",
   "execution_count": 184,
   "id": "3f48118e-7659-411b-babc-97fcdc85875c",
   "metadata": {},
   "outputs": [
    {
     "data": {
      "text/plain": [
       "12"
      ]
     },
     "execution_count": 184,
     "metadata": {},
     "output_type": "execute_result"
    }
   ],
   "source": [
    "## [lamda 함수 선언] \n",
    "multi=lambda x,y:x*y  #선언: lamda 함수를 선언하여 함수 객체로 반환\n",
    "multi(3,4)            #실행: 함수 객채를 통해 lamda 함수 실행"
   ]
  },
  {
   "cell_type": "code",
   "execution_count": 185,
   "id": "8afd9da3-08bd-4656-9c05-18150dfc52d3",
   "metadata": {},
   "outputs": [
    {
     "data": {
      "text/plain": [
       "12"
      ]
     },
     "execution_count": 185,
     "metadata": {},
     "output_type": "execute_result"
    }
   ],
   "source": [
    "## [lamda 함수 선언] 매개변수에 기본값 사용\n",
    "multi=lambda x=3,y=4:x*y  #매개변수에 기본값 사용\n",
    "multi()"
   ]
  },
  {
   "cell_type": "code",
   "execution_count": 186,
   "id": "ea0637af-4966-4210-a0c2-dd4f4ff87f28",
   "metadata": {},
   "outputs": [
    {
     "data": {
      "text/plain": [
       "12"
      ]
     },
     "execution_count": 186,
     "metadata": {},
     "output_type": "execute_result"
    }
   ],
   "source": [
    "## [lamda 함수 선언] 선언과 동시에 실행\n",
    "(lambda x,y:x*y)(3,4)  #선언과 동시에 실행"
   ]
  },
  {
   "cell_type": "code",
   "execution_count": 181,
   "id": "0901de51-dd54-438a-ae4d-ad80a029e08c",
   "metadata": {},
   "outputs": [
    {
     "data": {
      "text/plain": [
       "7"
      ]
     },
     "execution_count": 181,
     "metadata": {},
     "output_type": "execute_result"
    }
   ],
   "source": [
    "# 매개변수 x, y를 사용하여 x+y를 반환하는 lamda 함수 선언\n",
    "lambda x, y:x+y  #lamda 함수는 실행 후 함수 객체를 반환\n",
    "\n",
    "# 선언된 lamda 함수 바로 사용\n",
    "(lambda x, y:x+y)(3, 4)  #반환된 함수객체를 사용하여 (3, 4)를 실행"
   ]
  },
  {
   "cell_type": "code",
   "execution_count": 190,
   "id": "93d5bfcd-eac1-42dc-b43f-a10671bd644d",
   "metadata": {},
   "outputs": [
    {
     "data": {
      "text/html": [
       "<div>\n",
       "<style scoped>\n",
       "    .dataframe tbody tr th:only-of-type {\n",
       "        vertical-align: middle;\n",
       "    }\n",
       "\n",
       "    .dataframe tbody tr th {\n",
       "        vertical-align: top;\n",
       "    }\n",
       "\n",
       "    .dataframe thead th {\n",
       "        text-align: right;\n",
       "    }\n",
       "</style>\n",
       "<table border=\"1\" class=\"dataframe\">\n",
       "  <thead>\n",
       "    <tr style=\"text-align: right;\">\n",
       "      <th></th>\n",
       "      <th>Eng</th>\n",
       "      <th>Mat</th>\n",
       "    </tr>\n",
       "  </thead>\n",
       "  <tbody>\n",
       "    <tr>\n",
       "      <th>Kims</th>\n",
       "      <td>87</td>\n",
       "      <td>80</td>\n",
       "    </tr>\n",
       "    <tr>\n",
       "      <th>Lees</th>\n",
       "      <td>79</td>\n",
       "      <td>90</td>\n",
       "    </tr>\n",
       "    <tr>\n",
       "      <th>Parks</th>\n",
       "      <td>80</td>\n",
       "      <td>80</td>\n",
       "    </tr>\n",
       "  </tbody>\n",
       "</table>\n",
       "</div>"
      ],
      "text/plain": [
       "       Eng  Mat\n",
       "Kims    87   80\n",
       "Lees    79   90\n",
       "Parks   80   80"
      ]
     },
     "execution_count": 190,
     "metadata": {},
     "output_type": "execute_result"
    }
   ],
   "source": [
    "## [Data Frame] 생성\n",
    "import pandas as pd\n",
    "long_name_df = pd.DataFrame({'Eng' : [87, 79, 80], \n",
    "\t\t\t\t'Mat' : [80, 90, 80]}, \n",
    "                index =  ['Kims', 'Lees', 'Parks'])  #index 강제 부여\n",
    "long_name_df"
   ]
  },
  {
   "cell_type": "markdown",
   "id": "c3f47dac-7846-4508-b728-7f52d249f2bc",
   "metadata": {},
   "source": [
    "##### **lamda 함수 활용**"
   ]
  },
  {
   "cell_type": "code",
   "execution_count": 192,
   "id": "bfe11809-5f53-4368-8df5-32c7ac63049e",
   "metadata": {},
   "outputs": [
    {
     "data": {
      "text/html": [
       "<div>\n",
       "<style scoped>\n",
       "    .dataframe tbody tr th:only-of-type {\n",
       "        vertical-align: middle;\n",
       "    }\n",
       "\n",
       "    .dataframe tbody tr th {\n",
       "        vertical-align: top;\n",
       "    }\n",
       "\n",
       "    .dataframe thead th {\n",
       "        text-align: right;\n",
       "    }\n",
       "</style>\n",
       "<table border=\"1\" class=\"dataframe\">\n",
       "  <thead>\n",
       "    <tr style=\"text-align: right;\">\n",
       "      <th></th>\n",
       "      <th>Eng</th>\n",
       "      <th>Mat</th>\n",
       "      <th>avg</th>\n",
       "    </tr>\n",
       "  </thead>\n",
       "  <tbody>\n",
       "    <tr>\n",
       "      <th>Kims</th>\n",
       "      <td>87</td>\n",
       "      <td>80</td>\n",
       "      <td>83.5</td>\n",
       "    </tr>\n",
       "    <tr>\n",
       "      <th>Lees</th>\n",
       "      <td>79</td>\n",
       "      <td>90</td>\n",
       "      <td>84.5</td>\n",
       "    </tr>\n",
       "    <tr>\n",
       "      <th>Parks</th>\n",
       "      <td>80</td>\n",
       "      <td>80</td>\n",
       "      <td>80.0</td>\n",
       "    </tr>\n",
       "  </tbody>\n",
       "</table>\n",
       "</div>"
      ],
      "text/plain": [
       "       Eng  Mat   avg\n",
       "Kims    87   80  83.5\n",
       "Lees    79   90  84.5\n",
       "Parks   80   80  80.0"
      ]
     },
     "execution_count": 192,
     "metadata": {},
     "output_type": "execute_result"
    }
   ],
   "source": [
    "## lamda 함수 활용\n",
    "#long_name_df 객체에서 lamda 함수가 생성되었으므로 매개변수 x는 객체명 long_name_df에 해당\n",
    "long_name_df.assign(avg = lambda x: (x['Eng'] + x['Mat'])/2)  # long_name_df 대신 x 사용"
   ]
  },
  {
   "cell_type": "code",
   "execution_count": null,
   "id": "63535300-8123-4fdb-9afd-67c6d3fa0023",
   "metadata": {},
   "outputs": [],
   "source": []
  },
  {
   "cell_type": "markdown",
   "id": "179dba9e-4aed-43e6-be21-f062348c7b69",
   "metadata": {},
   "source": [
    "---\n",
    "### **03-3. 함수 꾸러미, '패키지' 이해하기**"
   ]
  },
  {
   "cell_type": "markdown",
   "id": "ba861bb2-e69a-4fc4-9ecb-ae0b52a6fddb",
   "metadata": {},
   "source": [
    "#### **함수, 모듈, 패키지**\n",
    "##### > 함수(Function) : 단위 기능을 수행하는 명령의 집합\n",
    "##### > 모듈(Module) : 함수의 모음으로 함수보다는 좀 더 큰 단위의 작업을 수행\n",
    "##### > 패키지(Package) : 관련이 깊은 모듈들을 하나로 모아놓은 것"
   ]
  },
  {
   "cell_type": "markdown",
   "id": "0dfa9b04-b41b-4102-8fe8-d92c462b808a",
   "metadata": {},
   "source": [
    "##### **`패키지명.모듈명.함수명()`으로 함수 사용하기**"
   ]
  },
  {
   "cell_type": "code",
   "execution_count": null,
   "id": "82d8644a-3a11-4b39-a416-b740d6ea99da",
   "metadata": {},
   "outputs": [],
   "source": [
    "# sklearn 패키지의 metrics 모듈 로드하기 \n",
    "import sklearn.metrics"
   ]
  },
  {
   "cell_type": "code",
   "execution_count": null,
   "id": "c8876727-b0d0-4985-8761-0a39a42b584b",
   "metadata": {},
   "outputs": [],
   "source": [
    "# sklearn 패키지 metrics 모듈의 accuracy_score() 사용하기\n",
    "sklearn.metrics.accuracy_score()"
   ]
  },
  {
   "cell_type": "markdown",
   "id": "14d0de07-dba4-4401-aca2-53452b18a965",
   "metadata": {},
   "source": [
    "##### **`모듈명.함수명()`으로 함수 사용하기**"
   ]
  },
  {
   "cell_type": "code",
   "execution_count": null,
   "id": "e92e83c6-6e82-4355-b13f-36358577cbda",
   "metadata": {},
   "outputs": [],
   "source": [
    "# sklearn 패키지의 metrics 모듈 로드하기\n",
    "from sklearn import metrics\n",
    "metrics.accuracy_score()"
   ]
  },
  {
   "cell_type": "markdown",
   "id": "9060128d-f452-42f6-a265-94ce0bdcbe28",
   "metadata": {},
   "source": [
    "##### **`함수명()`으로 함수 사용하기**"
   ]
  },
  {
   "cell_type": "code",
   "execution_count": null,
   "id": "aa236664-0457-407b-8609-5b8f663cd932",
   "metadata": {},
   "outputs": [],
   "source": [
    "# sklearn 패키지 metrics 모듈의 accuracy_score() 로드하기\n",
    "from sklearn.metrics import accuracy_score\n",
    "accuracy_score()"
   ]
  },
  {
   "cell_type": "markdown",
   "id": "f3b90151-611e-4fb2-9abd-73c2fc24affd",
   "metadata": {
    "tags": []
   },
   "source": [
    "##### **import 패키지명.모듈명으로 import하여 함수 사용하기**"
   ]
  },
  {
   "cell_type": "markdown",
   "id": "710b843c-b44a-4f1b-9694-c6cae60c75af",
   "metadata": {
    "tags": []
   },
   "source": [
    "##### **[연습] x-y 그래프 그리기**\n",
    "###### ChatGpt를 이용하여 코드를 구함\n",
    "###### **[ChatGpt] python으로 x와 y 값이 리스트로 주어졌을 때 x-y 그래프를 그려주는 코드?**\n",
    "###### > linestyle: '-' 실선, '--' 긴 점선, '-.' 점과 선, ':' 작은 점선"
   ]
  },
  {
   "cell_type": "code",
   "execution_count": 137,
   "id": "8782aa43-92bd-4d57-a851-d536e1c23e01",
   "metadata": {},
   "outputs": [
    {
     "data": {
      "image/png": "[encoded data removed]",
      "text/plain": [
       "<Figure size 640x480 with 1 Axes>"
      ]
     },
     "metadata": {},
     "output_type": "display_data"
    }
   ],
   "source": [
    "## [ChatGpt] x-y 그래프 그리기\n",
    "import matplotlib.pyplot as plt\n",
    "\n",
    "# 예제 데이터\n",
    "x = [1, 2, 3, 4, 5]\n",
    "y = [10, 20, 15, 25, 30]\n",
    "\n",
    "# 그래프 그리기\n",
    "plt.plot(x, y, marker='o', linestyle='-', color='b', label='y = f(x)')\n",
    "\n",
    "# 그래프 제목 및 축 레이블 설정\n",
    "plt.title(\"X-Y Graph\")\n",
    "plt.xlabel(\"X values\")\n",
    "plt.ylabel(\"Y values\")\n",
    "\n",
    "# 범례 표시\n",
    "plt.legend()\n",
    "\n",
    "# 그리드 추가\n",
    "plt.grid(True)\n",
    "\n",
    "# 그래프 출력\n",
    "plt.show()"
   ]
  },
  {
   "cell_type": "markdown",
   "id": "f182c94a-30a5-4a4c-8745-87c1c7b564a8",
   "metadata": {},
   "source": [
    "##### **import 패키지명.모듈명으로 import하여 함수 사용하기**"
   ]
  },
  {
   "cell_type": "code",
   "execution_count": 40,
   "id": "0bb80dba-3641-411b-aeff-989c90e93297",
   "metadata": {},
   "outputs": [
    {
     "name": "stdout",
     "output_type": "stream",
     "text": [
      "4.0\n"
     ]
    }
   ],
   "source": [
    "# math 모듈을 가져옴\n",
    "import math  # math 모듈을 전체 가져옴\n",
    "\n",
    "result = math.sqrt(16)  # math.sqrt() 형태로 사용\n",
    "print(result)  # 출력: 4.0"
   ]
  },
  {
   "cell_type": "markdown",
   "id": "42e35a4f-e919-4b82-af2c-2ea1400ce6d9",
   "metadata": {},
   "source": [
    "##### **from 패키지명 import 모듈명으로 import하여 함수 사용하기**"
   ]
  },
  {
   "cell_type": "code",
   "execution_count": 41,
   "id": "90e5addb-4633-4d9d-a6f4-0eeab945d438",
   "metadata": {},
   "outputs": [
    {
     "name": "stdout",
     "output_type": "stream",
     "text": [
      "4.0\n"
     ]
    }
   ],
   "source": [
    "from math import sqrt  # math 모듈에서 sqrt 함수만 가져옴\n",
    "\n",
    "result = sqrt(16)  # math.sqrt()가 아니라 그냥 sqrt()로 사용 가능\n",
    "print(result)  # 출력: 4.0"
   ]
  },
  {
   "cell_type": "code",
   "execution_count": null,
   "id": "39860e08-f0ec-42fb-8f3f-56e91327137b",
   "metadata": {},
   "outputs": [],
   "source": []
  },
  {
   "cell_type": "markdown",
   "id": "1c67639d-cb1d-46fc-84bf-1387f82239c3",
   "metadata": {},
   "source": [
    "----\n",
    "### **패키지 설치하기**"
   ]
  },
  {
   "cell_type": "code",
   "execution_count": 1,
   "id": "a3f8c477-b8a1-4291-9085-802555101ae8",
   "metadata": {},
   "outputs": [
    {
     "name": "stdout",
     "output_type": "stream",
     "text": [
      "Requirement already satisfied: pydataset in c:\\users\\admin\\anaconda3\\lib\\site-packages (0.2.0)\n",
      "Requirement already satisfied: pandas in c:\\users\\admin\\anaconda3\\lib\\site-packages (from pydataset) (1.4.4)\n",
      "Requirement already satisfied: pytz>=2020.1 in c:\\users\\admin\\anaconda3\\lib\\site-packages (from pandas->pydataset) (2022.1)\n",
      "Requirement already satisfied: python-dateutil>=2.8.1 in c:\\users\\admin\\anaconda3\\lib\\site-packages (from pandas->pydataset) (2.8.2)\n",
      "Requirement already satisfied: numpy>=1.18.5 in c:\\users\\admin\\anaconda3\\lib\\site-packages (from pandas->pydataset) (1.21.5)\n",
      "Requirement already satisfied: six>=1.5 in c:\\users\\admin\\anaconda3\\lib\\site-packages (from python-dateutil>=2.8.1->pandas->pydataset) (1.16.0)\n",
      "Note: you may need to restart the kernel to use updated packages.\n"
     ]
    }
   ],
   "source": [
    "pip install pydataset"
   ]
  },
  {
   "cell_type": "markdown",
   "id": "ea9e92c7-5be7-4b21-9eb8-87338ffb4c3c",
   "metadata": {},
   "source": [
    "#### **패키지 함수 사용하기**"
   ]
  },
  {
   "cell_type": "code",
   "execution_count": 2,
   "id": "6382c2a0-8174-45b8-83f4-cc710383e0e3",
   "metadata": {},
   "outputs": [
    {
     "data": {
      "text/html": [
       "<div>\n",
       "<style scoped>\n",
       "    .dataframe tbody tr th:only-of-type {\n",
       "        vertical-align: middle;\n",
       "    }\n",
       "\n",
       "    .dataframe tbody tr th {\n",
       "        vertical-align: top;\n",
       "    }\n",
       "\n",
       "    .dataframe thead th {\n",
       "        text-align: right;\n",
       "    }\n",
       "</style>\n",
       "<table border=\"1\" class=\"dataframe\">\n",
       "  <thead>\n",
       "    <tr style=\"text-align: right;\">\n",
       "      <th></th>\n",
       "      <th>dataset_id</th>\n",
       "      <th>title</th>\n",
       "    </tr>\n",
       "  </thead>\n",
       "  <tbody>\n",
       "    <tr>\n",
       "      <th>0</th>\n",
       "      <td>AirPassengers</td>\n",
       "      <td>Monthly Airline Passenger Numbers 1949-1960</td>\n",
       "    </tr>\n",
       "    <tr>\n",
       "      <th>1</th>\n",
       "      <td>BJsales</td>\n",
       "      <td>Sales Data with Leading Indicator</td>\n",
       "    </tr>\n",
       "    <tr>\n",
       "      <th>2</th>\n",
       "      <td>BOD</td>\n",
       "      <td>Biochemical Oxygen Demand</td>\n",
       "    </tr>\n",
       "    <tr>\n",
       "      <th>3</th>\n",
       "      <td>Formaldehyde</td>\n",
       "      <td>Determination of Formaldehyde</td>\n",
       "    </tr>\n",
       "    <tr>\n",
       "      <th>4</th>\n",
       "      <td>HairEyeColor</td>\n",
       "      <td>Hair and Eye Color of Statistics Students</td>\n",
       "    </tr>\n",
       "    <tr>\n",
       "      <th>...</th>\n",
       "      <td>...</td>\n",
       "      <td>...</td>\n",
       "    </tr>\n",
       "    <tr>\n",
       "      <th>752</th>\n",
       "      <td>VerbAgg</td>\n",
       "      <td>Verbal Aggression item responses</td>\n",
       "    </tr>\n",
       "    <tr>\n",
       "      <th>753</th>\n",
       "      <td>cake</td>\n",
       "      <td>Breakage Angle of Chocolate Cakes</td>\n",
       "    </tr>\n",
       "    <tr>\n",
       "      <th>754</th>\n",
       "      <td>cbpp</td>\n",
       "      <td>Contagious bovine pleuropneumonia</td>\n",
       "    </tr>\n",
       "    <tr>\n",
       "      <th>755</th>\n",
       "      <td>grouseticks</td>\n",
       "      <td>Data on red grouse ticks from Elston et al. 2001</td>\n",
       "    </tr>\n",
       "    <tr>\n",
       "      <th>756</th>\n",
       "      <td>sleepstudy</td>\n",
       "      <td>Reaction times in a sleep deprivation study</td>\n",
       "    </tr>\n",
       "  </tbody>\n",
       "</table>\n",
       "<p>757 rows × 2 columns</p>\n",
       "</div>"
      ],
      "text/plain": [
       "        dataset_id                                             title\n",
       "0    AirPassengers       Monthly Airline Passenger Numbers 1949-1960\n",
       "1          BJsales                 Sales Data with Leading Indicator\n",
       "2              BOD                         Biochemical Oxygen Demand\n",
       "3     Formaldehyde                     Determination of Formaldehyde\n",
       "4     HairEyeColor         Hair and Eye Color of Statistics Students\n",
       "..             ...                                               ...\n",
       "752        VerbAgg                  Verbal Aggression item responses\n",
       "753           cake                 Breakage Angle of Chocolate Cakes\n",
       "754           cbpp                 Contagious bovine pleuropneumonia\n",
       "755    grouseticks  Data on red grouse ticks from Elston et al. 2001\n",
       "756     sleepstudy       Reaction times in a sleep deprivation study\n",
       "\n",
       "[757 rows x 2 columns]"
      ]
     },
     "execution_count": 2,
     "metadata": {},
     "output_type": "execute_result"
    }
   ],
   "source": [
    "import pydataset\n",
    "pydataset.data()"
   ]
  },
  {
   "cell_type": "code",
   "execution_count": 8,
   "id": "160f96e1-89e3-4369-8ca8-1dcca001bc8c",
   "metadata": {},
   "outputs": [
    {
     "data": {
      "text/html": [
       "<div>\n",
       "<style scoped>\n",
       "    .dataframe tbody tr th:only-of-type {\n",
       "        vertical-align: middle;\n",
       "    }\n",
       "\n",
       "    .dataframe tbody tr th {\n",
       "        vertical-align: top;\n",
       "    }\n",
       "\n",
       "    .dataframe thead th {\n",
       "        text-align: right;\n",
       "    }\n",
       "</style>\n",
       "<table border=\"1\" class=\"dataframe\">\n",
       "  <thead>\n",
       "    <tr style=\"text-align: right;\">\n",
       "      <th></th>\n",
       "      <th>Hair</th>\n",
       "      <th>Eye</th>\n",
       "      <th>Sex</th>\n",
       "      <th>Freq</th>\n",
       "    </tr>\n",
       "  </thead>\n",
       "  <tbody>\n",
       "    <tr>\n",
       "      <th>1</th>\n",
       "      <td>Black</td>\n",
       "      <td>Brown</td>\n",
       "      <td>Male</td>\n",
       "      <td>32</td>\n",
       "    </tr>\n",
       "    <tr>\n",
       "      <th>2</th>\n",
       "      <td>Brown</td>\n",
       "      <td>Brown</td>\n",
       "      <td>Male</td>\n",
       "      <td>53</td>\n",
       "    </tr>\n",
       "    <tr>\n",
       "      <th>3</th>\n",
       "      <td>Red</td>\n",
       "      <td>Brown</td>\n",
       "      <td>Male</td>\n",
       "      <td>10</td>\n",
       "    </tr>\n",
       "    <tr>\n",
       "      <th>4</th>\n",
       "      <td>Blond</td>\n",
       "      <td>Brown</td>\n",
       "      <td>Male</td>\n",
       "      <td>3</td>\n",
       "    </tr>\n",
       "    <tr>\n",
       "      <th>5</th>\n",
       "      <td>Black</td>\n",
       "      <td>Blue</td>\n",
       "      <td>Male</td>\n",
       "      <td>11</td>\n",
       "    </tr>\n",
       "    <tr>\n",
       "      <th>6</th>\n",
       "      <td>Brown</td>\n",
       "      <td>Blue</td>\n",
       "      <td>Male</td>\n",
       "      <td>50</td>\n",
       "    </tr>\n",
       "    <tr>\n",
       "      <th>7</th>\n",
       "      <td>Red</td>\n",
       "      <td>Blue</td>\n",
       "      <td>Male</td>\n",
       "      <td>10</td>\n",
       "    </tr>\n",
       "    <tr>\n",
       "      <th>8</th>\n",
       "      <td>Blond</td>\n",
       "      <td>Blue</td>\n",
       "      <td>Male</td>\n",
       "      <td>30</td>\n",
       "    </tr>\n",
       "    <tr>\n",
       "      <th>9</th>\n",
       "      <td>Black</td>\n",
       "      <td>Hazel</td>\n",
       "      <td>Male</td>\n",
       "      <td>10</td>\n",
       "    </tr>\n",
       "    <tr>\n",
       "      <th>10</th>\n",
       "      <td>Brown</td>\n",
       "      <td>Hazel</td>\n",
       "      <td>Male</td>\n",
       "      <td>25</td>\n",
       "    </tr>\n",
       "    <tr>\n",
       "      <th>11</th>\n",
       "      <td>Red</td>\n",
       "      <td>Hazel</td>\n",
       "      <td>Male</td>\n",
       "      <td>7</td>\n",
       "    </tr>\n",
       "    <tr>\n",
       "      <th>12</th>\n",
       "      <td>Blond</td>\n",
       "      <td>Hazel</td>\n",
       "      <td>Male</td>\n",
       "      <td>5</td>\n",
       "    </tr>\n",
       "    <tr>\n",
       "      <th>13</th>\n",
       "      <td>Black</td>\n",
       "      <td>Green</td>\n",
       "      <td>Male</td>\n",
       "      <td>3</td>\n",
       "    </tr>\n",
       "    <tr>\n",
       "      <th>14</th>\n",
       "      <td>Brown</td>\n",
       "      <td>Green</td>\n",
       "      <td>Male</td>\n",
       "      <td>15</td>\n",
       "    </tr>\n",
       "    <tr>\n",
       "      <th>15</th>\n",
       "      <td>Red</td>\n",
       "      <td>Green</td>\n",
       "      <td>Male</td>\n",
       "      <td>7</td>\n",
       "    </tr>\n",
       "    <tr>\n",
       "      <th>16</th>\n",
       "      <td>Blond</td>\n",
       "      <td>Green</td>\n",
       "      <td>Male</td>\n",
       "      <td>8</td>\n",
       "    </tr>\n",
       "    <tr>\n",
       "      <th>17</th>\n",
       "      <td>Black</td>\n",
       "      <td>Brown</td>\n",
       "      <td>Female</td>\n",
       "      <td>36</td>\n",
       "    </tr>\n",
       "    <tr>\n",
       "      <th>18</th>\n",
       "      <td>Brown</td>\n",
       "      <td>Brown</td>\n",
       "      <td>Female</td>\n",
       "      <td>66</td>\n",
       "    </tr>\n",
       "    <tr>\n",
       "      <th>19</th>\n",
       "      <td>Red</td>\n",
       "      <td>Brown</td>\n",
       "      <td>Female</td>\n",
       "      <td>16</td>\n",
       "    </tr>\n",
       "    <tr>\n",
       "      <th>20</th>\n",
       "      <td>Blond</td>\n",
       "      <td>Brown</td>\n",
       "      <td>Female</td>\n",
       "      <td>4</td>\n",
       "    </tr>\n",
       "    <tr>\n",
       "      <th>21</th>\n",
       "      <td>Black</td>\n",
       "      <td>Blue</td>\n",
       "      <td>Female</td>\n",
       "      <td>9</td>\n",
       "    </tr>\n",
       "    <tr>\n",
       "      <th>22</th>\n",
       "      <td>Brown</td>\n",
       "      <td>Blue</td>\n",
       "      <td>Female</td>\n",
       "      <td>34</td>\n",
       "    </tr>\n",
       "    <tr>\n",
       "      <th>23</th>\n",
       "      <td>Red</td>\n",
       "      <td>Blue</td>\n",
       "      <td>Female</td>\n",
       "      <td>7</td>\n",
       "    </tr>\n",
       "    <tr>\n",
       "      <th>24</th>\n",
       "      <td>Blond</td>\n",
       "      <td>Blue</td>\n",
       "      <td>Female</td>\n",
       "      <td>64</td>\n",
       "    </tr>\n",
       "    <tr>\n",
       "      <th>25</th>\n",
       "      <td>Black</td>\n",
       "      <td>Hazel</td>\n",
       "      <td>Female</td>\n",
       "      <td>5</td>\n",
       "    </tr>\n",
       "    <tr>\n",
       "      <th>26</th>\n",
       "      <td>Brown</td>\n",
       "      <td>Hazel</td>\n",
       "      <td>Female</td>\n",
       "      <td>29</td>\n",
       "    </tr>\n",
       "    <tr>\n",
       "      <th>27</th>\n",
       "      <td>Red</td>\n",
       "      <td>Hazel</td>\n",
       "      <td>Female</td>\n",
       "      <td>7</td>\n",
       "    </tr>\n",
       "    <tr>\n",
       "      <th>28</th>\n",
       "      <td>Blond</td>\n",
       "      <td>Hazel</td>\n",
       "      <td>Female</td>\n",
       "      <td>5</td>\n",
       "    </tr>\n",
       "    <tr>\n",
       "      <th>29</th>\n",
       "      <td>Black</td>\n",
       "      <td>Green</td>\n",
       "      <td>Female</td>\n",
       "      <td>2</td>\n",
       "    </tr>\n",
       "    <tr>\n",
       "      <th>30</th>\n",
       "      <td>Brown</td>\n",
       "      <td>Green</td>\n",
       "      <td>Female</td>\n",
       "      <td>14</td>\n",
       "    </tr>\n",
       "    <tr>\n",
       "      <th>31</th>\n",
       "      <td>Red</td>\n",
       "      <td>Green</td>\n",
       "      <td>Female</td>\n",
       "      <td>7</td>\n",
       "    </tr>\n",
       "    <tr>\n",
       "      <th>32</th>\n",
       "      <td>Blond</td>\n",
       "      <td>Green</td>\n",
       "      <td>Female</td>\n",
       "      <td>8</td>\n",
       "    </tr>\n",
       "  </tbody>\n",
       "</table>\n",
       "</div>"
      ],
      "text/plain": [
       "     Hair    Eye     Sex  Freq\n",
       "1   Black  Brown    Male    32\n",
       "2   Brown  Brown    Male    53\n",
       "3     Red  Brown    Male    10\n",
       "4   Blond  Brown    Male     3\n",
       "5   Black   Blue    Male    11\n",
       "6   Brown   Blue    Male    50\n",
       "7     Red   Blue    Male    10\n",
       "8   Blond   Blue    Male    30\n",
       "9   Black  Hazel    Male    10\n",
       "10  Brown  Hazel    Male    25\n",
       "11    Red  Hazel    Male     7\n",
       "12  Blond  Hazel    Male     5\n",
       "13  Black  Green    Male     3\n",
       "14  Brown  Green    Male    15\n",
       "15    Red  Green    Male     7\n",
       "16  Blond  Green    Male     8\n",
       "17  Black  Brown  Female    36\n",
       "18  Brown  Brown  Female    66\n",
       "19    Red  Brown  Female    16\n",
       "20  Blond  Brown  Female     4\n",
       "21  Black   Blue  Female     9\n",
       "22  Brown   Blue  Female    34\n",
       "23    Red   Blue  Female     7\n",
       "24  Blond   Blue  Female    64\n",
       "25  Black  Hazel  Female     5\n",
       "26  Brown  Hazel  Female    29\n",
       "27    Red  Hazel  Female     7\n",
       "28  Blond  Hazel  Female     5\n",
       "29  Black  Green  Female     2\n",
       "30  Brown  Green  Female    14\n",
       "31    Red  Green  Female     7\n",
       "32  Blond  Green  Female     8"
      ]
     },
     "execution_count": 8,
     "metadata": {},
     "output_type": "execute_result"
    }
   ],
   "source": [
    "df = pydataset.data('HairEyeColor')  # HairEyeColor 데이터를 df 데이터 프레임 df에 할당\n",
    "df                                   # df 출력"
   ]
  },
  {
   "cell_type": "code",
   "execution_count": 3,
   "id": "5dba8a64-1d46-4d57-add4-56c14b3f365f",
   "metadata": {},
   "outputs": [
    {
     "data": {
      "text/html": [
       "<div>\n",
       "<style scoped>\n",
       "    .dataframe tbody tr th:only-of-type {\n",
       "        vertical-align: middle;\n",
       "    }\n",
       "\n",
       "    .dataframe tbody tr th {\n",
       "        vertical-align: top;\n",
       "    }\n",
       "\n",
       "    .dataframe thead th {\n",
       "        text-align: right;\n",
       "    }\n",
       "</style>\n",
       "<table border=\"1\" class=\"dataframe\">\n",
       "  <thead>\n",
       "    <tr style=\"text-align: right;\">\n",
       "      <th></th>\n",
       "      <th>mpg</th>\n",
       "      <th>cyl</th>\n",
       "      <th>disp</th>\n",
       "      <th>hp</th>\n",
       "      <th>drat</th>\n",
       "      <th>wt</th>\n",
       "      <th>qsec</th>\n",
       "      <th>vs</th>\n",
       "      <th>am</th>\n",
       "      <th>gear</th>\n",
       "      <th>carb</th>\n",
       "    </tr>\n",
       "  </thead>\n",
       "  <tbody>\n",
       "    <tr>\n",
       "      <th>Mazda RX4</th>\n",
       "      <td>21.0</td>\n",
       "      <td>6</td>\n",
       "      <td>160.0</td>\n",
       "      <td>110</td>\n",
       "      <td>3.90</td>\n",
       "      <td>2.620</td>\n",
       "      <td>16.46</td>\n",
       "      <td>0</td>\n",
       "      <td>1</td>\n",
       "      <td>4</td>\n",
       "      <td>4</td>\n",
       "    </tr>\n",
       "    <tr>\n",
       "      <th>Mazda RX4 Wag</th>\n",
       "      <td>21.0</td>\n",
       "      <td>6</td>\n",
       "      <td>160.0</td>\n",
       "      <td>110</td>\n",
       "      <td>3.90</td>\n",
       "      <td>2.875</td>\n",
       "      <td>17.02</td>\n",
       "      <td>0</td>\n",
       "      <td>1</td>\n",
       "      <td>4</td>\n",
       "      <td>4</td>\n",
       "    </tr>\n",
       "    <tr>\n",
       "      <th>Datsun 710</th>\n",
       "      <td>22.8</td>\n",
       "      <td>4</td>\n",
       "      <td>108.0</td>\n",
       "      <td>93</td>\n",
       "      <td>3.85</td>\n",
       "      <td>2.320</td>\n",
       "      <td>18.61</td>\n",
       "      <td>1</td>\n",
       "      <td>1</td>\n",
       "      <td>4</td>\n",
       "      <td>1</td>\n",
       "    </tr>\n",
       "    <tr>\n",
       "      <th>Hornet 4 Drive</th>\n",
       "      <td>21.4</td>\n",
       "      <td>6</td>\n",
       "      <td>258.0</td>\n",
       "      <td>110</td>\n",
       "      <td>3.08</td>\n",
       "      <td>3.215</td>\n",
       "      <td>19.44</td>\n",
       "      <td>1</td>\n",
       "      <td>0</td>\n",
       "      <td>3</td>\n",
       "      <td>1</td>\n",
       "    </tr>\n",
       "    <tr>\n",
       "      <th>Hornet Sportabout</th>\n",
       "      <td>18.7</td>\n",
       "      <td>8</td>\n",
       "      <td>360.0</td>\n",
       "      <td>175</td>\n",
       "      <td>3.15</td>\n",
       "      <td>3.440</td>\n",
       "      <td>17.02</td>\n",
       "      <td>0</td>\n",
       "      <td>0</td>\n",
       "      <td>3</td>\n",
       "      <td>2</td>\n",
       "    </tr>\n",
       "    <tr>\n",
       "      <th>Valiant</th>\n",
       "      <td>18.1</td>\n",
       "      <td>6</td>\n",
       "      <td>225.0</td>\n",
       "      <td>105</td>\n",
       "      <td>2.76</td>\n",
       "      <td>3.460</td>\n",
       "      <td>20.22</td>\n",
       "      <td>1</td>\n",
       "      <td>0</td>\n",
       "      <td>3</td>\n",
       "      <td>1</td>\n",
       "    </tr>\n",
       "    <tr>\n",
       "      <th>Duster 360</th>\n",
       "      <td>14.3</td>\n",
       "      <td>8</td>\n",
       "      <td>360.0</td>\n",
       "      <td>245</td>\n",
       "      <td>3.21</td>\n",
       "      <td>3.570</td>\n",
       "      <td>15.84</td>\n",
       "      <td>0</td>\n",
       "      <td>0</td>\n",
       "      <td>3</td>\n",
       "      <td>4</td>\n",
       "    </tr>\n",
       "    <tr>\n",
       "      <th>Merc 240D</th>\n",
       "      <td>24.4</td>\n",
       "      <td>4</td>\n",
       "      <td>146.7</td>\n",
       "      <td>62</td>\n",
       "      <td>3.69</td>\n",
       "      <td>3.190</td>\n",
       "      <td>20.00</td>\n",
       "      <td>1</td>\n",
       "      <td>0</td>\n",
       "      <td>4</td>\n",
       "      <td>2</td>\n",
       "    </tr>\n",
       "    <tr>\n",
       "      <th>Merc 230</th>\n",
       "      <td>22.8</td>\n",
       "      <td>4</td>\n",
       "      <td>140.8</td>\n",
       "      <td>95</td>\n",
       "      <td>3.92</td>\n",
       "      <td>3.150</td>\n",
       "      <td>22.90</td>\n",
       "      <td>1</td>\n",
       "      <td>0</td>\n",
       "      <td>4</td>\n",
       "      <td>2</td>\n",
       "    </tr>\n",
       "    <tr>\n",
       "      <th>Merc 280</th>\n",
       "      <td>19.2</td>\n",
       "      <td>6</td>\n",
       "      <td>167.6</td>\n",
       "      <td>123</td>\n",
       "      <td>3.92</td>\n",
       "      <td>3.440</td>\n",
       "      <td>18.30</td>\n",
       "      <td>1</td>\n",
       "      <td>0</td>\n",
       "      <td>4</td>\n",
       "      <td>4</td>\n",
       "    </tr>\n",
       "    <tr>\n",
       "      <th>Merc 280C</th>\n",
       "      <td>17.8</td>\n",
       "      <td>6</td>\n",
       "      <td>167.6</td>\n",
       "      <td>123</td>\n",
       "      <td>3.92</td>\n",
       "      <td>3.440</td>\n",
       "      <td>18.90</td>\n",
       "      <td>1</td>\n",
       "      <td>0</td>\n",
       "      <td>4</td>\n",
       "      <td>4</td>\n",
       "    </tr>\n",
       "    <tr>\n",
       "      <th>Merc 450SE</th>\n",
       "      <td>16.4</td>\n",
       "      <td>8</td>\n",
       "      <td>275.8</td>\n",
       "      <td>180</td>\n",
       "      <td>3.07</td>\n",
       "      <td>4.070</td>\n",
       "      <td>17.40</td>\n",
       "      <td>0</td>\n",
       "      <td>0</td>\n",
       "      <td>3</td>\n",
       "      <td>3</td>\n",
       "    </tr>\n",
       "    <tr>\n",
       "      <th>Merc 450SL</th>\n",
       "      <td>17.3</td>\n",
       "      <td>8</td>\n",
       "      <td>275.8</td>\n",
       "      <td>180</td>\n",
       "      <td>3.07</td>\n",
       "      <td>3.730</td>\n",
       "      <td>17.60</td>\n",
       "      <td>0</td>\n",
       "      <td>0</td>\n",
       "      <td>3</td>\n",
       "      <td>3</td>\n",
       "    </tr>\n",
       "    <tr>\n",
       "      <th>Merc 450SLC</th>\n",
       "      <td>15.2</td>\n",
       "      <td>8</td>\n",
       "      <td>275.8</td>\n",
       "      <td>180</td>\n",
       "      <td>3.07</td>\n",
       "      <td>3.780</td>\n",
       "      <td>18.00</td>\n",
       "      <td>0</td>\n",
       "      <td>0</td>\n",
       "      <td>3</td>\n",
       "      <td>3</td>\n",
       "    </tr>\n",
       "    <tr>\n",
       "      <th>Cadillac Fleetwood</th>\n",
       "      <td>10.4</td>\n",
       "      <td>8</td>\n",
       "      <td>472.0</td>\n",
       "      <td>205</td>\n",
       "      <td>2.93</td>\n",
       "      <td>5.250</td>\n",
       "      <td>17.98</td>\n",
       "      <td>0</td>\n",
       "      <td>0</td>\n",
       "      <td>3</td>\n",
       "      <td>4</td>\n",
       "    </tr>\n",
       "    <tr>\n",
       "      <th>Lincoln Continental</th>\n",
       "      <td>10.4</td>\n",
       "      <td>8</td>\n",
       "      <td>460.0</td>\n",
       "      <td>215</td>\n",
       "      <td>3.00</td>\n",
       "      <td>5.424</td>\n",
       "      <td>17.82</td>\n",
       "      <td>0</td>\n",
       "      <td>0</td>\n",
       "      <td>3</td>\n",
       "      <td>4</td>\n",
       "    </tr>\n",
       "    <tr>\n",
       "      <th>Chrysler Imperial</th>\n",
       "      <td>14.7</td>\n",
       "      <td>8</td>\n",
       "      <td>440.0</td>\n",
       "      <td>230</td>\n",
       "      <td>3.23</td>\n",
       "      <td>5.345</td>\n",
       "      <td>17.42</td>\n",
       "      <td>0</td>\n",
       "      <td>0</td>\n",
       "      <td>3</td>\n",
       "      <td>4</td>\n",
       "    </tr>\n",
       "    <tr>\n",
       "      <th>Fiat 128</th>\n",
       "      <td>32.4</td>\n",
       "      <td>4</td>\n",
       "      <td>78.7</td>\n",
       "      <td>66</td>\n",
       "      <td>4.08</td>\n",
       "      <td>2.200</td>\n",
       "      <td>19.47</td>\n",
       "      <td>1</td>\n",
       "      <td>1</td>\n",
       "      <td>4</td>\n",
       "      <td>1</td>\n",
       "    </tr>\n",
       "    <tr>\n",
       "      <th>Honda Civic</th>\n",
       "      <td>30.4</td>\n",
       "      <td>4</td>\n",
       "      <td>75.7</td>\n",
       "      <td>52</td>\n",
       "      <td>4.93</td>\n",
       "      <td>1.615</td>\n",
       "      <td>18.52</td>\n",
       "      <td>1</td>\n",
       "      <td>1</td>\n",
       "      <td>4</td>\n",
       "      <td>2</td>\n",
       "    </tr>\n",
       "    <tr>\n",
       "      <th>Toyota Corolla</th>\n",
       "      <td>33.9</td>\n",
       "      <td>4</td>\n",
       "      <td>71.1</td>\n",
       "      <td>65</td>\n",
       "      <td>4.22</td>\n",
       "      <td>1.835</td>\n",
       "      <td>19.90</td>\n",
       "      <td>1</td>\n",
       "      <td>1</td>\n",
       "      <td>4</td>\n",
       "      <td>1</td>\n",
       "    </tr>\n",
       "    <tr>\n",
       "      <th>Toyota Corona</th>\n",
       "      <td>21.5</td>\n",
       "      <td>4</td>\n",
       "      <td>120.1</td>\n",
       "      <td>97</td>\n",
       "      <td>3.70</td>\n",
       "      <td>2.465</td>\n",
       "      <td>20.01</td>\n",
       "      <td>1</td>\n",
       "      <td>0</td>\n",
       "      <td>3</td>\n",
       "      <td>1</td>\n",
       "    </tr>\n",
       "    <tr>\n",
       "      <th>Dodge Challenger</th>\n",
       "      <td>15.5</td>\n",
       "      <td>8</td>\n",
       "      <td>318.0</td>\n",
       "      <td>150</td>\n",
       "      <td>2.76</td>\n",
       "      <td>3.520</td>\n",
       "      <td>16.87</td>\n",
       "      <td>0</td>\n",
       "      <td>0</td>\n",
       "      <td>3</td>\n",
       "      <td>2</td>\n",
       "    </tr>\n",
       "    <tr>\n",
       "      <th>AMC Javelin</th>\n",
       "      <td>15.2</td>\n",
       "      <td>8</td>\n",
       "      <td>304.0</td>\n",
       "      <td>150</td>\n",
       "      <td>3.15</td>\n",
       "      <td>3.435</td>\n",
       "      <td>17.30</td>\n",
       "      <td>0</td>\n",
       "      <td>0</td>\n",
       "      <td>3</td>\n",
       "      <td>2</td>\n",
       "    </tr>\n",
       "    <tr>\n",
       "      <th>Camaro Z28</th>\n",
       "      <td>13.3</td>\n",
       "      <td>8</td>\n",
       "      <td>350.0</td>\n",
       "      <td>245</td>\n",
       "      <td>3.73</td>\n",
       "      <td>3.840</td>\n",
       "      <td>15.41</td>\n",
       "      <td>0</td>\n",
       "      <td>0</td>\n",
       "      <td>3</td>\n",
       "      <td>4</td>\n",
       "    </tr>\n",
       "    <tr>\n",
       "      <th>Pontiac Firebird</th>\n",
       "      <td>19.2</td>\n",
       "      <td>8</td>\n",
       "      <td>400.0</td>\n",
       "      <td>175</td>\n",
       "      <td>3.08</td>\n",
       "      <td>3.845</td>\n",
       "      <td>17.05</td>\n",
       "      <td>0</td>\n",
       "      <td>0</td>\n",
       "      <td>3</td>\n",
       "      <td>2</td>\n",
       "    </tr>\n",
       "    <tr>\n",
       "      <th>Fiat X1-9</th>\n",
       "      <td>27.3</td>\n",
       "      <td>4</td>\n",
       "      <td>79.0</td>\n",
       "      <td>66</td>\n",
       "      <td>4.08</td>\n",
       "      <td>1.935</td>\n",
       "      <td>18.90</td>\n",
       "      <td>1</td>\n",
       "      <td>1</td>\n",
       "      <td>4</td>\n",
       "      <td>1</td>\n",
       "    </tr>\n",
       "    <tr>\n",
       "      <th>Porsche 914-2</th>\n",
       "      <td>26.0</td>\n",
       "      <td>4</td>\n",
       "      <td>120.3</td>\n",
       "      <td>91</td>\n",
       "      <td>4.43</td>\n",
       "      <td>2.140</td>\n",
       "      <td>16.70</td>\n",
       "      <td>0</td>\n",
       "      <td>1</td>\n",
       "      <td>5</td>\n",
       "      <td>2</td>\n",
       "    </tr>\n",
       "    <tr>\n",
       "      <th>Lotus Europa</th>\n",
       "      <td>30.4</td>\n",
       "      <td>4</td>\n",
       "      <td>95.1</td>\n",
       "      <td>113</td>\n",
       "      <td>3.77</td>\n",
       "      <td>1.513</td>\n",
       "      <td>16.90</td>\n",
       "      <td>1</td>\n",
       "      <td>1</td>\n",
       "      <td>5</td>\n",
       "      <td>2</td>\n",
       "    </tr>\n",
       "    <tr>\n",
       "      <th>Ford Pantera L</th>\n",
       "      <td>15.8</td>\n",
       "      <td>8</td>\n",
       "      <td>351.0</td>\n",
       "      <td>264</td>\n",
       "      <td>4.22</td>\n",
       "      <td>3.170</td>\n",
       "      <td>14.50</td>\n",
       "      <td>0</td>\n",
       "      <td>1</td>\n",
       "      <td>5</td>\n",
       "      <td>4</td>\n",
       "    </tr>\n",
       "    <tr>\n",
       "      <th>Ferrari Dino</th>\n",
       "      <td>19.7</td>\n",
       "      <td>6</td>\n",
       "      <td>145.0</td>\n",
       "      <td>175</td>\n",
       "      <td>3.62</td>\n",
       "      <td>2.770</td>\n",
       "      <td>15.50</td>\n",
       "      <td>0</td>\n",
       "      <td>1</td>\n",
       "      <td>5</td>\n",
       "      <td>6</td>\n",
       "    </tr>\n",
       "    <tr>\n",
       "      <th>Maserati Bora</th>\n",
       "      <td>15.0</td>\n",
       "      <td>8</td>\n",
       "      <td>301.0</td>\n",
       "      <td>335</td>\n",
       "      <td>3.54</td>\n",
       "      <td>3.570</td>\n",
       "      <td>14.60</td>\n",
       "      <td>0</td>\n",
       "      <td>1</td>\n",
       "      <td>5</td>\n",
       "      <td>8</td>\n",
       "    </tr>\n",
       "    <tr>\n",
       "      <th>Volvo 142E</th>\n",
       "      <td>21.4</td>\n",
       "      <td>4</td>\n",
       "      <td>121.0</td>\n",
       "      <td>109</td>\n",
       "      <td>4.11</td>\n",
       "      <td>2.780</td>\n",
       "      <td>18.60</td>\n",
       "      <td>1</td>\n",
       "      <td>1</td>\n",
       "      <td>4</td>\n",
       "      <td>2</td>\n",
       "    </tr>\n",
       "  </tbody>\n",
       "</table>\n",
       "</div>"
      ],
      "text/plain": [
       "                      mpg  cyl   disp   hp  drat     wt   qsec  vs  am  gear  \\\n",
       "Mazda RX4            21.0    6  160.0  110  3.90  2.620  16.46   0   1     4   \n",
       "Mazda RX4 Wag        21.0    6  160.0  110  3.90  2.875  17.02   0   1     4   \n",
       "Datsun 710           22.8    4  108.0   93  3.85  2.320  18.61   1   1     4   \n",
       "Hornet 4 Drive       21.4    6  258.0  110  3.08  3.215  19.44   1   0     3   \n",
       "Hornet Sportabout    18.7    8  360.0  175  3.15  3.440  17.02   0   0     3   \n",
       "Valiant              18.1    6  225.0  105  2.76  3.460  20.22   1   0     3   \n",
       "Duster 360           14.3    8  360.0  245  3.21  3.570  15.84   0   0     3   \n",
       "Merc 240D            24.4    4  146.7   62  3.69  3.190  20.00   1   0     4   \n",
       "Merc 230             22.8    4  140.8   95  3.92  3.150  22.90   1   0     4   \n",
       "Merc 280             19.2    6  167.6  123  3.92  3.440  18.30   1   0     4   \n",
       "Merc 280C            17.8    6  167.6  123  3.92  3.440  18.90   1   0     4   \n",
       "Merc 450SE           16.4    8  275.8  180  3.07  4.070  17.40   0   0     3   \n",
       "Merc 450SL           17.3    8  275.8  180  3.07  3.730  17.60   0   0     3   \n",
       "Merc 450SLC          15.2    8  275.8  180  3.07  3.780  18.00   0   0     3   \n",
       "Cadillac Fleetwood   10.4    8  472.0  205  2.93  5.250  17.98   0   0     3   \n",
       "Lincoln Continental  10.4    8  460.0  215  3.00  5.424  17.82   0   0     3   \n",
       "Chrysler Imperial    14.7    8  440.0  230  3.23  5.345  17.42   0   0     3   \n",
       "Fiat 128             32.4    4   78.7   66  4.08  2.200  19.47   1   1     4   \n",
       "Honda Civic          30.4    4   75.7   52  4.93  1.615  18.52   1   1     4   \n",
       "Toyota Corolla       33.9    4   71.1   65  4.22  1.835  19.90   1   1     4   \n",
       "Toyota Corona        21.5    4  120.1   97  3.70  2.465  20.01   1   0     3   \n",
       "Dodge Challenger     15.5    8  318.0  150  2.76  3.520  16.87   0   0     3   \n",
       "AMC Javelin          15.2    8  304.0  150  3.15  3.435  17.30   0   0     3   \n",
       "Camaro Z28           13.3    8  350.0  245  3.73  3.840  15.41   0   0     3   \n",
       "Pontiac Firebird     19.2    8  400.0  175  3.08  3.845  17.05   0   0     3   \n",
       "Fiat X1-9            27.3    4   79.0   66  4.08  1.935  18.90   1   1     4   \n",
       "Porsche 914-2        26.0    4  120.3   91  4.43  2.140  16.70   0   1     5   \n",
       "Lotus Europa         30.4    4   95.1  113  3.77  1.513  16.90   1   1     5   \n",
       "Ford Pantera L       15.8    8  351.0  264  4.22  3.170  14.50   0   1     5   \n",
       "Ferrari Dino         19.7    6  145.0  175  3.62  2.770  15.50   0   1     5   \n",
       "Maserati Bora        15.0    8  301.0  335  3.54  3.570  14.60   0   1     5   \n",
       "Volvo 142E           21.4    4  121.0  109  4.11  2.780  18.60   1   1     4   \n",
       "\n",
       "                     carb  \n",
       "Mazda RX4               4  \n",
       "Mazda RX4 Wag           4  \n",
       "Datsun 710              1  \n",
       "Hornet 4 Drive          1  \n",
       "Hornet Sportabout       2  \n",
       "Valiant                 1  \n",
       "Duster 360              4  \n",
       "Merc 240D               2  \n",
       "Merc 230                2  \n",
       "Merc 280                4  \n",
       "Merc 280C               4  \n",
       "Merc 450SE              3  \n",
       "Merc 450SL              3  \n",
       "Merc 450SLC             3  \n",
       "Cadillac Fleetwood      4  \n",
       "Lincoln Continental     4  \n",
       "Chrysler Imperial       4  \n",
       "Fiat 128                1  \n",
       "Honda Civic             2  \n",
       "Toyota Corolla          1  \n",
       "Toyota Corona           1  \n",
       "Dodge Challenger        2  \n",
       "AMC Javelin             2  \n",
       "Camaro Z28              4  \n",
       "Pontiac Firebird        2  \n",
       "Fiat X1-9               1  \n",
       "Porsche 914-2           2  \n",
       "Lotus Europa            2  \n",
       "Ford Pantera L          4  \n",
       "Ferrari Dino            6  \n",
       "Maserati Bora           8  \n",
       "Volvo 142E              2  "
      ]
     },
     "execution_count": 3,
     "metadata": {},
     "output_type": "execute_result"
    }
   ],
   "source": [
    "df = pydataset.data('mtcars')  # mtcars 데이터를 df 데이터 프레임 df에 할당\n",
    "df                             # df 출력"
   ]
  },
  {
   "cell_type": "code",
   "execution_count": null,
   "id": "6ed8acd2-3f33-4b68-ab6d-ba084d4015f6",
   "metadata": {},
   "outputs": [],
   "source": []
  }
 ],
 "metadata": {
  "kernelspec": {
   "display_name": "Python 3 (ipykernel)",
   "language": "python",
   "name": "python3"
  },
  "language_info": {
   "codemirror_mode": {
    "name": "ipython",
    "version": 3
   },
   "file_extension": ".py",
   "mimetype": "text/x-python",
   "name": "python",
   "nbconvert_exporter": "python",
   "pygments_lexer": "ipython3",
   "version": "3.9.13"
  }
 },
 "nbformat": 4,
 "nbformat_minor": 5
}
