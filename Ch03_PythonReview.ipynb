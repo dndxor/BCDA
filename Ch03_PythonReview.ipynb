{
 "cells": [
  {
   "cell_type": "markdown",
   "id": "72af6169-71b5-4a6d-a900-0550b537a0c4",
   "metadata": {},
   "source": [
    "----\n",
    "# **▩ Ch03 데이터 분석에 필요한 연장 챙기기**\n",
    "----\n",
    "##### #DataStructure #List #Tuple #Dictionary \n",
    "##### #lower() #upper() #capitalize() #title() #replace() #find() #split() \n",
    "##### #sun() #max() #min() #lamda함수 #turtle #숫자야구게임"
   ]
  },
  {
   "cell_type": "code",
   "execution_count": null,
   "id": "ecff0323-217b-4364-b3ef-6a4f4074ead5",
   "metadata": {},
   "outputs": [],
   "source": []
  },
  {
   "cell_type": "markdown",
   "id": "ebae9d7a-7827-4d61-97f5-6fa98ff6d4b5",
   "metadata": {},
   "source": [
    "## **[03-1] 변하는 수, '변수' 이해하기**"
   ]
  },
  {
   "cell_type": "markdown",
   "id": "5228913d-f02f-4c28-8635-1d2a9736f012",
   "metadata": {},
   "source": [
    "### **변수(Variable)**\n",
    "#### > 상수 값 대신에 이름으로 값을 대신해 사용하는 방식"
   ]
  },
  {
   "cell_type": "markdown",
   "id": "c6479045-0b1c-4655-93c9-18e149dd5e0c",
   "metadata": {},
   "source": [
    "## **ㅇ Python 자료 구조(변수) 종류**\n",
    "###  **[내장 자료형]**\n",
    "####   >> 스칼라(Scalar) 형 : int, float, str, bool 등\n",
    "####   >> 비스칼라형 : list, tuple, dictionary 등\n",
    "###  **[외장 자료형] Pandas 자료형**\n",
    "####   >> 시리즈(Series) 형 : 1차원 나열형 자료\n",
    "####   >> 데이터 프레임(Data Frame) 형 : 2차원 나열형 자료"
   ]
  },
  {
   "cell_type": "code",
   "execution_count": null,
   "id": "a40cd978-cce3-4290-9da4-fd941f3d2be6",
   "metadata": {},
   "outputs": [],
   "source": []
  },
  {
   "cell_type": "markdown",
   "id": "fa7ea96c-8b36-4380-8c45-9ed7f90bb7ff",
   "metadata": {},
   "source": [
    "## **ㅇ스칼라(Scalar) 형**\n",
    "#### > 하나의 값 만으로 구성된 자료 구조\n",
    "####   >> int, float, str, bool 등"
   ]
  },
  {
   "cell_type": "code",
   "execution_count": 1,
   "id": "dac5576f-4b48-44d1-90e4-ea7f547ee4f5",
   "metadata": {},
   "outputs": [
    {
     "name": "stdout",
     "output_type": "stream",
     "text": [
      "<class 'int'>\n",
      "<class 'float'>\n",
      "<class 'str'>\n",
      "<class 'bool'>\n"
     ]
    }
   ],
   "source": [
    "## 스칼라(Scalar) 형 ##\n",
    "a, b, c, d = 3, 3.15, 'hello, world!', bool(True) \n",
    "print(type(a))        \n",
    "print(type(b))\n",
    "print(type(c))\n",
    "print(type(d))"
   ]
  },
  {
   "cell_type": "markdown",
   "id": "2d58bcde-7cc0-4f68-a6f1-c01871c84e80",
   "metadata": {},
   "source": [
    "#### **<> 자료형의 메서드 사용하기**\n",
    "#### > Python에서는 자료형 구조가 Class 형태로 만들어져 관리가 되므로 자료형의 메서드를 사용할 수 있다.\n",
    "##### >> 각 메서드는 처리된 결과 문자열을 반환(원 자료는 변형시키지 않음)"
   ]
  },
  {
   "cell_type": "code",
   "execution_count": 15,
   "id": "41309613-0845-4305-8b8d-3131862bb23d",
   "metadata": {},
   "outputs": [
    {
     "data": {
      "text/plain": [
       "'hello, world!'"
      ]
     },
     "execution_count": 15,
     "metadata": {},
     "output_type": "execute_result"
    }
   ],
   "source": [
    "c = 'HELLO, WORLD!'\n",
    "c.lower()             # 'HELLO, WORLD!'"
   ]
  },
  {
   "cell_type": "code",
   "execution_count": 16,
   "id": "66428465-90b7-498a-a007-d8a7df8e214d",
   "metadata": {},
   "outputs": [
    {
     "data": {
      "text/plain": [
       "'HELLO, WORLD!'"
      ]
     },
     "execution_count": 16,
     "metadata": {},
     "output_type": "execute_result"
    }
   ],
   "source": [
    "c = 'hello, world!'\n",
    "c.upper()             # 'HELLO, WORLD!'"
   ]
  },
  {
   "cell_type": "code",
   "execution_count": 17,
   "id": "8ff77b36-b470-4992-b7ee-7fc5c3d37b9b",
   "metadata": {},
   "outputs": [
    {
     "data": {
      "text/plain": [
       "'Hello, world!'"
      ]
     },
     "execution_count": 17,
     "metadata": {},
     "output_type": "execute_result"
    }
   ],
   "source": [
    "c = 'hello, world!'\n",
    "c.capitalize()        # 'Hello, world!'  문장의 첫 문자를 대문자로"
   ]
  },
  {
   "cell_type": "code",
   "execution_count": 18,
   "id": "8a0ddec6-c0a6-406a-9f3d-1d55978fe95d",
   "metadata": {},
   "outputs": [
    {
     "data": {
      "text/plain": [
       "'Hello, World!'"
      ]
     },
     "execution_count": 18,
     "metadata": {},
     "output_type": "execute_result"
    }
   ],
   "source": [
    "c = 'hello, world!'\n",
    "c.title()             # 'Hello, World!' 단어별 첫 문자를 대문자로 "
   ]
  },
  {
   "cell_type": "code",
   "execution_count": 22,
   "id": "41e7d6aa-31c8-4920-b218-fbe749a84e9b",
   "metadata": {},
   "outputs": [
    {
     "data": {
      "text/plain": [
       "'hellX, wXrld!'"
      ]
     },
     "execution_count": 22,
     "metadata": {},
     "output_type": "execute_result"
    }
   ],
   "source": [
    "c = 'hello, world!'\n",
    "c.replace('o', 'X')    # 'Hello, World!!!'  해당 문자열을 찾아 모두 대체"
   ]
  },
  {
   "cell_type": "code",
   "execution_count": 26,
   "id": "0d833b08-8201-4b90-bdcd-bebc779af5cf",
   "metadata": {},
   "outputs": [
    {
     "data": {
      "text/plain": [
       "5"
      ]
     },
     "execution_count": 26,
     "metadata": {},
     "output_type": "execute_result"
    }
   ],
   "source": [
    "c = 'hello, world!'\n",
    "c.find(',')              # 찾는 문자열의 시작 index 값(0부터 시작)"
   ]
  },
  {
   "cell_type": "code",
   "execution_count": 27,
   "id": "fdef6d59-c023-493e-9031-cae239bb010d",
   "metadata": {},
   "outputs": [
    {
     "data": {
      "text/plain": [
       "['hello', 'world!']"
      ]
     },
     "execution_count": 27,
     "metadata": {},
     "output_type": "execute_result"
    }
   ],
   "source": [
    "c.split(', ')            # 원하는 문자열을 분리자로하여 분리, 결과는 리스트 형태로 반환"
   ]
  },
  {
   "cell_type": "code",
   "execution_count": null,
   "id": "99b3b982-2293-49dc-b6ff-178ced40b88e",
   "metadata": {},
   "outputs": [],
   "source": []
  },
  {
   "cell_type": "markdown",
   "id": "b6989cfa-8c26-49d0-9154-166a1ea451ec",
   "metadata": {},
   "source": [
    "## **[] 비스칼라(Scalar) 형**\n",
    "#### > 여러 개의 값을 사용할 수 있도록 구성된 자료 구조 : list, tuple, dictionary 등\n",
    "#### >> List [item, ...] : index로 접근하는 방식, 데이터 항목 수정 가능 (index는 자동 부여)\n",
    "#### >> Tuple (item, ...) : index로 접근하는 방식, 데이터 항목 수정 불가능 (index는 자동 부여)\n",
    "#### >> Dictionary {key:item, ...}: Key로 접근하는 방식, 데이터 항목 수정 가능 (Key는 사용자가 부여)"
   ]
  },
  {
   "cell_type": "markdown",
   "id": "9919f91b-bc6a-4ef1-9f68-b3a60dc5d193",
   "metadata": {},
   "source": [
    "#### List"
   ]
  },
  {
   "cell_type": "code",
   "execution_count": 29,
   "id": "f671ff70-c7fd-49e8-8900-5935615b00b2",
   "metadata": {},
   "outputs": [
    {
     "name": "stdout",
     "output_type": "stream",
     "text": [
      "<class 'list'>\n"
     ]
    },
    {
     "data": {
      "text/plain": [
       "[1, 2, 'a', 'b']"
      ]
     },
     "execution_count": 29,
     "metadata": {},
     "output_type": "execute_result"
    }
   ],
   "source": [
    "## 리스트(List) 형 : [ ] \n",
    "## 생성 및 검색\n",
    "a = [1, 2, 'a', 'b']   #리스트 생성 및 초기화\n",
    "print(type(a))\n",
    "a"
   ]
  },
  {
   "cell_type": "code",
   "execution_count": 42,
   "id": "7c3e4e69-6288-47a6-9d1f-52aebf561bfa",
   "metadata": {},
   "outputs": [
    {
     "data": {
      "text/plain": [
       "[1, 2, 'a', 'b', 'c']"
      ]
     },
     "execution_count": 42,
     "metadata": {},
     "output_type": "execute_result"
    }
   ],
   "source": [
    "## 리스트(List) 형 : [ ] \n",
    "## 생성 및 검색\n",
    "a = [1, 2, 'a', 'b']   #리스트 생성 및 초기화\n",
    "a.append('c')  #맨 마지막 항목으로 추가\n",
    "a"
   ]
  },
  {
   "cell_type": "code",
   "execution_count": 43,
   "id": "ddabf867-566b-4db4-a4dc-67c91f360102",
   "metadata": {},
   "outputs": [
    {
     "data": {
      "text/plain": [
       "4"
      ]
     },
     "execution_count": 43,
     "metadata": {},
     "output_type": "execute_result"
    }
   ],
   "source": [
    "a.index('c')  #'c'항목의 index 값 반환"
   ]
  },
  {
   "cell_type": "code",
   "execution_count": 46,
   "id": "f603b8f7-8cdf-48e0-8405-f25d3e24ec69",
   "metadata": {},
   "outputs": [
    {
     "data": {
      "text/plain": [
       "['a', 'b', 'c']"
      ]
     },
     "execution_count": 46,
     "metadata": {},
     "output_type": "execute_result"
    }
   ],
   "source": [
    "a[2:]  #index 2에서 끝까지 추출"
   ]
  },
  {
   "cell_type": "code",
   "execution_count": 82,
   "id": "39102568-34c0-401d-8ac5-3553436aa9c9",
   "metadata": {},
   "outputs": [
    {
     "name": "stdout",
     "output_type": "stream",
     "text": [
      "1 2 3 4 5 "
     ]
    }
   ],
   "source": [
    "## 리스트를 반복문으로 접근하기\n",
    "a = [1, 2, 3, 4, 5]\n",
    "for x in a:  # 리스트 a의 각 항목을 x로 반환\n",
    "    print(x, end=' ')"
   ]
  },
  {
   "cell_type": "markdown",
   "id": "d19f86f0-26ca-4980-ae6a-a2246a90a020",
   "metadata": {},
   "source": [
    "#### Tuple"
   ]
  },
  {
   "cell_type": "code",
   "execution_count": 38,
   "id": "cc86720b-f8e0-4bd5-bd0d-25cfa552ff69",
   "metadata": {},
   "outputs": [
    {
     "name": "stdout",
     "output_type": "stream",
     "text": [
      "<class 'tuple'>\n"
     ]
    },
    {
     "data": {
      "text/plain": [
       "(1, 2, 3, 4, 5)"
      ]
     },
     "execution_count": 38,
     "metadata": {},
     "output_type": "execute_result"
    }
   ],
   "source": [
    "## Tuple 형 : ( )\n",
    "a = (1, 2, 3, 4, 5)   #튜플의 생성 및 초기화\n",
    "print(type(a))\n",
    "a"
   ]
  },
  {
   "cell_type": "code",
   "execution_count": 39,
   "id": "fa655746-e6e9-4e16-80b0-e00ba93d8fef",
   "metadata": {},
   "outputs": [
    {
     "data": {
      "text/plain": [
       "0"
      ]
     },
     "execution_count": 39,
     "metadata": {},
     "output_type": "execute_result"
    }
   ],
   "source": [
    "a.index(1)  #1 항목의 index 값 반환"
   ]
  },
  {
   "cell_type": "code",
   "execution_count": 41,
   "id": "f6ee7852-ca6f-4278-b84e-8f163eb7daa4",
   "metadata": {},
   "outputs": [
    {
     "data": {
      "text/plain": [
       "(1, 2, 3)"
      ]
     },
     "execution_count": 41,
     "metadata": {},
     "output_type": "execute_result"
    }
   ],
   "source": [
    "a[:3]  #index 처음부터 3 전까지 추출"
   ]
  },
  {
   "cell_type": "code",
   "execution_count": 84,
   "id": "76870827-ce2b-4599-9713-b00ed3b3b3e0",
   "metadata": {},
   "outputs": [
    {
     "name": "stdout",
     "output_type": "stream",
     "text": [
      "1 2 3 4 5 "
     ]
    }
   ],
   "source": [
    "## 튜플을 반복문으로 접근하기\n",
    "a = (1, 2, 3, 4, 5)\n",
    "for x in a:  # a의 각 항목을 x로 반환\n",
    "    print(x, end=' ')"
   ]
  },
  {
   "cell_type": "markdown",
   "id": "077c508b-502e-4055-b7d6-781ab6afeb20",
   "metadata": {},
   "source": [
    "#### Dictionary"
   ]
  },
  {
   "cell_type": "code",
   "execution_count": 47,
   "id": "fd9f1eb0-c53e-4520-a73b-bd25be532146",
   "metadata": {},
   "outputs": [
    {
     "name": "stdout",
     "output_type": "stream",
     "text": [
      "<class 'dict'>\n"
     ]
    },
    {
     "data": {
      "text/plain": [
       "{'A': 90, 'B': 80, 'C': 70, 'D': 60}"
      ]
     },
     "execution_count": 47,
     "metadata": {},
     "output_type": "execute_result"
    }
   ],
   "source": [
    "## 딕셔너리(Dictionary) 형 : { } \n",
    "## Key : Value로 생성\n",
    "a = {'A':90, 'B':80, 'C':70, 'D':60}   #튜플의 생성 및 초기화\n",
    "print(type(a))\n",
    "a"
   ]
  },
  {
   "cell_type": "code",
   "execution_count": 54,
   "id": "173fb045-af58-4711-8470-750bd5b1911b",
   "metadata": {},
   "outputs": [
    {
     "data": {
      "text/plain": [
       "80"
      ]
     },
     "execution_count": 54,
     "metadata": {},
     "output_type": "execute_result"
    }
   ],
   "source": [
    "a['B']  #Key로 item 추출(못찾으면 에러 메시지 출력)"
   ]
  },
  {
   "cell_type": "code",
   "execution_count": 56,
   "id": "504b4f33-cfee-460a-8a6f-842659f60708",
   "metadata": {},
   "outputs": [
    {
     "data": {
      "text/plain": [
       "80"
      ]
     },
     "execution_count": 56,
     "metadata": {},
     "output_type": "execute_result"
    }
   ],
   "source": [
    "a.get('B')  #Key로 item 추출(못찾아도 에러 메시지 출력 안함)"
   ]
  },
  {
   "cell_type": "code",
   "execution_count": 86,
   "id": "4d68dae9-b383-470e-b15b-fb6260cded00",
   "metadata": {},
   "outputs": [
    {
     "name": "stdout",
     "output_type": "stream",
     "text": [
      "('A', 90) ('B', 80) ('C', 70) ('D', 60) "
     ]
    }
   ],
   "source": [
    "## 딕셔너리를 반복문으로 접근하기\n",
    "a = {'A':90, 'B':80, 'C':70, 'D':60}\n",
    "for x in a.items():  # a의 각 항목을 x로 반환\n",
    "    print(x, end=' ')"
   ]
  },
  {
   "cell_type": "code",
   "execution_count": 92,
   "id": "53345e2e-2326-45f4-840c-6c5c01cf0719",
   "metadata": {},
   "outputs": [
    {
     "name": "stdout",
     "output_type": "stream",
     "text": [
      "A : 90, B : 80, C : 70, D : 60, "
     ]
    }
   ],
   "source": [
    "for k, v in a.items():  # a의 각 항목을 x로 반환\n",
    "    print(k, ':', v,  end=', ')"
   ]
  },
  {
   "cell_type": "code",
   "execution_count": 88,
   "id": "346bdb17-75aa-4491-bc8b-d6048624e372",
   "metadata": {},
   "outputs": [
    {
     "name": "stdout",
     "output_type": "stream",
     "text": [
      "A B C D "
     ]
    }
   ],
   "source": [
    "for x in a.keys():  # a의 각 Key 값을 x로 반환\n",
    "    print(x, end=' ')"
   ]
  },
  {
   "cell_type": "code",
   "execution_count": 89,
   "id": "fd612b02-bb70-4552-9427-3a12614b5006",
   "metadata": {},
   "outputs": [
    {
     "name": "stdout",
     "output_type": "stream",
     "text": [
      "90 80 70 60 "
     ]
    }
   ],
   "source": [
    "for x in a.values():  # a의 각 velue 값을 x로 반환\n",
    "    print(x, end=' ')"
   ]
  },
  {
   "cell_type": "code",
   "execution_count": null,
   "id": "52de805c-d9fa-49a7-be19-3000cf967c87",
   "metadata": {},
   "outputs": [],
   "source": []
  },
  {
   "cell_type": "markdown",
   "id": "e8a1d73b-3ccc-4cc9-b720-674271f44d3f",
   "metadata": {},
   "source": [
    "---\n",
    "## **[03-2] 마술 상자 같은 '함수' 이해하기**"
   ]
  },
  {
   "cell_type": "markdown",
   "id": "cd769eae-98d7-43f7-8de3-3319c0e9212c",
   "metadata": {},
   "source": [
    "### **[] 내장 함수**"
   ]
  },
  {
   "cell_type": "code",
   "execution_count": 57,
   "id": "e1f1095b-a3cb-4839-9124-6dcdf62db0bd",
   "metadata": {},
   "outputs": [
    {
     "name": "stdout",
     "output_type": "stream",
     "text": [
      "10\n",
      "4\n",
      "1\n"
     ]
    }
   ],
   "source": [
    "## 내장 함수\n",
    "x = [1, 2, 3, 4]\n",
    "print(sum(x))\n",
    "print(max(x))\n",
    "print(min(x))"
   ]
  },
  {
   "cell_type": "markdown",
   "id": "5bcbba98-77dd-4960-a72b-8d9caacd1f66",
   "metadata": {},
   "source": [
    "### **[] 외장 함수**\n",
    "#### > 패키지 임포트 후 가용"
   ]
  },
  {
   "cell_type": "code",
   "execution_count": 60,
   "id": "6208aa04-6983-44e2-a8b0-92b3e4c7563c",
   "metadata": {},
   "outputs": [
    {
     "name": "stderr",
     "output_type": "stream",
     "text": [
      "C:\\Users\\ADMIN\\anaconda3\\lib\\site-packages\\seaborn\\_oldcore.py:1498: FutureWarning: is_categorical_dtype is deprecated and will be removed in a future version. Use isinstance(dtype, CategoricalDtype) instead\n",
      "  if pd.api.types.is_categorical_dtype(vector):\n",
      "C:\\Users\\ADMIN\\anaconda3\\lib\\site-packages\\seaborn\\_oldcore.py:1498: FutureWarning: is_categorical_dtype is deprecated and will be removed in a future version. Use isinstance(dtype, CategoricalDtype) instead\n",
      "  if pd.api.types.is_categorical_dtype(vector):\n",
      "C:\\Users\\ADMIN\\anaconda3\\lib\\site-packages\\seaborn\\_oldcore.py:1765: FutureWarning: unique with argument that is not not a Series, Index, ExtensionArray, or np.ndarray is deprecated and will raise in a future version.\n",
      "  order = pd.unique(vector)\n",
      "C:\\Users\\ADMIN\\anaconda3\\lib\\site-packages\\seaborn\\_oldcore.py:1498: FutureWarning: is_categorical_dtype is deprecated and will be removed in a future version. Use isinstance(dtype, CategoricalDtype) instead\n",
      "  if pd.api.types.is_categorical_dtype(vector):\n"
     ]
    },
    {
     "data": {
      "text/plain": [
       "<Axes: ylabel='count'>"
      ]
     },
     "execution_count": 60,
     "metadata": {},
     "output_type": "execute_result"
    },
    {
     "data": {
      "image/png": "[encoded data removed]",
      "text/plain": [
       "<Figure size 640x480 with 1 Axes>"
      ]
     },
     "metadata": {},
     "output_type": "display_data"
    }
   ],
   "source": [
    "## 외장 함수\n",
    "import seaborn as sns\n",
    "\n",
    "var = ['a', 'b', 'c', 'a', 'b', 'a']\n",
    "sns.countplot(x = var)"
   ]
  },
  {
   "cell_type": "markdown",
   "id": "88de427e-b98e-4327-97ad-deb794db8478",
   "metadata": {},
   "source": [
    "----\n",
    "### **[] lamda 함수**\n",
    "#### >>함수객체를 반환하는 함수\n",
    "#### >> return문이 필요없는 함수\n",
    "#### >> 간단한 함수를 선언하면서, 바로 실행도도록 하는 용도로도 사용"
   ]
  },
  {
   "cell_type": "code",
   "execution_count": 74,
   "id": "85be3346-b2b7-4a7b-a253-e1447b14a22a",
   "metadata": {},
   "outputs": [
    {
     "data": {
      "text/plain": [
       "<function __main__.<lambda>(x, y)>"
      ]
     },
     "execution_count": 74,
     "metadata": {},
     "output_type": "execute_result"
    }
   ],
   "source": [
    "## [lamda 함수 선언] 매개변수 x, y를 사용하여 x+y를 반환하는 lamda 함수 선언\n",
    "lambda x, y:x+y  #lamda 함수는 실행 후 함수 객체를 반환"
   ]
  },
  {
   "cell_type": "code",
   "execution_count": 75,
   "id": "ea0637af-4966-4210-a0c2-dd4f4ff87f28",
   "metadata": {},
   "outputs": [
    {
     "data": {
      "text/plain": [
       "12"
      ]
     },
     "execution_count": 75,
     "metadata": {},
     "output_type": "execute_result"
    }
   ],
   "source": [
    "## [lamda 함수 선언] 선언과 동시에 실행\n",
    "(lambda x,y:x*y)(3,4)  #선언과 동시에 실행"
   ]
  },
  {
   "cell_type": "code",
   "execution_count": 76,
   "id": "3f48118e-7659-411b-babc-97fcdc85875c",
   "metadata": {},
   "outputs": [
    {
     "data": {
      "text/plain": [
       "12"
      ]
     },
     "execution_count": 76,
     "metadata": {},
     "output_type": "execute_result"
    }
   ],
   "source": [
    "## [lamda 함수 선언] \n",
    "multi=lambda x,y:x*y  #선언: lamda 함수를 선언하여 함수 객체로 반환\n",
    "multi(3,4)            #실행: 함수 객채를 통해 lamda 함수 실행"
   ]
  },
  {
   "cell_type": "code",
   "execution_count": 77,
   "id": "8afd9da3-08bd-4656-9c05-18150dfc52d3",
   "metadata": {},
   "outputs": [
    {
     "data": {
      "text/plain": [
       "16"
      ]
     },
     "execution_count": 77,
     "metadata": {},
     "output_type": "execute_result"
    }
   ],
   "source": [
    "## [lamda 함수 선언] 매개변수에 기본값 사용\n",
    "multi=lambda x=3,y=4:x*y  #매개변수에 기본값 사용\n",
    "multi(4)"
   ]
  },
  {
   "cell_type": "markdown",
   "id": "c3f47dac-7846-4508-b728-7f52d249f2bc",
   "metadata": {},
   "source": [
    "#### **lamda 함수 활용**"
   ]
  },
  {
   "cell_type": "code",
   "execution_count": 101,
   "id": "871d5aa5-f448-4fa5-b817-beefdfaac51a",
   "metadata": {},
   "outputs": [
    {
     "name": "stdout",
     "output_type": "stream",
     "text": [
      "[2, 4, 8, 16, 32]\n"
     ]
    }
   ],
   "source": [
    "## [lamda 함수 활용] 2의 지수승\n",
    "numbers = [1, 2, 3, 4, 5]\n",
    "squared = list(map(lambda x: 2**x, numbers))  # map(f, d)는 f 함수에 d 데이터 항목을 반복 적용 함수\n",
    "print(squared) "
   ]
  },
  {
   "cell_type": "code",
   "execution_count": 99,
   "id": "c06ee778-97c2-47f6-b961-8dd88240cea0",
   "metadata": {},
   "outputs": [
    {
     "name": "stdout",
     "output_type": "stream",
     "text": [
      "[{'name': 'Bob', 'grade': 90}, {'name': 'Charlie', 'grade': 88}, {'name': 'Alice', 'grade': 85}]\n"
     ]
    }
   ],
   "source": [
    "## [lamda 함수 활용] 성적순 정렬\n",
    "students = [\n",
    "    {\"name\": \"Alice\", \"grade\": 85},\n",
    "    {\"name\": \"Bob\", \"grade\": 90},\n",
    "    {\"name\": \"Charlie\", \"grade\": 88}\n",
    "]\n",
    "\n",
    "# 학생들을 성적 순으로 정렬\n",
    "sorted_students = sorted(students, key=lambda x: x['grade'], reverse=True)\n",
    "print(sorted_students)"
   ]
  },
  {
   "cell_type": "code",
   "execution_count": null,
   "id": "ee6a079e-a5f6-4ca0-ad15-02ee5a144f3d",
   "metadata": {},
   "outputs": [],
   "source": []
  },
  {
   "cell_type": "markdown",
   "id": "179dba9e-4aed-43e6-be21-f062348c7b69",
   "metadata": {},
   "source": [
    "---\n",
    "## **[03-3] 함수 꾸러미, '패키지' 이해하기**"
   ]
  },
  {
   "cell_type": "markdown",
   "id": "f4c3f8f6-e54d-46e5-aa99-4602c9532dd7",
   "metadata": {},
   "source": [
    "### **함수, 모듈, 패키지**\n",
    "##### **함수(Function)** : 단위 기능을 수행하는 명령의 집합\n",
    "##### **모듈(Module)** : 함수의 모음으로 함수보다는 좀 더 큰 단위의 작업을 수행 (독자적으로 컴파일되어 실행 가능)\n",
    "##### **패키지(Package)** : 관련이 깊은 모듈들을 하나로 모아놓은 것, Library라고도 함."
   ]
  },
  {
   "cell_type": "markdown",
   "id": "b15bc43b-67a8-4825-b3b7-4e4242e76afc",
   "metadata": {},
   "source": [
    "#### **import 패키지명.모듈명으로 import하여 함수 사용하기**"
   ]
  },
  {
   "cell_type": "markdown",
   "id": "87d88508-5a89-441c-9ebc-9ec455d60fcf",
   "metadata": {
    "tags": []
   },
   "source": [
    "#### **[연습] x-y 그래프 그리기**\n",
    "###### ChatGpt를 이용하여 코드를 구함\n",
    "###### **[ChatGpt] python으로 x와 y 값이 리스트로 주어졌을 때 x-y 그래프를 그려주는 코드?**\n",
    "###### > linestyle: '-' 실선, '--' 긴 점선, '-.' 점과 선, ':' 작은 점선"
   ]
  },
  {
   "cell_type": "code",
   "execution_count": 137,
   "id": "3da3cdd9-b112-4e41-b536-f3458ef8ce3a",
   "metadata": {},
   "outputs": [
    {
     "data": {
      "image/png": "[encoded data removed]",
      "text/plain": [
       "<Figure size 640x480 with 1 Axes>"
      ]
     },
     "metadata": {},
     "output_type": "display_data"
    }
   ],
   "source": [
    "## [ChatGpt] x-y 그래프 그리기\n",
    "import matplotlib.pyplot as plt\n",
    "\n",
    "# 예제 데이터\n",
    "x = [1, 2, 3, 4, 5]\n",
    "y = [10, 20, 15, 25, 30]\n",
    "\n",
    "# 그래프 그리기\n",
    "plt.plot(x, y, marker='o', linestyle='-', color='b', label='y = f(x)')\n",
    "\n",
    "# 그래프 제목 및 축 레이블 설정\n",
    "plt.title(\"X-Y Graph\")\n",
    "plt.xlabel(\"X values\")\n",
    "plt.ylabel(\"Y values\")\n",
    "\n",
    "# 범례 표시\n",
    "plt.legend()\n",
    "\n",
    "# 그리드 추가\n",
    "plt.grid(True)\n",
    "\n",
    "# 그래프 출력\n",
    "plt.show()"
   ]
  },
  {
   "cell_type": "markdown",
   "id": "2d35b154-db44-419d-a337-26d108c33e8f",
   "metadata": {},
   "source": [
    "#### **import 패키지명.모듈명으로 import하여 함수 사용하기**"
   ]
  },
  {
   "cell_type": "code",
   "execution_count": 40,
   "id": "abe0094e-1fea-4190-8b99-4a3c0b92e88b",
   "metadata": {},
   "outputs": [
    {
     "name": "stdout",
     "output_type": "stream",
     "text": [
      "4.0\n"
     ]
    }
   ],
   "source": [
    "# math 모듈을 가져옴\n",
    "import math  # math 모듈을 전체 가져옴\n",
    "\n",
    "result = math.sqrt(16)  # math.sqrt() 형태로 사용\n",
    "print(result)  # 출력: 4.0"
   ]
  },
  {
   "cell_type": "markdown",
   "id": "f388ed4a-fb9f-4f83-a165-d3092534f6c8",
   "metadata": {},
   "source": [
    "#### **from 패키지명 import 모듈명으로 import하여 함수 사용하기**"
   ]
  },
  {
   "cell_type": "code",
   "execution_count": 41,
   "id": "02c9da4b-cf07-437a-ab24-c87a00bdeff6",
   "metadata": {},
   "outputs": [
    {
     "name": "stdout",
     "output_type": "stream",
     "text": [
      "4.0\n"
     ]
    }
   ],
   "source": [
    "from math import sqrt  # math 모듈에서 sqrt 함수만 가져옴\n",
    "\n",
    "result = sqrt(16)  # math.sqrt()가 아니라 그냥 sqrt()로 사용 가능\n",
    "print(result)  # 출력: 4.0"
   ]
  },
  {
   "cell_type": "code",
   "execution_count": null,
   "id": "2d13bb00-08ce-4f8d-b59f-f843365c3c74",
   "metadata": {},
   "outputs": [],
   "source": []
  },
  {
   "cell_type": "markdown",
   "id": "2a1a55af-da10-49d5-9df1-07fc9b5636bc",
   "metadata": {},
   "source": [
    "### **[실습] Turtle 모듈 활용**"
   ]
  },
  {
   "cell_type": "code",
   "execution_count": 3,
   "id": "9999d447-0675-4a40-a8a9-ab4fcbcaf94c",
   "metadata": {},
   "outputs": [],
   "source": [
    "## [Tultle 모듈 활용]\n",
    "import turtle as t\n",
    "t.shape('turtle')  #Turtle 모양\n",
    "\n",
    "t.forward(100)\n",
    "t.left(90)\n",
    "\n",
    "t.exitonclick()  # 실행 창을 닫지 않도록"
   ]
  },
  {
   "cell_type": "markdown",
   "id": "3b709e22-29b7-4c3b-b4ef-a36acd7d7d1a",
   "metadata": {},
   "source": [
    "### **[연습: Coding] Turtle 모듈 활용 n각형 그리기**\n",
    "#### >> import turtle 모듈을 활용\n",
    "#### >> 키보드로 turtle이 그릴 n각형의 n을 입력받는다.\n",
    "#### >> n이 2이하가 입력되면 작업을 종료한다."
   ]
  },
  {
   "cell_type": "code",
   "execution_count": 14,
   "id": "6d5d671e-31bf-47ba-bcab-28dd410d2dc7",
   "metadata": {},
   "outputs": [
    {
     "name": "stdin",
     "output_type": "stream",
     "text": [
      ">몇 각형(3~n)?  8\n"
     ]
    }
   ],
   "source": [
    "## [Tultle 모듈 활용]\n",
    "import turtle as t\n",
    "t.shape('turtle')  #Turtle 모양\n",
    "n = int(input(\">몇 각형(3~n)? \"))\n",
    "\n",
    "\n",
    "\n",
    "t.exitonclick()  # 실행 창을 닫지 않도록\n",
    "################# 메인 끝 ##############"
   ]
  },
  {
   "cell_type": "markdown",
   "id": "4004088c-eaec-4158-a0ab-d89222c3974c",
   "metadata": {},
   "source": [
    "### **[연습: Coding] Turtle 모듈 활용 n각형 그리기 + 함수 호출로 그리기**\n",
    "#### >> 함수 호출을 통해 원하는 n각형을 그린다. \n",
    "#### >> n값과 변의 이동 값을 전달"
   ]
  },
  {
   "cell_type": "code",
   "execution_count": null,
   "id": "3ff6d38e-7b42-4c6f-8546-61d0ad2ac645",
   "metadata": {},
   "outputs": [],
   "source": [
    "## [Tultle 모듈 활용]\n",
    "import turtle as t\n",
    "\n",
    "\n",
    "\n",
    "\n",
    "################## 메인 시작 ############\n",
    "t.shape('turtle')  #Turtle 모양\n",
    "n = int(input(\">몇 각형(3~n)? \"))\n",
    "\n",
    "\n",
    "\n",
    "t.exitonclick()  # 실행 창을 닫지 않도록\n",
    "################# 메인 끝 ##############"
   ]
  },
  {
   "cell_type": "code",
   "execution_count": null,
   "id": "e0e6d289-21ac-4643-8180-64a0077c9b9f",
   "metadata": {},
   "outputs": [],
   "source": []
  },
  {
   "cell_type": "markdown",
   "id": "dce0913a-580e-4025-ac3b-c7fdc2cfef65",
   "metadata": {},
   "source": [
    "### **[응용: Coding] 숫자 야구 게임**\n",
    "#### 랜덤한 3자리 숫자 맞추기 게임을 완성하시오.\n",
    "#### > 랜덤한 3자리 정수 발생, 단 각 자리 수의 값은 같으면 안됨\n",
    "#### > 게이머는 추측하는 3자리 값을 키보드로 입력 (맞출 떄까지)\n",
    "#### > 각 위치(digit)에서 값이 같으면 Strike, 값은 존재하나 위치가 다르면 Ball로 처리\n",
    "#### > 매회 “>>%d Strike, %d Ball”로 결과 제공\n",
    "#### > 게임 종료 조건 : 3 Strike 또는 입력 값 00"
   ]
  },
  {
   "cell_type": "code",
   "execution_count": null,
   "id": "39860e08-f0ec-42fb-8f3f-56e91327137b",
   "metadata": {},
   "outputs": [],
   "source": []
  },
  {
   "cell_type": "markdown",
   "id": "1c67639d-cb1d-46fc-84bf-1387f82239c3",
   "metadata": {},
   "source": [
    "----\n",
    "## **패키지 설치하기**"
   ]
  },
  {
   "cell_type": "code",
   "execution_count": 116,
   "id": "a3f8c477-b8a1-4291-9085-802555101ae8",
   "metadata": {},
   "outputs": [
    {
     "name": "stdout",
     "output_type": "stream",
     "text": [
      "Requirement already satisfied: pydataset in c:\\users\\admin\\anaconda3\\lib\\site-packages (0.2.0)\n",
      "Requirement already satisfied: pandas in c:\\users\\admin\\anaconda3\\lib\\site-packages (from pydataset) (2.1.0)\n",
      "Requirement already satisfied: pytz>=2020.1 in c:\\users\\admin\\anaconda3\\lib\\site-packages (from pandas->pydataset) (2022.1)\n",
      "Requirement already satisfied: tzdata>=2022.1 in c:\\users\\admin\\anaconda3\\lib\\site-packages (from pandas->pydataset) (2023.3)\n",
      "Requirement already satisfied: numpy>=1.22.4 in c:\\users\\admin\\anaconda3\\lib\\site-packages (from pandas->pydataset) (1.25.2)\n",
      "Requirement already satisfied: python-dateutil>=2.8.2 in c:\\users\\admin\\anaconda3\\lib\\site-packages (from pandas->pydataset) (2.8.2)\n",
      "Requirement already satisfied: six>=1.5 in c:\\users\\admin\\anaconda3\\lib\\site-packages (from python-dateutil>=2.8.2->pandas->pydataset) (1.16.0)\n",
      "Note: you may need to restart the kernel to use updated packages.\n"
     ]
    },
    {
     "name": "stderr",
     "output_type": "stream",
     "text": [
      "WARNING: Ignoring invalid distribution -atplotlib (c:\\users\\admin\\anaconda3\\lib\\site-packages)\n",
      "WARNING: Ignoring invalid distribution -atplotlib (c:\\users\\admin\\anaconda3\\lib\\site-packages)\n",
      "WARNING: Ignoring invalid distribution -atplotlib (c:\\users\\admin\\anaconda3\\lib\\site-packages)\n",
      "WARNING: Ignoring invalid distribution -atplotlib (c:\\users\\admin\\anaconda3\\lib\\site-packages)\n",
      "WARNING: Ignoring invalid distribution -atplotlib (c:\\users\\admin\\anaconda3\\lib\\site-packages)\n",
      "WARNING: Ignoring invalid distribution -atplotlib (c:\\users\\admin\\anaconda3\\lib\\site-packages)\n"
     ]
    }
   ],
   "source": [
    "pip install pydataset"
   ]
  },
  {
   "cell_type": "markdown",
   "id": "ea9e92c7-5be7-4b21-9eb8-87338ffb4c3c",
   "metadata": {},
   "source": [
    "### <> 패키지 함수 사용하기"
   ]
  },
  {
   "cell_type": "code",
   "execution_count": 117,
   "id": "6382c2a0-8174-45b8-83f4-cc710383e0e3",
   "metadata": {},
   "outputs": [
    {
     "data": {
      "text/html": [
       "<div>\n",
       "<style scoped>\n",
       "    .dataframe tbody tr th:only-of-type {\n",
       "        vertical-align: middle;\n",
       "    }\n",
       "\n",
       "    .dataframe tbody tr th {\n",
       "        vertical-align: top;\n",
       "    }\n",
       "\n",
       "    .dataframe thead th {\n",
       "        text-align: right;\n",
       "    }\n",
       "</style>\n",
       "<table border=\"1\" class=\"dataframe\">\n",
       "  <thead>\n",
       "    <tr style=\"text-align: right;\">\n",
       "      <th></th>\n",
       "      <th>dataset_id</th>\n",
       "      <th>title</th>\n",
       "    </tr>\n",
       "  </thead>\n",
       "  <tbody>\n",
       "    <tr>\n",
       "      <th>0</th>\n",
       "      <td>AirPassengers</td>\n",
       "      <td>Monthly Airline Passenger Numbers 1949-1960</td>\n",
       "    </tr>\n",
       "    <tr>\n",
       "      <th>1</th>\n",
       "      <td>BJsales</td>\n",
       "      <td>Sales Data with Leading Indicator</td>\n",
       "    </tr>\n",
       "    <tr>\n",
       "      <th>2</th>\n",
       "      <td>BOD</td>\n",
       "      <td>Biochemical Oxygen Demand</td>\n",
       "    </tr>\n",
       "    <tr>\n",
       "      <th>3</th>\n",
       "      <td>Formaldehyde</td>\n",
       "      <td>Determination of Formaldehyde</td>\n",
       "    </tr>\n",
       "    <tr>\n",
       "      <th>4</th>\n",
       "      <td>HairEyeColor</td>\n",
       "      <td>Hair and Eye Color of Statistics Students</td>\n",
       "    </tr>\n",
       "    <tr>\n",
       "      <th>...</th>\n",
       "      <td>...</td>\n",
       "      <td>...</td>\n",
       "    </tr>\n",
       "    <tr>\n",
       "      <th>752</th>\n",
       "      <td>VerbAgg</td>\n",
       "      <td>Verbal Aggression item responses</td>\n",
       "    </tr>\n",
       "    <tr>\n",
       "      <th>753</th>\n",
       "      <td>cake</td>\n",
       "      <td>Breakage Angle of Chocolate Cakes</td>\n",
       "    </tr>\n",
       "    <tr>\n",
       "      <th>754</th>\n",
       "      <td>cbpp</td>\n",
       "      <td>Contagious bovine pleuropneumonia</td>\n",
       "    </tr>\n",
       "    <tr>\n",
       "      <th>755</th>\n",
       "      <td>grouseticks</td>\n",
       "      <td>Data on red grouse ticks from Elston et al. 2001</td>\n",
       "    </tr>\n",
       "    <tr>\n",
       "      <th>756</th>\n",
       "      <td>sleepstudy</td>\n",
       "      <td>Reaction times in a sleep deprivation study</td>\n",
       "    </tr>\n",
       "  </tbody>\n",
       "</table>\n",
       "<p>757 rows × 2 columns</p>\n",
       "</div>"
      ],
      "text/plain": [
       "        dataset_id                                             title\n",
       "0    AirPassengers       Monthly Airline Passenger Numbers 1949-1960\n",
       "1          BJsales                 Sales Data with Leading Indicator\n",
       "2              BOD                         Biochemical Oxygen Demand\n",
       "3     Formaldehyde                     Determination of Formaldehyde\n",
       "4     HairEyeColor         Hair and Eye Color of Statistics Students\n",
       "..             ...                                               ...\n",
       "752        VerbAgg                  Verbal Aggression item responses\n",
       "753           cake                 Breakage Angle of Chocolate Cakes\n",
       "754           cbpp                 Contagious bovine pleuropneumonia\n",
       "755    grouseticks  Data on red grouse ticks from Elston et al. 2001\n",
       "756     sleepstudy       Reaction times in a sleep deprivation study\n",
       "\n",
       "[757 rows x 2 columns]"
      ]
     },
     "execution_count": 117,
     "metadata": {},
     "output_type": "execute_result"
    }
   ],
   "source": [
    "import pydataset\n",
    "pydataset.data()"
   ]
  },
  {
   "cell_type": "code",
   "execution_count": 3,
   "id": "160f96e1-89e3-4369-8ca8-1dcca001bc8c",
   "metadata": {},
   "outputs": [
    {
     "data": {
      "text/html": [
       "<div>\n",
       "<style scoped>\n",
       "    .dataframe tbody tr th:only-of-type {\n",
       "        vertical-align: middle;\n",
       "    }\n",
       "\n",
       "    .dataframe tbody tr th {\n",
       "        vertical-align: top;\n",
       "    }\n",
       "\n",
       "    .dataframe thead th {\n",
       "        text-align: right;\n",
       "    }\n",
       "</style>\n",
       "<table border=\"1\" class=\"dataframe\">\n",
       "  <thead>\n",
       "    <tr style=\"text-align: right;\">\n",
       "      <th></th>\n",
       "      <th>mpg</th>\n",
       "      <th>cyl</th>\n",
       "      <th>disp</th>\n",
       "      <th>hp</th>\n",
       "      <th>drat</th>\n",
       "      <th>wt</th>\n",
       "      <th>qsec</th>\n",
       "      <th>vs</th>\n",
       "      <th>am</th>\n",
       "      <th>gear</th>\n",
       "      <th>carb</th>\n",
       "    </tr>\n",
       "  </thead>\n",
       "  <tbody>\n",
       "    <tr>\n",
       "      <th>Mazda RX4</th>\n",
       "      <td>21.0</td>\n",
       "      <td>6</td>\n",
       "      <td>160.0</td>\n",
       "      <td>110</td>\n",
       "      <td>3.90</td>\n",
       "      <td>2.620</td>\n",
       "      <td>16.46</td>\n",
       "      <td>0</td>\n",
       "      <td>1</td>\n",
       "      <td>4</td>\n",
       "      <td>4</td>\n",
       "    </tr>\n",
       "    <tr>\n",
       "      <th>Mazda RX4 Wag</th>\n",
       "      <td>21.0</td>\n",
       "      <td>6</td>\n",
       "      <td>160.0</td>\n",
       "      <td>110</td>\n",
       "      <td>3.90</td>\n",
       "      <td>2.875</td>\n",
       "      <td>17.02</td>\n",
       "      <td>0</td>\n",
       "      <td>1</td>\n",
       "      <td>4</td>\n",
       "      <td>4</td>\n",
       "    </tr>\n",
       "    <tr>\n",
       "      <th>Datsun 710</th>\n",
       "      <td>22.8</td>\n",
       "      <td>4</td>\n",
       "      <td>108.0</td>\n",
       "      <td>93</td>\n",
       "      <td>3.85</td>\n",
       "      <td>2.320</td>\n",
       "      <td>18.61</td>\n",
       "      <td>1</td>\n",
       "      <td>1</td>\n",
       "      <td>4</td>\n",
       "      <td>1</td>\n",
       "    </tr>\n",
       "    <tr>\n",
       "      <th>Hornet 4 Drive</th>\n",
       "      <td>21.4</td>\n",
       "      <td>6</td>\n",
       "      <td>258.0</td>\n",
       "      <td>110</td>\n",
       "      <td>3.08</td>\n",
       "      <td>3.215</td>\n",
       "      <td>19.44</td>\n",
       "      <td>1</td>\n",
       "      <td>0</td>\n",
       "      <td>3</td>\n",
       "      <td>1</td>\n",
       "    </tr>\n",
       "    <tr>\n",
       "      <th>Hornet Sportabout</th>\n",
       "      <td>18.7</td>\n",
       "      <td>8</td>\n",
       "      <td>360.0</td>\n",
       "      <td>175</td>\n",
       "      <td>3.15</td>\n",
       "      <td>3.440</td>\n",
       "      <td>17.02</td>\n",
       "      <td>0</td>\n",
       "      <td>0</td>\n",
       "      <td>3</td>\n",
       "      <td>2</td>\n",
       "    </tr>\n",
       "    <tr>\n",
       "      <th>Valiant</th>\n",
       "      <td>18.1</td>\n",
       "      <td>6</td>\n",
       "      <td>225.0</td>\n",
       "      <td>105</td>\n",
       "      <td>2.76</td>\n",
       "      <td>3.460</td>\n",
       "      <td>20.22</td>\n",
       "      <td>1</td>\n",
       "      <td>0</td>\n",
       "      <td>3</td>\n",
       "      <td>1</td>\n",
       "    </tr>\n",
       "    <tr>\n",
       "      <th>Duster 360</th>\n",
       "      <td>14.3</td>\n",
       "      <td>8</td>\n",
       "      <td>360.0</td>\n",
       "      <td>245</td>\n",
       "      <td>3.21</td>\n",
       "      <td>3.570</td>\n",
       "      <td>15.84</td>\n",
       "      <td>0</td>\n",
       "      <td>0</td>\n",
       "      <td>3</td>\n",
       "      <td>4</td>\n",
       "    </tr>\n",
       "    <tr>\n",
       "      <th>Merc 240D</th>\n",
       "      <td>24.4</td>\n",
       "      <td>4</td>\n",
       "      <td>146.7</td>\n",
       "      <td>62</td>\n",
       "      <td>3.69</td>\n",
       "      <td>3.190</td>\n",
       "      <td>20.00</td>\n",
       "      <td>1</td>\n",
       "      <td>0</td>\n",
       "      <td>4</td>\n",
       "      <td>2</td>\n",
       "    </tr>\n",
       "    <tr>\n",
       "      <th>Merc 230</th>\n",
       "      <td>22.8</td>\n",
       "      <td>4</td>\n",
       "      <td>140.8</td>\n",
       "      <td>95</td>\n",
       "      <td>3.92</td>\n",
       "      <td>3.150</td>\n",
       "      <td>22.90</td>\n",
       "      <td>1</td>\n",
       "      <td>0</td>\n",
       "      <td>4</td>\n",
       "      <td>2</td>\n",
       "    </tr>\n",
       "    <tr>\n",
       "      <th>Merc 280</th>\n",
       "      <td>19.2</td>\n",
       "      <td>6</td>\n",
       "      <td>167.6</td>\n",
       "      <td>123</td>\n",
       "      <td>3.92</td>\n",
       "      <td>3.440</td>\n",
       "      <td>18.30</td>\n",
       "      <td>1</td>\n",
       "      <td>0</td>\n",
       "      <td>4</td>\n",
       "      <td>4</td>\n",
       "    </tr>\n",
       "    <tr>\n",
       "      <th>Merc 280C</th>\n",
       "      <td>17.8</td>\n",
       "      <td>6</td>\n",
       "      <td>167.6</td>\n",
       "      <td>123</td>\n",
       "      <td>3.92</td>\n",
       "      <td>3.440</td>\n",
       "      <td>18.90</td>\n",
       "      <td>1</td>\n",
       "      <td>0</td>\n",
       "      <td>4</td>\n",
       "      <td>4</td>\n",
       "    </tr>\n",
       "    <tr>\n",
       "      <th>Merc 450SE</th>\n",
       "      <td>16.4</td>\n",
       "      <td>8</td>\n",
       "      <td>275.8</td>\n",
       "      <td>180</td>\n",
       "      <td>3.07</td>\n",
       "      <td>4.070</td>\n",
       "      <td>17.40</td>\n",
       "      <td>0</td>\n",
       "      <td>0</td>\n",
       "      <td>3</td>\n",
       "      <td>3</td>\n",
       "    </tr>\n",
       "    <tr>\n",
       "      <th>Merc 450SL</th>\n",
       "      <td>17.3</td>\n",
       "      <td>8</td>\n",
       "      <td>275.8</td>\n",
       "      <td>180</td>\n",
       "      <td>3.07</td>\n",
       "      <td>3.730</td>\n",
       "      <td>17.60</td>\n",
       "      <td>0</td>\n",
       "      <td>0</td>\n",
       "      <td>3</td>\n",
       "      <td>3</td>\n",
       "    </tr>\n",
       "    <tr>\n",
       "      <th>Merc 450SLC</th>\n",
       "      <td>15.2</td>\n",
       "      <td>8</td>\n",
       "      <td>275.8</td>\n",
       "      <td>180</td>\n",
       "      <td>3.07</td>\n",
       "      <td>3.780</td>\n",
       "      <td>18.00</td>\n",
       "      <td>0</td>\n",
       "      <td>0</td>\n",
       "      <td>3</td>\n",
       "      <td>3</td>\n",
       "    </tr>\n",
       "    <tr>\n",
       "      <th>Cadillac Fleetwood</th>\n",
       "      <td>10.4</td>\n",
       "      <td>8</td>\n",
       "      <td>472.0</td>\n",
       "      <td>205</td>\n",
       "      <td>2.93</td>\n",
       "      <td>5.250</td>\n",
       "      <td>17.98</td>\n",
       "      <td>0</td>\n",
       "      <td>0</td>\n",
       "      <td>3</td>\n",
       "      <td>4</td>\n",
       "    </tr>\n",
       "    <tr>\n",
       "      <th>Lincoln Continental</th>\n",
       "      <td>10.4</td>\n",
       "      <td>8</td>\n",
       "      <td>460.0</td>\n",
       "      <td>215</td>\n",
       "      <td>3.00</td>\n",
       "      <td>5.424</td>\n",
       "      <td>17.82</td>\n",
       "      <td>0</td>\n",
       "      <td>0</td>\n",
       "      <td>3</td>\n",
       "      <td>4</td>\n",
       "    </tr>\n",
       "    <tr>\n",
       "      <th>Chrysler Imperial</th>\n",
       "      <td>14.7</td>\n",
       "      <td>8</td>\n",
       "      <td>440.0</td>\n",
       "      <td>230</td>\n",
       "      <td>3.23</td>\n",
       "      <td>5.345</td>\n",
       "      <td>17.42</td>\n",
       "      <td>0</td>\n",
       "      <td>0</td>\n",
       "      <td>3</td>\n",
       "      <td>4</td>\n",
       "    </tr>\n",
       "    <tr>\n",
       "      <th>Fiat 128</th>\n",
       "      <td>32.4</td>\n",
       "      <td>4</td>\n",
       "      <td>78.7</td>\n",
       "      <td>66</td>\n",
       "      <td>4.08</td>\n",
       "      <td>2.200</td>\n",
       "      <td>19.47</td>\n",
       "      <td>1</td>\n",
       "      <td>1</td>\n",
       "      <td>4</td>\n",
       "      <td>1</td>\n",
       "    </tr>\n",
       "    <tr>\n",
       "      <th>Honda Civic</th>\n",
       "      <td>30.4</td>\n",
       "      <td>4</td>\n",
       "      <td>75.7</td>\n",
       "      <td>52</td>\n",
       "      <td>4.93</td>\n",
       "      <td>1.615</td>\n",
       "      <td>18.52</td>\n",
       "      <td>1</td>\n",
       "      <td>1</td>\n",
       "      <td>4</td>\n",
       "      <td>2</td>\n",
       "    </tr>\n",
       "    <tr>\n",
       "      <th>Toyota Corolla</th>\n",
       "      <td>33.9</td>\n",
       "      <td>4</td>\n",
       "      <td>71.1</td>\n",
       "      <td>65</td>\n",
       "      <td>4.22</td>\n",
       "      <td>1.835</td>\n",
       "      <td>19.90</td>\n",
       "      <td>1</td>\n",
       "      <td>1</td>\n",
       "      <td>4</td>\n",
       "      <td>1</td>\n",
       "    </tr>\n",
       "    <tr>\n",
       "      <th>Toyota Corona</th>\n",
       "      <td>21.5</td>\n",
       "      <td>4</td>\n",
       "      <td>120.1</td>\n",
       "      <td>97</td>\n",
       "      <td>3.70</td>\n",
       "      <td>2.465</td>\n",
       "      <td>20.01</td>\n",
       "      <td>1</td>\n",
       "      <td>0</td>\n",
       "      <td>3</td>\n",
       "      <td>1</td>\n",
       "    </tr>\n",
       "    <tr>\n",
       "      <th>Dodge Challenger</th>\n",
       "      <td>15.5</td>\n",
       "      <td>8</td>\n",
       "      <td>318.0</td>\n",
       "      <td>150</td>\n",
       "      <td>2.76</td>\n",
       "      <td>3.520</td>\n",
       "      <td>16.87</td>\n",
       "      <td>0</td>\n",
       "      <td>0</td>\n",
       "      <td>3</td>\n",
       "      <td>2</td>\n",
       "    </tr>\n",
       "    <tr>\n",
       "      <th>AMC Javelin</th>\n",
       "      <td>15.2</td>\n",
       "      <td>8</td>\n",
       "      <td>304.0</td>\n",
       "      <td>150</td>\n",
       "      <td>3.15</td>\n",
       "      <td>3.435</td>\n",
       "      <td>17.30</td>\n",
       "      <td>0</td>\n",
       "      <td>0</td>\n",
       "      <td>3</td>\n",
       "      <td>2</td>\n",
       "    </tr>\n",
       "    <tr>\n",
       "      <th>Camaro Z28</th>\n",
       "      <td>13.3</td>\n",
       "      <td>8</td>\n",
       "      <td>350.0</td>\n",
       "      <td>245</td>\n",
       "      <td>3.73</td>\n",
       "      <td>3.840</td>\n",
       "      <td>15.41</td>\n",
       "      <td>0</td>\n",
       "      <td>0</td>\n",
       "      <td>3</td>\n",
       "      <td>4</td>\n",
       "    </tr>\n",
       "    <tr>\n",
       "      <th>Pontiac Firebird</th>\n",
       "      <td>19.2</td>\n",
       "      <td>8</td>\n",
       "      <td>400.0</td>\n",
       "      <td>175</td>\n",
       "      <td>3.08</td>\n",
       "      <td>3.845</td>\n",
       "      <td>17.05</td>\n",
       "      <td>0</td>\n",
       "      <td>0</td>\n",
       "      <td>3</td>\n",
       "      <td>2</td>\n",
       "    </tr>\n",
       "    <tr>\n",
       "      <th>Fiat X1-9</th>\n",
       "      <td>27.3</td>\n",
       "      <td>4</td>\n",
       "      <td>79.0</td>\n",
       "      <td>66</td>\n",
       "      <td>4.08</td>\n",
       "      <td>1.935</td>\n",
       "      <td>18.90</td>\n",
       "      <td>1</td>\n",
       "      <td>1</td>\n",
       "      <td>4</td>\n",
       "      <td>1</td>\n",
       "    </tr>\n",
       "    <tr>\n",
       "      <th>Porsche 914-2</th>\n",
       "      <td>26.0</td>\n",
       "      <td>4</td>\n",
       "      <td>120.3</td>\n",
       "      <td>91</td>\n",
       "      <td>4.43</td>\n",
       "      <td>2.140</td>\n",
       "      <td>16.70</td>\n",
       "      <td>0</td>\n",
       "      <td>1</td>\n",
       "      <td>5</td>\n",
       "      <td>2</td>\n",
       "    </tr>\n",
       "    <tr>\n",
       "      <th>Lotus Europa</th>\n",
       "      <td>30.4</td>\n",
       "      <td>4</td>\n",
       "      <td>95.1</td>\n",
       "      <td>113</td>\n",
       "      <td>3.77</td>\n",
       "      <td>1.513</td>\n",
       "      <td>16.90</td>\n",
       "      <td>1</td>\n",
       "      <td>1</td>\n",
       "      <td>5</td>\n",
       "      <td>2</td>\n",
       "    </tr>\n",
       "    <tr>\n",
       "      <th>Ford Pantera L</th>\n",
       "      <td>15.8</td>\n",
       "      <td>8</td>\n",
       "      <td>351.0</td>\n",
       "      <td>264</td>\n",
       "      <td>4.22</td>\n",
       "      <td>3.170</td>\n",
       "      <td>14.50</td>\n",
       "      <td>0</td>\n",
       "      <td>1</td>\n",
       "      <td>5</td>\n",
       "      <td>4</td>\n",
       "    </tr>\n",
       "    <tr>\n",
       "      <th>Ferrari Dino</th>\n",
       "      <td>19.7</td>\n",
       "      <td>6</td>\n",
       "      <td>145.0</td>\n",
       "      <td>175</td>\n",
       "      <td>3.62</td>\n",
       "      <td>2.770</td>\n",
       "      <td>15.50</td>\n",
       "      <td>0</td>\n",
       "      <td>1</td>\n",
       "      <td>5</td>\n",
       "      <td>6</td>\n",
       "    </tr>\n",
       "    <tr>\n",
       "      <th>Maserati Bora</th>\n",
       "      <td>15.0</td>\n",
       "      <td>8</td>\n",
       "      <td>301.0</td>\n",
       "      <td>335</td>\n",
       "      <td>3.54</td>\n",
       "      <td>3.570</td>\n",
       "      <td>14.60</td>\n",
       "      <td>0</td>\n",
       "      <td>1</td>\n",
       "      <td>5</td>\n",
       "      <td>8</td>\n",
       "    </tr>\n",
       "    <tr>\n",
       "      <th>Volvo 142E</th>\n",
       "      <td>21.4</td>\n",
       "      <td>4</td>\n",
       "      <td>121.0</td>\n",
       "      <td>109</td>\n",
       "      <td>4.11</td>\n",
       "      <td>2.780</td>\n",
       "      <td>18.60</td>\n",
       "      <td>1</td>\n",
       "      <td>1</td>\n",
       "      <td>4</td>\n",
       "      <td>2</td>\n",
       "    </tr>\n",
       "  </tbody>\n",
       "</table>\n",
       "</div>"
      ],
      "text/plain": [
       "                      mpg  cyl   disp   hp  drat     wt   qsec  vs  am  gear  \\\n",
       "Mazda RX4            21.0    6  160.0  110  3.90  2.620  16.46   0   1     4   \n",
       "Mazda RX4 Wag        21.0    6  160.0  110  3.90  2.875  17.02   0   1     4   \n",
       "Datsun 710           22.8    4  108.0   93  3.85  2.320  18.61   1   1     4   \n",
       "Hornet 4 Drive       21.4    6  258.0  110  3.08  3.215  19.44   1   0     3   \n",
       "Hornet Sportabout    18.7    8  360.0  175  3.15  3.440  17.02   0   0     3   \n",
       "Valiant              18.1    6  225.0  105  2.76  3.460  20.22   1   0     3   \n",
       "Duster 360           14.3    8  360.0  245  3.21  3.570  15.84   0   0     3   \n",
       "Merc 240D            24.4    4  146.7   62  3.69  3.190  20.00   1   0     4   \n",
       "Merc 230             22.8    4  140.8   95  3.92  3.150  22.90   1   0     4   \n",
       "Merc 280             19.2    6  167.6  123  3.92  3.440  18.30   1   0     4   \n",
       "Merc 280C            17.8    6  167.6  123  3.92  3.440  18.90   1   0     4   \n",
       "Merc 450SE           16.4    8  275.8  180  3.07  4.070  17.40   0   0     3   \n",
       "Merc 450SL           17.3    8  275.8  180  3.07  3.730  17.60   0   0     3   \n",
       "Merc 450SLC          15.2    8  275.8  180  3.07  3.780  18.00   0   0     3   \n",
       "Cadillac Fleetwood   10.4    8  472.0  205  2.93  5.250  17.98   0   0     3   \n",
       "Lincoln Continental  10.4    8  460.0  215  3.00  5.424  17.82   0   0     3   \n",
       "Chrysler Imperial    14.7    8  440.0  230  3.23  5.345  17.42   0   0     3   \n",
       "Fiat 128             32.4    4   78.7   66  4.08  2.200  19.47   1   1     4   \n",
       "Honda Civic          30.4    4   75.7   52  4.93  1.615  18.52   1   1     4   \n",
       "Toyota Corolla       33.9    4   71.1   65  4.22  1.835  19.90   1   1     4   \n",
       "Toyota Corona        21.5    4  120.1   97  3.70  2.465  20.01   1   0     3   \n",
       "Dodge Challenger     15.5    8  318.0  150  2.76  3.520  16.87   0   0     3   \n",
       "AMC Javelin          15.2    8  304.0  150  3.15  3.435  17.30   0   0     3   \n",
       "Camaro Z28           13.3    8  350.0  245  3.73  3.840  15.41   0   0     3   \n",
       "Pontiac Firebird     19.2    8  400.0  175  3.08  3.845  17.05   0   0     3   \n",
       "Fiat X1-9            27.3    4   79.0   66  4.08  1.935  18.90   1   1     4   \n",
       "Porsche 914-2        26.0    4  120.3   91  4.43  2.140  16.70   0   1     5   \n",
       "Lotus Europa         30.4    4   95.1  113  3.77  1.513  16.90   1   1     5   \n",
       "Ford Pantera L       15.8    8  351.0  264  4.22  3.170  14.50   0   1     5   \n",
       "Ferrari Dino         19.7    6  145.0  175  3.62  2.770  15.50   0   1     5   \n",
       "Maserati Bora        15.0    8  301.0  335  3.54  3.570  14.60   0   1     5   \n",
       "Volvo 142E           21.4    4  121.0  109  4.11  2.780  18.60   1   1     4   \n",
       "\n",
       "                     carb  \n",
       "Mazda RX4               4  \n",
       "Mazda RX4 Wag           4  \n",
       "Datsun 710              1  \n",
       "Hornet 4 Drive          1  \n",
       "Hornet Sportabout       2  \n",
       "Valiant                 1  \n",
       "Duster 360              4  \n",
       "Merc 240D               2  \n",
       "Merc 230                2  \n",
       "Merc 280                4  \n",
       "Merc 280C               4  \n",
       "Merc 450SE              3  \n",
       "Merc 450SL              3  \n",
       "Merc 450SLC             3  \n",
       "Cadillac Fleetwood      4  \n",
       "Lincoln Continental     4  \n",
       "Chrysler Imperial       4  \n",
       "Fiat 128                1  \n",
       "Honda Civic             2  \n",
       "Toyota Corolla          1  \n",
       "Toyota Corona           1  \n",
       "Dodge Challenger        2  \n",
       "AMC Javelin             2  \n",
       "Camaro Z28              4  \n",
       "Pontiac Firebird        2  \n",
       "Fiat X1-9               1  \n",
       "Porsche 914-2           2  \n",
       "Lotus Europa            2  \n",
       "Ford Pantera L          4  \n",
       "Ferrari Dino            6  \n",
       "Maserati Bora           8  \n",
       "Volvo 142E              2  "
      ]
     },
     "execution_count": 3,
     "metadata": {},
     "output_type": "execute_result"
    }
   ],
   "source": [
    "df = pydataset.data('mtcars')  # mtcars 데이터를 df 데이터 프레임 df에 할당\n",
    "df                             # df 출력"
   ]
  },
  {
   "cell_type": "code",
   "execution_count": null,
   "id": "6ed8acd2-3f33-4b68-ab6d-ba084d4015f6",
   "metadata": {},
   "outputs": [],
   "source": []
  }
 ],
 "metadata": {
  "kernelspec": {
   "display_name": "Python 3 (ipykernel)",
   "language": "python",
   "name": "python3"
  },
  "language_info": {
   "codemirror_mode": {
    "name": "ipython",
    "version": 3
   },
   "file_extension": ".py",
   "mimetype": "text/x-python",
   "name": "python",
   "nbconvert_exporter": "python",
   "pygments_lexer": "ipython3",
   "version": "3.9.13"
  }
 },
 "nbformat": 4,
 "nbformat_minor": 5
}
