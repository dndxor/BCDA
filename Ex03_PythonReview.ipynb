{
 "cells": [
  {
   "cell_type": "markdown",
   "id": "ce246ae6-32ba-49cc-b0aa-b00e6a36d12c",
   "metadata": {},
   "source": [
    "----\n",
    "## **[실습] Turtle 모듈 활용**\n",
    "----"
   ]
  },
  {
   "cell_type": "code",
   "execution_count": 1,
   "id": "35f60381-1712-4a82-ae8f-a60f7c942dd9",
   "metadata": {},
   "outputs": [],
   "source": [
    "## [Tultle 모듈 활용]\n",
    "import turtle as t\n",
    "t.shape('turtle')  #Turtle 모양\n",
    "\n",
    "t.forward(100)\n",
    "t.left(90)\n",
    "\n",
    "t.exitonclick()  # 실행 창을 닫지 않도록"
   ]
  },
  {
   "cell_type": "markdown",
   "id": "ae8e458d-9ec8-46b3-92f8-4b5be280a0c0",
   "metadata": {
    "tags": []
   },
   "source": [
    "### **[Coding] Turtle 모듈 활용 n각형 그리기**\n",
    "#### >> import turtle 모듈을 활용\n",
    "#### >> 키보드로 turtle이 그릴 n각형의 n을 입력받는다.\n",
    "#### >> n이 2이하가 입력되면 작업을 종료한다."
   ]
  },
  {
   "cell_type": "code",
   "execution_count": 14,
   "id": "97ec60eb-4fcc-4f2c-91ae-29eda97451d6",
   "metadata": {},
   "outputs": [
    {
     "name": "stdin",
     "output_type": "stream",
     "text": [
      ">몇 각형(3~n)?  8\n"
     ]
    }
   ],
   "source": [
    "## [Tultle 모듈 활용]\n",
    "import turtle as t\n",
    "t.shape('turtle')  #Turtle 모양\n",
    "\n",
    "n = int(input(\">몇 각형(3~n)? \"))\n",
    "step = 100\n",
    "angle = 360 // n\n",
    "for _ in range(n):   #4회 반복\n",
    "    t.forward(step)  #앞으로 100 pixcel 이동\n",
    "    t.left(angle)    #좌로 90도 회전\n",
    "\n",
    "t.exitonclick()  # 실행 창을 닫지 않도록\n",
    "################# 메인 끝 ##############"
   ]
  },
  {
   "cell_type": "markdown",
   "id": "17a4c834-e7bb-4507-a49f-1fbd9c53bdfd",
   "metadata": {},
   "source": [
    "### **[Coding] Turtle 모듈 활용 n각형 그리기 + 함수 호출로 그리기**\n",
    "#### >> 함수 호출을 통해 원하는 n각형을 그린다. \n",
    "#### >> n값과 변의 이동 값을 전달"
   ]
  },
  {
   "cell_type": "code",
   "execution_count": null,
   "id": "90e83b8a-4aba-4d82-9dba-98b127202782",
   "metadata": {},
   "outputs": [],
   "source": [
    "## [E-1] turtle 모듈 임포트: 모듈 함수 사용\n",
    "## turtle이 4각형 그리기: 작업 절차 구성 > 변수 사용 > 패턴 구성 > 일반화 > 구조화\n",
    "## 함수를 사용한 구조화\n",
    "import turtle as t\n",
    "\n",
    "def render(n, step):\n",
    "    angle = 360 / n\n",
    "    for _ in range(n):  #n번 반복\n",
    "        t.forward(step) #90pixcel 전진\n",
    "        t.left(angle)  #좌로 90도 회전\n",
    "        \n",
    "################## 메인 시작 ############\n",
    "t.shape('turtle')  #Turtle 모양\n",
    "\n",
    "n = int(input(\">몇 각형(3~n)? \"))\n",
    "step = 100\n",
    "render(n, step)  #함수 호출\n",
    "\n",
    "t.exitonclick()  # 실행 창을 닫지 않도록\n",
    "################# 메인 끝 ##############"
   ]
  },
  {
   "cell_type": "code",
   "execution_count": null,
   "id": "bfb36157-2972-447e-bc98-c18788c64274",
   "metadata": {},
   "outputs": [],
   "source": []
  },
  {
   "cell_type": "markdown",
   "id": "445c7561-d2cb-4132-97b6-acf6de720dcb",
   "metadata": {},
   "source": [
    "## **[Coding] 숫자 야구 게임**\n",
    "#### 랜덤한 3자리 숫자 맞추기 게임을 완성하시오.\n",
    "#### > 랜덤한 3자리 정수 발생, 단 각 자리 수의 값은 같으면 안됨\n",
    "#### > 게이머는 추측하는 3자리 값을 키보드로 입력 (맞출 떄까지)\n",
    "#### > 각 위치(digit)에서 값이 같으면 Strike, 값은 존재하나 위치가 다르면 Ball로 처리\n",
    "#### > 매회 “>>%d Strike, %d Ball”로 결과 제공\n",
    "#### > 게임 종료 조건 : 3 Strike 또는 입력 값 00"
   ]
  },
  {
   "cell_type": "markdown",
   "id": "f55741c3-0275-4c1a-89bd-afb005f7812b",
   "metadata": {},
   "source": [
    "----\n",
    "### **[] ChatGPT가 제공한 코드**"
   ]
  },
  {
   "cell_type": "code",
   "execution_count": 3,
   "id": "677096c0-ece5-41f4-84d6-c22804432abe",
   "metadata": {},
   "outputs": [
    {
     "name": "stdout",
     "output_type": "stream",
     "text": [
      "야구 게임을 시작합니다. 1부터 9까지의 숫자로 이루어진 3자리 수를 맞춰보세요.\n"
     ]
    },
    {
     "name": "stdin",
     "output_type": "stream",
     "text": [
      "숫자를 입력하세요:  11\n"
     ]
    },
    {
     "name": "stdout",
     "output_type": "stream",
     "text": [
      "Give up!!\n"
     ]
    }
   ],
   "source": [
    "import random\n",
    "\n",
    "def generate_secret_number():\n",
    "    return random.sample(range(1, 10), 3)\n",
    "\n",
    "def compare_numbers(secret, guess):\n",
    "    strikes = 0\n",
    "    balls = 0\n",
    "    for i in range(3):\n",
    "        if guess[i] == secret[i]:\n",
    "            strikes += 1\n",
    "        elif guess[i] in secret:\n",
    "            balls += 1\n",
    "    return strikes, balls\n",
    "\n",
    "def main():\n",
    "    secret_number = generate_secret_number()\n",
    "    attempts = 0\n",
    "\n",
    "    print(\">야구 게임을 시작합니다. 1부터 9까지의 숫자로 이루어진 3자리 수를 맞춰보세요.\")\n",
    "    \n",
    "    while True:\n",
    "        try:\n",
    "            user_input = input(\">>숫자를 입력하세요: \")\n",
    "            if user_input[0] == user_input[1]:\n",
    "                print(\"Give up!!\")\n",
    "                break\n",
    "            if len(user_input) != 3 or not user_input.isdigit():\n",
    "                print(\">잘못된 입력입니다. 3자리 숫자를 입력하세요.\")\n",
    "                continue\n",
    "\n",
    "            user_guess = [int(digit) for digit in user_input]\n",
    "            attempts += 1\n",
    "\n",
    "            strikes, balls = compare_numbers(secret_number, user_guess)\n",
    "\n",
    "            if strikes == 3:\n",
    "                print(f\">축하합니다! {attempts}번만에 숫자를 맞추셨습니다.\")\n",
    "                break\n",
    "            else:\n",
    "                print(f\">>결과: {strikes} 스트라이크, {balls} 볼\")\n",
    "\n",
    "        except KeyboardInterrupt:\n",
    "            print(\"\\n>게임을 종료합니다.\")\n",
    "            break\n",
    "\n",
    "if __name__ == \"__main__\":\n",
    "    main()"
   ]
  },
  {
   "cell_type": "markdown",
   "id": "59156f98-37cf-4ee3-b4e7-706623d6c665",
   "metadata": {},
   "source": [
    "----\n",
    "### **[숫자형] 숫자형 List 값을 기반한 개발**"
   ]
  },
  {
   "cell_type": "code",
   "execution_count": 4,
   "id": "971afea1-9081-46c7-935f-b0cbf1e1186f",
   "metadata": {},
   "outputs": [
    {
     "name": "stdout",
     "output_type": "stream",
     "text": [
      "[9, 5, 8]\n"
     ]
    },
    {
     "name": "stdin",
     "output_type": "stream",
     "text": [
      ">>정수(1~999; esc 00) 입력:  123\n"
     ]
    },
    {
     "name": "stdout",
     "output_type": "stream",
     "text": [
      "[1] 0 Strike  0 Ball \n"
     ]
    },
    {
     "name": "stdin",
     "output_type": "stream",
     "text": [
      ">>정수(1~999; esc 00) 입력:  456\n"
     ]
    },
    {
     "name": "stdout",
     "output_type": "stream",
     "text": [
      "[2] 1 Strike  0 Ball \n"
     ]
    },
    {
     "name": "stdin",
     "output_type": "stream",
     "text": [
      ">>정수(1~999; esc 00) 입력:  789\n"
     ]
    },
    {
     "name": "stdout",
     "output_type": "stream",
     "text": [
      "[3] 0 Strike  2 Ball \n"
     ]
    },
    {
     "name": "stdin",
     "output_type": "stream",
     "text": [
      ">>정수(1~999; esc 00) 입력:  958\n"
     ]
    },
    {
     "name": "stdout",
     "output_type": "stream",
     "text": [
      "[4] 3 Strike  0 Ball \n",
      ">> Game over\n"
     ]
    }
   ],
   "source": [
    "### [숫자형] 숫자형 List 값을 기반한 개발\n",
    "import random\n",
    "# 리스트 사용\n",
    "arr = [0, 1, 2, 3, 4, 5, 6, 7, 8, 9]    #중복방지 난수 발생용 씨드\n",
    "strike = 0; ball = 0\n",
    "randarr = []        #3자리 난수 리스트\n",
    "guesarr = [0, 0, 0] #3자리 추측 리스트\n",
    "bcnt = 0            #시도 횟수\n",
    "\n",
    "randarr = random.sample(arr, 3)\n",
    "print(randarr)\n",
    "while True :    #맞추기 게임 시도 반복\n",
    "    bcnt += 1\n",
    "    strike = 0;     ball = 0\n",
    "    innum = int(input(\">>정수(1~999; esc 00) 입력: \"))  #추측값(정수) 입력\n",
    "    guesarr[0] = innum // 100\n",
    "    guesarr[1] = (innum % 100) // 10\n",
    "    guesarr[2] = innum % 10\n",
    "    if guesarr[0] == guesarr[1] :\n",
    "        break\n",
    "    for i in range(3) :\n",
    "        if guesarr[i] in randarr :\n",
    "            if guesarr[i] == randarr[i]:\n",
    "#            if randarr.index(guesarr[i]) == i :\n",
    "                strike += 1\n",
    "            else :\n",
    "                ball += 1\n",
    "    print(\"[%d] %d Strike  %d Ball \" %(bcnt, strike, ball))\n",
    "    if strike == 3 :\n",
    "        break\n",
    "print(\">> Game over\")"
   ]
  },
  {
   "cell_type": "markdown",
   "id": "b7fca2f1-2fac-48a9-94b7-5973e3ff0cba",
   "metadata": {},
   "source": [
    "### **[문자형] 숫자형 List 값을 기반한 개발**"
   ]
  },
  {
   "cell_type": "code",
   "execution_count": 5,
   "id": "ec0d6e9b-f292-42ff-b604-1382abf41423",
   "metadata": {},
   "outputs": [
    {
     "name": "stdout",
     "output_type": "stream",
     "text": [
      "['6', '4', '9']\n"
     ]
    },
    {
     "name": "stdin",
     "output_type": "stream",
     "text": [
      ">>3자리 수(001~999; esc 000) 입력:  123\n"
     ]
    },
    {
     "name": "stdout",
     "output_type": "stream",
     "text": [
      "[1] 0 Strike  0 Ball \n"
     ]
    },
    {
     "name": "stdin",
     "output_type": "stream",
     "text": [
      ">>3자리 수(001~999; esc 000) 입력:  456\n"
     ]
    },
    {
     "name": "stdout",
     "output_type": "stream",
     "text": [
      "[2] 0 Strike  2 Ball \n"
     ]
    },
    {
     "name": "stdin",
     "output_type": "stream",
     "text": [
      ">>3자리 수(001~999; esc 000) 입력:  789\n"
     ]
    },
    {
     "name": "stdout",
     "output_type": "stream",
     "text": [
      "[3] 1 Strike  0 Ball \n"
     ]
    },
    {
     "name": "stdin",
     "output_type": "stream",
     "text": [
      ">>3자리 수(001~999; esc 000) 입력:  00\n"
     ]
    },
    {
     "name": "stdout",
     "output_type": "stream",
     "text": [
      ">> Game over\n"
     ]
    }
   ],
   "source": [
    "### [문자형] 숫자형 List 값을 기반한 개발\n",
    "import random\n",
    "# 리스트 사용\n",
    "arr = ['0', '1', '2', '3', '4', '5', '6', '7', '8', '9']    #중복방지 난수 발생용 씨드\n",
    "strike = 0; ball = 0\n",
    "randarr = [] #3자리 난수 리스트\n",
    "guesarr = [] #3자리 추측 리스트\n",
    "bcnt = 0     #시도 횟수\n",
    "\n",
    "randarr = random.sample(arr, 3)\n",
    "print(randarr)\n",
    "while True :\n",
    "    bcnt += 1\n",
    "    strike = 0;     ball = 0\n",
    "    guesarr = list(input(\">>3자리 수(001~999; esc 000) 입력: \"))  #추측값(문자) 입력\n",
    "    if guesarr[0] == guesarr[1] :\n",
    "        break\n",
    "    for i in range(3) :\n",
    "        if guesarr[i] in randarr :\n",
    "            #if randarr.index(guesarr[i]) == i :\n",
    "            if guesarr[i] == randarr[i]:\n",
    "                strike += 1\n",
    "            else :\n",
    "                ball += 1\n",
    "    print(\"[%d] %d Strike  %d Ball \" %(bcnt, strike, ball))\n",
    "    if strike == 3 :\n",
    "        break\n",
    "print(\">> Game over\")"
   ]
  },
  {
   "cell_type": "code",
   "execution_count": null,
   "id": "1e6e649f-3740-482d-a595-bbc7d30fe289",
   "metadata": {},
   "outputs": [],
   "source": []
  }
 ],
 "metadata": {
  "kernelspec": {
   "display_name": "Python 3 (ipykernel)",
   "language": "python",
   "name": "python3"
  },
  "language_info": {
   "codemirror_mode": {
    "name": "ipython",
    "version": 3
   },
   "file_extension": ".py",
   "mimetype": "text/x-python",
   "name": "python",
   "nbconvert_exporter": "python",
   "pygments_lexer": "ipython3",
   "version": "3.9.13"
  }
 },
 "nbformat": 4,
 "nbformat_minor": 5
}
