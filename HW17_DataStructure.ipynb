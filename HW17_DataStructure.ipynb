{
 "cells": [
  {
   "cell_type": "markdown",
   "id": "9acb01b8-645f-4290-a107-5bfc62165213",
   "metadata": {},
   "source": [
    "### **[실습-0] 4행4열 리스트 초기화하기**\n",
    "#### > 0부터 시작되는 일련번호 값으로 초기화하기"
   ]
  },
  {
   "cell_type": "code",
   "execution_count": 7,
   "id": "c060bb44-2242-4cb1-b2ea-429b32060104",
   "metadata": {},
   "outputs": [
    {
     "data": {
      "text/plain": [
       "[[0, 1, 2, 3], [4, 5, 6, 7], [8, 9, 10, 11], [12, 13, 14, 15]]"
      ]
     },
     "execution_count": 7,
     "metadata": {},
     "output_type": "execute_result"
    }
   ],
   "source": [
    "## 2차원 리스트 초기화 방법\n",
    "\n"
   ]
  },
  {
   "cell_type": "code",
   "execution_count": null,
   "id": "857378fd-461b-443a-9609-e0b3f2dc26a3",
   "metadata": {},
   "outputs": [],
   "source": []
  },
  {
   "cell_type": "markdown",
   "id": "0918e29e-d600-4f10-b48e-daec7f9d0181",
   "metadata": {},
   "source": [
    "### **[실습-1] List로 막대 그래프 그리기 (응용)**\n",
    "#### > List를 랜덤 수로 초기화 함. (range는 0~9까지)\n",
    "#### > List의 길이는 30으로 함\n",
    "#### > import seaborn 모듈 사용 빈도수 막대 그래프 그리기"
   ]
  },
  {
   "cell_type": "code",
   "execution_count": 1,
   "id": "721e83ba-e070-4512-9b00-4cad4f5dc61f",
   "metadata": {},
   "outputs": [
    {
     "name": "stdout",
     "output_type": "stream",
     "text": [
      "[4, 6, 4, 0, 5, 0, 4, 4, 9, 4, 1, 7, 8, 9, 5, 2, 4, 1, 2, 8, 0, 3, 7, 6, 2, 3, 4, 3, 8, 7]\n"
     ]
    },
    {
     "data": {
      "text/plain": [
       "<AxesSubplot:ylabel='count'>"
      ]
     },
     "execution_count": 1,
     "metadata": {},
     "output_type": "execute_result"
    },
    {
     "data": {
      "image/png": "[encoded data removed]",
      "text/plain": [
       "<Figure size 640x480 with 1 Axes>"
      ]
     },
     "metadata": {},
     "output_type": "display_data"
    }
   ],
   "source": [
    "## 리스트(List) 형 : [ ] \n",
    "## [실습] List를 랜덤 수로 초기화 함\n",
    "## 리스트 구성\n",
    "\n",
    "\n",
    "\n",
    "## List로 막대 그래프 그리기\n",
    "import seaborn as sns\n",
    "\n"
   ]
  },
  {
   "cell_type": "code",
   "execution_count": null,
   "id": "c134b5ea-6c32-4b9f-8323-80bcad627198",
   "metadata": {},
   "outputs": [],
   "source": []
  },
  {
   "cell_type": "markdown",
   "id": "6f35b49d-210c-4ef7-acf7-97f3a1d55cc8",
   "metadata": {},
   "source": [
    "### **[실습-2] Tuple 항목 검색하기**\n",
    "#### > 키보드로 지역명을 입력받아 zoneno의 번호를 출력해줌"
   ]
  },
  {
   "cell_type": "code",
   "execution_count": 2,
   "id": "8ad4ad67-efcc-498e-bfec-bff8bf82291f",
   "metadata": {},
   "outputs": [
    {
     "name": "stdin",
     "output_type": "stream",
     "text": [
      ">전화번호 지역 입력:  부천시\n"
     ]
    },
    {
     "name": "stdout",
     "output_type": "stream",
     "text": [
      "032 : ['인천광역시', '부천시']\n"
     ]
    }
   ],
   "source": [
    "#지역번호 만들기\n",
    "zoneno = ([['010'], '휴대전화'],\n",
    "           ['02', ['서울특별시', '광명시', '과천시']], ['031', '경기도'], ['032', ['인천광역시', '부천시']], ['033', '강원도'],\n",
    "           ['041', '충청남도'], ['042', ['대전광역시', '계룡시']], ['043', '충청북도'], ['044', '세종특별자치시'],\n",
    "            ['051', '부산광역시'], ['052', '울산광역시'], ['053', ['대구광역시', '경산시']], ['054', '경상북도'],\n",
    "            ['055', '경상남도'], ['061', '전라남도'], ['062', '광주광역시'], ['063', '전라북도'], ['064', '제주특별자치도'])\t\n",
    "\n",
    "#지역번호 검색(지역명으로 찾기)\n",
    "inzone = input(\">전화번호 지역 입력: \")\n",
    "\n",
    "\n"
   ]
  },
  {
   "cell_type": "code",
   "execution_count": null,
   "id": "74e8df24-c3a7-4e95-b006-83617fc5e2b4",
   "metadata": {},
   "outputs": [],
   "source": []
  },
  {
   "cell_type": "markdown",
   "id": "3a55ae48-c334-41ec-9797-fa1166e12b8f",
   "metadata": {},
   "source": [
    "### **[실습-3] Dictionary 항목 검색하기**\n",
    "#### > 키보드로 대분류 메뉴명을 입력받아 메뉴명 단가를 출력해줌\n",
    "#### > 키보드 입력 값을 받아 모두 대문자 처리 후 작업"
   ]
  },
  {
   "cell_type": "code",
   "execution_count": 4,
   "id": "35bdfeea-a66d-4c30-a19a-b0f4b03f622b",
   "metadata": {},
   "outputs": [
    {
     "name": "stdin",
     "output_type": "stream",
     "text": [
      ">대분류 메뉴명:  coffee\n"
     ]
    },
    {
     "name": "stdout",
     "output_type": "stream",
     "text": [
      "에스프레소     \t3.0\n",
      "아메리카노     \t3.0\n",
      "카페라떼      \t4.0\n",
      "카프치노      \t4.0\n"
     ]
    }
   ],
   "source": [
    "#(소분류) 메뉴표 만들기\n",
    "menu = {'COFFEE': [['에스프레소', 3.0], ['아메리카노', 3.0], ['카페라떼', 4.0], ['카프치노', 4.0]],\n",
    "          'LATTE': [['말차라떼', 4.0], ['초코라떼', 4.0], ['카페라떼', 4.0]],\n",
    "          'TEA': [['청귤차', 4.0], ['자몽차', 4.0], ['레몬차', 4.0], ['카모마일', 4.5]],\n",
    "          'ADE': [['자몽에이드', 4.5], ['레몬에이드', 4.5], ['청포도에이드', 4.5]],\n",
    "          'JUICE': [['망고', 4.5], ['바나나', 4.5], ['딸기', 4.5], ['키위', 4.5]],\n",
    "          'SMOOTHIE': [['청귤스무디', 4.5], ['요거트스무디', 4.5]],\n",
    "          'MILK TEA': [['흑당밀크티', 4.5], ['달고나밀크티', 4.5]]}\n",
    "\n",
    "#[주문] 대분류 메뉴 선택\n",
    "\n",
    "\n"
   ]
  },
  {
   "cell_type": "code",
   "execution_count": null,
   "id": "7b9075b2-b970-4f1e-beca-d89cea438d40",
   "metadata": {},
   "outputs": [],
   "source": []
  },
  {
   "cell_type": "markdown",
   "id": "e0d52676-e17b-49e2-8587-df1d02ac01b5",
   "metadata": {},
   "source": [
    "### **[실습-4] List로 Series 만들기**\n",
    "#### > List를 랜덤 수로 초기화 함. (range는 0~9까지)\n",
    "#### > List의 길이는 30으로 함\n",
    "#### > 각 숫자의 빈도 수를 index로 하는 Series 구성"
   ]
  },
  {
   "cell_type": "code",
   "execution_count": 6,
   "id": "d3feb15d-d392-4618-98d3-39288bc747db",
   "metadata": {},
   "outputs": [
    {
     "name": "stdout",
     "output_type": "stream",
     "text": [
      "[7, 0, 2, 5, 0, 4, 6, 7, 0, 7, 4, 8, 7, 9, 4, 6, 5, 1, 8, 4, 1, 7, 8, 9, 5, 3, 1, 2, 1, 7]\n",
      "0    3\n",
      "1    4\n",
      "2    2\n",
      "3    1\n",
      "4    4\n",
      "5    3\n",
      "6    2\n",
      "7    6\n",
      "8    3\n",
      "9    2\n",
      "dtype: int64\n"
     ]
    }
   ],
   "source": [
    "## [실습-4] List로 Series 만들기\n",
    "# 랜덤 리스트 구성\n",
    "import random\n",
    "alist = []\n",
    "for _ in range(30):\n",
    "    x = random.randrange(0, 10)\n",
    "    alist.append(x)\n",
    "print(alist)\n",
    "\n",
    "# 빈도 리스트 data 만들기\n",
    "\n",
    "\n",
    "\n",
    "    \n",
    "# 인덱스 리스트 idx 만들기\n",
    "\n",
    "\n",
    "\n",
    "\n",
    "## pandas 패키지 활용 : 데이터 시리즈(2차원 자료 구조) 구성\n",
    "import pandas as pd\n",
    "ds = pd.Series(data, index = idx)\n",
    "print(ds)"
   ]
  },
  {
   "cell_type": "code",
   "execution_count": null,
   "id": "470ad56d-84ce-411f-b8be-1f7eadbf320f",
   "metadata": {},
   "outputs": [],
   "source": []
  }
 ],
 "metadata": {
  "kernelspec": {
   "display_name": "Python 3 (ipykernel)",
   "language": "python",
   "name": "python3"
  },
  "language_info": {
   "codemirror_mode": {
    "name": "ipython",
    "version": 3
   },
   "file_extension": ".py",
   "mimetype": "text/x-python",
   "name": "python",
   "nbconvert_exporter": "python",
   "pygments_lexer": "ipython3",
   "version": "3.9.13"
  }
 },
 "nbformat": 4,
 "nbformat_minor": 5
}
